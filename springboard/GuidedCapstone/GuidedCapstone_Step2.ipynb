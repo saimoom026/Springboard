{
 "cells": [
  {
   "cell_type": "markdown",
   "metadata": {
    "colab_type": "text",
    "id": "cf5CmXQCZyF1"
   },
   "source": [
    "# Guided Capstone Step 2 Data Wrangling\n",
    "\n",
    "\n",
    "Data wrangling is the second step in the Data Science Method. This step consists of multiple components including Data Collection, Data Organization, Data Definitions, and Data Cleaning.  "
   ]
  },
  {
   "cell_type": "markdown",
   "metadata": {
    "colab_type": "text",
    "id": "Cc0lyndRYxYY"
   },
   "source": [
    "\n",
    "\n",
    "**The Data Science Method**  \n",
    "\n",
    "\n",
    "1.   Problem Identification \n",
    "\n",
    "2.   **Data Wrangling** \n",
    "  * Data Collection\n",
    "      - Locating the data\n",
    "      - Data loading\n",
    "      - Data joining\n",
    "   * Data Organization\n",
    "      -  File structure\n",
    "      -  Git & Github\n",
    "  * Data Definition\n",
    "      - Column names\n",
    "      - Data types (numeric, categorical, timestamp, etc.)\n",
    "      - Description of the columns\n",
    "      - Count or percent per unique values or codes (including NA)\n",
    "      - The range of values or codes  \n",
    "  * Data Cleaning\n",
    "      - NA or missing data\n",
    "      - Duplicates\n",
    " \n",
    "3.   Exploratory Data Analysis \n",
    "\n",
    "4.   Pre-processing and Training Data Development\n",
    "\n",
    "5.   Modeling \n",
    "\n",
    "6.   Documentation\n",
    "\n",
    "\n",
    "\n"
   ]
  },
  {
   "cell_type": "markdown",
   "metadata": {
    "colab_type": "text",
    "id": "9YQUNzQ_PqR9"
   },
   "source": [
    "## Data Collection"
   ]
  },
  {
   "cell_type": "markdown",
   "metadata": {
    "colab_type": "text",
    "id": "7PrMkSjBQEMZ"
   },
   "source": [
    "First, you'll load the needed packages and modules into Python. Then you'll load the data into a pandas dataframe for ease of use. Run the cell below to get started."
   ]
  },
  {
   "cell_type": "code",
   "execution_count": 78,
   "metadata": {
    "colab": {},
    "colab_type": "code",
    "id": "ry6WPL5eZyF3"
   },
   "outputs": [],
   "source": [
    "#load python packages\n",
    "import os\n",
    "import pandas as pd\n",
    "import datetime\n",
    "import seaborn as sns\n",
    "import matplotlib.pyplot as plt\n",
    "import numpy as np\n",
    "%matplotlib inline"
   ]
  },
  {
   "cell_type": "markdown",
   "metadata": {
    "colab_type": "text",
    "id": "Luww36gyQNyM"
   },
   "source": [
    "Now you need to prepare to load the csv file of your data. You may need to change your path to the location where you saved the csv file on your local machine or you need to save both the csv and the notebook to your working project directory. \n",
    "Start by printing the current directory."
   ]
  },
  {
   "cell_type": "markdown",
   "metadata": {
    "colab_type": "text",
    "id": "neztjhJN16Hj"
   },
   "source": [
    "**<font color='teal'> Print the current working directory </font>**"
   ]
  },
  {
   "cell_type": "code",
   "execution_count": 2,
   "metadata": {
    "colab": {},
    "colab_type": "code",
    "id": "v5vPuj_E16Hk"
   },
   "outputs": [
    {
     "name": "stdout",
     "output_type": "stream",
     "text": [
      "/resources/springboard/GuidedCapstone\n"
     ]
    }
   ],
   "source": [
    "print(os.getcwd())"
   ]
  },
  {
   "cell_type": "markdown",
   "metadata": {
    "colab_type": "text",
    "id": "02Ggolp-16Ho"
   },
   "source": [
    "**<font color='teal'> Print the files in your current directory to make sure the 'updated_ski_data.csv' is present. </font>**"
   ]
  },
  {
   "cell_type": "code",
   "execution_count": 3,
   "metadata": {
    "colab": {},
    "colab_type": "code",
    "id": "hfurmZQP16Hp"
   },
   "outputs": [
    {
     "name": "stdout",
     "output_type": "stream",
     "text": [
      "['GuidedCapstone_Step2.ipynb', '1581381036_GuidedCapstoneStep3.ipynb', 'Notebook_stepthree.ipynb', 'figures', '.ipynb_checkpoints', 'data', 'models']\n"
     ]
    }
   ],
   "source": [
    "print(os.listdir() )"
   ]
  },
  {
   "cell_type": "markdown",
   "metadata": {
    "colab_type": "text",
    "id": "ZhK901bC16Hs"
   },
   "source": [
    "<font color='teal'> **If you need to change your working directory by defining the path in the next cell make sure to uncomment the code before running the cell. If your path is fine, go on to the Load the data step.**</font>"
   ]
  },
  {
   "cell_type": "code",
   "execution_count": 4,
   "metadata": {
    "colab": {},
    "colab_type": "code",
    "id": "ylgWWId5Qt-A"
   },
   "outputs": [],
   "source": [
    "path=\"/resources/springboard/GuidedCapstone\"\n",
    "os.chdir(path) "
   ]
  },
  {
   "cell_type": "markdown",
   "metadata": {
    "colab_type": "text",
    "id": "630T-ogRZyF8"
   },
   "source": [
    "### Load the data from the csv file\n",
    "Now you're ready to read your data into a pandas dataframe. In this exercise, this will complete the data collection step as all the data you need for your project are contained in this one csv file.\n",
    "*Double check your path is correct, and that between the `file` name and the `path`, you have the full location of your `updated_ski_data.csv`"
   ]
  },
  {
   "cell_type": "markdown",
   "metadata": {
    "colab_type": "text",
    "id": "dUTKn8oH16Hx"
   },
   "source": [
    "<font color='teal'> **Load the data into a pandas dataframe and print the first five rows of the dataframe.**</font>"
   ]
  },
  {
   "cell_type": "code",
   "execution_count": 79,
   "metadata": {
    "colab": {},
    "colab_type": "code",
    "id": "dMNbk0u3ZyF9"
   },
   "outputs": [
    {
     "data": {
      "text/html": [
       "<div>\n",
       "<style scoped>\n",
       "    .dataframe tbody tr th:only-of-type {\n",
       "        vertical-align: middle;\n",
       "    }\n",
       "\n",
       "    .dataframe tbody tr th {\n",
       "        vertical-align: top;\n",
       "    }\n",
       "\n",
       "    .dataframe thead th {\n",
       "        text-align: right;\n",
       "    }\n",
       "</style>\n",
       "<table border=\"1\" class=\"dataframe\">\n",
       "  <thead>\n",
       "    <tr style=\"text-align: right;\">\n",
       "      <th></th>\n",
       "      <th>Name</th>\n",
       "      <th>Region</th>\n",
       "      <th>state</th>\n",
       "      <th>summit_elev</th>\n",
       "      <th>vertical_drop</th>\n",
       "      <th>base_elev</th>\n",
       "      <th>trams</th>\n",
       "      <th>fastEight</th>\n",
       "      <th>fastSixes</th>\n",
       "      <th>fastQuads</th>\n",
       "      <th>...</th>\n",
       "      <th>LongestRun_mi</th>\n",
       "      <th>SkiableTerrain_ac</th>\n",
       "      <th>Snow Making_ac</th>\n",
       "      <th>daysOpenLastYear</th>\n",
       "      <th>yearsOpen</th>\n",
       "      <th>averageSnowfall</th>\n",
       "      <th>AdultWeekday</th>\n",
       "      <th>AdultWeekend</th>\n",
       "      <th>projectedDaysOpen</th>\n",
       "      <th>NightSkiing_ac</th>\n",
       "    </tr>\n",
       "  </thead>\n",
       "  <tbody>\n",
       "    <tr>\n",
       "      <th>0</th>\n",
       "      <td>Alyeska Resort</td>\n",
       "      <td>Alaska</td>\n",
       "      <td>Alaska</td>\n",
       "      <td>3939</td>\n",
       "      <td>2500</td>\n",
       "      <td>250</td>\n",
       "      <td>1</td>\n",
       "      <td>0.0</td>\n",
       "      <td>0</td>\n",
       "      <td>2</td>\n",
       "      <td>...</td>\n",
       "      <td>1.0</td>\n",
       "      <td>1610.0</td>\n",
       "      <td>113.0</td>\n",
       "      <td>150.0</td>\n",
       "      <td>60.0</td>\n",
       "      <td>669.0</td>\n",
       "      <td>65.0</td>\n",
       "      <td>85.0</td>\n",
       "      <td>150.0</td>\n",
       "      <td>550.0</td>\n",
       "    </tr>\n",
       "    <tr>\n",
       "      <th>1</th>\n",
       "      <td>Eaglecrest Ski Area</td>\n",
       "      <td>Alaska</td>\n",
       "      <td>Alaska</td>\n",
       "      <td>2600</td>\n",
       "      <td>1540</td>\n",
       "      <td>1200</td>\n",
       "      <td>0</td>\n",
       "      <td>0.0</td>\n",
       "      <td>0</td>\n",
       "      <td>0</td>\n",
       "      <td>...</td>\n",
       "      <td>2.0</td>\n",
       "      <td>640.0</td>\n",
       "      <td>60.0</td>\n",
       "      <td>45.0</td>\n",
       "      <td>44.0</td>\n",
       "      <td>350.0</td>\n",
       "      <td>47.0</td>\n",
       "      <td>53.0</td>\n",
       "      <td>90.0</td>\n",
       "      <td>NaN</td>\n",
       "    </tr>\n",
       "    <tr>\n",
       "      <th>2</th>\n",
       "      <td>Hilltop Ski Area</td>\n",
       "      <td>Alaska</td>\n",
       "      <td>Alaska</td>\n",
       "      <td>2090</td>\n",
       "      <td>294</td>\n",
       "      <td>1796</td>\n",
       "      <td>0</td>\n",
       "      <td>0.0</td>\n",
       "      <td>0</td>\n",
       "      <td>0</td>\n",
       "      <td>...</td>\n",
       "      <td>1.0</td>\n",
       "      <td>30.0</td>\n",
       "      <td>30.0</td>\n",
       "      <td>150.0</td>\n",
       "      <td>36.0</td>\n",
       "      <td>69.0</td>\n",
       "      <td>30.0</td>\n",
       "      <td>34.0</td>\n",
       "      <td>152.0</td>\n",
       "      <td>30.0</td>\n",
       "    </tr>\n",
       "    <tr>\n",
       "      <th>3</th>\n",
       "      <td>Arizona Snowbowl</td>\n",
       "      <td>Arizona</td>\n",
       "      <td>Arizona</td>\n",
       "      <td>11500</td>\n",
       "      <td>2300</td>\n",
       "      <td>9200</td>\n",
       "      <td>0</td>\n",
       "      <td>0.0</td>\n",
       "      <td>1</td>\n",
       "      <td>0</td>\n",
       "      <td>...</td>\n",
       "      <td>2.0</td>\n",
       "      <td>777.0</td>\n",
       "      <td>104.0</td>\n",
       "      <td>122.0</td>\n",
       "      <td>81.0</td>\n",
       "      <td>260.0</td>\n",
       "      <td>89.0</td>\n",
       "      <td>89.0</td>\n",
       "      <td>122.0</td>\n",
       "      <td>NaN</td>\n",
       "    </tr>\n",
       "    <tr>\n",
       "      <th>4</th>\n",
       "      <td>Sunrise Park Resort</td>\n",
       "      <td>Arizona</td>\n",
       "      <td>Arizona</td>\n",
       "      <td>11100</td>\n",
       "      <td>1800</td>\n",
       "      <td>9200</td>\n",
       "      <td>0</td>\n",
       "      <td>NaN</td>\n",
       "      <td>0</td>\n",
       "      <td>1</td>\n",
       "      <td>...</td>\n",
       "      <td>1.2</td>\n",
       "      <td>800.0</td>\n",
       "      <td>80.0</td>\n",
       "      <td>115.0</td>\n",
       "      <td>49.0</td>\n",
       "      <td>250.0</td>\n",
       "      <td>74.0</td>\n",
       "      <td>78.0</td>\n",
       "      <td>104.0</td>\n",
       "      <td>80.0</td>\n",
       "    </tr>\n",
       "  </tbody>\n",
       "</table>\n",
       "<p>5 rows × 27 columns</p>\n",
       "</div>"
      ],
      "text/plain": [
       "                  Name   Region    state  summit_elev  vertical_drop  \\\n",
       "0       Alyeska Resort   Alaska   Alaska         3939           2500   \n",
       "1  Eaglecrest Ski Area   Alaska   Alaska         2600           1540   \n",
       "2     Hilltop Ski Area   Alaska   Alaska         2090            294   \n",
       "3     Arizona Snowbowl  Arizona  Arizona        11500           2300   \n",
       "4  Sunrise Park Resort  Arizona  Arizona        11100           1800   \n",
       "\n",
       "   base_elev  trams  fastEight  fastSixes  fastQuads  ...  LongestRun_mi  \\\n",
       "0        250      1        0.0          0          2  ...            1.0   \n",
       "1       1200      0        0.0          0          0  ...            2.0   \n",
       "2       1796      0        0.0          0          0  ...            1.0   \n",
       "3       9200      0        0.0          1          0  ...            2.0   \n",
       "4       9200      0        NaN          0          1  ...            1.2   \n",
       "\n",
       "   SkiableTerrain_ac  Snow Making_ac  daysOpenLastYear  yearsOpen  \\\n",
       "0             1610.0           113.0             150.0       60.0   \n",
       "1              640.0            60.0              45.0       44.0   \n",
       "2               30.0            30.0             150.0       36.0   \n",
       "3              777.0           104.0             122.0       81.0   \n",
       "4              800.0            80.0             115.0       49.0   \n",
       "\n",
       "   averageSnowfall  AdultWeekday  AdultWeekend  projectedDaysOpen  \\\n",
       "0            669.0          65.0          85.0              150.0   \n",
       "1            350.0          47.0          53.0               90.0   \n",
       "2             69.0          30.0          34.0              152.0   \n",
       "3            260.0          89.0          89.0              122.0   \n",
       "4            250.0          74.0          78.0              104.0   \n",
       "\n",
       "   NightSkiing_ac  \n",
       "0           550.0  \n",
       "1             NaN  \n",
       "2            30.0  \n",
       "3             NaN  \n",
       "4            80.0  \n",
       "\n",
       "[5 rows x 27 columns]"
      ]
     },
     "execution_count": 79,
     "metadata": {},
     "output_type": "execute_result"
    }
   ],
   "source": [
    "initial_df=pd.read_csv('/resources/springboard/GuidedCapstone/data/updated_ski_data.csv')\n",
    "initial_df.head(5)"
   ]
  },
  {
   "cell_type": "markdown",
   "metadata": {
    "colab_type": "text",
    "id": "aRMZPPkjYYJl"
   },
   "source": [
    "## Data Organization"
   ]
  },
  {
   "cell_type": "markdown",
   "metadata": {
    "colab_type": "text",
    "id": "QocLKpWsbmzK"
   },
   "source": [
    "Data organization for this guided capstone involves creating a basic project folder structure. As you read in the Medium article introducing the data wrangling step, this step is often completed using Github or a module such as cookiecutter. Now that you have your data and your notebook pointing to your working project directory, let's start by printing the current file location. You'll then create a few subfolders to keep your project organized."
   ]
  },
  {
   "cell_type": "markdown",
   "metadata": {
    "colab_type": "text",
    "id": "N2u9ANLx16H3"
   },
   "source": [
    "<font color='teal'> **Finish the statement below by assigning the path variable.**</font>"
   ]
  },
  {
   "cell_type": "code",
   "execution_count": 6,
   "metadata": {
    "colab": {},
    "colab_type": "code",
    "id": "z9Ke_XEFcPrV"
   },
   "outputs": [],
   "source": [
    "path = '/resources/springboard/GuidedCapstone'"
   ]
  },
  {
   "cell_type": "code",
   "execution_count": 8,
   "metadata": {
    "colab": {},
    "colab_type": "code",
    "id": "lEQXorWj16H8"
   },
   "outputs": [
    {
     "name": "stdout",
     "output_type": "stream",
     "text": [
      "The current working directory is /resources/springboard/GuidedCapstone\n"
     ]
    }
   ],
   "source": [
    "print (\"The current working directory is %s\" % path)"
   ]
  },
  {
   "cell_type": "markdown",
   "metadata": {
    "colab_type": "text",
    "id": "OgCUIo6FqPzg"
   },
   "source": [
    "### Create subfolders in your project directory"
   ]
  },
  {
   "cell_type": "markdown",
   "metadata": {
    "colab_type": "text",
    "id": "kkXs9gaGfzkR"
   },
   "source": [
    "Now, create some subfolders inside your project folder."
   ]
  },
  {
   "cell_type": "markdown",
   "metadata": {
    "colab_type": "text",
    "id": "liWGKwyR16IA"
   },
   "source": [
    "<font color='teal'> **Create a subfolder called `data`.**</font>"
   ]
  },
  {
   "cell_type": "code",
   "execution_count": 9,
   "metadata": {
    "colab": {},
    "colab_type": "code",
    "id": "Uia7RDb1fzBj"
   },
   "outputs": [
    {
     "ename": "FileExistsError",
     "evalue": "[Errno 17] File exists: 'data/'",
     "output_type": "error",
     "traceback": [
      "\u001b[0;31m---------------------------------------------------------------------------\u001b[0m",
      "\u001b[0;31mFileExistsError\u001b[0m                           Traceback (most recent call last)",
      "\u001b[0;32m<ipython-input-9-088708e4c12e>\u001b[0m in \u001b[0;36m<module>\u001b[0;34m\u001b[0m\n\u001b[0;32m----> 1\u001b[0;31m \u001b[0mos\u001b[0m\u001b[0;34m.\u001b[0m\u001b[0mmakedirs\u001b[0m\u001b[0;34m(\u001b[0m\u001b[0;34m'data/'\u001b[0m\u001b[0;34m)\u001b[0m\u001b[0;34m\u001b[0m\u001b[0;34m\u001b[0m\u001b[0m\n\u001b[0m",
      "\u001b[0;32m~/conda/envs/python/lib/python3.6/os.py\u001b[0m in \u001b[0;36mmakedirs\u001b[0;34m(name, mode, exist_ok)\u001b[0m\n\u001b[1;32m    218\u001b[0m             \u001b[0;32mreturn\u001b[0m\u001b[0;34m\u001b[0m\u001b[0;34m\u001b[0m\u001b[0m\n\u001b[1;32m    219\u001b[0m     \u001b[0;32mtry\u001b[0m\u001b[0;34m:\u001b[0m\u001b[0;34m\u001b[0m\u001b[0;34m\u001b[0m\u001b[0m\n\u001b[0;32m--> 220\u001b[0;31m         \u001b[0mmkdir\u001b[0m\u001b[0;34m(\u001b[0m\u001b[0mname\u001b[0m\u001b[0;34m,\u001b[0m \u001b[0mmode\u001b[0m\u001b[0;34m)\u001b[0m\u001b[0;34m\u001b[0m\u001b[0;34m\u001b[0m\u001b[0m\n\u001b[0m\u001b[1;32m    221\u001b[0m     \u001b[0;32mexcept\u001b[0m \u001b[0mOSError\u001b[0m\u001b[0;34m:\u001b[0m\u001b[0;34m\u001b[0m\u001b[0;34m\u001b[0m\u001b[0m\n\u001b[1;32m    222\u001b[0m         \u001b[0;31m# Cannot rely on checking for EEXIST, since the operating system\u001b[0m\u001b[0;34m\u001b[0m\u001b[0;34m\u001b[0m\u001b[0;34m\u001b[0m\u001b[0m\n",
      "\u001b[0;31mFileExistsError\u001b[0m: [Errno 17] File exists: 'data/'"
     ]
    }
   ],
   "source": [
    "os.makedirs('data/')"
   ]
  },
  {
   "cell_type": "markdown",
   "metadata": {
    "colab_type": "text",
    "id": "Fs-szPMUi0GL"
   },
   "source": [
    "<font color='teal'> **Create a folder for the data visualizations you will create in future steps called `figures`.**</font>"
   ]
  },
  {
   "cell_type": "code",
   "execution_count": 10,
   "metadata": {
    "colab": {},
    "colab_type": "code",
    "id": "qfLr-ujSierP"
   },
   "outputs": [
    {
     "ename": "FileExistsError",
     "evalue": "[Errno 17] File exists: 'figures/'",
     "output_type": "error",
     "traceback": [
      "\u001b[0;31m---------------------------------------------------------------------------\u001b[0m",
      "\u001b[0;31mFileExistsError\u001b[0m                           Traceback (most recent call last)",
      "\u001b[0;32m<ipython-input-10-a731a76a9b22>\u001b[0m in \u001b[0;36m<module>\u001b[0;34m\u001b[0m\n\u001b[0;32m----> 1\u001b[0;31m \u001b[0mos\u001b[0m\u001b[0;34m.\u001b[0m\u001b[0mmakedirs\u001b[0m\u001b[0;34m(\u001b[0m\u001b[0;34m'figures/'\u001b[0m\u001b[0;34m)\u001b[0m\u001b[0;34m\u001b[0m\u001b[0;34m\u001b[0m\u001b[0m\n\u001b[0m",
      "\u001b[0;32m~/conda/envs/python/lib/python3.6/os.py\u001b[0m in \u001b[0;36mmakedirs\u001b[0;34m(name, mode, exist_ok)\u001b[0m\n\u001b[1;32m    218\u001b[0m             \u001b[0;32mreturn\u001b[0m\u001b[0;34m\u001b[0m\u001b[0;34m\u001b[0m\u001b[0m\n\u001b[1;32m    219\u001b[0m     \u001b[0;32mtry\u001b[0m\u001b[0;34m:\u001b[0m\u001b[0;34m\u001b[0m\u001b[0;34m\u001b[0m\u001b[0m\n\u001b[0;32m--> 220\u001b[0;31m         \u001b[0mmkdir\u001b[0m\u001b[0;34m(\u001b[0m\u001b[0mname\u001b[0m\u001b[0;34m,\u001b[0m \u001b[0mmode\u001b[0m\u001b[0;34m)\u001b[0m\u001b[0;34m\u001b[0m\u001b[0;34m\u001b[0m\u001b[0m\n\u001b[0m\u001b[1;32m    221\u001b[0m     \u001b[0;32mexcept\u001b[0m \u001b[0mOSError\u001b[0m\u001b[0;34m:\u001b[0m\u001b[0;34m\u001b[0m\u001b[0;34m\u001b[0m\u001b[0m\n\u001b[1;32m    222\u001b[0m         \u001b[0;31m# Cannot rely on checking for EEXIST, since the operating system\u001b[0m\u001b[0;34m\u001b[0m\u001b[0;34m\u001b[0m\u001b[0;34m\u001b[0m\u001b[0m\n",
      "\u001b[0;31mFileExistsError\u001b[0m: [Errno 17] File exists: 'figures/'"
     ]
    }
   ],
   "source": [
    "os.makedirs('figures/')"
   ]
  },
  {
   "cell_type": "markdown",
   "metadata": {
    "colab_type": "text",
    "id": "wdjaNdfAizMH"
   },
   "source": [
    "<font color='teal'> **Create a folder for the models you save, called `models`.**</font>"
   ]
  },
  {
   "cell_type": "code",
   "execution_count": 11,
   "metadata": {
    "colab": {},
    "colab_type": "code",
    "id": "fru6KMORimKD"
   },
   "outputs": [],
   "source": [
    "os.makedirs('models/')"
   ]
  },
  {
   "cell_type": "markdown",
   "metadata": {
    "colab_type": "text",
    "id": "9cufs4ZUo3as"
   },
   "source": [
    "<font color='teal'> **Print the contents of your project folder to confirm you created the additional folders in your directory.**</font>"
   ]
  },
  {
   "cell_type": "code",
   "execution_count": 12,
   "metadata": {
    "colab": {},
    "colab_type": "code",
    "id": "is6wXPH3pEeJ"
   },
   "outputs": [
    {
     "name": "stdout",
     "output_type": "stream",
     "text": [
      "['GuidedCapstone_Step2.ipynb', '1581381036_GuidedCapstoneStep3.ipynb', 'Notebook_stepthree.ipynb', 'figures', '.ipynb_checkpoints', 'data', 'models']\n"
     ]
    }
   ],
   "source": [
    "print(os.listdir('/resources/springboard/GuidedCapstone'))"
   ]
  },
  {
   "cell_type": "markdown",
   "metadata": {
    "colab_type": "text",
    "id": "B41tFEs0jLyr"
   },
   "source": [
    "## Data Definition\n",
    "In this step, you'll review column names, data types, and null values."
   ]
  },
  {
   "cell_type": "markdown",
   "metadata": {
    "colab_type": "text",
    "id": "wRi0i3vuqzuu"
   },
   "source": [
    "### Column Names \n",
    "<font color='teal'> **Print the columns names of the entire dataframe**</font>"
   ]
  },
  {
   "cell_type": "code",
   "execution_count": 7,
   "metadata": {
    "colab": {},
    "colab_type": "code",
    "id": "TJ_Cpxujq2C-"
   },
   "outputs": [
    {
     "name": "stdout",
     "output_type": "stream",
     "text": [
      "Index(['Name', 'Region', 'state', 'summit_elev', 'vertical_drop', 'base_elev',\n",
      "       'trams', 'fastEight', 'fastSixes', 'fastQuads', 'quad', 'triple',\n",
      "       'double', 'surface', 'total_chairs', 'Runs', 'TerrainParks',\n",
      "       'LongestRun_mi', 'SkiableTerrain_ac', 'Snow Making_ac',\n",
      "       'daysOpenLastYear', 'yearsOpen', 'averageSnowfall', 'AdultWeekday',\n",
      "       'AdultWeekend', 'projectedDaysOpen', 'NightSkiing_ac'],\n",
      "      dtype='object')\n"
     ]
    }
   ],
   "source": [
    "print(initial_df.columns)"
   ]
  },
  {
   "cell_type": "markdown",
   "metadata": {
    "colab_type": "text",
    "id": "TaNtPKb1sjaR"
   },
   "source": [
    "### Data Types \n",
    "Review which columns are integer, float, categorical, or dates. Make sure the data type is loaded properly in the dataframe. "
   ]
  },
  {
   "cell_type": "markdown",
   "metadata": {
    "colab_type": "text",
    "id": "z5DGO9VS16IZ"
   },
   "source": [
    "<font color='teal'> **Using the `df.dtypes` function, print the variable names and associated datatypes.**</font>"
   ]
  },
  {
   "cell_type": "code",
   "execution_count": 8,
   "metadata": {
    "colab": {},
    "colab_type": "code",
    "id": "nYhpP7RlPG94"
   },
   "outputs": [
    {
     "name": "stdout",
     "output_type": "stream",
     "text": [
      "Name                  object\n",
      "Region                object\n",
      "state                 object\n",
      "summit_elev            int64\n",
      "vertical_drop          int64\n",
      "base_elev              int64\n",
      "trams                  int64\n",
      "fastEight            float64\n",
      "fastSixes              int64\n",
      "fastQuads              int64\n",
      "quad                   int64\n",
      "triple                 int64\n",
      "double                 int64\n",
      "surface                int64\n",
      "total_chairs           int64\n",
      "Runs                 float64\n",
      "TerrainParks         float64\n",
      "LongestRun_mi        float64\n",
      "SkiableTerrain_ac    float64\n",
      "Snow Making_ac       float64\n",
      "daysOpenLastYear     float64\n",
      "yearsOpen            float64\n",
      "averageSnowfall      float64\n",
      "AdultWeekday         float64\n",
      "AdultWeekend         float64\n",
      "projectedDaysOpen    float64\n",
      "NightSkiing_ac       float64\n",
      "dtype: object\n"
     ]
    }
   ],
   "source": [
    "print(initial_df.dtypes)"
   ]
  },
  {
   "cell_type": "markdown",
   "metadata": {
    "colab_type": "text",
    "id": "xbZepZ0zPM1I"
   },
   "source": [
    "<font color='teal'> **The `df.info()` function also prints the count of non-null values per column. Use this function to review the column names, null value counts and data types of your data frame.**</font>"
   ]
  },
  {
   "cell_type": "code",
   "execution_count": 9,
   "metadata": {
    "colab": {},
    "colab_type": "code",
    "id": "0pHnZG1jjU3G"
   },
   "outputs": [
    {
     "name": "stdout",
     "output_type": "stream",
     "text": [
      "<class 'pandas.core.frame.DataFrame'>\n",
      "RangeIndex: 330 entries, 0 to 329\n",
      "Data columns (total 27 columns):\n",
      " #   Column             Non-Null Count  Dtype  \n",
      "---  ------             --------------  -----  \n",
      " 0   Name               330 non-null    object \n",
      " 1   Region             330 non-null    object \n",
      " 2   state              330 non-null    object \n",
      " 3   summit_elev        330 non-null    int64  \n",
      " 4   vertical_drop      330 non-null    int64  \n",
      " 5   base_elev          330 non-null    int64  \n",
      " 6   trams              330 non-null    int64  \n",
      " 7   fastEight          164 non-null    float64\n",
      " 8   fastSixes          330 non-null    int64  \n",
      " 9   fastQuads          330 non-null    int64  \n",
      " 10  quad               330 non-null    int64  \n",
      " 11  triple             330 non-null    int64  \n",
      " 12  double             330 non-null    int64  \n",
      " 13  surface            330 non-null    int64  \n",
      " 14  total_chairs       330 non-null    int64  \n",
      " 15  Runs               326 non-null    float64\n",
      " 16  TerrainParks       279 non-null    float64\n",
      " 17  LongestRun_mi      325 non-null    float64\n",
      " 18  SkiableTerrain_ac  327 non-null    float64\n",
      " 19  Snow Making_ac     284 non-null    float64\n",
      " 20  daysOpenLastYear   279 non-null    float64\n",
      " 21  yearsOpen          329 non-null    float64\n",
      " 22  averageSnowfall    316 non-null    float64\n",
      " 23  AdultWeekday       276 non-null    float64\n",
      " 24  AdultWeekend       279 non-null    float64\n",
      " 25  projectedDaysOpen  283 non-null    float64\n",
      " 26  NightSkiing_ac     187 non-null    float64\n",
      "dtypes: float64(13), int64(11), object(3)\n",
      "memory usage: 69.7+ KB\n"
     ]
    }
   ],
   "source": [
    "initial_df.info()"
   ]
  },
  {
   "cell_type": "markdown",
   "metadata": {
    "colab_type": "text",
    "id": "K22bNiPkqsbb"
   },
   "source": [
    "Some of these column names are easy to understand but others are not as clear. You have a metadata file with information about each column to help you understand what the column names refer to. Let's review the metadata table below for more information about each column."
   ]
  },
  {
   "cell_type": "markdown",
   "metadata": {
    "colab_type": "text",
    "id": "2PuwzPyIfNXf"
   },
   "source": [
    "Descriptions of Columns"
   ]
  },
  {
   "cell_type": "markdown",
   "metadata": {
    "colab_type": "text",
    "id": "jWzZC-k0bVf5"
   },
   "source": [
    "![image.png](data:image/png;base64,iVBORw0KGgoAAAANSUhEUgAAAkMAAAJNCAYAAAAyM3HrAAAgAElEQVR4Aex9CbRVxZU284wMMrYMMrSKCwMBAoL8DK2MIogoGAYxBJAxjBHTElBANDQgEoFloI0EicwiRIYoiCABloZehm6ZkVmMiMaEhHTQ+te3231St26dc+rce9995723a617z1S1a+9v76rap4ZThf77v/9byU8wEBsQGxAbEBsQGxAbKKg2UAiCSxAEghAQGwlCR54JAoKAICAI5GUE0MaJM5SXNZgl3sUZyhLQko0gIAgIAoJA1hEQZyjrkOfNDMUZypt6E64FAUFAEBAEwhEQZygcI4mhFM0pEyAEAUFAEBAEBIH8iECOOUN//etf1d/+9rf8iFmBlEl6hgqk2kVoQUAQEAQKBAKBztDHH3+s1q1bp55//nm1ceNGBQfHJVy6dEkVLlxYFS1a1DmNC12Jk3sImM7QgQMH1G9+8xv6vfnmm+q//uu/1LVr13KNwS+//FL17NlTdenSJW0+Mkkr1wCRjAUBQUAQEAScEbA6Q3//+9/V5MmTVZEiRVShQoW837/8y78oNBRh4fz5816av/zlL2HR5XkeQMB0hkqWLOnpmG2kdOnSavr06bnSI/j+++97/Jw8edIZ0aVLl6rx48cnDAOmSss5U4koCAgCgoAgECsErM4QGjRu4O655x715JNPqq5du9K9Y8eOhQogzlAoRHkugukMsaP86KOPqh/96EeqdevWns3gXrbD9evX1S9+8Qu1evXqSFm3adOG+H7llVe8dKnS8gjIiSAgCAgCgkCeQiDJGfrss89UmTJlqIEYMmRIgjAYGvnf//1f9Y9//EPNmTNHderUSTVq1Ejde++96rXXXvPims7QH//4R9W9e3d1//33e3EwtNK5c2f1H//xH3QPPU6IM3XqVPXrX/9atWvXTn3nO9+hfDDshgb2tttuo6GQI0eOJKVBI/hv//Zvqnnz5mrGjBnq66+/9vKSk/QR8HOGdu/e7RF/+umnPYfogw8+oPsYOoNzfdddd6kmTZqowYMHq9OnT3tp1qxZQ3q75ZZbVMeOHdXOnTvp2dWrV9W///u/k5N1xx13kMP15z//mXomYSdw0PFDOvTu/OlPf1I9evRQvXr1Ihtle0Ley5cvV61atVLNmjVTP/3pTxWcHYRRo0apSpUqEc/f/e53yT4vXryYRAtxw2ye84P9ii0SvPInCAgCgkCeQSDJGXrrrbe8Bs2vF+i+++7z4pQtW9Y7f+GFF0hw0xkCHe5pYmTmzp1L99hB4jTc48DxcaxYsaKXHte33357Qj62NGggJWQOARdnCMOrVapUIV0tWrSIMucexZtuuklVr16dntWoUUNh+PS9996juWUlSpQg5/fGG29UI0eOpHRwjNgGWL9vvPGGYjvhZzg+/vjjCfdB2xaP08CJQqhbt66XBz/7n//5n4S0PMzravPMK9PDUWyR4JY/QUAQEARii0CSM4RGDBV48eLF1TfffJPE+J49e+g5JkejpwhxMEyCNDVr1qT4ekOExiSKMwQ6gwYNUsePH1eNGzcmunC4MIF71apVdI04eIPX8+nfv7/CXBH0DuF5v379kniXG6kj4OIMgfqdd95J+E+cOJGcHegCzs9XX32l4CyhJxH3VqxYodghRg8hevLQi3ThwgX1zjvveHqG3rEqEZP4YRO6zqFr2CN6CvX7pjOEHs5PP/1UPfLII0QX/CB88cUX1JMIfhYsWEBxcN+kFdXmxRYJXvkTBAQBQSDPIODrDOENF0NiZkCjhMYDwx4c8DaNe/hhuMBsTKI6Q2g4EcaNG0c0hw4dStdoMPnN+6OPPkrIh9MwfxjCk5A5BFydIQxtwg5mzpypfv7zn9M5hqIwhIVftWrV6B6G1Hbt2kXniN+gQQM1b948srmFCxfS/VtvvTVJAN224BBz0O+bzhDbxu9+9zsvP+7xsc0ZMmmxTbnaPOfH6cQWWUtyFAQEAUEgnggkOUPbt2/3Goz9+/cncf3UU0/Rc7zNc8AbOztDV65cSXBSzJ4hnsvDvQLmMBnocEOFFW24Hj58OGelihUrRvdMZ4jTLF68mJ5j4reEzCHg4gzBOeFVZpgLNGvWLNJFhQoVVPv27b1fhw4d1LZt24i5V199lRwhth/0qvAEft3GWBLTUfG7b4t38OBB4gd5YU4SgoszlIrNg7bYImtHjoKAICAIxBuBJGcIE6jLlStHjUbbtm0VnBsENB54c+e3fczvYAdk2bJlFL9y5coU12yIMPTBjR2cGAyH3H333XRPnKF4GwhzF+YMYRgKzgv0DDvApHk4OrhGrw9PWmZ6OGLYDAFDrWxXcJxefvlljw4mRiNgQjYmXpu2RQ8tQ1t6PF5hNnv2bI8up0NvD3icP38+30rKAyvNECeKzYOYOEMepHIiCAgCgkCsEUhyhsDtM888Q5U/GgDM18HQR/ny5ekeJr3yhGbM/3jwwQe93gC8QSPoDREcJjSEPLEWwyT4XhFo4yfOUKztw2POzxmCo1OvXj1v+BLDmHCCEOBY82otLL1/4okn1A9+8ANVq1YtdfjwYTVt2jTVtGlT6gl64IEHyB5ga1g9yBPzb775ZlplhjlqcGpM22IGzfv6NXhq0aKF16uIVWQc+vbtS/nCCUMv0YkTJ5LyuHz5cmSbB31xhhhlOQoCgoAgEG8ErM4QWH7ppZcSnBYMf2ACKt7mMcEVjSA7NPjYHlb08Ju+7QvUmPxcqlQpSoMGkoceHnroIULIlgZLq5HH6NGjPRSRF+5haM6WBit38Lxbt25eGjlJHwHTGYJDo+sfjjF0+eGHHyZkhqXy//qv/+rFRRosh4fuNmzY4Dk9uN+wYUOalA8Cmzdv9laf4RnmD/npHPFNW9Cdof/3//6flz8mXX/++ecej/v27aOeLOQBh+vUqVNJtBA5FZsXW/RglhNBQBAQBGKNgK8zxFyj4cDbsm2rBbz54xnPA+I0OCK+OQEbzhIaNI6PVUJ8bkuD4RMMz+mr2kBT58WWD9LodHW+5Dw1BExnKCoV9K5giBTDZ3qA/rAa7Ny5cwl65jhwas6ePcuXdLTpHA/0+7ozhN5JbC1j5s1EYZewY6wu46DT4ns4RrV5sUUdPTkXBAQBQSCeCIQ6Q/FkW7jKNgLpOkPZ5td0hrKdv+QnCAgCgoAgkHcQEGco7+gqVznNa84QJv7ji9Pf+973vOHbXAVQMhcEBAFBQBCILQLiDMVWNfFiLK85Q/FCT7gRBAQBQUAQiDMCnjOEE/kJBmIDYgNiA2IDYgNiAwXRBgpBaAmCQBACYiNB6MgzQUAQEAQEgbyMANo4cYbysgazxLs4Q1kCWrIRBAQBQUAQyDoC4gxlHfK8maE4Q3lTb8K1ICAICAKCQDgC4gyFYyQxlKL5ZAKEICAICAKCgCCQHxEQZyg/ajUHZIraM4QPHZof3cwBtvIkSXz88c9//rMz79nCMlv5OAsuEQUBQUAQyBICVmcIXwR+88031ZdffpnAxieffKI2bdpk3XQzIaJc5DsEdGfo7bffVr/5zW+sv/fff59kv+mmm9TYsWPzHQ7pCIRNZ5s3b05bgxQrVoy2/XChly0sg/KZM2cObZHiwq/EEQQEAUEgryFgdYawfxP2arrnnnsS5OHdxLG1goSChYDuDJUrV87b6wt2ov86duxIwGAz3jFjxhQskEKkXbJkCWG1du1a9dZbb6m//vWvSSnwEjJv3ryE+9nC0i8f9PAVL16c9p5LYCyGFzb8YsimsCQICAIxQ8DqDHXo0MFr4NADwEGcIUai4B11Zwh7eWFfOfywqzx2nOfrf/zjHwSOX8Na8JD7p8TYzPiGG2745w3L2YgRI1SdOnUSnmQLy6B8sLdblKG9BAGyeGHDL4vZS1aCgCCQRxHwdYbuvvtuhW7z22+/3RsWM52h9957Tw0bNkyhN6Bnz55q5cqVCTD86Ec/Ulu3blULFy5UXbt2VYMHD6YNM48ePaoGDhxIO8svWrQoIQ0uXnnlFXoL7dGjh5o9e3bCxqxJkeVGVhDQnSE9w/r166u+ffvqt+gcDevo0aMVekO6d+9Ouj906FBCvCh6hi1t27ZNLV682EovLrb42muvqUGDBqlOnTop8Hzy5EmS+dlnn6WyVKJECTVkyBC1YMGCBCxwMXPmTHXLLbeoMmXKUJwJEyZQnExjeeDAASp/KLcjR470hut0ZwiOD54988wzxMO4ceOSyrcuAGTduHGjQjzQhT44BOnZjxek9cMSz2z5+eHHfMhREBAEBAE/BHydITRg//mf/0k9RC+99BKl150h9ABg3gOcnCeffFJxbxKcHw6oXMuXL69q1KihBgwYoNAQ1KtXT1WoUEG1b99etWnThujrTtTkyZNV0aJF1WOPPab69etHaXr16sUk5ZhLCKTiDME+qlatSg1vpUqVVJUqVRR2cUeIqmfYEnpVbPTiYotTpkwhe0bZQQ9F9erVyf5PnTqlZs2apW699VayZ7wIzJ8/P0mT06dPVw0bNlSlS5cmzHjOFWTPFJaY91e2bFmFlx04aCiHcGIQ2BlCzx+cOfCB+WH6M7qw/CEtyne1atVUly5dPJpBeg7iJQhL5sfMzw8/C7tySxAQBASBBAQCnaGvv/5afec73yFnBm+KujMEKufOnfOIYZgEb7SoxDiggmzQoIG6cOEC3YLThPklGC5AwFwENJD9+/en64sXL9LchBkzZtA1/qZNm0Zp0KBIyD0EUnGG0GvENrJ69WrS444dO1QqeoYt+dEDKpwPznPDFs+fP0+2O3z4cE9J6AEtUqQI9ZDh5vjx48nevQiWE9swT5DsUbHcuXOnpwcze+QzatQo9fDDD5MjhHlNHPAsaA4YnlesWFHp5TSMNz9eXLC05QdebfixDHIUBAQBQcAPgUBnCIm2b99OlSecEtMZwhvk5s2b1dy5c9XUqVPpLRiVKQezAl21ahXROnbsGEdRd955J/Uu6XlheAx08OvcuTOl0StmL7GcZA2BVJwhvfHECkU4wnCK2Kai6Nm0JZ0eQMhtW8TcOsi3e/fuBJ00a9ZMtWvXju6l4wxlCssvvviCem8qV66s0JOC3hkOwJgnw7/66qt8m44m/gkPv+1VwrCaHsL07MeLC5bgx8wPeYszpGtAzgUBQcAVgVBnCITQ7Y2udXSro7LEajIMd7Ro0YLu9+7dm+YOoWcoyBlat24dpdedobZt23rO0Jo1a+g5hscmTZrk/dCTdOnSJVeZJF4OIJCuM4QeA9gOHOJU9Gw2xjq9ONjiihUrSL6DBw8moN+6dWuFH0KmnCFd9lSwPHPmjEIPFsorVgbu2rWL+APGd911lypVqhQNe1+/ft2TxcTfe/Dtie25C282XlywtOUHVsQZMjUj14KAIOCCgJMz9Ic//IG6+9ENzs4Qv71t2bLFy6dWrVppOUP4Rg3oL1++3KMpJ/FAIJPOUCp6Nhs/3SGIgy3u2bOHbHfZsmWewuCkYa4UJlQjuDpDGDrWQ5DsqWDJtDF8jTlYmM+HwPksXbqUZHniiSc4qvfMu2GccFr9dhTedF5csLTlh7zhDJn46TzJuSAgCAgCNgScnCEkxAoYOCrsDHEXOHpwMGSB1R14lk7PECbCNmrUSNWuXZs++ojlvJhjwnOMbALIvewgkElnKBU9m42f7gzFwRYx/w3z4zBpesOGDWr//v2qT58+VCb27dtHSnJxhniOHHpHIBdCkOxRsVy/fj2t0Dxx4oTau3cvzfNB2TXzeeSRR1ThwoXVG2+8kfSMbhh/Jo94HMabHy8uWNryQ542/LDSlYcqDbblUhAQBAQBQsDqDGGlCeZz6AFzC7DUvmTJkvS9EXShY0k1O0itWrVSjRs3TphkiZ4irmhBC40E4qMi5oBKCqtvOIChli1benSxsgzDdBJyFwE/ZwirnzDh1gym7k+fPk06xdAJQlQ9B9GLiy1++OGHqmnTpp7t1qxZk5aHMzYTJ06k+Tp8bTseP35cIR3KSd26dSlKkOyIEAVLzL3DfCEut5izx0PQej7o1brjjjuoZwv46s9sfPs9D+ItiJcwLP3ys+HXpEkT+qyBjW+5JwgIAoIAEEBdVQh/esCbGd7qzPDNN9943xziZ1euXKE5RLhGOn2ewbVr1xKuEcf86q5fXli9hvkEZnzOV47ZRcC0Ec4dE5d1nfN9F90jrqueXejFxRax7Qb2HzMDcIIcYQHxzp49S6viENdFdsRzxZLpm1+SN/PBalKszPPjgR58+2em1Z/h3I83P144vR+WQfkxTeYdNmqrzzgPOQoCgoAgYHWGBBZBwETAzxky48m1ICAICAKCgCCQ1xAQZyivaSyX+BVnKJeAl2wFAUFAEBAEchwBcYZyHOL8kYE4Q/lDjyKFICAICAKCQDICnjOEE/kJBmIDYgNiA2IDYgNiAwXRBpImUCf7THKnoCOAgiFBEBAEBAFBQBDIjwigjRNnKD9qNsMyiTOUYUCFnCAgCAgCgkBsEBBnKDaqiDcj4gzFWz/CnSAgCAgCgkDqCIgzlDp2BSqlOEMFSt0irCAgCAgCBQoBcYYKlLpTFzaqM/SXv/yFPsKZeo6S0oZAbuCaG3naZM/WPXyksaCFOOs4zrzF1U7yIma5Xe6sztBHH32ksPklflu3blXYByrTYc6cOWrz5s2ZJiv0cggB3Rl6++23PftgO+EjNudEwNYtY8eOzSFuMkc2TnbowksYri40oqIXlmdUeu+9957CzwzYpgdb9uBL9y4hJ2Q9fPgwbVUSVDd98MEH6qWXXlLYlFffWsiF57jGybSOMylnnHnLpJw2WqnaeF7DzKXc2fDJ5D2rM9SxY0dv7yLewwibHWbKc8MWHMWLF1cPPfRQJmURWjmIgO4MlStXLsk+2E5gOwh+G2nmIIuRScfJDm28vPnmm2revHkJcgXhaqORkNjhImqeDiSTorRt29a6ceqsWbPIrly24LHJauM9KfOQG1QhFiqkNm7caI05evRo4rFSpUqqdOnStJnt7373O4qbSv6ppLEylubNILtKk3Sk5DY84sJbJEEcIttk1ZPZbFx/HnSeTczC5Ajik5+FlTuOl5NHqzPUoUMHhQ0cEb744gs1dOhQqgDwNpSpgB3psV+RhLyBgO4MwSnGvk/43XzzzeqBBx7wrnkPqGwWxnQQjJMdmryMGDFC1alTJ0G8MFxNGgmJHS5SydOBbEKUTDhDIGjKauM9IWOHi6BKGZvAwunH5tPovcL+aOgdOnr0KFFOJf9U0jiIETlKmF1FJphiAhseceEtRZF8k9lkNSObNm4+97vOJmYucvjxyfeDyh3HyeljqDMEBnjHcey6rYdXXnmFeneww/3s2bMTNqE8f/68GjdunOrUqRPFGTJkiPrhD39IzhVo4NnKlSt1crTD96BBgygNKpyTJ096z3G9bds2tXjxYtrlfvDgwerQoUPecznJWQR0Z0jPqX79+qpv3776LTpHYcRb9JIlS3z1FWQ/JkHoH2/rsBv0PunDLEF0ctMOX3zxRTV+/HhPFIzjw771IZg9e/ao/v37K2xIqpeJmTNnqltuuUWVKVNGoexMmDDBCVedBhJEKTep5ol8gnTgAfDtiaszFMa7Lqsf72G8wXl/7rnnVLdu3QjntWvXksNj6xnatWuX70uhX/6w02HDhpHNonddr/P80oTxfODAATVw4ECiOXLkSHXp0iUTYhXV9tItr6mWT51xPzzS5U3PA+ep8hqE+2uvvUZlG+0d6Jttl1l3+clq8qrbOJ4F8aCntTlDQTxiU+ZFixap+++/n+pr2A/uIeSEDUcpd7pcOXnu5AwBJLwR/fKXv/R4mTx5sipatKh67LHHVL9+/VSJEiVUr1696Dm691CRN2zYUE2dOlU1atSI0j/88MOeM2Qqa8qUKRSne/fuCp5m9erVVfny5b35Soh/ww03qKpVq1JFgG7qKlWqqKtXr3o8yUnOIZCKM1SsWDFffQXZj00K6B82Vq1aNdWlSxdvGCOITm7bIQ/74GUCYcuWLWTjXbt29UT8wQ9+QBih4tHLxPTp06n8YCgGDR/Pv0KcIFx1GsgE167lJtU8g3TgCaqduDpDYbzrsvrxHsbbo48+Sjrp3bu3at26NZ2jrrM5Q+glr1ChgqpYsaJ69dVXvcYCotnyR4UPXUHfTz75pEKPO2hjHqZfGtwP4vmTTz5RZcuWVXfffbd69tlnVfv27a28pmJ7QXYVxBN4hi6ilk8CQfuzYci00+FNy4JOU+E1CHeXtsvExk9WG69jxoyh20E8BKXDszAeefSnRYsWVN+UKlWK7DQnbBj8RCl3pmw5de3rDKHAYaisXr16VIDxdgpgEC5evEhzfmbMmOHxNW3aNIqHydYHDx6k87feeoueY1ItKoHVq1d78fWKDG/vmEM0fPhw7zm6nosUKUK9C7iJ+OiFOHfuHMUBLdDcsWOHl0ZOcg6BVJwhP32F2Y9NCugfjZA+mT+MTm7bIXouYaN4mUBA7w6uUdHAicdQS40aNahHAs/1MoFrW/dzWDkwaYTFJ8a0v6h5hulAI+2dRnGG/GwIxExZTd7DeLtw4QK90KF3hcOkSZNIRzZnCHFQp+GFDHq89dZb1aZNmzipVV9cXyEShpXR04eGiUNUnnfu3El5h9V7qdieH9ZhOEIW6CJq+WQM9KOJB9NOhzedPtOLyqsf7q5tl5kf+LDJauOVnSE/Hsw0LCOnC+MRL2uFCxf26iGkx5Dw5cuXiXSmbTiVcmeTMdP3fJ0hzEZHr07Lli0JqF//+tde3tu3b6cCieGxUaNG0a9z5850D5WFWRC5exnDXBz0igwrkVC57N69mx/TsVmzZt5ESz0+Hh45coTS6A5WQmK5yCgCqThDXBhNfYXZj41x6F9vtBAnjE4c7BCVOHo7ERo3bky9p7B12Pzvf/97suE33niDnps2bqsszThmOTCfm9dmfMpY+4uaZ5gONNLeaRRnyM+GQMyUzeQ9jDc4FNCF7lhQhejTM8QCfPXVVzS0ht5ppF+xYgU9MvPHTcyvw7Do3LlzqT5FbzfqTA5mmjCe0TuF3tHKlStTbxR6C/xCOran20kYT8gfuohaPm18m3gwbT87cOHNzCcVXv1wd227TGzAk01WG68sux8PZhpc62UjjEdMgIYdr1mzxkYq4zacarmzMpfBm77OEE+gRm8QnBIMSfEqD4AG8DA8hjcp/j3++OM0fo03IHQnw9tEWqw+at68ecKcIl1ZqExAD2/yekC3NX4Ienxco4cAaVatWqUnkfMcQiBdZ0jXV5j92EQw9Y84YXTiYIfoDcJQF+YQwF7feecdmhSNBhHzBtBTwOXKlNFWWZpxdFyBifncvDbjm1hHzTNMByZ9XN9zzz3kGJrPfvzjH1MP8fXr1+lRGO/mc5P3MN6wjB862b9/v8eKizPEkc+cOUP1HNdRZv7o/cOwA3rZMQyHuUPQd5AzFMYz8ka+6EUHLdSteNm0hXRsT7cTF55MXYAfl3Qm3yaGeG7SjsqbmYdJz5VXG+6ptF3Mj01WfsZHk1cbDxxXP+rpwnj0ew56OWHD6ZY7Xc5Mnoc6Q8iMjfrll1+mvHnYa/ny5VZe1q1bR44QjngjQnpzWb6uLEwiRaWElRkcoAS8eWHCKYIeH9d6geA0csw5BDLpDIXZj00KU/+IE0YnDnYI5we2jflyaBRRDlAJYhUeGlFMWORgyoh4eAnRgxnHLAfmc/PajK/TxnnUPMN0YNLHNSbWYw6F3v2O+9/73vfU7bff7iUJ4918bvIexhucIOhm6dKlXp78lmwbJuMJpV5kpdQdd9xBvee4Z+bPb+SYK8ahVq1aSc6QruMwnpkOjhhuwJDdgAED9NveeTq2p9uJC0+mLsCESzqP2W9PTAxx26QdlTczD5MenkfhVcc9lbaL+bHJys/4aOMVz3QeOK5+1NOF8fjuu+9SOTDbcwzj54QNRy13ulw5ee7kDGEiKgodhswQ0FuESdG1a9dWqDyw/A9dX+gZQkAhRK8Q4tx3333q+9//PnXpQoEcdGWBfoMGDWjSNLxGgNWnTx9S0L59+yiJHh839ALBNOWYcwhk0hkKsx+bFKb+ESeMThzsEDxiSAONLlYsIWCeCa7x0xclmDLyPDy8uWE4AMGMY5YD87l5bcYnotpf1DzDdKCR9k4xPIjFF9/5znfU+vXrFT7iiUniwOMXv/iFFy+Md/O5yXsYb3gOGqjHMLyPSdHo0QYfNmcIk6CxkhGrctDAoCcLcZ966ini2cyfh3DQc45hJ6wyQny9Z8hME8Yz8MLKXXzsce/evTRPB3RtAbRStT3dTsJ4Qt6mLnDPJZ3Jt4mHjXZU3sw8UuHVD/dU2i7mxyYrP+OjzqsfDxxXP+rpwnjEJyIwLQblAHUTJvhjKBttcU7YMOwC/AWVO6y8bNeunS5Sjp9bnSGsVLjrrrsSMueCz29zSAjnCIUbP1RuWOWDgC+0lixZkpbUP/HEE+qRRx6hSgYrzDjgDUkvxB9++KFq2rSpR69mzZpU6fjF5+X+6HWSkPMI+DlDWDGIXg8zmPo19RVkPyYtXJv0OE4QnbjYIa+cWLBgAbGNJfYY4sCigc8++4xFSZIRkxhRDlC+6tatS/FMHExczefmtRnfy/zbk1TyDNKBSZ+vUbGjd4zrjxtvvFHNnz8/4evTYbybz228h/GGt2LGGJNcoSO8yOkTo5lnvKTBgWOeUcehDkPljmDmj+E+fHaC47dq1YqGB3kOiC0N7gXxDKeNHRzQxXQG29J6YkhbtRPV9kw7CeIJeZm64PzD0nE8PpoY2mhH5Y1p8zEVXoNwj9p2MR82WfkZH3Veg3jg+HzU0+FeGI9YPq+XxzZt2lDPbU7YMPgJK3dNmjRJ6CVmuXLyCFsthD89oHBzAef76DLjuQ18D0d8OBHjmPozOD/wNJGGw09+8hOqFNAQIMAb5bkBHAdHfG/lj3/8o36Lzm3x9a7sJj0AACAASURBVDyTEsiNjCJg2ggTx7CPTY+u+rLZD9PWjzZ6+nMbnbjYIcoBhn31gLc1c+jYJiOwPXv2LK1EQnpbHL0cmM/Na9DQ4+s88XnUPDmdTQf8zO+IFSu28o74Ybzbnpu8c75hvGHFFA+DYa5ZUPj8889JJza7t+V/5coVb2UO9G6ms6VB/n48c3xe7RPEazq2Z7MTP55sutD58kunx+Fzlo/1YKMdhTemy0cbPX6Gox+vzJcf7lHaLs6PabKsfJ+PJq8c348Hv3R8349Hfv7pp58mvKDx/UzbMNP1K3eoG00fhNPk1NHqDKWbGXqD8NaCbxBhnhG+h4E3P/Q4ScibCPg5Q3GWRuwwztoR3gQBQUAQiA8COeIMwct9+umnaYLobbfdRh8bw3g7lgZKyJsI5EVnSOwwb9qacC0ICAKCQLYRyBFnKNtCSH45j0BedIZyHhXJQRAQBAQBQSA/IOA5QziRn2AgNiA2IDYgNiA2IDZQEG0gaQJ1fvDyRIbMIoCCIUEQEAQEAUFAEMiPCKCNE2coP2o2wzKJM5RhQIWcICAICAKCQGwQEGcoNqqINyPiDMVbP8KdICAICAKCQOoIiDOUOnYFKqU4QwVK3SKsICAICAIFCgFxhgqUulMXNqozhI9r4gNzEvIGAnHWV5x5i6t28yJm5kdI44qt8JU/ERBnKH/qNeNS6c4Q9pLCBn62HzY8RMAXyMeOHZtxPoRgziAQZ33Fmbec0cY/qc6ZM0dt3rz5nzccz/IaZocPH6YP9aYiqyMkEk0QCEQgkjOETVnnzZsXSNB8mEoak4Zc5z4CujNUrlw5b78l3neJj9jIEkHfKDAnuU/FvlJJk5MyxIF2tvQVJqtNN3HhLYz3qM9tsuo00LOK/eseeugh/bbTeTYxC5PDhWFqiHw2yHVJL3EEgXQRiOQMjRgxQtWpUydSnqmkiZSBRM4KArozhO5sfN0ZP2zu98ADD3jXvJ9MtirjVOwrlTRZATkXM8mWvsJEtOkmLryF8R71uU1Wk8bHH39Me2WZ98Ous4mZixxh/IozFIaQPM9pBKzO0IEDB9TAgQMV3vJHjhxJuyLPnDlTYdd57LY9ZMgQNWHCBOINu90OGzaM4vbs2VOtXLnS49kvDSK88sor9MbTo0cPNXv2bNqU0UsoJ7FDQHeGdObq169PO3Pr93COynj06NFqyZIlqnv37mrw4MHq0KFDCdGi2EDcbBK7lW/btk0tXrzYKl9QuQAISL9161a1cOFC1bVrV8IHDd/Ro0ep7HXr1k0tWrQoAS9cuGL24osvqvHjx3vpMYdk0KBBCUMue/bsUf3796fNkdPVF+TZuHGjGjduHNUFkJ+DK89+9UW6vDEffEyVV5sNMs3XXnuN8O3UqRPp9uTJk/yIrk1s/GT1En17Ajz1OjWIBz2tzRkK4hGb1MLe7r//frJn2A9vXBtky0FyBOkdL03PPfecgp2jPVm7di31NgMnCYJAbiCQ5Ax98sknqmzZsrSpKjZYbd++PVVy06dPVw0bNlSlS5emyhrzQWDQxYoVo8oce4916NCBDBqVPIItDe5PnjxZFS1alDZy7devnypRooTq1atXbsgveToikIozBNuoWrUq2UulSpVUlSpVvN3bo9hAHG0Sjc0NN9xglS+sXABypC9fvryqUaOGGjBgAJWBevXqqQoVKlCZa9OmDZUlvSGMgtmsWbMo/enTp0nDW7ZsoWs4Xhx+8IMfEP9o9MBPOvpCepTjatWqqS5dulCdgXyi8OxXX6TLG8vLx1R49bNB0JwyZQphC6cfvSTVq1cn3Z46dYqytOXnJyvzyEekHTNmDF0G8cDx+ainw70wHocOHUoytGjRgsprqVKlyFkPs2U/OcL0/uijj1J+vXv3pj0seZhdnCHWoByzjUCSM7Rz504y0h07diTxYusOPXfunBcPwyboOULB42CmuXjxIo2Dz5gxg6OoadOmUZ5ceXgP5CQ2CKTiDKHXiO1j9erVnl1FtYE42iQaGz/5oDSWG+e2coH0DRo0UBcuXCAd42UCDcLjjz9O15gvAucRPTcIUTFDLxzoce8SenJxjUbu6tWr6ptvviFHDG/lCEHyuOSN9BUrVlR6GXZJR5lrf2Z9kQneNPJ0mgqvfjZ4/vx5qs+GDx/uZYPevSJFilDPKPNvYoP7Nlk9It+egFd2hvx4MNPgWk8XxiMc5sKFC1MPDdM6fvy4unz5Ml2G2bIpR5jeYfN4GcaoA4dJkyaRfYozxIjIMdsIJDlD2Fkeb3eVK1emnh28jXAwjR73MX8EKwDmzp2rpk6dSm9Eo0aN4iRJBX779u1k9BgeQzz8OnfuTPfeeustL52cxAuBVJwhrsQhyZEjR0jHcIqi2kAcbVJvbEz5cB1WLsz0q1atInyOHTvmKf7OO++kXlfciIoZ0sBZQ28FQuPGjan3FQ4RVgH+/ve/p/zeeOMNem7yE1VfSK83biCaCs+2OiZd3khA7S8VXv1sEFgC0927d2s5KNWsWTPVrl07umfLDw9ssiYQMZwaPx7MNLjWMQvjEROgIcOaNWtspEJt2ZQjTO940UZ++gs3NUQygdqKv9zMDgJJzhCyPXPmjMKbDnp5sHJo165dxI1p9HjDRLcqhtXQ3Ym5Q0gT5AyhwKEgYHgMbwP8wxvxpUuXsiO15BIZgXSdIfQYQO9o9FOxgbjZpN7YAExdPpdyYaZft24d4aM7Q23btvWcoVQwQ28QhrUxfwXYv/POO7QAAuUTcz1QVv/617+SLZj86PK45G2mB1GXdKYhmnUMnpu0o/Jm5mHSc+XVZoMrVqwgbA8ePJiQTevWrWn4x8Y/R7TJys/4aPJq44Hj6kc9XRiPfs9Bz8WWTTnC9L5hwwbCbP/+/R7L4gx5UMhJLiFgdYaYF3RnYs4H5jQgwOjRdc+B3zgwH4FDrVq1kpwhPQ2+Q4OKefny5ZxEjnkAgUw6Q+nYQFxsUm9soD69gXYpF2b6MGcoFczg/KCsPfzww/TCgt4qlGGsAERjjcmyHEx+dHlc8jbTg65LOs6fj2Ydg/sm7ai8MW0+mvRwPwqvug1iEjowXrZsGZMnBwJz5DBhHcGWH+7bZPWIfHvil1bnwUyDaz1dGI/vvvuutU7GUKqLLZtyhGEJJwiYLV261GOde6dkmMyDRE6yjECSM7R+/Xpa3XXixAm1d+9emgeA1RcIPLcHbxLoCuXuUPTuoFsd8WDkes+QmQYT8ho1aqRq166tUACwggbdpTxXIsvyS3aOCGTSGYpqA3G0Sb2xAYR6A+1SLsz0Yc5QVMzAE9JguBtlEqt2EDZt2kTXuPfLX/6S7uHP5EeXxyVvMz1ouqTzGPj2xKwvMsGbmUcqvPrZIOZ2Ye4XJk2jxwMNfZ8+fQjjffv2Uda2/PDAJmsQr348mGlwrecZxuO1a9foI6mok2EfWACDXknI42LLphxhesdz8If8MDXi1VdfpYUDsEl2hrAymYcZbfLJPUEg0wgkOUMwTq5AYZyYt8DDV5hUV7NmTSrodevWVdevX6dl1YiHX6tWrWhugj5XxEwDAZBpy5YtvUoZk+mwAkVCfBHwc4awwhA9D2ZADyE70XiGSZqwEXShI0SxgTjaZJB8LuXCTM9DB3gJ4YDGgOf8RMWMafCqnQULFtAtLLHH8Bg+5vfZZ59xNGXyE1VfZnomHEXPSGOrL0zaUXljXvho0uP7QbwG2eCHH36omjZt6tVnqCOxjJ2DX342WTkNH/W0QTxwfD7q6XAvjEcsn0ePIdflWM2IidMutmyTIwhL8IPeKG5LMLkc9olJ3HDGEJo0aaJuv/12Opc/QSAbCMBmC+FPDygAZ8+e9VYT2J5hhQyHK1eueHHxFoL0emB6eho8//Of/0zzk3jegp5GzuOFgGkjzB2GXkx94xneNs37Nj272gDbEK9w4fxx5Ge6feW0TbrIF8SDS3qUJbxFm8EVM6TDUAfmfegBdKE3Pbjwg/h+edvS6/T90ulx+NzUp412OrZko8d54+jHK/Nls0Gk+9Of/qT++Mc/6qToPCg/pqnbrk7ATMvx/XjgtGY6vu/HIz//9NNPE5xkvh9ky4jDfJly+GHJdLHyjL9npKeFfdpsn9PJURDINAJWZyjTmQi9vI+AnzOU9yUTCQQBQUAQEAQKOgLiDBV0C3CUX5whR6AkmiAgCAgCgkCeQ0CcoTynstxhWJyh3MFdchUEBAFBQBDIeQQ8Zwgn8hMMxAbEBsQGxAbEBsQGCqINJE2gznkfTHLIawigYEgQBAQBQUAQEATyIwJo48QZyo+azbBM4gxlGFAhJwgIAoKAIBAbBMQZio0q4s2IOEPx1o9wJwgIAoKAIJA6AuIMpY5dgUopzlCBUrcIKwgIAoJAgUJAnCEfdeNLvfg4nYT/QyCqMyT4uVkOPtKHD9PFLUTlS/QdNw0WPH7EBguezjMpcZ50hubMmaM2b96cSRySaN10001q7NixSfcL6g3TGfroo49oE0ds5Mi/3/72tx48uY1fTttIuvTxJeDmzZvT9gfFihXztrzxAMylk1T5ym19ZxuudPWfbX4zmV9cZS9oNphJnQqt/9siKk9NoEZvDfZVeuihhzz9YcPXefPmedeZONE3OswEvbxOw3SGOnbs6O1jxPsZlSxZ0hMzm/iZ+rfZiMdYBk4yQX/JkiWE39q1a2mzStv2ElFZNXGImh7xXfiy5ZNNfaciVybT2PRvwySTeeYUrah822TPNG8uPNni5FcbtMmaacyFXh50hqA07HSvDy2MGDFC1alTJ6P6zK8FK1WQTGeoQ4cOtDEv9hXiH/bB4pBN/Gz6N22E+crUMV36jz/+uLrhhhsyxQ7RseEQNQMXvmz5ZFPfUWXKifim/m2Y5ES+maaZCt+m7LnBk43v/GqDNlkzjbnQ83GGDhw4oAYOHKjw9j9y5EivCx9K4V3HAd4nn3yi+vfvTzsi4xq7lG/dulUtXLhQde3aVQ0ePJgcl6NHjxK9bt26qUWLFiXgnkqacePGqZUrVxKdmTNnqltuuYV24h4yZIiaMGFCAv2gi1deeYV6mHr06KFmz55Nm4tyfFvB8ov/5JNPqlmzZnFSOsKbHzBgQL7ZbNDmDN15550JMusXmcQPO2oPGzaM7LFnz56e7pGfn/51G2G+sJP4oEGDVKdOnchWT548yY/oetu2bWrx4sW0Uzxs99ChQ95z88SkDzt2Tf/ss8/SjtwlSpRQsFneUR55+NkY5+/33A8HTqcf/XAI4ovT++UDfY8ePZp6lrp3705l38TPj3emrR/zYx2USl0HTPz0hWcudbKfXfrpMqi8Ic90bB/pg+j78YR0HPziZNoGoa+NGzeSvGgLwTeHIFv2s12kDdKlLT8/WZkPOWYOAbRxCcNkcHDKli2r7r77boXKsX379mQQyLJixYpq8uTJXu6UuFAh7zmMsXz58qpGjRrkCKCyr1evnqpQoQLRadOmDQ0NsCMDQqmmGTNmDPExffp01bBhQ1W6dGlyuFzn+UCOokWLqscee0z169dPgddevXp5soEvzgM3g+IPHz6chu4+//xzLz1wu+2227zrvH5ic4ZatWpFu6KjR0jvFYKsmcIPO1djTg2cazid6JHCsBycbgQ//Zv5T5kyhdKhoUYDUr16dbLVU6dOER3ER09N1apVyY4qVaqkqlSpkrTjO0W2yBclPRznW2+9lWwOLx3z588nskE2hghBz/1wYH75GISDH1+cFke/fCA/9OSHXxDvOn2c59c6CBhFrR+D9AWsXOpkP7u26TKsvCFPyKHXjVFsP4y+jSfTPvziZNIGWU60C9WqVVNdunTx2rkgWw6y3TBdgn8zPz9ZTUzkOn0EkpyhnTt3UqOxY8eOJOouBa9BgwbqwoULlBaNFxoudL0jYLwZDQx6kzjAAFJJoxfGqN2IFy9eJOdlxowZzIaaNm0a8ao3jpxHWPx3332X0i5dupToIX6RIkWSeou8zPLgic0Z4rlCfMR8Ew7Qa6bwO3fuHJNVf/vb36gXEBULB5v+9fzPnz9P+obTygG9ldARejMQEL9+/fqK81q9erVvOeD4LB9fR0k/fvx4KguUuVIqzMbCnoOODQemj6MLDiZfeno+t+UThJ8L70wbx/xaBwGjKHWdi75c6uQgu7TpkssAdGErb3rZQpwg3et65fMw+jaeOC0fbXGC+Ihqg8gH9IAvtwm4F0bHz3ZddGnLD3naZGUc5Jg5BJKcoS+++II84cqVK9NbIDxdDi4FT28gVq1aRQ3KsWPHmITC0Are8jnAANJNE9VYtm/fTnxheGzUqFH069y5M9176623iDWdr7D46BXBnCX0piFgmLBw4cI0RMhy5vWjzRlCz9fbb7/t/XRbySR+f//732n14Ny5c9XUqVPp7Rp642DTv54/VrvBYdu9ezcnoWOzZs1Uu3bt6FyPjxtHjhyhNHCKbMGMb16HpTedjjAbC3sOHm046Ly74GDypafnc1s+QfK78M60ccyvdZCJUVj96KKvqHWyaZc2XYaVN1MO89rMQ9ctzsPo23gyadjiBPER1QaRH+hhmogewuj42a6LLm35IW+brDpPcp4ZBJKcIZA9c+aMwlt0mTJlVLly5dSuXbsoNxS8iRMnejlTYmOYTHds1q1bRw2K7gy1bds20BlKJU1UY8G8JzSOGB6bNGmS90MP1qVLl0g+vWC5xH/iiSdo2A3pISN++SnYnCHXOUPp4Hf16lXVokULGrrt3bs3zR2CXUZxhlasWEH6PnjwYIJKWrdurfBD0PWNa7wNwkbQYNmCGd+8DktvOh1hGIU9B49h5cAFB5Mvm+y2fILkd+HdzCc/1kEmRmF1nYu+otbJpl2aunQpb6Yc5rWZh65bF/omT3p6PrfFCeIjFRs06SFvFzo223XRpS0/5GmTlXGQY+YQsDpDTB7DXZgDgInACPiOA+Y4cGBvF5PMEExlhhX2TKWBsWD4zTW8//771NAtX77cN4kui0t8dgzhFKFXSB8y8s0kDz1IxxlKBz+2sS1btnho1apVK8kZMvWv62/Pnj2k72XLlnk0UCljXhAmVCPo8XEdVKHb4kdNbzodYRiFPQdPYeXABQeTL9A1gy2fIPldeDfz4Ov8VAeZGIXVjy76ilonm3Zt6tKlvJlymNdmHqxLHF3omzzp6fncFieIj1Rs0KSHvKPQ0W3XRZe2/JCnTVbGQY6ZQyDJGVq/fj2trDpx4oTau3cvjZliljsCVoOhp+j1119XmB+DN3S8Pee2M8TzfeB9oxszLGASX6NGjVTt2rUVVn1hqSjmSPHcJqTXDdMlPtI0bdqU8MAkOH0ydRg/eeG5zRnCKr5NmzZ5P2DJIVP4cbc0evDQ/Q5bhM3pPUM2/ev5Y64a5mpg0vSGDRvU/v37VZ8+fYjOvn37iGU9Pm4EVeh4bsY3r8PSm05HmI2FPQdPNhxIuG//XHAw+dLT87ktnyD5XXhn2jjm1zrIxCjMGXLRV9Q62bRLU5cu5c2Uw7w289B160Lf5ElPz+e2OEF8RLVB5GPSw70wOn6266JLW37I0yYrVtXyED9jIsf0EEhyhjBnBvOF0ODgh6EQHjr68MMPyYHAfaxQeP755ykOGkQEvLGz44RrNDyIC8eKAxSIFT0cMpHm+PHjqmbNmpRX3bp1mXTgEYK3bNmS0oBHrCzDigEOJl9h8ZGO8XjggQeYTL45ms4QOxPAjn+YkIwJlwiZwu/69euqb9++Xh5Ywda4ceOEeWY2/Zv5w3bZWQW/sBcsc+Vgxj99+jTliW5xWzDjm9dh6THcjFUqegizsbDnNhx0+jgPw8HGl0nDlk+Y/GG863nk1zrIxMilfgzTV9Q62bRLU5cu5c2Uw7w289B160Lf5ElPz+e2OGF8RLFB5GPS47yD6ITZbpQ6iPOzydqkSRP6PAfHkWP6CECvCUvrQRIGe/bsWXX58mVrDphRjzgI3Pjh/Nq1a959Tmh+WRceMrxrDplKwzzr/HAeQUd8vBFjvCafNr5Axy8+54HhF3yEML8FGEqUkGn8rly54tkjbIjtj3ky9e+XP7abwL5bZrDFN21CT2PGN68RNyg9+EUaWwizsaDnJg42+rjnh0MQXzotMx9X+YN4t9HPT3WQC0Zm/ciY+OmLn6dTJ5u6BM2g8mbKYV4jfZDth9HHcxtPuK8HM44rH642aKOn5+9Hh/nys10/XQblxzS5fcMkdL0d1fmS89QQsDpDqZGKRyoYCeYC4aNYtt+vfvWrpIY0HpzHm4uozlC8pRHuBAFBQBAQBASBfyKQ75whLO/GB+0wn8X2w3Jw7G4sIRoC4gxFw0tiCwKCgCAgCOQdBPKdM5R3oM9bnIozlLf0JdwKAoKAICAIuCPgOUM4kZ9gIDYgNiA2IDYgNiA2UBBtIGkCtbsvJTELCgIoGBIEAUFAEBAEBIH8iADaOHGG8qNmMyyTOEMZBlTICQKCgCAgCMQGAXGGYqOKeDMizlC89SPcCQKCgCAgCKSOgDhDqWNXoFKKM1Sg1C3CCgKCgCBQoBDIN84Qlsvjg2XpBHyjSIIdgfzkDKVjK+mktSObt+8WFDzwoU58ZC+OoaDooCBgn990GedyY9pTrjpDc+bMUZs3bzZ5SukaGxaOHTs2pbRIdPjwYdp+IVP8pMxITBPqzhD2cXv33XetnP7+979X+qaq1kgp3IyLraRrZymInlaSTOJmYyS38chp+fC14ObNm1PdUKxYMW9rIhsWuXUvt3WQbblzWudR5Mk09pmmF0UWPW66GOeFcqPLi/OsOUPYxHPevHle/ujFKV68uHrooYe8e+mc+G1y50qTgNA2nXVNV1Di6c5Qjx49VNmyZa2f3MeHLu+66660YImzraRrZ2kBEzFxpsuYLfts4pHTdmGTb8mSJeQIrV27VmHfqbBtJmw0MnnPxAC0s6mDTMqSCi2bTdswMWm7xDHTmNc2GpnGPtP0TBlcrm0Yu6TT4+REubHhr+eZ7nnWnKERI0aoOnXqJPCL3eIz1fWcrhGJM5SgmqQL3Rl69dVXrZuYYtNIbIL685//PCl9lBtxtpV07SwKDpmIm8kyZuMnm3jktF3Y5Hv88cdpU2rbs9y4Z8MgmzrIDZnNPE2btmFipnGJY6Yxr200Mo19pumZMrhemxi7puN4OVFubPhzfpk4JjlDTz75pJo1a1YCbXhkAwYM8DaGw55f6NFBD8Hs2bMTNpzErvUbN25U48aNUx07dlTvvfeemjlzJm2NUaZMGTVkyBA1YcIEoo84K1eu9PLCBqeLFi1S999/P+1s/+KLL3qbnoLOsGHDiGbPnj0T0oFAVCPCJnfPPfec6tatG/GENz805OAdwSYHM4rdzgcNGqQ6depE8U6ePMmP6BpvkC+88AI9f+SRR9TevXu953n1RHeG4MBCl9i5Xg9Tp05VRYsWVZ9++ql3Oy/aSpAdws5Gjx6t8ObTvXt3NXjwYHXo0CFP3jA7hV1t27ZNLV682Jr+/PnzVHZgWyhjKC8//OEP1RdffOHlEYSpF+nbE7OMheVvpsd1UH62cucXP6xuCcLOtQ4Bv2HlMwh/Xf5nn32WdgYvUaIE6WHBggX0OJ26YevWrWrhwoWqa9euZDtodI4ePaoGDhxIdRHqP7/gh0GYTYKen05seR04cID4Qf09cuRIb2gQjdGaNWu8JNj6qH///govQQjAJap8qaTRbdoPE49JpXzbH8QJshUXGpnGHvSAM2ztnnvuIRvZt2+fx0pQGUEkP93hWRQb0DFG2ij1hl+5ceHBj0cXPYN+OiHJGRo+fDgNX33++ece3fbt2yvs6YUwefJkavAee+wx1a9fP4WKolevXl5cKBP3qlWrprp06ULOxfTp01XDhg1V6dKlqZDx3B7EHTNmjJd26NCh5JC0aNGC4pUqVYoKFxwXjNejAkGF2qFDB4qHgsfBpMX3/Y6PPvoo0ejdu7dq3bo1nevOkE0O0JoyZQrFRUMIo61evboqX768OnXqFGWFdBhCwn3IU6tWLQU5PvroIz9W8sR93RkCww8//DDpU+/Zw55w0DmHvGorfnYIuaBf2GLVqlXJRitVqqSqVKmirl69Si8LLnZ6ww03WNOjexrDjCgrcCwbNWpEtgas2RkKw5Sx56NZLnDtlz+n0Y9h+Zn0g+IH1S1hZdy1DnEpn67y46UQNo36DM7K/PnzCRrIbNZxeOCSN+qKGjVq0MslaNSrV09VqFBBoY5t06YN6Vt/QdR1EYSBn00ifZBOdPo4h4OD+uvuu+9WaNTAF78gVqxYkWhxGmo8tBdI4BJVvlTTcLvhhwnziKNfnDB9udAA/5nCHvmBXuHChclGUA9hDhHaTcxpDSsjQbqLYgPMB2PM1+mWmzAegp776VDXUbrnSc4QJsbCKVi6dCnRvnjxoipSpAj1FuEc83xmzJjh5Ttt2jSKrzsDKDR8zRFtXVxQPAN++vRpMgK8CXM4fvy4unz5Ml2eO3eOb6u//e1v1DMBY+ag0+J7fscLFy6QQ4e3Hg6TJk0iObjgg54pB97aIT8qdQ54qwM+6C1AQLoGDRpQpYJrOEHAE/TzcjCdoU2bNpFcXHH/4Q9/oGt49gh51VbC7BD6rV+/vmJ7XL16NcmNSeUIfB/nfnbql/7gwYNECz2LCO+//z5dIw8EF0wpovZnlosw/rWkTvnp9MP4C6pbkG8YdmF1iGv59MNfl53Px48fT84uX+MImdOpG1D/IODFDnUDhhQQ4AzDsUZvi1/ww8BPpjCdmPns3LkzwZ715y7OEOq+KPIBy1TScLsB/myY6Hzb4rjYShgNPA8qT1GxZ3rA49KlS5Q9O5zcfgSVET/dpcqHjnGQnCZOuDbLTRgPYc9B00XPNl5c7yU5Q9988w3N7cGbAQK6dOGpojt3+/btVFAwPDZq1Cj6de7cme5xBQ7QdCeDGbEJgrgMOIbiUDHoWcjEgQAAIABJREFU3bCcFkcse8dKr7lz59JbM95AwAMHnRbf8zui4UJe3IAhHhud7gyZcvzmN7+hdLt3704g3axZM9WuXTu6Z+MDxn3vvfcmpMlrF6YzhIq7cuXK6r777iNRfvrTn1IP2FdffUXXedVWwuzQ1O+RI0fIJthhiWqnenoMt8Eueahk165ddI1hHQQXTCmi9mfya17r+WvJ6NQlP51eWPygugUZhmEXVoekUj6D5AdPZqWOe5A5E3XDqlWrSL/Hjh0jvPF35513Ug+4d8M4CcMA0XWZwnRikKceSPTqo2zjbRy9DRxcnCGuz5HGRT7dflJNY8OEeeajGcfFVjgtH00auG/ynw72Nnq4B0cXbS5CUBlB77FNd1FtwMZHkJzEmPFnlpswHsKeg7wNfyPbtC6TnCFQe+KJJ6jnBN5p27Zt6Yf7cFRQWWN4DJ4q//Bmw56sCRpzZxNEj7tixQqijbdjM2AIAkNn6L7FsBbmDmHOSqrO0IYNGyiv/fv3e1nZnCG9YCOiH48YZsMPQZeJiWOIEcNqeTmYzhBkQQ8ZuvpRCCHjgw8+6ImYV23FT8csmKlf9ICiTKDiT8VO9fToScKQCV4+4GCXK1eOlnVfu3aNsnfBlPnko8mvea3nz2n46JKfTs8lvl/d4oJdqnVIUPkMkh84mJU67ukyM1Z+dhOU97p168h2dGcI9S2mA/iFMAyQTpfJRSdmXmfOnKGyjToWNginHAHO0MSJE73oYXWmi3wmlqmksWHiMfntiRnHRV9hNPDc5D9d7E16yAPD5Wg/XMqITXep2IDJh3mty2nihGuz3ITxEPYcNE0d2vJN557VGWIjR8WFihmTRRG423758uW+eZqgcUQIgi5gPehxuQvdpI23Sfbi9e/XYC5Oqs4QnCA0YDwUCJ64R0DvGTKdoT179lC6ZcuWeWLAQDFvBBOqESATJnhz+PLLL1XJkiVJkXwvLx5tzhD3XMApBp5wMjnkVVsJskPIptssrvVKIRU71dOjIUB5wxE9oKgg8CbIwQVTjstHk1/zWs+f0/DRJT+dnkt8v7rFBbuwOsS1fOrlOkh+4GBW6riny8xYpZK3S8PP9PkYhgHi6TK56IRpm0cMd2FuHBbPIGD+CuZOcWCd+dWZLvKZWKaSxoYJ88hHM46LvjgtH00auG/yny72oKfPwcX3ejDnFHN0Ge+gdpB51XWXig2YcpnXupycp340y00YD2HPQduGv55nuudWZwhEmzZtSg0c3vx5MjUmcMFLrV27NjkPGDrDUBOPeSOdCRozyHOL4JGjS8yMi7dfFDbQxnwUTI7GWxIaWO5CQ6OLbkjMbEfjm6ozBDnAJ/LC8B6WiuONHDT9Cjb4xdAQhrwwORp8wanCiiqk4xn/oItrrDLCGO4DDzxA12hk83KwOUNwVOGUQl7gxz0YkDOv2kqQHUIu0771SiEVO9XTv/POO+QMoYxh+PH73/8+DVXwHAwXTE0bM/k1r/X8zbQu+en0XOIjD1vd4oJdWB3iWj5zwhlKJW+Xht/USRgGiK/r1FUnnM/69etphfCJEydoFSx6g1DfImDlLXqKXn/9dXqRRM9RUJ3pIp9uP8gjlTQ2TFgePppxXPTFaflo0sB9k/90sGd6evuB3nZc48UzrIz46S6qDTAfejkJkpPx0Y+mMxTGQ9hz0Lbhj44HnqKi55/Kua8z9Pzzz5MS0JjrAQlatmxJz6AkLKXWVxChceTCo6fDZOiaNWtSurp169IjMy6WDd58880ebayuwISx69evq759+3r3W7VqpRo3buzNNwIxk5aet+0czgnzgwKPpYx4K4cjFkQPy0i5Mof8oIHlmRxgNOAPMuI5VgJgVUZeDzZnCDLxigwMXZohr9qKnx1CPtPOMOEaekYvTip2qqf/4IMPqBcRS+rRK4vPMsDJxAozDmGYcjw+mvya13r+nEY/huVn0guLD9q2usUFO5c6JKx8mvyGyY9hIczD0INJg59FzZuH6+F4cEDFHjSk7oKBKZOLTjh/vBxivhBsGj/MYeIpEJAPL5C4j5VFrEe/OtNFPhPLVNLYMGF5+GiLE6YvTstHGw2T/3SwRz6ghwn0+CYfcEav0DPPPEMshJWRIN1FsQHmQ2/Hw+RkjPhoKzdhPIQ9t+HfpEkT+vwF55vOEfkXwp8tYAgI31yxBSypxvik+UVWvFlDabaA+2fPnqVVNnjuFxffqfnss8+SSFy5csVbXQbPXs/Hj1YSEeMGZrGzjJizwSGMHrovse+KGdiDZlnh8eaH4GcjkA376aCXyC/kVVux2aHNLswyENVOOT2cH/SO6lj+5Cc/oUoRGOvBD1M9Ds5Nfs1rxOH8zbT6tV9+NnpI5xefafrVLUHYIS2XKy6rfvn7lU9b/CD5kR/S6MFGQ3+eTt6o18LqDBcMbDKF6YRlYPq8kpfv8xF1JuIgsB5wbsPF5MOUL1NpmGedH+aXj35x/PTF6fSjScOFf6R3xR70UP45H+BlhqAywun8dBeFD9Di4Conx0dapLGFMB6CnrN8rGdMIwgrLzYebPcCnSFbgrjfAziYd4Ql3rbfr371K68g54Qs7AzlBO3cpBnkDOUmX/kpb/QG4W0Q8wNefvll6lG88cYb6Zsv+UlOkUUQEAQEgbghkO+cISwFxYfSMLRg+2HVk/mWnUml4KuhP/vZzzJJMha0xBnKeTXgbefpp5+mlYmwU3xcFN+i4Q8u5jwHkoMgIAgIAgUTgXznDBVMNea81OIM5TzGkoMgIAgIAoJA7iDgOUM4kZ9gIDYgNiA2IDYgNiA2UBBtwHcCde74Z5JrHBFAwZAgCAgCgoAgIAjkRwTQxokzlB81m2GZxBnKMKBCThAQBAQBQSA2CIgzFBtVxJsRcYbirR/hThAQBAQBQSB1BMQZSh27ApVSnKECpW4RVhAQBASBAoWA1RnC0nPbx57ijkxe5TvuuIK/qM6Q6MJNq/hwJz4yltdDpvWdaXo5jW9UPeY1+XIaP6EvCOQ2AlZnCF/BHTt2bG7zFjn/vMp3ZEFzIYHpDH300Ue0cSA2D+Tfb3/7W4+z3NbFnDlz1ObNmz1+Mn2SLn189bZ58+b0kcVixYp5Wx5kms9s0cu0vjNNL6dwSFWPeUW+nMJN6AoCcUPA6gzl1a8o51W+42YUNn5MZ6hjx47UkOOLyfwrWbKklzSbunjzzTfVvHnzvLzRq1m8eHGFPb5yImSC/pIlSwi3tWvX0mbB5rYFqfBt4pBTNGz5ZFrfmaaXChYuaVz0mA28XHjNRhybrNnIV/IQBNJFQJyhdBEsIOlNZwhfR8aGtNjXjX/6nlrZbMxGjBhBGxvqqvj4449zdPgpXfqPP/44bXap85zuuQ2HqDRdaNjiZFrfmaYXFQfX+C56zAZervzmdDybrDmdp9AXBDKBgK8zBKPGTu7YXmLw4MFq3759Xn7Y1Ru7lKN3oGfPnmrlypXeM5wcOHBADRw4kJ6PHDkyYQgA+4Xhjb1Hjx5q9uzZvpu5JRDULoLS2ypQv/jY5mDWrFkaZaXwVjNgwICMbfyWQDyPX9icIexo7RcyqYsge5s5cyZtu1KmTBk1ZMgQNWHCBGJp3LhxSXb52muvqUGDBqlOnTop7Mh88uRJj31cb9u2TS1evJh2DYfNHzp0yHtunpj0o6R/9tlnaaflEiVKEM8oZxz87DXsuR8OnI6PqWDJaXH0ywf6Hj16tEJPCXZdt+EXJpueD+jFpQ7ys5sgPbIs2cIL9rdx40YFu0S9DD1zCMI9qK72kxt0bfn5ycp8yFEQiDMCvs5Q4cKFVY0aNdTQoUNpJ+3SpUurw4cPk6OAOQ5du3alfZPQQ4Bhkq1bt5Kc2BusbNmytLkkKov27dtTIcXDyZMnq6JFi9JGlP369VNoDHr16uWMT1h6swEOij98+HAaSvn888+9/MEr9oSSkIyAzRlCzxB6g/inp8qULrAjcZC9TZ8+XTVs2FDBPuGA81w3M/8pU6aQnaKhRiNbvXp1Vb58eXXq1CliG/FvuOEGVbVqVaJTqVIlVaVKFYXd1W3BpB8lPZxw7J8H+wfP8+fPpyyC7BURgp774aDzniqWOg2/fCA/9OSHXxDvOn0+B7041EFBduOnR5YBx2ziBXuqVq2a6tKli1OdG1RXB8kNuaAfMz8/WXU85FwQiCsCvs5QgwYNvB4dilSokJo0aRLJce7cOU8ebC6Jt3IUHoSdO3dSo7Njxw4vDk4uXrxIzseMGTO8+9OmTaO43CB5DywnLulRQMeMGUOpw+K/++67lPfSpUu9+EWKFEnqLbKwUiBv2ZwhnivER/QKcMikLoLsDfnZuub1/M+fP0+2BweYw9GjRxX0jd4MBMSvX7++4rxWr15ttWNOr9NPJf348ePJ2WJ6YfYa9hx0bDgwfT6yfLg2y64rDVs+Qfi58M788RH0crsOcrEbU4/Mv37MFl4VK1b0nHvkH4a7X13tIjf0Y+aHPG2y6ljIuSAQVwR8nSF2KphxNBQY2kL4+9//Tit15s6dq6ZOnUpv2KNGjaJn2GEbbyeVK1emtyK8fSBs376dGhfQQFz8OnfuTPfeeustihP055Jeb6DC4qM3o06dOtSDhXwXLlxIb6KYCyIhGQGbM4RetLffftv7sa6ROpO6CLI35GWrgPX8sdoNDtvu3bsTBGvWrJlq164d3dPj48aRI0coDZwiWzDjm9dh6c1GNMxew56DRxsOJu+pYGnSsOUTJL8L72YeJj08z3Yd5GI3ph5NOXCdLbwwJUEPYbj71dUuckM/Zn5+suo8ybkgEFcEnJ2hRo0a0VwADBu0aNGChsJ69+5Nc4fQM8TOEAQ9c+aMwls47pcrV07t2rVLrVmzhhoXDI+hh4l/mIB46dKlUHxc0usVqEv8J554gobtkH/btm3pF8pIAY1gc4Zc5wylowsXewtrbFasWEG2d/DgwQTttW7dWuGHoNsOrtFbCQdq1apVCWn4woxvXoelNxvRMIzCnoMvGw7ML46pYqnT8MsnSH4X3s08THp4nu06yMVuTD2acuQmXi642+pqF7lt+vGT1YaJ3BME4oaArzOkz+XBtzRKlSpFc334rWHLli2eLLVq1UpwhvjBhQsXaA4BJiW///771LgsX76cH0c6uqTXC6hLfBK+UCEFpwjzE/RhnkjMFYDI6ThD6ejCxd7gBGB+jx50W9izZw/Z3rJly7wocAwwLwgTqhH0+LgOc2bM+OZ1WHqzEQ3DKOw5eLbhQMJ9+5cqljoNv3yC5Hfh3cwD9HK7DnKxG1OPphzZxMvszY+Cu15Xu8ht6pvlDrNBjidHQSBuCPg6Q3grxooQjCs/+OCD1Jigh4e7XtGzg6EArCpAXO4ZWr9+Pa0SO3HihNq7dy+NKyMOJm/iza527dq0agvDUZhXhJ4hl+CSXi+gLvGRb9OmTYl/TAbUJ1O78FSQ4ticoVtuuUVt2rTJ+2E1HodM6SLM3pAfzz3DGy3iI+j547tAmH+CSdMbNmxQ+/fvV3369CG98ypJPT7ShzkzZnzzOiy92YiG2WvYcz8cCIxv/1LFUqfhl0+Q/C68m3mAXm7XQS52Y+rRlCObeJnOUBjufnW1i9ymvlluW1nEimMejuZ4chQE4oaA1RlCT0///v1pTg0qJPQKPfPMM8T79evXVd++famiwjOsKGrcuLE3cRnzfzBfCM/ww1AKD4Mhs5YtW3rPsLIMKx9cQ1h68A3Hi0NYfMR7/vnniZ8HHniAk8nRggCw1AM7E6xnHDEhGZNyETKlizB7Q17Hjx9XNWvWJD3WrVvXmv+HH37oOb7gFfGxdJiDye/p06eJHoYabMGMb16HpZ84cSLNrdNph9lr2HMbDjr9VLHUaeDclk+Y/GG8m3mAXhzqoDC7senRlCVbeOl1H/MQhHtQXR0mt6lvzs8ma5MmTehTEhxHjoJAHBFAWSmEPz1cu3aNlkuj8jx79qx1n7IrV66oy5cvUzK8SSAuB07Hz/k+H7EXE8aqU/3qrl968K3z4Zofhkzw4UAJ/giYNuIf8/+eZFoXQfaGHNnm2Bnzyx9DvthHygy2+EH2acY3r0E/KD34RRpb8LNvjhv03MSB0+jHqFjqafnczMdV/iDemTaOoIdFDpwP6hgzBMnB6TJVB/nZDfLx06POL/MTZJ82e4mCF/LwC350mC8/nPzktumb82aaLCsm7aOXSoIgEGcErM5QthlGYcFcInwczPb71a9+ZXVyss1nQc4vqjNUkLES2QUBQUAQEATyFgKxcIawJBsfocMcFNsPS7ixy7OE3ENAnKHcw15yFgQEAUFAEMhZBGLhDOWsiEI9EwiIM5QJFIWGICAICAKCQBwR8JwhnMhPMBAbEBsQGxAbEBsQGyiINpA0gTqOXpvwlLsIoGBIEAQEAUFAEBAE8iMCaOPEGcqPms2wTOIMZRhQIScICAKCgCAQGwTEGYqNKuLNiDhD8daPcCcICAKCgCCQOgLiDKWOXYFKKc5QgVK3CCsICAKCQIFCQJyhAqXu1IWN6gzhUwi2D+WlzkH2U8ZNBnwsEh/PkyAICAKCgCCQWQTEGcosnvmWmu4Mvf322wqbftp+2BwS4aabblJjx47N03jERQZ8Bbh58+a0PUixYsW87W3yNLjCvCAgCAgCMULA6gxhw8158+bFiE1hJbcR0J2hcuXKUcOs70vG5x07diRW/TZyzG05ouQfFxmWLFlCeK9du1ZhPynbtg1SZqNoVuIKAoKAIJCIgNUZGjFiBG3SmhhVrgoyArozhO1TsO8QfjfffLPCJrd8zXsQxcWRSEdncZHh8ccfVzfccEOgKFJmA+GRh4KAICAIBCKQ5AzNnDmTtsQoU6aMGjJkiJowYQIRwI7IGzduVOPGjVN4+3/vvffoPo7Dhg2jez179lQrV65MyBDptm7dqhYuXKi6du2qBg8erD7++GN19OhRNXDgQNWtWze1aNGihDQHDhygZ8hn5MiRMiyQgE7uXOjOkM5B/fr1Vd++ffVbdA5HYvTo0Qq9Gt27dye9Hzp0KCEe9qF76KGHVI8ePdTs2bMDN7yEHW3btk0tXrzYSg/OgL7DPLZ4wa7n2H0bIRU7hAygu2DBAnXPPfeQDPv27XOWwa/MJBD49uK1115TgwYNUp06dSJeT548SU+effZZ2vG7RIkSVB7BixmkzJqIyLUgIAgIAtEQSHKGpk+frho2bKhKly5NDgnP+0DDgAq5WrVqqkuXLuQYoRcAcxjg5Dz55JOqQ4cO1J0P54cD0pUvX17VqFFDDRgwgGjUq1dPVahQQbVv3161adOG0rAThUasbNmy6u6771ZoCBAHTpiE3EUgFWcItlG1alWyo0qVKqkqVaqoq1evkiCTJ09WRYsWVY899pjq168f2UWvXr18hYQdoXfEj17FihUVaHIgwy5UyLOdqHYIOkhTuHBhst2hQ4fSPCiUi8OHD1M2YTIgvVlmmD/9OGXKFCoDcBrhfFWvXp3KzKlTp9SsWbNo3z7QwcvD/Pnz9aR0LmU2CRK5IQgIAoJAJASSnCGktnW5o2JHg4MKWg/nzp3zLjFUgh4lVO4ckK5BgwbqwoULdAtOE+aXoOsfASuO0EjiLR5h586d9HzHjh10LX/xQCAVZwi9Rmwfq1ev9vR68eJFVbx4cTVjxgxPuGnTptFz0744AuzIjx7iuDhDUewQNNl2L126RGywgzVp0iTlIoNfmWGZcDx//jxhMXz4cO82ek2LFClCPWu4OX78eCojXgTLiZRZCyhySxAQBAQBRwQiOUMYsjID5o9s3rxZzZ07V02dOpXeaEeNGuVFQ4MwZswY73rVqlXU6B07dsy7d+edd1LvEm588cUX1PtUuXJlhTde9BRJyH0EUnGGdL0fOXKE9A6naPv27XSO4THYCn6dO3eme5ggbAumHen0EN/FGdL5CbND0DTzxD04ZODbRQakt5UZXT6syMPLwe7du/XbqlmzZqpdu3Z0Lx1nyJa/lNkEqOVCEBAEBAHamzVpOw6/t0y9MQF2GPJo0aIFDWv17t2b5g6hZyjIGVq3bh1V/roz1LZtW88ZAt0zZ84ovCmDFlYu7dq1S1SVywik6wyhxweNPpwQzO3BOYbH0MvCP/QWci+MKa7pmOj0EBfO0MSJE71k3IvDQ6xmehc7NNOAeKNGjWjOkosMtvQeg9+erFixgrA4ePBgwqPWrVsr/BDScYakzCbAKheCgCAgCFgR8O0ZwtCVHmwVO7/VbtmyxYtaq1attJ0hJoahNcwRwVwjCbmLQCadIXyLCM7Q8uXLnYUy7c90hvBNIMyp4cC2ma4zpM9jwvd+SpUqRfOcXGQweWbe9OOePXsIi2XLlnm38ZKBOVaYUI3g6gxJmfUglBNBQBAQBCIhYHWGeP4G3loxHIBgq9h5qABv9hi2wOoZNHLp9AytX7+eVhadOHFC7d27l974QVdC7iKQSWcIE+/Rw1K7dm2F7+NgdSHmiPE8Mpukpv2ZzhBWJaIX8fXXX1dLly6lXkXYYrrOEGhgBSTmsj344INk3+ipdJHB5NkmF+bMYS4TJk1v2LBB7d+/X/Xp04fy4ZVrLs5QXMssVpjycJ9NfrknCAgCgkAcELA6Q8ePH1c1a9akCrlu3brEJ3p8TKfk+vXrtKwaDQZ+rVq1Uo0bN06YI2SmQ4WPuHB2OKCyxEoaBMwZwXwhpon5RH5DJ5xejjmPgJ8zhJWHDz/8cBIDpt5Pnz5NOuXl76DXsmVLT89YWYZVin4hjB6W0MO5gt1g1dnzzz9P55s2bSKSZvowO0QipMHE/jp16hAt9Ao988wzHothMph5egmNE/DetGlTDwuUPSy154DhP6ziDApxLbNNmjShTwME8S7PBAFBQBDIbQSszhCYgqNz9uxZ+pgerq9du0b3bAxfuXJFXb58mR7hTRdpOdjSmV/QRRr+WB/Scd5Mk2nJMfcQ8HOGMBlX1zdz6KJ3xMVeW5gjZtoE0+GjKz2s8mJ+sLqRg0t60w6R5ptvvvHsEc9twU8GW5629HwPw3DYf8wMkAe0wgKXG5Y7KP9slVnYh162w2SQ54KAICAI5AYCvs5QbjAjecYXAT9nKL4cC2eCgCAgCAgCgoAbAuIMueFU4GOJM1TgTUAAEAQEAUEg3yIgzlC+VW1mBRNnKLN4CjVBQBAQBASB+CDgOUM4kZ9gIDYgNiA2IDYgNiA2UBBtIOmji/Hx1YSTuCCAgiFBEBAEBAFBQBDIjwigjRNnKD9qNsMyiTOUYUCFnCAgCAgCgkBsEBBnKDaqiDcj4gzFWz/CnSAgCAgCgkDqCIgzlDp2BSqlOEMFSt0irCAgCAgCBQqBQGcIH4DDB+XiHv7yl78ovw/ixZ33vMJfVGcoP+gkbjK4lEeXOHG0ubhhHTeMBJ+4aUT4yW8IWJ0hfAm3efPmtD1AsWLFMr4dxkcffaSwkab+++1vf+thO2fOHLV582bvOuwEm3SOHTs2LJo8TwMB3Rl6++23E3Sn6xEbmCLkB53ERQaX8ugSJw31R04qZTgyZIEJ0rXFqPoIZEYeCgL5EAGrM7RkyRJyhNauXUt7hYVtlRCECzbinDdvXkKUjh07evsw8R5kJUuWpDjo4SlevLh66KGHEtIEXYRtiGnjIYiePEtGQHeGsCEq6808QrcIYTpJziF+d+Iig0t5dInjinC65UXKsCvS7vHSscVU9OHOmcQUBPIHAlZnCLuHY7PLTIQRI0bQRpc6rQ4dOtCmrl9//bXiH/aA4oBdzKMMz4VVFDYeOC85uiGgO0PYbwr7X+F38803qwceeMC75n2ownTilmvuxoqLDC7l0SWOK5qZKC9Shl3RdouXri1G1YcbVxJLEMg/CCQ5Q88++yztMl2iRAk1ZMgQtWDBApL2vffeU8OGDVN48+/Zs6dauXJlAgoHDhxQAwcOpOcjR46kobWZM2eqW265RZUpU4ZoTZgwgdLAGcJu9H5h3LhxCfTPnz+vcK9Tp07UYwS+fvjDH6ovvviCSKCiGD16tMLbcffu3dXgwYPVoUOH6JkfD355y307ArozpMeoX7++6tu3r36LzoN0wpFfeeUV0mePHj3U7NmzAzcj/dGPfqS2bdumFi9enKRj0EMDvmbNGiatPvnkE9pxHjvCIyD91q1b1cKFC1XXrl3JRtBAHD16lOy2W7duatGiRV56nEAG0EUZuOeeeyjNvn37EuIEyYA8N27cSLaLcoMy5BewS/2gQYPIxpHu5MmTFNWvPOp0/OJksszq+fF5kOy5UYaB21tvvaVeeOEFwvGRRx5Re/fuZXbpGMSzn75sdRsT9dMbnoNekM0yDT7ixRA2eP/995ONv/jii/SyiOdh5SlM16Y+UpGV+ZSjIJAfEUhyhmbNmqVuvfVWBWcIzs38+fNp12nMHUIj8uSTTyo4MxgeQeOCgIanbNmy6u6771aomNu3b0+NwPTp01XDhg1V6dKliRbP6+GeIfQG8U8HFwV/zJgxdAtdvHCoQGfq1KmqUaNGlPfDDz+c4AyBv6pVq1I+lSpVUlWqVFFXr15Vfjzo+cl5OAKpOEN+OkFukydPVkWLFlWPPfaY6tevH9lbr169fBmBTaC30qZjJKpYsSLRZAJk2IUKkR3iHtKXL19e1ahRQw0YMIDyq1evnqpQoQLZa5s2bciudCcfaQoXLkxphg4dSvOgYMuHDx+mbMJkQHqUo2rVqqkuXbp4vDCPfJwyZQrlDUcezlf16tWJ11OnTilbeeR0fLTFQQ9dJsss58VHF9mzXYaBN+oh4Ad91apVS5UqVUphjiKCC8+mvvzqNtAL0hueg58gmyWmtD/wjHq1RYsWVI+Bd65jQcuvPIXpmnlhffB1FFk1NuVUEMiXCCQ5Q5By/Pjx5EzoEp87d867xPAIentQGSDs3LmTCvGOHTu8OHxi63JnZ0qfb4JeHQ4o+FxwDx48SLTxxoc+w0YeAAAgAElEQVSACbpIt3r1ao5OlQ56KJhHPEMc5sfGg5dYTpwQSMUZ8tPJxYsXaV7YjBkzvLynTZtGOoMDYAuwCT96iO/iDDVo0EBduHCByMOph41geAkBTjcc6P79+9M1/pAn0ly6dInusYM1adIk5SID0oMvP5lAFL2emCM3fPhwL1/0VhUpUoR6O3HTVh69yN+e2OJweUCUdMusnp+r7Nkuw6wvODAIcIKg43T05Ve3uegtzGZ1TE+fPk2ON3q9ORw/flxdvnyZLsNoBekaBJCe9cHXpm36ycr8yFEQyM8IODtDmCeCFV5z586lHhq8ZY8aNYqwwXAV3n4rV65MPTFcGeGhzRGBM3TbbbcprErin55GL7gY7kKFxkMYu3btomt0P3PQ4+PekSNHKA47TDYeOK0c3RBIxRnSK19dJ9u3byf9YHgMNoRf586d6R47vSZXYTp2cYZ0flatWkX5HTt2zMsKQ7fo/eRg5on7cMjAt4sMSI8h46CAlXiw7927dydEa9asmWrXrh3dszk6CZF9HKZMllk9P1fZGe9slWGbvuDM3nvvvSnry69uc9GbyY9eBnQ8cY5J67ADfahXjxNGK0jXoGOmx7Vpm36y6nzIuSCQXxFwcoYw3ISuW3RB9+7dm+YOoWeInSGAc+bMGXq7xX2sNoLTgmBzROAMBc0Z0gsu3mgxlIHhCjQQoI1l/9euXfN0osfHTbyJo2JBg+fHg5dYTpwQSNcZ0nWCCh/6wfAY3tr5h14a7oUxmQrTMZyhiRMnesnIsI1hMm6cEWndunXEg+4MtW3bNtQZwjAthrNcZDB59pjTTlasWEF8oAdUD61bt1b4IaTiDGW6zOq8RZU9W2XYhjdeutLVl61uc9GbyY9eBnQ8ce5Hj+MF0XLRtZnevOZ8bLLyMzkKAvkZASdniN+CtmzZ4mGB8XjdGeIHGIbAvA7My0CAM4ThBz1EcYbQaMERwhG9UqiI8RakB7Ngm5WOjQc9vZyHI5BJZ4iHOpcvXx6e8bcxwnSM77BgjhsHtllMYEYw07s6Q/o8JnzLB/M4MM/JRQYzT+ZNP+7Zs4ecoWXLlnm30bhh3hsmVCOk4gyx/Jkqsx5z2lB1kP502bNVhpEnFndw+PLLLxU+2YHynwl96XWbi950DMCTWS8xnzi+++67ZAcmprzKNoiWi67N9Oa1zgvOdVnNZ3ItCORHBJycIe4Wxxs8unqxEgFv9uwMrV+/nlYDnThxglZv4C0dcRB4LgjefEAHAc4QJkVv2rTJ+6GbmINeUN955x1yhvBGft9996nvf//7NBTHcz+QRo+Pa7PSsfHAecnRDYFMOkOY8Al91q5dm4YHsKoL87t4/o6NozAdYzUYeg1ff/11tXTpUprTBhtN1xkCDaxOxHyKBx98kOwevZ4uMpg82+TCXCUM5WDS74YNG9T+/ftVnz59KB9euZaKM5TpMqvzHlX2bJVh4K3rC598wDUcjag8s7x+dZuL3kz9m/US54Ejerrh0KNMoF7ExGn0VMImEIJohenalt6khzh+suIZnEwetsW1BEEgvyFgdYYw3IA5QByuX79Oy6dRseDXqlUr1bhxY29CHuZ5YL4QP8cQGA93YBJgzZo16VndunWJJFf2HB9HTBhFdzoCep3Ymfrggw/o7Q4fYXziiScUlsti2AzOFAc9Pu5hMiJoohcJwcYDp5WjGwJ+zhBW+WFlnxnCdAJ6LVu29GwGK8uw4sovhNHDEno0JNA7VvA8//zzdI6GBcFMj0YGceHAc0BljyEVDkiDCdV16tShuOgVeuaZZ/ixCpPBzNNLaJyA96ZNm1Ie4AnlBUu2OZjlke/rRzNOpsusnhfOo8ierTKMBh51E+oZ4IiVf1jdyiEKz5wmqG4L05upf7Ne4jz4iOXx+G4XeMcPKxx5YnQQrTBdg76Z3rxGnCBZmzRpQp9cYV7lKAjkNwRQPxTCnx5QuPQ5OfzsypUr3uoGvBkhHgecnz171nvO93HkZ+zs6M9s58ibacP5wRsTdxcj/k9+8hOqLLBfD4Ien+mZX82OygPTkeP/IWDaCOOCIUvWFd/D0UUniIePa2KegqkvnVYUeljpxPzo9ubCD2waPQgckAZ2x7aD57bgJ4MtT1t6vodhOOwtZgbkD1pBwS9OTpdZF9mzVYa5t4P1petSx86FZz0+0+OVXfoznPvpzab/MDsHvU8//VR99tlnCdm40ArStZnevObM/GRFOffDk9PKURDIywhYnaE4CYTeILwlYZ7Gyy+/TG96N954I33TKE585nde/Jyh/C63yJc+Atkqw+wMpc+xUBAEBIGChkDsnSG83T/99NO0sgYrQzDfCN+I4a9PFzSF5Za84gzlFvJ5P99slWF8JfxnP/tZ3gdMJBAEBIGsIxB7ZyjriEiGVgTEGbLCIjcFAUFAEBAE8gECnjOEE/kJBmIDYgNiA2IDYgNiAwXRBpImUOcDJ09EyDACKBgSBAFBQBAQBASB/IgA2jhxhvKjZjMskzhDGQZUyAkCgoAgIAjEBgFxhmKjingzIs5QvPUj3AkCgoAgIAikjoA4Q6ljV6BSijNUoNQtwgoCgoAgUKAQCHSG8AE4fKBMgiAQ1RnCBzH9PlKYV9CMmwwu5dElTl7BPz/xGTdbyk/YiiyCQCYQsDpD+KIqdobHxw6LFSvmba2RiQyZBj7R/9JLLylsUKlviTBnzhy1efNmjibHmCCgO0Nvv/22wuaQth82xETAV8PHjh0bE+5TYyMuMriUR5c4qaEQLZWUXzte6dqS4GrHVe4KAplCwOoMLVmyhByhtWvX0n41Lp+Q92MIG7DOmzcv4fHo0aOJPnbmxv5B2JX+d7/7HfUkFC9eXGEfMgnxQkB3hrAhKu+fZB47duxIjOeHrwHHRQaX8ugSx9WibGXWJS16AqX82pFKx5YEVzumclcQyCQCVmcIu4djs8tMhBEjRtBGl0wLm6aiAcVGrNj3CXvkoHfo6NGjFAU7mMvQHKMVn6PuDGGfInxVGD9sLIndwfma9y9Kp/KPi9RxkcGlPLrEccXVLLOu6RBPyq8drXRtSXC14yp3BYFMIZDkDGGX59tvv12VKFFCDRkyRC1YsIDywo7Kw4YNU3jz79mzp1q5cmUCDwcOHFADBw6k5yNHjqShtZkzZ9Lu8mXKlCFaEyZMULt27SJnCENktjBu3DiPNpykwYMHe1tvYNwdPK1atcpL+sorr1BPUo8ePdTs2bMTNrS08eQllJNICOjOkJ6wfv36qm/fvvotOkfljx5A9FhgJ3jo8dChQwnxgnSXEFEpcp63bdumFi9ebKWHBnzNmjVesk8++YR2nMfO4ghwvrdu3aoWLlyounbtSvyggYETDrvt1q2bWrRokZceJ5ABdFEGsNUDZNi3b19CnCAZkOfGjRsVbBrlBmXIL2CX+kGDBqlOnToRrydPnqSofuVRp+MXJ1NlVs+Lz/3KVtTyy/RwBF7YOf2FF14gHLDB6969e/UoKhW8/XgFYT/cmZ8gm0tgTCn19ddfkw3df//9ZKMvvvgi3UO8sPIQpisdV+bNZltBspr8yrUgIAj8E4EkZ2jWrFnq1ltvJWcIjcT8+fNpt2LMHUIjgn3BsD8YenfQuCCg4SlbtixtnoqKuX379tQITJ8+XTVs2JCGwkALc0iwp1iFChVUxYoV1auvvupVFsyS/gaFoTMMocG5Qpg8eTLx9dFHH3nXRYsWpU1c+/XrR8969epFz/x4oofyFxmBVJwh2EzVqlXJ2cCQaJUqVdTVq1cpb+jST3c25mAX6K30owd7Ak0OZNiFCpEd4h7Sly9fXtWoUUMNGDCAbKVevXpki7DXNm3akE3rTj7SwP6QZujQoTQPCsO6hw8fpmzCZEB6vFRUq1ZNdenSxeOFeeTjlClTKG84jXC+qlevTryeOnVK2cojp+OjLQ566DJVZjkfPgaVLcg8ZswYihpWfpkeH5EW9QjkB961atVSpUqVUi7lHTRseAfxGoQ70wuyOeabj+AZ9WKLFi3I5sE715Hgza88hOmKeWFc+dq0rSBZmUc5CgKCgB2BJGcI0caPH08Nl57k3Llz3iWGRNDbg8oEYefOnVQJ7Nixw4vDJ7Yud7z9oVFDxQHHa9OmTRydKjS90MMRKlKkiFq6dClVJtOmTaO4Fy9epPkJM2bM8NLiGWiiEQniyUsgJ84IpOIModeI7Wb16tWejYTpzsYUGhM/eojv4gw1aNBAXbhwgcjDqYetYHgJAfMy4Kz179+frvGHPJHm0qVLdI8drEmTJikXGZAefMEe/cL58+fJjocPH+5FQW8VbB49awi28uhF/vbEFoexR5R0y6yeX1DZgswu5Venx+eMNxp1BDhB0FE6ePvx6oI7+AmyOeYbx9OnT5PjjJ5rDpgScPnyZboMoxWkKxAwccW1aVt+sjI/chQEBAF/BJydIcwTwSqvuXPnqqlTp9Kb66hRo4gyenvw9lu5cmWF3iCuzPDQ5gzh/ldffaWee+45hR4DVHgrVqwgWmah//LLL1XNmjUpzi233OINg23fvp3uYXgMfODXuXNnugdnK4gnykj+IiGQijOkN4pHjhwh3cApCtOdjTHTLnR6iO/iDOn8YKgVdnfs2DEvuzvvvJN6P/mGmSfuo3GEzbnIgPTcq8k0zSNW5IGP3bt3Jzxq1qyZateuHd2zOToJkX0cpkyXWc4zqGyZmPmVX6alH820eAZn9N57700Zbz9eXXA3+TFtTucdk86hR32oVn8eRitIV6Bjpse1aVt+sup8yLkgIAjYEXByhjC0ga5fdGH37t2b5g6hZ4idIZA+c+aMwtst7mO1EeYGIfg5Q8wO0mHYrHXr1nTLLPQYh//ud79LFU3btm05GVU6qHwwPIY3R/7hTZ/f5P148ojIiTMC6TpD6B2BvuCEoMEI053JmGkXOj3EhTM0ceJELxkZtjFMpjtD69atIx50Zwj2haFgDmaeuN+oUSOaD+Iigy090+YjXgKAxcGDB/kWHVEeuEyk4gzlZJkFg35ly5TZr/wmCPvthZkWt2+77ba08bbx6oK7yY9pc7oMfvQ4ThAtF12Z6c1rzscmKz+ToyAgCPgj4OQM8VvUli1bPEoYz9edIX6AYQgMgWFeBgKcIQw/cEDlaIY77rhDtWzZkm6bhfz555+n7mdMXkWj8fLLL1M8fM8G18uXLzfJJV2bPCVFkBuhCGTSGYqiO2bMtAuzYcJ3XDAvjQPbLCaZIpjpXZ0hnoMGGviWD+aBPPbYY8pFBjNP5k0/7tmzh+wYiwU4oHFEjykmVCOk4gyx/Jkos8yX7WiWLVNmv/Jro4W0WJzBAb1KJUuWpDokE3jrvLrgbspi2hzzieO7775rrY+wYhYhiJaLrsz05rXOC851Wc1nci0ICALJCDg5QzwkgN4XdBVj1QccEXaG1q9fTyu58PFErP7AWzriIPA8Hrw5gQ7mamBlDVZxoEL68Y9/TLSeeuopiq8XcozDozcKjhCcKDhMGIrDV3Yx6RBv6bVr11boosbKIMxZ4jkgQTwlwyB3whDIpDMUpjsbL7pd4LnZMGE1GHokX3/9dZpfhh5K2Gi6zhBowP4wH+PBBx8kmuj1dJHB5NkmF+YqYSgIk4Y3bNig9u/fr/r06UP58Mq1VJyhTJZZk++gsqXLHFR+TZq4Rlodb3yyAddwNFLF249XF9x1Wf4/e2cC7FVx5X8FxAUJqCxSBSJLgVgmUOiAIAH9K5uiaFBRAXEQkUUCCBEtGRgBiTICagmU4gJBEhgQDFgilYAKcYDRoWJRhaDigopSErWmQsWpSdL/+vR4bvr167v8lvd7v/fe6arf7y7dffqc7znd99xebsOfb3OuDHwiBIec9og5kEycpqcRnYpsbs+kSytNV6H8Pm+kiZOVOJxMGXblWoMioAhURCDoDDHcwBwgCX/961/t8mkaJn49e/Y0F110UTRRkjk6OCkSz9wLGapiEqHM+Wnbtq1t7H/yk59EaXnzw3GisSPQ4ySOFJNZeUM+duyYjeOr1axAYpkpAeZxkKRc4li1Q0jiySbQv5wQiHOGWC14yy23VKLl6pFIHozoSeZUJOmuEjHPLkL0WELPg4gyWAFEjwTnMjnf54eHFPHu1895WLCiSwJ5sMHzzjvPpqVX6OGHH5boRPsjkV9mlNE7gfdu3brZMuCJ+sLLggS/Psp99+inKWaddcvhPKluuTKn1V+fLg942hbaCXBg5R6rUyWk2YxbtuRJ4jUNd5+eb8NShhxZHs93t+CdHysUZWJ0Eq00XUHfz+9fkyZJ1q5du9pPpgivelQEFIGKCNC+nOQ/6KicvOn44ZtvvolWR/BmRToJnB85ciSKl/scJY4VLRL+9Kc/2fQuDeIoV+5RBj83EC+Ok9znI42MlftfypZyZUWHpNdj7gj4NiIUmPgp+pJ7HF09yn1fP9yP053kkWNWeqzyEn5ce8uSH1tzbYs8DHOIHfm2KLzFyRAqU/KEjgzD0evpB8qHVlKIS1PMOuuWL5j4dcuVOWv9FbrS2yG0XV1IGo654i30fF6FZhzuriySNmTDEidHXt6+/vprubTHLLSSdOXn96+lsDhZqadxeEpePSoCdRmBoDNUlwFR2cMIxDlD4dR6VxHIHQFxhnLPqTkUAUVAESgMAXWGCsOvzuRWZ6jOqLraBOUr348++mi1la8FKwKKQN1FQJ2huqv7nCRXZygnuDSxIqAIKAKKQA1CIHKGONGfYqA2oDagNqA2oDagNlAXbaDSBOoa5MwpqyVCgIqhQRFQBBQBRUARqI0I8IxTZ6g2arbIMqkzVGRAlZwioAgoAopA2SCgzlDZqKK8GVFnqLz1o9wpAoqAIqAI5I+AOkP5Y1encqozVKfUrcIqAoqAIlCnEEh0hvgAHB84q22BD5BpyA2BXJ2hP//5z5U+mJlbidWfutxkyFIfs6QpJrKlLq+YvJcjrXKzuXLESHlSBKoCgaAzxBdZL774YvtJ+QYNGkRbaxSbATYTZJPCZcuW2U/Jf/vtt8UuohK99957z8q1ZcuWSnF6Ix4B1xn6/e9/b/WG7vwfG2oS2Kdp8uTJ8QRrQEy5yJClPmZJU0zIS11eMXkvZ1qF2tzChQuNtm3lrGHlrVwRCDpDy5cvtw7D+vXrrZOS5RP0cQKyieqiRYsqRPPJ+Dlz5th9xtjDhz2fOLK/GZsNVmWwAjsbeFZlWbWJtusMsSGq7L/kH9mEl1AbviZcLjJkqY9Z0mS1x1Cd9fMWszyfdl2+LsTm2P7klFNOMTfddFNdhlBlVwTyQiDoDLHzO5tdFiOMHz/ebnTp0nr88cftw3TMmDG214n9n/74xz+aCy64wFbmw4cPu8mLeq7OUH5wus4Qw4zs+8WPjSnZXVyuZf+jQhr1/Dgsfq5ykSFLfcySJitCoTrr5y1meT7tunxdqM19/PHHtXJqQ122CZW9NAhUcobYJfrCCy80DRs2NDgrOC4EdmS+6667DG/+1113nVmzZk0FDvfu3WtGjhxp4ydMmGCdnHnz5plOnTqZM844w9KaNm2anUfSokULu0t3BQLGmP3791snifwSaJhlp3Puffnll3YncXacJqTxxcP5kUceMYMHD7Y80NtFb8bLL79s84f4thH6VwEB1xlyI9q3b29uvvlm95Y9p1GfNGmSoQeBneBHjx5t9esmXLlypX2LHTJkiFmwYEHiZqQ///nPzWuvvWaHVEP00uyE/Fu3bjVPPvmkGTRokOWHB8ehQ4es3WIfS5cuddmzvVvQpQ6wVQQy7N69u0KaJBkoEzubMmWKrRfYalxgl/pRo0aZ/v37G/LJC0FcfXTpxKVJqxsh2w/VWbcszuPKIy5ODuKy6CgLXuDDDu1PPPGExev22283b731VgU289FLCA8hmiQX/CTZptCQ49/+9jdra9dff72tG0899ZThHiGt3qTpFFtz2+Y4G0ySVfjUoyJQlxCo5AzNnz/fdO7c2TpDODeLFy+2ux0zd4iHyIMPPmguv/xy61DwcCHgoDRq1MhceeWVtqHs16+ffQgwFNaxY0dz+umn2wcOc0jef/99m/ff/u3fgjhT9k9/+tMormnTpmbGjBnRtWX4B2cGRyeJLzLdcccdtrwbbrjB9OrVy56LMxTHd1SYnkQI5OMMoZvmzZtb3Z911lmmWbNm5sSJE5YmOq1fv765++67zfDhw629DR06NCrPP+EhQW9lHL0kO4EW+Rs3bmzOPfdcM2LECFteu3btTJMmTQz22rt3b2sb7oOEPCeffLLNM3bsWDsPCltm3hkhTQby81KB8z9w4MDIAfdlmzlzpi0bJw+HoWXLlpbXjz76yITqo58/lCatbsTZfqjOZimPNElyEJ9FR1nwAlfaG3BCL61bt7ZD7QcOHLCs5qOXODyyyAU/SbZpmXL+4Jk26JJLLrF1g2kC0pZCK67epOmUIsh/zz33RKVx7WOaJGuUUU8UgTqGQCVnCPmnTp1qH1wuFp999ll0yZAIvT00foQdO3bYyr19+/YojZzQuJ933nlyabZt22bTur09UaQx1tFq27ZtdCutAU3iiwnaPHDdnqbp06fb8nkDTeI7YkBPLAL5OEP0Gol+1q1bF9nI0aNH7XDo3LlzI3Rnz55t43EAQoFGPY4e6dPshPwdOnQw2AQBp54HEsM9BOZb4Kzddttt9po/yfPVV1/Ze+KIY0NZZCA/fMXJBNHPP//cYjFu3LioXHqr6tWrZ3vWuBmqj1HiH05CaQR7khRSZ/2yuPbLyyJHFh2l4UXZohce6gScIHRZiF7i2oIscsFPkm1aJn/4++STT6yDTa+7hA8++MAcP37cXqbRStIpBMjvO0M+pnGyCj96VATqIgKZnSHmibBK4bHHHjOzZs2yb64TJ060mLEKjLdfJkDzZimNFJG+M4TDRMP14osvBvHmDZ2GRUJaA5rEl5TlOmnyQMMZSuJbytfj/yGQjzPkNsoHDx60escpEoeY4TFsiN+AAQNsPMMfoeA38i490qfZiZ9/7dq1tjx6KiVceumltvdTrv083Mc24TuLDOR3HXGh6x5ZjUd92Llzp3vbdO/e3fTt29fe8x2PCgl/uAilSaobSbbv19ks5WWRI4uO0vCCl5BecHSvueaavPUSh0cWuXx+fNt08WNyOvqOexlMo5Wk0xA2IRuMk9XlU88VgbqGQCZniKENunTpmma4iblD9AyJMwRon376qeHtlvusNnrjjTcsln7D+uGHH9rG4F/+5V8qYU1FP+ecc+z8DImkAb333nvl0m4mS2OCM5PG18aNG21Ze/bsCebnZhzfUQY9sQgU6gzRO4LecEJ4EHDO8Bhv8/Kjl0Z6YXzY/YeES4+0SXZCvJ9/w4YNlgfXGerTp0+qM9SlSxc7zyOLDH6Zvkxcr1692vKxb9++CtEM6fIjhBydCokDadLqBvnjbN+vs35ZIZ6yyJGrjkLlci+EK4svGGYsRC8hPLLI5fPj26YrRxw9SZNEK4tO/fz+tZQTklXi9KgI1EUEMjlD8nb06quvRhgxTu86QxLBMATzOpiXQaBhZfhBAuPebdq0MQyF+R90fPrpp+2DQSZtk4fvbjB3SYLwgjMk53F84QTx0F2xYoVkN/JmRn43+Hy7cXpurBMawoGekrgJ1G7PkPuA4FtE6GXVqlUhksF7fqPu0iNDkp0Q7+fP6gy585j4tg7zO5jnlEUGv8yQYLt27bJYPPvss1E0Dz3mWDGhmpCPM5RWN6LCjLFDh0l11k0r5z5PWeTIVUdSln8EVxZxSPjuu+/MqaeeatuaYujFbQuyyOXr2bdN4ZPjm2++GbR9VtQSkmhl0amf3792eeHcldWP02tFoC4hkMkZkiEB3uDpAmaFAg8zcYb4NhCrgej1YVUHb4CkIchcEN6IoEN45plnbH4+7PjCCy/Y4Td6BZjfg+PEV1glsMqHnqZNmzZZp4aeJ8rGmUnjC8eLxgDni+EXhuaYMCv5k/iW8vX4fwgUs2cIvdDDgl5wTlnVxVCmzN8JYe436v4DJ8lOoOfnz+oMYSusImOexY033mhth17PLDL4ZYbkYq4SQzxMBqYnEwd+2LBhthxZueY7HiE6fpq0upFk+6E665fpl5dFjlx15Jcp1+Dq6oVPO3CNo5GvXuLwyCKXr2ffNoVvjt9//7113LH9zZs324nT9Eiie0ISrTSdhvL79EgTJytxOJkyPMu1BkWgriAQdIYYlmIOkAQ+ksjbPw0Ov549e5qLLroomqiHo8F8IYln7oUMdzA5sFWrVjbOnRiNc8Q3alitQz7euP/pn/7JnvM2jmNFYAk9DQdpWLGxZMkSe05DksYX+WkgpXycNHqdKJP8SXyL7Hr8PwTinCFWC95yyy2VYKLnUBxiIpk4ig5lrgT0evToYe9xH0eYFVdxIY1ekp1A088vQ6hiZ6ThIcBQiwTyMKGaBQBiow8//LBE296yJBn8MqOM3gm8d+vWLcICe2UptwS/Psp99+inSasbSbYfV2eTyiMuTY5cdeSW557zgKcNoj1BL6zwY7m/hDTbCuklCY80uXx6vq0LX3JkeTxtH7zzY56kTIxOopWmU+j7+f1r0iTJ2rVrV/tpFeFVj4pAXUEg6AxR6XiD8cM333wTrXrgjYl0Ejg/cuRIFC/3OUocK1r8wFAZKzaEFt96YQk0D0d3IjardySNTyeJLymP/PItDze/8CarOSS9HisiEOcMMc9L9OLmwH78+6EvmaN/5i+E4vKhF2cnWfjBpulZkEAehi/ERogPhTgZQmWG8ss9huHY68sPlA+tpBCXJqluiFwh25c4t6645ceVR5o4OSR/LjqSPO5RejuER1dnbrpc9SL0QnhAN06ukJ7T7Bl6x44dM19//bXLstUzfLjBp5WkU58X/1roxslKfY7DU/LqURGojQgEnaHqFpTGCKfIHS6rbp7qenFVIRsAACAASURBVPlxzlBdx0XlLz0C4gyVvmQtURFQBGorAmXpDNVWsGuyXOoM1WTt1S7e+Rr4o48+WruEUmkUAUWgWhFQZ6ha4a85haszVHN0pZwqAoqAIqAI5IZA5Axxoj/FQG1AbUBtQG1AbUBtoC7awEkIrUERSEJAbSQJHY1TBBQBRUARqMkI8IxTZ6gma7BEvKszVCKgtRhFQBFQBBSBkiOgzlDJIa+ZBaozVDP1plwrAoqAIqAIpCOgzlA6RprCxG/HoeAoAoqAIqAIKAI1HYGycYb42JeG8kWgtvcM8bFDPtJXToHvbMV96LGc+CyElyz1vhx1U4jM1Z23VHaVtRzVb3VbhJYPAmXhDL333nv2s/RbtmxRrZQpAnHOENuuoDf2m9u5c2f0le8yFaMSW3xVmD3y2BahQYMG0TYylRJWww02Np08eXI1lFyaItPqfTnrpjQIVU0phdrVwoULbZ1P484vx8+n+k1DUONLiUBZOEOWiR82Xy2l8FpWdgR8Z4htKvjwHQ4EjkS9evXskT3rStXDwiavixYtyi5EIOXy5cst3+vXr7d7NvlbHwSylOxWbf/Sclq9L2fdlMwIqqCgQuyKnspTTjnF3HTTTamcueWE8oX0W4w6ncqYJlAEAgioMxQARW9VRsB3hp577jnrRLBjOJtMsp8Ru7lfdtll0aaTlakU98748ePtJqqFUL3vvvvsBsCF0KiqvO7DpKrKqE66ac5QOeumOnErtOxC7erjjz/O9MLjl+PnC+m3GHW6UHw0f91EIOgM8WDjrX/w4MF2R/I//vGPZuTIkYYjAYOV3ce5ZkNVdvdmd2cCuzLfdddd5oorrjDXXXedWbNmjb0vf9B/5JFHLP0xY8YY3srpXXj55ZcliR7LDAHXGWKTR7rA27Vrl7qpI7uvjxo1yvTv39/uYn/48OFIsjQ7Ytf71157zSxbtszuJj969Gizf/9+m3/evHmmU6dO5owzzjDY0LRp0yK6/kkcD+x0fuGFF5qGDRtaGo8//rif1V7DB7Y5ZcoUa9PYt4SVK1fat+QhQ4aYBQsWVNhQlQ2IyYPsvEnD55133mm+/fZbmz1Nfv9hklavkvgUfjnu3bvX1mfq54QJE6KhQfKzo/kTTzxheb799tvNW2+95WY1SfKSMCk+l3qfpJs4fVJ+GqZZMSoUi7hy4rCH9yS5oBdXFyoo6IcLNqVmf8frr7/e1p2nnnoqGsLGriZNmmTombn66quNW6/InmZn2LTbpsfJ6tuvmy+k37g6nYRZSHa9pwjkg0DQGbrjjjusc3LDDTeYXr16mdNOO62Cs9K0aVMzY8aMqDz3DY8Gj6GTQYMGmQcffNBcfvnlNu/WrVuj9D59HCF1hiJ4yvLEdYZwaNDX7NmzE3mdOXOmTUeDy0OqZcuWpnHjxuajjz6y+ZLsiAQ0pj/60Y9M8+bN7cP7rLPOMs2aNTMnTpwwc+bMMR07djSnn366jYubW5PEw/z5803nzp2tM4Szv3jx4qA88IHD1KJFCzNw4MDIaacO1K9f39x9991m+PDhNs3QoUMtDYYFcNbgcdasWaZLly4Wi1tuuSVyhrLIf88991h6WepVHJ+uULy4NGrUyFx55ZWGB1K/fv0iechPHHoaO3asad26ta37Bw4csCSS5CVBWnwu9T5ON0n6hIcsmIZ06WLEeaFYhHSRhH2aXNCLqws+71yjP+roJZdcYusHbbi0wdCijQ7Vq6x2JnYpWIUwpRw/nVyH9Buq00mYheTWe4pAvghUcoa++OIL28Dzxihh+vTptmJJz01ag8OwiYS//OUv9u2dyk7IQl/y6rF8EHCdId5QaWhXrVoVyyC9IswtGDduXJTm0KFDdm4Rb6WENDuiMW3fvn007LZu3Tpb7vbt221+HKzzzjsvou+fZOFh6tSp1sHy87rX8AGv4sQRd/ToUSvf3Llzo6Q4h+BCun379tlzeloIb7/9tr1GBglZ5JeHB3mS6hXxIT6lLDnu2LGjAoZyX/J36NDB9vRyjROEPNT/NHnT4vOp975usugzC6a+Ll0M5Bws88VCsPTLicM+i1xpdUH45vjJJ5+Yk08+2fZEyv0PPvjAHD9+3F6m0cpiZ65dxtkd9/107rWvX5jz63QcZiKXHhWBYiFQyRniQUMDKA8cCrKJnGGstAaH5bKsMHrsscfsWzG9ARMnTrQ8Z6FfLOGUTvEQcJ2hbdu2WRt59tlnYwt45ZVXbBpWmLmhe/fupm/fvvZWmh35jenBgwctTXEo/IbTLYfzLDyEGmSfDny4LwfECwYMj2Hb/AYMGGD5wwFiOI96xFAFgflUXONISshV/qR6Bc0Qn1KWHBmio4fr7LPPtr1rvHlL8PHmPg7BNddckypvGh751HtfN1n0mQVTX5civ3ssBAvohHQRh30WuXx+/Lrg8s4kZGzNncrgxqfRymJnrlMTklUw8NO5175+yePX6TjMXHn0XBEoBgKVnKGNGzfairRnz56IfsgZuvfee4PxDGHQNUt3O8NszB1iXoc4Q1noR4T1pGwQcJ2hDz/80NqIawM+o6tXr7Zp6CFxA8Ou/Ag8uFwavp35jTY9LjTya9eutfn9htMth/MsPIQaZJ+OzwfxPGjgheExek7kx6RQPjdAj2iTJk3sGzoO4JlnnmmX8H///fcR+VzkT6tXEA3xGRXmnHz66ae2x456CV84anH5L7jgAjuvJE3etPh86r2vmyz6zAVTB5JKpyEss2IRhyX3Q9hnkcvnx68LrgBx9CRNEq187MynF1eOn87XL/lCdTqEmZShR0WgWAhUcoZwgmjkV6xYEZUhbxoyTMbkWeZYSJA3G+Ll/NVXX5VoO/dAnKEs9KOMelI2CLjOEBOomTzNHB7pehdGjx07Zniz3LVrl7Ujt/eIhpY8TKgmJNkR8X7j6T8AaDiZQxQXsvAQapB9ej4fxMuwV9xQ4YYNG6wjxJEeUpwFcHFDLvKn1Svohvh0y/PPGbpi3siIESNsFPlZ8CDhu+++M6eeeqp9QKXJmxafT733dZNFn7lgKnKGjoVgAb00XbjYZ5HLp+fXBVeGN99809Y93zb5HEaIN5dWPnbm8ya8+Pf9a1+/5Euq0y5mUoYeFYFiIVDJGWICHUbLXAy6+1988UU7cQ8HSZwhVpnxRrlp0ybrNPGGKfHSXc6bMl25rDQgTpwhod+mTZuIPm/Qkr9Ygimd4iLgOkNQpncGneEUsdoL26BXhB5B0jKBmCEWJuPSK8DDcNiwYTbP7t27LXNJdkQCv/F0G23iZY4Ob8LYnR+y8BBqkH06Ph/EY8dMisaOeVlg2TBDQWBAeP31160zRJprr73W3HrrrXZYigZdQi7yp9UraIb4lLLk+NJLL9lVb/TusVKMnhTqqORHp6wuYq4Gn03gmodrmrxZ4uEvl3rv6yaLPnPBVDAJHeE1XywES3dIiHtx2GeRy9etXxdcGeh9xCkE682bN9uJ03369LH1MMSbSysfO/N5E178+/61r1/y+XU6DjPS4rjLkLuUqUdFIF8EKjlDEKLxO/fcc21jgKPDJFgaBnGGWEJPReMeKxyWLFliz6l49BrcfPPN9pr4nj17Gj7E5zYM0G/VqpVNQ2PMkmYm/JFfQ3ki4DtDcIkzzIopdIeu6WVgBSE2QMBOunXrFtkCOmf5sIQkOyINq5nkQc01E0Mph14WApNCxY7atm1r7/l/aTwwTMccmqTg8yFpwaRHjx6RfKwsY7UZ4Z133rG9Kiypv//++w3L1HH6wUtCLvJnqVdxfEp5HHnBYb4QOPK79NJLo6X1PKyor2BJHCv1WHEmIUle0qTF51rvQ7pJ02cumIpcoWOhWIR0kYR9mlw+Pb8u+DKwPP7888+P9Ny7d+9oAn4SrXzszKcnvPj3/euQfv06nYRZ165d7acxpDw9KgKFIED7dRJ/ocAqB4Y2bCLHGZK0rCCRBx9zJNzwzTffREMovPlIOjcN+fkeBsHP76bT8+pHIM5G4IwvTn/99ddGuuF9bvnsPvsPxYU4O+IN17cb/wvRxB85ciTVfuJ4IL87jyfEY4gPNx3yM6/B5Q3nh7dzF5MHHnjAPpzYs8kNucifVK/S+JQyBTN/iFPe3CWe3p5QCMnrpkuLz1rvk3QTp0/hIxdMJY97LBSLOF0Itj72UnacXCF6rr1Jfv/IsDV10w1ZaOViZyF6lOff96/j9CsYyTNBrn3MGHaOs1FXXj1XBLIgkOgMCYE4Z0ji9Vj7EUhyhmq/9LlLSG8QvSt8g+j555+3PSznnHOO/b5P7tRKk0McgNKUVt6lKBblrR/lThEoNgKZnCHmQ/ClXn+ZdLGZUXrli4A6Q7nphrfahx56yK6cYxUSHx9lCFG+Pp0btdKkvuqqq+yX50tTWnmXoliUt36UO0Wg2AhkcoaKXajSq3kIqDNU83SmHCsCioAioAhkQyByhjjRn2KgNqA2oDagNqA2oDZQF20gdgJ1Nn9KU9UFBKgYGhQBRUARUAQUgdqIAM84dYZqo2aLLJM6Q0UGVMkpAoqAIqAIlA0C6gyVjSrKmxF1hspbP8qdIqAIKAKKQP4IqDOUP3Z1Kqc6Q3VK3SqsIqAIKAJ1CoGSO0N8cI6PMGqoWQjUdmeIj0LyscByCnWhrvj7taXhXxcwScOgquNLhXHWcsqxbla1DpR+6REo2BlauHCh2bJlS2bO+Srv5MmTM6fXhOWBQJwzxA7t6P+ZZ56x36GSL4qXB9fpXPDF34svvth+ILFBgwbR1hTpOas+RW2vK++9957FXduPqrelXEoo1O6yPhP8cvx85Vw3c8FT09YMBILOEBtPLlq0KFUCenhOOeUUw/5LWYN+2TUrUuWVzneG2Gbi0UcfNTgQfGm5Xr169sg+dKXqYclqp0lILl++3PK9fv16u29Xli0OkugVM6621xXb+AS2+REMQ/qt7ZiI7NV5LATjXJ4JbjmhfKG6GbKJ6sRKy649CASdofHjx9td67OIydepc3n4uRUgC31NUx4I+M7Qc889Z50Idjb/7LPP7B5Bb7zxhrnsssuiDSGrmvNc7DSOF3aZZ7Phcgy1va6kOUMh/dZ2TMrBDgvFOOszwS/HzxeqmyGbKAfMlIeaj0AlZ2jevHl2Z212qx8zZoyZNm2alZLdw9m1fsqUKeaKK64w7IpM4HrNmjUREqRjp+EnnnjC9O/f3+7W/dZbb0XxfgUgYuXKlbZ3aciQIWbBggWpG2dGxPSkZAi4zhAbJ9LF3a5du9SNEtmlftSoUdYWsI3Dhw9HPNOwyQ703Pzyyy/NbbfdZne755r0r732mlm2bJm5+uqrzejRo83+/ftt/jg7jYg7J3E8sCM728w0bNjQ2vrjjz/u5PrHaZztkyLJdtnomPpBPaD3lPp05513RltypMnv1xXq3F133WXr33XXXVeh3sFLEp//kMaYvXv3mpEjR1o6EyZMiIYGyZ9Ud9PkTYtnU81HHnnEDB482GJBbxy9irQrfojTL5hMmjTJ0Gvg2wQ0kjBI0lUa7z5/hWIVx2ecbig/zo5F7ri64vPONcPZS5cuNddff73F8amnnoo2zU7DOM0OQ8+E0LPDt283X6huxtlEEmYh2fWeIhBCoJIzNGfOHNOxY0dz+umn2wZT5vdguDw0WrRoYQYOHBg1YL5Bc92oUSPTsmVLM3bsWNO6dWtz2mmnmQMHDtjy/fQzZsww9evXtxtaDh8+3JYxdOjQEK96rxoRcJ0hHBoeYrNnz07kaObMmTYdDy0e/NhE48aNzUcffWTzNW3a1KB/CdYYnYcjtkKvTfPmza0tnnXWWaZZs2bmxIkTJs5OhZYck3iYP3++6dy5s7U5nIPFixdLtgpH+AjZfpLt0u3fqVMnW5dmzZplunTpYrG45ZZbImcoi/z33HOP5QVHgiHJQYMG2T3O2OsMHWzdujXiNY7PKMEPDif188orr7Sbx/br169CXU6qu0nyUkZa/B133GF5vuGGG+yebfAf5wzF6RcZwSFkE/AQh0Eab2nxLoZSTiFYhfjkZSBON0l2LPzE1RWfd65pm8H+kksusXWLNlpsKQnjrHYodiu8heoP5fjp5DpUN0M2kYRZSG69pwjEIVDJGSJhqCsSw6XxlgeZEAwZdIcOHexbPmlwgqh006dPt1nc9EePHrVzjubOnSvk7AOW9H45UQI9qRYEXGeIN1B0tGrVqlhe6BVhPtm4ceOiNIcOHbJzi3izJ2RxBtq3bx8Nu61bt86Wu337dps/ZKdRYcaYLDxMnTrVOlhuPv88ZPtptrtv3z7LKz0thLffftteI4OELPLLw4E8DEdKYCNYem95SEoI8SlxctyxY0cFDOU+R/LH1d00edPiv/jiC/vSQ0+UBNoE7CjUM0SakH7hMckmQhik8ZYWL/y6x0Kwgk6IzzjdZLHjNFxc3j/55BNz8skn2945uf/BBx+Y48eP28s0Wlns0LXbkKyCgZ/OvQ7VTd8m4jATufSoCGRFICdnyG3IpAAM3TVg/5p0NLDXXHONzeLGb9u2zTaGDI9NnDjR/gYMGGDvyUNEytFj9SLgOkOit2effTaWqVdeecXqcefOnRXSdO/e3fTt29fey9UZOHjwoKUpDoXfMFYoyBiThYdQg+vTwWZ92xcM4myX4Twe9AxFEJhPxTWOpIRc5WcZOiuvHnvsMUNvE71s1BsJIT4lTo7ffvut7d09++yzbe8ab9YS3Lop96TupsmbFo8Di/ziyELfNj55OENue+PbRAiDNN7S4gUL91gIVtAJ8Rmnmyx27PPj4+LyziRkdOEOUbvxabSy2KGro5CsgoGfzr0O1U2/zsdh5sqj54pAFgRycoZcQxXifsXxr0l3wQUX2HFpzt14KiOVkuEx3hLlx8Q5lmxrKB8EXGfoww8/tHq79957YxlcvXq1TUMPiRt69eplh0i4hzPg0vAfjq6tkJ7eQuxl7dq1lqTfMLrlcJ6Fh1CD69Px+SA+zXbpuWnSpIl9A8cBPPPMM+0S/u+//z4in4v8DA0ypMEwCsNMzB2iZ8h3hkJ1NCrwh5NPP/3U9tiRH75w1AghOaXupsmbFr9x40aruz179kTs+PqOIn44CenX59G3CT8eUmm8pcX7fHEdKicrVnH5uR/STRY79vnxcXFliKMnaZJo5WOHPr24cvx0oboZsokQZlKGHhWBrAjEOkPMzXCDb6gS59/nmsmdEr777jtz6qmn2i5v7rnpZeggabhF6OixehFwnSEmUDN5mjk80rUu3B07dszw5rhr1y778HN7j2hIycOEagKTsJmrI0HegGXYxLUV0vgNPA2jb6dCi2MWHkINrkuDc58P7qXZ7oYNG6wjxJGeHB64/gcGc5FfsHn11Vcj9piPl48zJAQYumLuzYgRI+ytpLqbJm9aPE4QjuyKFSukeCM9FKLvKOKHk5B+fV34NuHHQyqNt7R4ny+uC8FK8ic5rq5ustixL7ePiyvDm2++aXXht7t8LiPEm0srHzv0eRNe/Pv+dahuhmxC6LmYyT09KgJZEQg6Q0yMpeHiDYIuZIJvqFKAf59r8rLyh/Fcll5zTQX06TAZj4mlbdq0sQ0jSyvpRqdnSEN5IeA6Q3BG7wx6xSlitRcPNPRGzwVpmUDMEAuTpukV4GE4bNgwm2f37t1WOFYV0TOxadMm+5CkpwKa8nD0bcttlCEQslMXtSw8hBpclwbnPh/cS7Pd119/3TpD2Pe1115rbr31VjssRYMtIRf5ZSiH3lOGQFiNBFa5OkMvvfSSXbFJ7x6rPOmdghYhqe6myZslHvrUdYbAX3zxRdtz5upbcJFjSL++Lnyb8OOhlYW3XNuhQrASrH1nKE43WezYl9vHRTDlSO8kjji62Lx5s5043adPH1tPQ7y5tPKxQ5834cW/71+H6qZvE3GYUQYv5TIkL2XqURGIQyDoDDGZrlWrVraxbdu2rc3LW6g0mi4x/z4G3bNnT0M+GjpWpbFMUoKfHgZ69Ohh05KelWWsVtNQXgj4zhDc4cSwYorJmOiOXoYHH3zQ0HNEePfdd023bt0i3WJTLA+WQDwNMnlZCbNkyRJ7TgNN8G2FiZ+kpZeFELJTG+H8pfHAMB0rJJOCz4ekTbLdd955x/aIsqT+/vvvt5+YYNgMvCTkIj+Y3nzzzRGW1DE+cOk+UOP4lPI44ogwXwgc+V166aXRkHRa3U2SF9pp8bwQSbuCE8anDLAd0bfLJ+ch/foy+jbhxwvNNN7S4oWOHAvFKsRnkm7S7Nin5+MifMuR5fHnn39+ZAe9e/eOJugn0crHDn16woN/378O1U3fJpIw69q1q/10hpSnR0UgCQHagJP48wNGf+TIEcPcBwJvE/KQc9P698W7l/y8lbnBTy9xfLiRsd9y+gKw8KbH/3vQxeGA7r7++msj3ex+Oj6rz/5CcYHVPGJbYm+kDdmKbx9iZ26+UDlxPJCfcpJCiA83fch2b7/9dvv27WLywAMP2IcPezK5IRf5v/nmm2hokh4DwQ16aXxKmYKZP8SZVnclf0heieOYFo+8sm1Lmt6EV0kXktG1iVB8Lryl8S60CsUqjk+R19eNlBtnxyF6Li6S3z8yrE3ddUMWWrnYYYge5fn3/Wuw4J4fBCOxCbn2MWNY2n/++LT0WhEQBGKdIUmQ61EaiVzzafryRiDkMJc3x9XLHb1B9Lzcfffd5vnnn7e9o+ecc479vk/1chZfutbdeGz8GMXKR0SvFYGajUDRnaGrrrrK7llVs2FR7n0E1BnyEUm+5q31oYcesivnWGXERxIZQmQpcLkGrbvZNaNYZcdKUyoCNQGBojtDNUFo5TF3BNQZyh0zzaEIKAKKgCJQMxCInCFO9KcYqA2oDagNqA2oDagN1EUbCE6grhm+nHJZKgSoGBoUAUVAEVAEFIHaiADPOHWGaqNmiyyTOkNFBlTJKQKKgCKgCJQNAuoMlY0qypsRdYbKWz/KnSKgCCgCikD+CKgzlD92dSqnOkN1St0qrCKgCCgCdQqBzM6Qv69SISjx0Tk+GBcX0uLj8un9qkOgtjtDfBSSD+6VU6gL9aCY7Uo56a7ceCmVLWUtpxzrW7npTPkpLQKZnKH33nvPfkBuy5YtReGOfXEmT54cSystPjajRlQZAnHO0FdffWWwi2eeecbs3Lkz+rJwlTFSZMJ80ffiiy+29t2gQYNoa4oiF5MXudpeD4rdruQFch3JVKgtLVy40NbzNLj8cvx85Vzf0mTT+NqNQCZnyCZyNtAsFJK0r7emxRdavubPHQHfGWKbiUcffdTgQPCl5Xr16tkj+2WVqoeFXc8XLVqUuzBOjuXLl1u+169fb/ftyrKFgZO9Sk9rez1Ia1eKod8qVVANIl6ILdGLf8oppxj22UsLbjmhfKH6pnpOQ1XjS4GAOkOlQLkWlOE7Q88995x1In72s5/ZDR7ZA+iNN94wl112WbThY1WLPX78eHPeeecVVMx9991nN4ktiEgVZXYfLFVURLWSTXOGiqHfahWwjAov1JY+/vjjTC85fjl+vlB9Uz2XkaHUYVaCzhAPtkceecQMHjzYjBkzxvDWzNv/yy+/HEHF7uOjRo0y/fv3t7vZHz58OIrDuGVncW5++eWX5rbbbrO7mHNNhSENu1bzWfvRo0eb3bt3R/n9CkXEypUr7ZvJkCFDzIIFC4Ib+EUE9KToCLjOEBsj0h3erl271I0QC7GTn//85+a1114zy5YtM1dffbW1k/3791vZ5s2bZ3eAP+OMM6yNTps2LVbmOB5++ctf2l2tGzZsaGlgj6EAH9j+lClTzBVXXGHY8VtCkl1+/vnnNg91hLdq6tKdd94ZbcmRpZ64u9JT7l133WV5uO6668yaNWuEDXtM4tNNuHfvXjNy5EhLZ8KECdHQIPnZBfyJJ56w9ZrNZt966y03a2o9TMIjS7sihYX0+9RTT5mpU6dKEsP8FNogd/h+165dtq1hOIYQp/uIiHNSqPxx+MfhncYf9OLs32E7OmXz26VLl5rrr7/e1hfwkg1xaVMnTZpk6Jnx6xIE0mwL23ftLU5Wv+1284XqW0jP8JOEWSSwnigCRUQg6Azdcccd1vm54YYb7N5KOEKuMzRz5kx7TaWiQW/ZsqVp3Lix+eijjyxrTZs2NTNmzIjY9N8AqTAnn3yyOffcc83YsWPtg/X00083zCEg+BUKWvXr17ebXg4fPtzw8Bo6dGhEX0+qHgHXGcLxxR5mz56dWHAx7ORHP/qRad68uX14n3XWWaZZs2bmxIkTZs6cOaZjx44Gu+HBHjcHLYmH+fPnm86dO1t7gsbixYuD8mCP2FyLFi3MwIEDo5eCJLtkiKBTp06Wx1mzZpkuXbpYzG655ZbIGcpST8QZwpFgSHLQoEF2jzP2OkMHW7dujXiO4zNK8MOLSaNGjeyGsTyc+vXrF8lDfuKoz9TL1q1bm9NOO80cOHDAkkiSlwRp8WntistnSL/oC5k/+eQTm/TVV1+112Ai4Z//+Z+tveAEJOle0rvHQuUP4c+LYBzeafxBL87+Xb7lHJ2BzyWXXGLrBLoT+4AW9hOqS1ltS2yR8kKyyn0/nVyH6ltIz0mYiax6VASKjUAlZ+iLL76wjgdvjBKmT59uKxlvx7ztMn48btw4iTaHDh2yc0Z48yBkaeQ7dOgQvZGKs0Q5BCqaVKCjR4/a8ubOnWvj+OMhTKUX5yuK0JMqQ8B1hnhbBf9Vq1bFllcsO2nfvn007LZu3Tpb7vbt2225OOJJw2RZeKCnAQcrKWCP2LRrb2l2uW/fPssrPS2Et99+214jg4Qs9UTqAXk+++wzyWrYCJZeMR6oEkJ8Spwcd+zYUQFDuc+R/NRLHkYEnCD0TL1MkzctPq1dcfmQc1+/9ArCD70fBHoDueahj4PMPDZesOiBy6J7KUeOhcgPjRD+cXhn4Q96SfYvfHPEQeQFE9klfPDBB+b4AXnCDgAAIABJREFU8eP2Mo1WFttybTEkKwVx30/nXofqm6/nOMxELj0qAlWBQCVniAcNDYw8cChUnBWcoVdeecXGs3LIDd27dzd9+/a1t3Jt5MlEpWcIjOBWqG3bttnyiJs4caL9DRgwwN6TB43NpH9VioDrDIlOnn322dgyq8JODh48aPUuDoXfiPrMZOEh1Dj7dLBH9+WAeMEgzi79BzfzqahXOJIScq0nLENnSOixxx4z9DbRG0udkBDiU+Lk+O2339oerrPPPtv2ronjQ7xb7yQ9ztE111yTKm8aHmntipTnHkP6pZ2gR5rAZH16iMEVXf/Xf/2XPf/tb3+bqZ1yy+K8EPklv28ncXhnsU2fH9/+Xf6ZhAwO7vQENz6NVhbbcp0a6PmyCgZ+Ovc6VN98Pcdh5sqj54pAsRGo5Axt3LjRVqo9e/ZEZbnO0OrVq208b75u6NWrlx1S4x6N/L333htFu/m56VdM7jGMII2cG0/lppIzPMYbqvyYiMeybg2lQcB1hj788EOrE1fHPhdVYSf0zGALa9eutcX5jWg+PIQaZ5+Oa48Sl2aX9Nw0adLEvq3zonDmmWfaJfzff/+9kMipntDzwfAHQy4MXzN3iJ4h3xlyHzxRQd7Jp59+ant2yQ9fOGqEkJwXXHCBrZdp8qbFp7UrHov2MqRfeoMYGpWh2tdff932DoID80+QiRWBWezPL7MQ+ePw434I7yz8+fz49u/yH0dP0iTRyse2fHpx5fjpQvUtpOcQZlKGHhWBqkCgkjOEE8QDZ8WKFVF58tZBzxATFIl3ewWoTMznYDIjgcm1zMGQIG9B5CdQQdw5P0x2pKv77rvvjuKlUZfhhaQhGSlHj1WHgOsMMYGaydPoXLrhpeRjx44Z3jKLZSdiB9D3HwY0oklDXFl4CDXOIosc/Qad+2l2uWHDBusIcaQnB2fB/8Bglnoi8ksdYp6MBOb05OMMSX6GrphDMmLECHsLOZmYLeG7774zp556qp0XmCZvWnxauyJluseQfnF+aH+Ye4VjCKakO//88+3LGJOHCVl075bFeSHyS37Rl0+baxfvLPz5dufbv1vGm2++aXHx20mGDglJtPKxLZ+e8OLf969D9S2kZ6HnYib39KgIVAUClZwhJtNhwG3atLErS1588UX7hksDhDPDxFC6zplkydsejdywYcNsRZQVYaxC441z06ZN1qnibU3yIwT0uWYVGePDN954o70OvaHCD71G8INTxlJNutzpGdJQOgRcZ4hS6Z1BhzhFrPbCNtAJDyjSFstO3IeL/zCQuWO8FTNM44csPIQaZ5+O36ATn2aXPLSZw4HtXnvttebWW2+1w1I07hKy1BORX4ah6BlluITVPOCfqzP00ksv2dWY9O6xUoxeXGgR/HrJZxMogwdtmrxZ4pPaFcHEPYb0SzkM8cEX+BE2b95sr7n3wgsv2HtZdO+WxXkh8kt+0ZfQjsM7C3++3fn2L2VwpMcR55p2EjyYON2nTx/bRod4c2nlY1s+b8KLf9+/DtU3X89xmFEGzrpMx5Ay9agIFAOBSs4QRGn8WrVqZRsYGkuWHNOwU8kI7777runWrVvUAJGWJawSiKdS0jixGmLJkiX2XPLzRstSeya/koZeoYcffliy21Us0kBzEyZ79OgRlcfKMlb1aCgdAr4zRMk4u6yYwjbQI70MDz74oKHniFAMO3HtgEmilEMvC4EJomKnbdu2tff8vzQeGOpjlVhSwF5dPiRtkl2+8847tleFJfX333+/YZk6w2bgJSFLPZFywfTmm2+O6kDPnj3tnBn34RvHp5THkXl24kyA5aWXXhoNN/Pggi5YEsdwFCvOJCTJS5q0+LR2RcqRY5x+ZVWafAqBJfa8cLGw4+uvv5bsqfYXJfzhpFD5Q/gn4Z1mmz493/59/lkeTw8ZuuPXu3fvaNJ9Eq18bMunJ7z49/3rUH3z9ZyEWdeuXe3nMKQ8PSoCxUKA9usk/kKBFSLynQrmQPiB4S32mIkL5JcHo5uftxi6b4k7cuRIpX3KiJd8Lm2+bMxYcjl9Jdjlrzafx9kIMqMXHkLSJe/jUIid+Hbg615syLUvv3yu43ggvzuPJ5Q3zh4lbcgucX54U3cxeeCBB+xDioe3G5LqiS//N998Ew1N0rvgxqfxKWUKZv4Qp7zFSzy9MKEQktdNlxaf1q64tIQXV79gytC8G8DCH4aU+DjdS7wcC5U/Dn+Rwcdbyo3jL0TPt3+h4R4ZqnadQuKy0MrFtkL0QuX46cCCe34QjETPcu1jho7j7NKnqdeKQC4IJDpDuRDStLUbgSRnqHZLnp909Abxds48uOeff972sJxzzjn2+z75Uaz6XOIMVH1J5VlCXZe/PLWiXCkCpUFAnaHS4FzjS1FnKDcV8ob70EMP2Um9rMjiI4kMIbJsuFwDX4Nnv7m6Guq6/HVV7yq3IgAC6gypHWRCQJ2hTDBpIkVAEVAEFIEaiEDkDHGiP8VAbUBtQG1AbUBtQG2gLtpA7ATqGujcKctVhAAVQ4MioAgoAoqAIlAbEeAZp85QbdRskWVSZ6jIgCo5RUARUAQUgbJBQJ2hslFFeTOizlB560e5UwQUAUVAEcgfAXWG8seuTuVUZ6hOqVuFVQQUAUWgTiFQUmeIDzTyQTYNNQ+B2u4MlaNt8nFGPiZYm0PchxJLKXNdwDlfPEuFTdZyyrGe5out5isvBEriDPGF1Ysvvth+hK5BgwbR5//LCwrlJgmBOGfoq6++Mlu2bDHPPPOM2blzZ/TF8iRa5RRXzrbJF6wnT55cTnAVlZf33nvPtgnYTy5h4cKF1uZyyZOUtrbjnCR7Wlyh2GTVlV+On6+c62kahhpfMxAoiTO0fPly2+itX7/e7o2U5ZPyNQO+usOl7wyxJQIf6MO55UvL9erVs8eLLrqoZL1/bNy7aNGigpRQzrZZ27+IbBufHzaAzqpEesrYg4w934oVajvOheBUCDa56MotJ5QvVE+LUf8LwUbz1i4ESuIMsZs5G7ZqqLkI+M7Qc889Z50fdjb/7LPP7H5Bb7zxhrnsssuizSGrWtrx48fbzX4LKaecbdN9QBQiY7nmzccZQpaPP/64qA53bce5EP0Xik1WXfnl+PlC9bQY9b8QbDRv7UIg6Azt3bvXjBw50lxxxRVmwoQJ0bAWxic7hgPDl19+aXefZ/dlAjtsv/zyy2bKlCk2L7sos+v1hRdeaBo2bGjGjBljZKdp4u666y6b7rrrrjNr1qypgCwbxC5dutRcf/315uqrrzZPPfVUhSGYlStX2rfDIUOGmAULFgQ3/6tAUC8KQsB1hthEkW7tdu3apW6a+Jvf/MaMGjXK9O/f39rH4cOHIz6y2NNrr71mli1bZm1g9OjRZv/+/Tb/vHnz7A7w7FaOXU2bNi2i65/E8RBnm37+kF1LmiQ7/Pzzz21dQHZ6MuDzzjvvjLbkSJPff0Ck1ZkkPoVfjnH1m/zsGP7EE09YfbHZ7FtvveVmNUnykjApng02H3nkETN48GCLBT3F9CrSZoRCHJ+0L257Ad9xdgLdND34OKfJ4fNaKG5xeouTn/LjbJq4NDx8/pPaWrCZNGmSoWeGdtitg9BJs8mQrvxnBHR8Hbj5QvU0rv4nYebLrdeKgItAJWcIB6dRo0Z2Q0mMsF+/flFj1bRpUzNjxowov/9mh0Hj9LRo0cIMHDjQ5ps/f77p3LmzvY+DtXjxYvsAZXhl0KBBdr8m9m2iUdy6dWtEe+zYsfbeJZdcYh2z0047LYqHh/r169tNMIcPH25pDx06NMqrJ8VHwHWGcGjQ1+zZsxMLmjlzpk1HI8qDv2XLlqZx48bmo48+svmy2BM9is2bN7c2cNZZZ5lmzZrZHcvnzJljOnbsaE4//XQbFze3JomHkG2GBArZNemS7JCu/k6dOlkeZ82aZbp06WKxuOWWWyJnKIv899xzj2UJRyKtzsTx6cqUVL/JT91HT9S/1q1bG+rdgQMHLIkkedPwIP6OO+6wGNxwww12zzZsKM4ZSuNTcIEufMfZSRY9kN+llyanBcP5KxQ38vvtZpL8STadhofDdnSa1NbCG3YXqoNZbdLFNiSr8Oynk+tQPQ3V/yTMImH1RBGIQaCSM7Rjxw7bQG3fvr1SliyNN2nkYScEpk6dah9ics2RoRUJbGrJGz6VnPDJJ5+Yk08+2b49SpoPPvjAHD9+3Bw9etTOGZg7d65E2YcyjapfbpRATwpGwHWGeAsH71WrVsXS5W2cuR3jxo2L0hw6dMjOLeJNk5DFntq3bx/Zyrp16yrYJg7WeeedF9H3T7LwELJNnw4NuG/XaXa4b98+yys9LYS3337bXiODhCzyywOBPEl1hvgQn1KWHJPqN/k7dOhge3xJjxOEnqdPn55a79Lw+OKLL+wLDD3NEqAb5wyl8eniAt9xdpJFD+QXemlyCO/usRDcoEN+377i5M9i00l4uHxzntTWCm9x2BKfxSYFW6Hnyyr3/XTudaie+vU/DjPoa1AE0hCo5AyxqzY9O2effbbB+8bblpCl8XYbO8kXMmSW1LKK5LHHHjO8OdNjMHHiRJuFiXE0ku6QnNDatm2bjWN4jPT8BgwYYO/Jg0fS6rF4CLjOkOjg2WefjS3glVdesTphhZkbunfvbvr27WtvZbEnt0E8ePCgpSkOhd8YuuVwnoWHkG36dHi4+HYtGMTZIcN52DBDvQTmU3GNIykhV/mT6gw0Q3xKWXJMqt/kd/EmD87RNddcY9LkTYvn5Qr53Zcs2/jEDJPlwqfPt2snWfTg5k+TQ3B0j25+uZ8VN9KT37evOPmz2LTPj4uH8CfHpLZWeHNtwqeVxSbd/CFZQ+X4MoTqqV//4zATWfWoCCQhUMkZIvGnn35q3+jprTnzzDNtQ859Gu977703ouc3Zr4BS0LfkE+cOGEY/qJLni5z5g5RljhDq1evtg0nb3V+wEGiUWV4jDdL+THBjmXeGqoGAdcZ+vDDD60OXFvwS43TYa9evewQCelztSd6/tD92rVrbXF+Y5gPD75t+jS4Dtl1mh3S29mkSRPbw4kDSD3i8xLff/99VEQu8qfVmTg+o8Kck7j6HZLzggsusHNF0uRNi9+4caPV3Z49eyJO/PYjivjhJCufPt+unWTRg5s/TQ6fR67d/BKfFbe4/NwPyZ+lXvn8uHgIf3KMoyfxSbTysUmfXlw5frpQPQ3V/xBmUoYeFYEkBILOkGSga5ux4hEjRthbTJpl3o8EeUuRCZC+AUs635Al36uvvipJ7PwEcYbefPNN23D6wzAs55bhBj8uIqQnVYKA6wwxgZrJ08zhYejSDceOHTO8Le7atcvq0O09ovEkDxOqCbnak9+o0xgyhyguZOHBt80QrZBdp9nhhg0brCPEkd5PHrLg4oZc5E+rM9AN8emW55/79Zv8LGaQ8N1335lTTz3VzvdKkzctHicIR3bFihVC3kivhLQfUYR3EuLT721wr107yaIHF7c0OTzW7GUhuEHALT9E35U/i0379Fw8fPpJbW2IN5dWPjbp8yb8+Pf961A9Tar/LmZShh4VgSQEKjlDL730kl2dxds/K0l4e2V1AoFVILzhbtq0yTZq9ObQwElj5huwFOwbsnRF06tDtyv0oSPOEG/PPCjatGljNm/ebCdO9+nTx/B2yaQ9JqMSR2PKEky63ukZ0lB1CLjOEKXQO4POcIpY7YUNoAN6+0jLxFWGCpiMi954GA4bNszm2b17t2U0V3tyG2IIMIEbHni7xab8kIUH3zZ9GlyH7DrNDl9//XXrDGGr1157rbn11lvtsDONtIRc5E+rM3F8SllyTKrfyAmerBhi/gWfTeCaB2aavFnioU+9ZTj7xRdftD1n0Jf2Q3jkmMan6/z4+nHtJIse3Pxpcrg8ynkhuEHDLV9oxsmfxaZ9ei4eQl+OSW1tiDeXVj426fMmfPj3/etQPfXrfxxmlIGTL8PzUqYeFQEXgUrOEA0V84VopPhdeuml0fATS+hpzLjP6o0lS5bYcxwWAqtPxHFyC2E4hXlIEuhZuPnmm6MyevbsafhYn9vAsWTz/PPPj9L07t07mqwH0z169IjiWFnG6jUNVYeA7wxREk4xK6aY7I5N0Iv44IMPGvRLwF66desW6alVq1Z2SbBwmas9MdmTcuhlITCpHprca9u2rZCtcEzjwbfNCpl/uIiz6yQ7fOedd2yvCkvq77//fsMydYbNwEtCLvJnqTNxfEp5HJPqNw8g6iJYgikr9VhRKiFJXtKkxeNUib54yeIzG9iOtB9SDsckPn05/WvXTrLowc+fJofLJ+eF4uaXnyZ/mk379Fw8fN65Tmprk2jlY5M+PeHHv+9fh+qpX/+TbKZr1672Ey9Snh4VAR8B6v1J/LkBIz9y5EilIRBJw4oLeeAxJi+Btwy5L/c4cs+dKyFx33zzTVQGbzyhvAy7fP3115KlwpF9zhgj1i9aV4ClSi58G3ELQQ/oiGHMUOBT+uwpFBdysSdf19gMturaYaicOB7ibNOlEWfXkiZkhzg/9G66mDzwwAPWyWAfJjfkIn9SnUnjU8oUzPwhTnkbl3h6SUIhJK+bLi0eefm2DSFJb8KHz6cvp38NXbGTLHoI5YdGmhxWAKdnR/jNFbe48oWeL7+UG2fTIXqCh+QNHUNtbRZaudhkiB68+Pf9a7Dgnh8EI7EjufYxY4g6Ti8+Tb2umwgEnaG6CYVKnYRAkjOUlK+uxtEbRO/K3XffbZ5//nnbw3LOOefY73eVKybiDJUrf/nwVQo91Ebc8sFa8ygCNRkBdYZqsvZKyLs6Q7mBzZvqQw89ZFfOsbKID4syhMjy33INV111ld1vrlz5y4evUuihNuKWD9aaRxGoyQioM1STtVdC3tUZKiHYWpQioAgoAopASRGInCFO9KcYqA2oDagNqA2oDagN1EUbqDSBuqTumBZWIxCgYmhQBBQBRUARUARqIwI849QZqo2aLbJM6gwVGVAlpwgoAoqAIlA2CKgzVDaqKG9G1Bkqb/0od4qAIqAIKAL5I6DOUP7Y1amc6gzVKXWrsIqAIqAI1CkEqtUZ4uNzfGyxGKGYtIrBT22jUVOdIT72yMfz8gm+TfnXWWjmkycL3VCaUpWVtZxCsA/JV+x7WeUodrlKTxFQBMoPgWp1hvhC7+TJk4uCSqG0Fi5caLZs2VIUXmojkZAzxFYHTz/9tGEzVvayK6fA13nZJZ4PHzZo0CDaUiYXHn2b8q+z0MonTxa6oTSFlpW1Dvjl+PmKgX1IvmLf8+UoNn2lpwgoAjUHgaAzxAaoixYtykmKfPIU88uthdCid+qUU04x7COlIYyA7wxNmjTJOhrsQs8eVuwx9R//8R/hzNVwd/ny5Za/9evX232usmxH4LPp25R/7acP1YG0PD6NQq4LKSuXOuCWE8oXwj6ETSGyunmz0A6lceVw6dX085CsNV0m5V8RqGoEgs7Q+PHjzXnnnZdT2fnkKWZjVCitjz/+OO/hlJyAqqGJXWeIDRLpcWFTXvbeYs8geocOHTpUNtLdd999djPhQhjybcq/9mmH6kBaHp9GIdeFlpW1Dvjl+PlC2IewKURWN28W2qE0vhwuzZp8HpK1JsujvCsCpUCgkjM0b948u7P2GWecYcaMGWOmTZsW8fGb3/zGjBo1yvTv398+CA8fPmzj4vKwG/Jdd91lrrjiCnPdddeZNWvWRLQ4ybUxYnPHpUuXmuuvv95cffXV5qmnnoo2fIQWvRW8lRI3evRos3///qi8NF6mTJlSgT8e9C+//LLhPvyTn7B3714zcuRIe2/ChAl5Db9ETNWgE9cZeuONN6wzxBBZKNAYy87yxH/55Zfmtttus7vYcw22W7duNU8++aQZNGiQ1RUPVJwpsB08eLDVc4i2ey/OHtlp/cILLzQNGza0Nszu6KGQZhO+ffrXLs24OpBml9BYuXKl7ZUcMmSIWbBgQXBDSimrHOqAj4Nbd0LYx2GTtS4l6SmOtuDFMS5NsXUT12ak6TgJhzgbh2aovDhZXTz0XBFQBCojUMkZmjNnjunYsaMd+uDBJHN6Zs6caR+AOBo87Fq2bGkaN25sPvroIxPKww7BzNXgYceeTOzNRG8CD0EJfqMq9+OOY8eOtTQuueQS+9A87bTTInrQorzmzZvbOIZvmjVrZk6cOGF3K86VF+jxMG3RooUZOHCgdYx4qDdq1Mhutkmj369fP3s/jt/adN91hthfq0mTJqZp06bmxRdfjBxSkZf7M2bMkEv7ZXN0j3NJAFts59xzzzUjRoywOLdr187SBNPevXtbPfvOc0TQGJNkj/PnzzedO3e2dLHhxYsXu1nteT72mWSvoTogssbZJfHgVL9+fbuh6/Dhwy3PQ4cOrcSv3KjuOiAy3XPPPcJShZeaEPYhbLLWpTQ9hWhHjP1wEpcmqc0ga666CbUZaXSScEiyceiGyouT9Qco9KAIKAIxCFRyhkjnd7N+/vnndk7NuHHjIjK8xderV8/2xoTycO+zzz6L0rNhIr1NVHAJSQ8XSSPHTz75xM5LobdKAsM1x48ft5fQat++fVTmunXr7AN1+/btNj5XXqDHQx1nT8KOHTsq0JT7deHoOkPI+7vf/c46njg5OB6bN2+OYMjiDHXo0MF88cUXNg/OMnQYXiEwDwVHlt6kUMhij1OnTrU0QvnlXj424ToBQkeOfr3hfpJdHj161NaruXPnCgkze/Zsi4VrdxJZDnVAZHJx8OtxCHsfm1zqUpqefNqCl3sMpSmmbgQXv81I03EcDllsPNRGwUdIVhcLPVcEFIHKCGRyhl555RXbQO/cubMChe7du5u+ffvae6EK+D//8z92hdZjjz1mZs2aZXsDJk6cGNHwG9EoInDCpEAemO7wi5vMp3Xw4EGbHqeIkCsv0GMYzA30iNBTdPbZZ9veMN7q6krwnSHk/u///m/zyCOPGHrh0M3q1astHFmcIfdhunbtWpv//fffj+C89NJLba9idMM5yWKPoQeyQ8Ke5mMTLt8+vVAdSLLLbdu2WbkZHqNe8BswYIC9h7Pph3KoA/Dky+Rfh7D3scmlLqXpyaft48Z1KI3Pt9tm5KobwcVvM9LoxOGQxcbh3y8vTtYQJnpPEVAE/oFAJmeIhxwPu3379v0jpzGmV69e9sdNv7FheIrhLIaVbrjhBjt3iJ6hfJ2hOB6EIb9h480annnQ5sOLT0/K+fTTTw09ZMhy5plnGubP1IUQcoZEbjBh2Ax7IOAM3XvvvRIdHCZznYoNGzZYXbnOUJ8+fWKdoThbcO0x9ECOGDKmqDYhdP06wH3fjly7xLHHRhkemz59evSjh+yrr74SstExTm5JkFRWMeuAX45/HcI+hE2WupSF7xBtwUSOoTQ+34XohnJ8etzLouMQDnG6dm08VB5lhmQVHPSoCCgCYQRinSGGKSTs2rXLNtqsGJJAI0WPABOqCVRAN4+82bz66quSxbRu3TpvZ+jNN9+0PKxatSqixwmrmQh+w+A2bPnw4tOrUKgxdoiH+UnMeakLwXWGmMTrhx//+MemR48e9jbfb2GujgTB350zVIgzlMUeQw9k4Yej8JSLfabZhF8HKMfP49rl22+/HbRpl0/3vFzqgC+Tfx3CPoSNyMZwaVxdyqKnJNpSRiiNz3chuqEcnx73ctGxi0MWGw+VR5khWQUHPSoCikAYgaAzJPMWeDuhm5c5HMzxYNL0xo0bzZ49e8ywYcNsQ757925L2c8j3cO88dL9zMoH3oLz7Rli+TYP2TZt2tj5KUzEpvcAfgh+w+A2bPnw4tOjjJdeesmu9uEDg2+99ZbtAUGuuhBcZ4g5PqywY6ULjfYvfvELq9t//dd/tVCwGoxes02bNpkVK1bYXjR0XyxnKIs9hh7Irp6KZRMuTb8OEOfbkWuXTA7u0qWLtWmGwFhRxxw3mTvl0ua8HOpASCZfxhD2PjZZ61IWPfm0fdy4DqXx+S5ENyFcuJem4zgcsti4z7/IHZKV1bwypUHS6VERUAT+gUDQGWJicqtWrewDrm3btjb1u+++a7p162bv8WAjnoehBD/PX//6V3PzzTdH6Xv27Gkuuugi4/YI0FOUizPBEtvzzz8/osmqI5lc6dNisil80k2dDy8+PeRkHgfzhaDLj3ktoeEMwaQ2HV1nCGf4Jz/5SYTDqaeeavVIw0/AVnBawehHP/qRWbJkiT2XSdY+tji0pHW/Yk3DzcrFuJBmjwzTMb8rLhTLJlz6fh0gzpfVtUviwZUeNbEpVpaxejEuVHcdCMnkyxjC3scma13Koiefdgi7UBqf70J149MTPpJ0nIRDmo3HlReStWvXrvZzE8KTHhUBRaAiAkFniCQ0QkeOHDGsAnMDn9pnz6FQCOX55ptvohVfvO2QRgJvuu613E87Hjt2zHz99dcVkoVo+V8dzoWXED0KFBllFVsFJmrxhesMiZh/+tOfrI3E6ZCVNBLn2lEIW19X2Io4V1Je6Bhnj5RLOWmhGDbhliH2IfJmkZX87J/G3BEfB5e2e16ddcCXyb+Ow97HRq6z1KUkPYGL0BLcXazk3E/j8026EP5ZdROiJ2VzjKMjfMXhEGfjSeUJTcGDSehZ6pPLr54rAnUJgVhnqJQgUFGZC8TH50K/X/3qV9FDtZR8aVn/QCDkDP0jVs8UAUVAEVAEFIGai0BZOEMsUedbNZ06dQr+LrjgAsMO0xqqDwF1hqoPey1ZEVAEFAFFoGoRKAtnqGpFVOrFQECdoWKgqDQUAUVAEVAEyhGByBniRH+KgdqA2oDagNqA2oDaQF20gZMQWoMikISA2kgSOhqnCCgCioAiUJMR4BmnzlBN1mCJeFdnqERAazGKgCKgCCgCJUdAnaGSQ14zC1RnqGbqTblWBBQBRUARSEdAnaF0jDTFDx8HVCAUAUVAEVAEFIHaiIA6Q7VRq1UgU23vGeIUO9qDAAAgAElEQVRDonwUL2vgUw98GLImh3KTIVcd1GTsQ7yXmz5CPOo9RaC2IhB0hg4cOGA3smSTRPYAY88eDXUbgThniO1ItmzZYp555hmzc+dOE9rEtZyR4+u+F198sd0Oo0GDBpm3V2GfvMmTJ5ezaKm8lYsM+eogVcAalqBc9FHDYFN2FYGiIBB0htiEU/ZKkiMb/fGlaA11EwHfGfr73/9uHn30UYMDgY3Uq1fPHtl/LpcelkLQZHPTRYsWFULCLF++3PK9fv16u/dcaDuGUDlxm2QWxEyJM5eLDFl0UGJoqry42mpTIeBCsobS6T1FoDoRCDpDl19+ud2EFMa+/fZbM3bsWPvAePrpp6uTVy27GhHwnaHnnnvO2sTPfvYzu1ku+x698cYb5rLLLos2z61qdsePH2/OO++8gophh3g2k00KoXLKxZFI4jstrlxkyKKDNFlqWnxttamQHkKyhtLpPUWgOhFIdYZgTnZzZjdqCRg4O8JLYEuN2267ze5Yzj12o3/ttdfMsmXL7O7jo0ePNvv375fkZu/evWbkyJGGXqgJEyZkHp6ICOhJSRFwnSE2gaRLv127dqmbP/7mN78xo0aNMv3797c2cfjw4YjvQmxo3rx5duuWM844w4wZM8ZMmzYtouufxPHwy1/+0u7k3bBhQ0vj8ccf97OauHJwJCZNmmR7lq6++mrj2zeE2GfvpptuMkOGDDELFixI3Dg2rb5kwYoh7SeffNIMGjTI8vPxxx+bQ4cO2Xo2ePBgs3Tp0gryIQN0kfuqq66yeXbv3l0hTZIM8Pzyyy+bKVOm2Hr8hz/8oUJe96IQHUAnrqwsuBSrHYqTQfhLKsfFopQ2FaefJL0mtc1pGPjlxcnq4qHnikA5IJDJGaIRZSjkhRdeiHhu2rSpmTFjRnRtCZ10km0cuUlDyxt38+bNbWN81llnmWbNmpkTJ04YHKdGjRqZK6+80vBA6tevX5QvIqgnZYWA6wzh0GAPs2fPTuRx5syZNh3OAg+tli1bmsaNG0dz0AqxoTlz5piOHTua008/3dpX3PydJB7mz59v98TDGcIxX7x4cSV54srBvhkiDNk3RKgb9evXN3fffbcZPny4oYyhQ4dWoi83kuoLabJgBbbnnnuuGTFihC0PZ7VJkya2fvXu3dvqYs2aNVKkraMnn3yyzUPvLw4ueL733ns2TZoM8IxcLVq0MAMHDoytw4XqAGbiysqCSzHaoSQZhL+4ciLAfzgppU2F9JOk16S2OQsGfnlxsvqY6LUiUN0IxDpDOCuXXnqpffvnwcfbN0MhErI0Qu3bt4+GTNatW2cb4+3bt5sdO3ZE50JPj+WNgOsM8QaMTaxatSqW6c8//9yccsopZty4cVEaeimYW0SPCqEQGyI/DlbSMFkWHqZOnWqd9IjJwEmoHB7OcfZ99OhRK/vcuXMjajiOYBa3GCGJHkSyYNWhQwfzxRdf2DIffPBBWx5DUARWvvEyQu+tBMokD5PgCfJCM336dJNFBvLDV5xM0CyWDuLKyoJLnJ6ytkNZZEjTn2Aux1LZlK+fNL3GYZIVA7885A3JKjjoUREoFwRinSHeEmfNmmV69OhheHv89a9/XYHnLI3QPffcE+U5ePCgbZxxipiHxNvk2WefbXhz4G1EQ3kj4DpD27Zts7p89tlnY5lmJSIPf1aYuaF79+6mb9++9lYhNgSBtEY2Cw+FOENx9i34MDw2ceJE+xswYIDF43e/+50LR3TOwzSOHolyxWrt2rW2vPfffz8qg5cbhtAk+GVyH8cBvrPIQH6GuJNCsXQQV1auuOTTDmWRwcfSLSeET8h2k2hk0YdfTgizNDpxbXNWDEL2EJLV51WvFYHqRiDWGaLhJNAbxAOMt0p3pQ2NkDuHSN4qGTMm+BWbt0cejjTShE8//dT2GjDn48wzz7STb22E/pUlAq4z9OGHH1pduvr3mV69erVNs2/fvgpRvXr1MvwIhdpQWiObhYdiOUOufTOXDltneIxeFvnRSyO9MBVAyVBfcsVqw4YNlgfXGerTp0+qM9SlSxc7xy+LDH4d92Xiulg6iCsrV1xcPcFflnYoiww+f345PjYh202ikUUffhk+PeKz0Alhkg8Gwk9IVonToyJQLgikOkMwKhXo+eefj/im54h5FhLkzSGrMyT56NZn3gXzHDSULwKuM8QEauajMA/s+PHjFZg+duyY/QTDrl277MPY7T1ivhh5mFBNKNSGaGRx0uNCFh6yOkN+Of6Dxn34vf3221b2pGFEn+ckevlgldUZcucx8b2f0047zc5zyiKDz7MvE9fF0kFcWYXakPCc1A5lkcHnz7UHKcM9hmw3iUYWfbj0OffpcS8XOi4m+WAg/IRklTg9KgLlgkAmZ4j5BjgsDJlJYHUKPTqbNm0yK1asMPTw8DacxRl66aWX7Ooaehjeeust20PAahEN5YuA6wzBpQzD4BSxYhC90/PBXDPSYjPMR2HS9MaNG82ePXvMsGHDrI3IiqVCbAgeZB4Ob610//shCw9ZnKFQOf6Dxn340ZtKD0ubNm0M31hhVRdz5WT+js8n10n0iM8Vq6zOEHWWlXDMFbnxxhutfvhEQhYZfJ5DchVLB3Fl5YqLq6es7VAWGXz+3HJCuFSHTcFHml7jMMkHA5E7JCvfrZPhckmnR0WgOhEIOkOs8uJ7MW74xS9+YRvKzz77zN5+9913bWNPY8oqiiVLltj4zZs32/jWrVvb5bBCQ5bn08vEvAnmC5GXH0NyccMHkl+P1YuA7wzBDY5wp06d7Jwy9IjDzMRdeo4I2Ei3bt0iPbdq1cqwNFdCITYEjQ8++MBAk7Lbtm0rZCsc03hgqI/5a0khVE6SfUMLvHh5EBtnZRkrruJCGr1cscIBpWxeOCTw8GFlnwTKZEI1k9BJS6/Qww8/LNGpMvg8Rxm9k2LoIK6sXHHJtx1Kk8Hnzy3Hg8NeVodNCR9JtpnUNueKgZQXkrVr1672sxaSRo+KQHUjEHSGeHvg5wa+OOzOGZI4VifIw+8vf/mL3LbfVJH7ctPNT9yRI0cqDbNIWj2WFwIhZ0g45IvTX3/9tcFGQoHhF/adigv52hD0xI5c2wuVE8cD+b///vtQlgr3/HLIwz03uPYt98GGORihOEnDMSu9QrDi7d6t15SJzkQ24kMhToYQz6H8cq8QHaSVlS8uIrs/3Cs8+8c4GUL8pelcyhbbzUojTh8+ryF6bpo4OsJXHCa5YCDlCU2Rld0MXFuUdHpUBKoLgaAzVF3MaLnli0CSM1S+XCtnioAioAgoAopAOgLqDKVjpCl+GPZRIBQBRUARUAQUgdqIgDpDtVGrVSCT9gxVAahKUhFQBBQBRaAsEIicIU70pxioDagNqA2oDagNqA3URRs4CaE1KAJJCKiNJKGjcYqAIqAIKAI1GQGeceoM1WQNloh3dYZKBLQWowgoAoqAIlByBNQZKjnkNbNAdYZqpt6Ua0VAEVAEFIF0BNQZSsdIU+hqMrUBRUARUAQUgVqMgDpDOSj3z3/+s91mIocstSZpbe8Z4qOQfIQua6gNtlBuMuSqg6y6qu3pyk2PLt7lzJvLp54rApWcod///veGTVdDPzb5q46wcOFCs2XLlsxFHzx4MOKfPav4AnAxAptCTp48uRikahyNOGeIbVTQzTPPPGN27txp/va3v9Uo2fia7sUXX2y3o2jQoEHmbWFqgy2Uiwz56qDUhpZrO1Qq/spFjyF5y5m3EL96r+4iUMkZYvNV2U/JP15xxRUlR4otAk455RRz0003ZS77//2//1dBhpNPPtncfvvtBX/+3d+MMTNDtSCh7wyxjcOjjz5qcCCwk3r16tnjRRddlFMPSyHQsAnqokWLCiFhli9fbvlev3693TMvtIVCqJzaYAvlIkO+OihI8TlmzqcdyrGIvJOXQo+hOuAzHEpTCt58PkpxHZK1FOVqGVWHQCVniD1j2D+G3/nnn29+9rOfRdfVtZcMu37nMoRx+eWX281fgY09s+666y77wFuxYkVBSNbWip0FFN8Zeu655yym2Aeb92Ib7HbOBr+ymW8WuoWkGT9+vN1ktBAa7CTPRsNJIVRObbCFcpEhXx0k6awq4nJth6qChxDNUugxVAd8XkJpSsGbz0cprkOylqJcLaPqEKjkDLlFtW/f3tx8883ureh85cqVtrdmyJAhZsGCBRU2u/z5z39uXn75ZTNlyhRDb9If/vAHmy/uPvE4LKS97rrrzJo1a6JyOIGOew86r732mlm2bJndhXv06NFm//79UR7XGeLmt99+ax/clEFIKy+OT7di45xNmDAh2uV77969ZuTIkVYG7jN8VJuC6wyx6SLd3+3atUvtbWOX+lGjRpn+/fsbcD18+HAECw3Kv//7v0fXX375pd1Fnd2xCUl6njdvnunUqZM544wzzJgxY8y0adMiOv5JHA+//OUv7c7ZDRs2tDQef/xxP6uJKwdbmDRpku1ZYid43wYhlFRH/IKSZCVtFqy2bt1qnnzySTNo0CDLDw/vQ4cOWbscPHiwWbp0aYVikQG6yH3VVVfZPLt3766QJkmGuHpSgcAPF1WhA0jnw18c32ntQq7tkI8D5bIr/BNPPGHrA73Vb731VpQsrfw4vovRLiWVHVcHIsaNKWk9CT1b0mwhqX2Os01ohjDPgoeLjZ7XDATycoZmzJhh6tevb+6++24zfPhww8Nk6NChkcRUTu61aNHCDBw40DpGRIbu06PAUAsN+IMPPmhwZBh2oWGX4FZ2ocPbfPPmzW1Df9ZZZ5lmzZqZEydO2Cy+M/T5559bmvfff799eGcpL47/e+65x9B7xsP99NNPN8yx4iHeqFEjc+WVVxoesP369YtkFhlq+tF1hnBo0NHs2bMTxZo5c6ZNh7PAQ7dly5amcePG5qOPPrL5mjZtarAlCdYYTzopwg69x+l5zpw5pmPHjlYHOKFxc7mSeJg/f77p3LmztVVoLF68WFiJjnHlwBt2FGeDaXUkKuCHkyRZSZIFK7A999xzzYgRI6xMOKtNmjSx9ti7d2+rC/elgjIZQibP2LFjrYOLTb/33nuWqzQZyB+qJ75sVaWDfPkL8V0V7ZCPA+XSTlAPwLt169bmtNNOMwcOHKjWdilN9rg64MoXlwaZi11PQjaXZAtJ7XOSbSJfyFbiZHXx0POah0DOztDRo0ftHJ65c+dG0vJQ5OEoDzkMiMZbriVh3H13WIXhOd72MVIJ5MMJkcA1vVaSb926dbb87du32yQ4Q127drW9EAzd/PSnP7XOm0wAl3wkjisvjv+JEyeaW265xT6Eecsj7Nixo0L59mYt+3OdIXrl0PeqVatipcQBZa7XuHHjojT0UjC3iB4VQpYHfJKecbDOO++8iL5/koWHqVOnWkfaz+teh8pJssEsdcSlz3kSPeKzYNWhQwfzxRdfWNK8WKAjhqAIzHnhheG2226z1/xRJnmkF1Oc0enTp5ssMpA/VE+iAowxVaWDQviL4ztLu5BLO+Ti4OLNw5mAE4SOwJuQpfwQ3shTaLuUVnaoDlimnb9QGniLq8NZdOiQt6ch3aXRiWufs9hmqDwYCcnq86rXNQuBnJ0hVmdRgRkeowLyGzBggL0nzgEGxFCRH+Lu09PCiqTHHnvMzJo1y/YeQFcC+fxGyL1m9Rg84RQRpHeJe/x4YLrDMVnKi+NfaL744ovCnh2Goxfs7LPPNrw1SGMXJagFJ64zJDbw7LPPxkrGakSwYoWZG7p372769u1rb2V5wCfpOa1BysJDIc5QHG+CT1IdcTHh3Ldx36ZzxWrt2rUW//fffz8q6tJLL7U9sHLDL5P7PLjgO4sMcfVZ6HOsKh0Uwl8c31naBVfnPn6+zlwcOPfTcw9n9JprrrFJs5RfVe1SWtlpdQ0BQml8mV2MsujQAuP8hXSXRodpEqH2OYtthsqLk9VhU09rIAI5O0M4FTzkGB7jjUZ+vIHKG6ZfAQSX0H2Gti655BLbfXzDDTfYuUP0DOXiDNEDBU88AAg4Qz/5yU8MFe9Pf/qTFG+P+ZQnBOCfCcJ0bVMGc2cksHyfXhB4Z0UePVK1KbjO0Icffmjxvvfee2NFXL16tU2zb9++Cml69epl+BF4wLs0rDF6w2Tuw8fXc6jxdQvLwkOxnCGXtyx1xOWTc79uuPTywWrDhg0Wf9cZ6tOnT6oz1KVLFzsPL4sMPs++TFxXlQ4K4S/Edz7tgk/H15mPh5+e+AsuuMDinU/5Qh+6hbRLWcpOq2vwEkrjy+xilEWHIqMcfXrcz0In1D5nsc1QeXGyCo96rJkI5OwMMdSE45E0RBJnQKH74p2/+uqrEYKMpRfqDPEWHAr5lCd0hH9WpYEBc5D8wDAF80iYt1GbgusM4QQyH4W5WsePH68g5rFjx+ycql27dlmM3N4jGl3yMKGawCRs5upIEN0wQZIgeEu825Byj8aXoZ+4kIWHrM6QX04Sb1nqiM9zEj3S5opVVmfInevH935w9JkLmEUGn2dfJq6rSgeF8BfiW2yvmO2QjwflskBEwnfffWdOPfVUa8f5lC90RJ5826UsZafVNXgJpRHehFe3DmfRoeSTo0+P+7nQcdvnLLYZKo8yQ7IKj3qsmQjk7Awx2Y63xzZt2hi+tcCKFebqyNwEYIgzoNB96eKkh4meHGbv42hUlTOUT3miWpd/VoIw+fS3v/2teemll+yKOnpMWB1Cjwdy1KbgOkPIJcMwOEWs6sOBwQaYIEpa5qgwBMBk0Y0bN5o9e/aYYcOGWd3KiiVWONGLtmnTJkNDTq8aus/qDMlcNd7w0KsfsvCQxRkKlePaAuW6jXyWOuLzmkSPtLlildUZAm9WwjGv4sYbb7T406uZRQafZ18mrqtKB4XwF+I7n3bBp+PaQAgL0rt481kKrt98881oWDKXdlDKcPnIp13KInuoDkj5cgylcXkjnYtRFh0KbTn69LifRieufc5im6HyKDMkK46uTAEQfvVYcxBIdIZYrcNkYT+QqUePHrYiU5lZWcaqMQn07IScgdB9ehlYvg8dfj179jR8uM8dHvHz+deffPKJzUt3KYFVXXQbh0I+5Qkdt1x6OX784x/bng4mFDNfSGSgV0qGDCVvTT/6zhDy4MSwvB2nENnpEWPirgwfskS+W7duES6tWrUyLGOVQDxONXlZNbZkyRJ7vnnzZpvExZsbvp4/+OADA03yt23bVshWOKbxwDAd8wmSQqicNN7S6ohfXhq9XLHCAQUXHHQJNNSs7JNAmUyoZk4daekVevjhhyXaOrX51POIwA8nVaWDNIx9TIWv0P182gWfjm+fUp4cebDSvmGr4M3KPVafEvIpX+i6fOTTLmUpO1QHpHw5htK4vJHOxyhNh0Jbjj49uZ9Eh7msce1zmm3GlReSlUU7F154obCkxxqGADZ0En+hwKQ6ebCF4vnWDmOx/ld7v//++2C+uPvQ/uabb6IhFzx2t1w/n39NfpcH3hT4JYVcyhM6frlsPcFqNAL8HjlyJJJB8tSWY5yNIB92wMct+Sp1KDD8wr5TcYHVIKJvwZO0Pt7cc/XMteDu5guVE8cD+SknLfjlZOENmnF1xC8vK71CsKJeufWCMtGZyEZ8KMTJEOI5lF/uFVsHQjdX/pL4zqVdCNHx7VN45Ci9DIK3qwtJl0v5ksfnI992KalsyhK+k+qan8bnDTohjOJ0KDLKMURP4jjG0RG+/GF9yRtnm0nlCU3Bg+dlSKdShh7LG4FEZ6i8WVfuSolAkjNUSj60LEWgpiIgzlBN5V/5VgRqMwLqDNVm7RZRNnWGigimkqqTCPCVb/bz06AIKALlh4A6Q+Wnk7LkSJ2hslSLMqUIKAKKgCJQBAQiZ4gT/SkGagNqA2oDagNqA2oDddEGYidQF8HZUhK1BAEqhgZFQBFQBBQBRaA2IsAzTp2h2qjZIsukzlCRAVVyioAioAgoAmWDgDpDZaOK8mZEnaHy1o9ypwgoAoqAIpA/AuoM5Y9dncqpzlCdUrcKqwgoAopAnUJAnaE6pe78hS13Z+jPf/6z3fohfwnDOflYJB9yyxqKzUex6WWVQ9NVRED1UBGPUl8p/qVGvO6VF3SG2F9r586dNR6NAwcOGDYh5Ld161a7L05NEGrhwoVmy5YtZcWq7wyVm42wkenkyZOLhhlfpL344ovttgkNGjTIvL1KsfkoNr2iAVTGhKqi/tRlPVQFnmnm45dZl/FPw0rji4NA0Bm6/PLLTdyu78UptvhU2DR20aJFFQhfccUV9mHGPkDyYzM9PpteroEtEU455RRz0003lRWLvjNUnTYS0nWxv+67fPlyazPr16837G0U2kKgFHwUW66qMqoQFlVVVhLdYtSfkCw1RQ9J2ITiQrK66YqBp0svy3mozNqKfxY8NE1pEKg1ztD48ePthpMubO4D+9tvvzVjx461D7inn37aTVZ25x9//HFOQzOlEKCcnKGQrovdWN53331289gkbEvBR7HlSpKnkLgQFoXQKyRvofUnJEtN0UOuuIVk9WkUiqdPL8u1X2ZtxT8LFpqmNAjk5Qyx8/ioUaNM//797e70hw8fjrhlt3p2cV+2bJndIXv06NFm//79Ufznn39upkyZYvPS+zFmzBhz5513GpwVCStXrrQ9I0OGDDELFiyosJHm3r17zciRIw29PhMmTLDDF/PmzbO7p59xxhmW3rRp0ywp1xnihuyYzE7lEmgMZLd77n355Zd2J292MyakySN04o7kZ4juySefNIMGDTLgQUU/dOiQlWPw4MFm6dKlFbKDz5o1ayrcq+6LXJ2hJB2mYZpkI3G6prGcNGmSoUeHndl9uwvhF2fH7CTO7tMNGza09vT4449Xyl4IH0nY+AWFHgJxfJO3EGyl7CT+cql/Qk+O8Pbyyy/b+k/9/cMf/mCjil0H/fqThonwx7FUeo3DAh5yxV/4T7MLH/s4WYWeHAvBExrIWmgbGKoH+eIkculREXARyNkZmjlzpu1d4YFDI9ayZUvTuHHjaD4ORvujH/3ING/e3D7szzrrLNOsWTNz4sQJO8G1U6dOpmPHjmbWrFmmS5cultYtt9wSOUMzZsww9evXN3fffbcZPny4fSANHTrU8oyj0qhRI3PllVcaHlj9+vWzjeucOXMszdNPP92WKXNHfGcIp4PhshdeeCHCoGnTpoYyJVhATjrJ0uVekjySJ+lIfvA599xzzYgRI6w87dq1M02aNLH89+7d2/LkOj+hip9URinicnGGknQIr0mY0kWeZCNxuoYmc3tCdhfCJ8mO58+fbzp37mx1heO9ePHiSiTy5SMNG78g3xaS+C4UW/In8Zdr/QvJgoPZokULM3DgwKiOFbsO+pgl2ZvPYyn1GsIiH/yRIYtd+OXFyepjUgie0CJ/oW2gz0O+OPmy6bUiIAjk5Azxxs58lnHjxkl+28NRr149+1bOTYy2ffv25rPPPrNp1q1bZx/227dvN/v27bPnzMEgvP322/aaNISjR49a+nPnzrXX/M2ePdum+eijj8yOHTsiWlGCH05C3b04QzhPzH/CAcERoifqf//3f6PsWRriOHkiIgkn4NGhQwfzxRdf2FQPPvig5YNhGAIPf5zF2267LaLiV/woohpPsjpDaTpEhEJshPwhXSfR9GHLYsdTp061evHzute58pEFG5c+564tZOE7CYdS17+QLNQ36rIbil0HXcwEw1zqcKn06mORZh9x7V9Wu/DLA5uQrK5uBL977rknup1kY1Ei54T0hbaBrk7zxclhSU8VgUoI5OQMsSoLh8Jfada9e3fTt29fS9w1Wm4cPHjQ5sHhYbiM/DIs9MYbb9hrhtUI27Zts9cMj02cONH+BgwYYO/hQDGUxlvl2WefbXir4U1VQqhS4wyxCoFeqB49epiTTz7Z/PrXv5Ys9pilIXYbAleeCoRiLnw81q5da+V5//33oxw4awyhSfDzyP3qPGZ1htJ0iAy+fC6maTZC/pCuk2j6uGWx40KcoTh7yYKNz6srVxa+3fTQygXbNP5yrX8hWRja9kOx66CPgX/tYuLzwnWu9pWGW6gMePKxSKMTh39Wu/DLi5PV59fHz79Ow9NPn08b6NLIFydfLr1WBFwEcnKGVq9ebR/kvGG6oVevXoYfwTVarnkLxAGiAvzlL3+xw0M4JThQZ555pl2+/P3339u8zN0hLcNj06dPj370onz11Vc2zaeffmp7ppgfRH4cKkKoAXOHyegNokx6YdyVQTTE7hwiC4g3TOY+3Fx5bMEpfz4eGzZsqOQM9enTp9Y4Q1l06GPiYppmI3G6TqLpqyiLHRfLGXJly4KNz6srVxa+3fTQcstPwzYLf7nUvyRZ3Lhi10EfA//axcTlQ85DbUkSjSy4CW05+vS4n4VOCP987EL4CMkqcXL0efWv0/D00+fTBro08sVJ5NGjIhBCICdnaNeuXfZB/uyzz0a0mAvEvCAmVBNco+XarShUAhwhjo899pit/O4ydxk2W7VqVUQ/7oRhJ+aHMA+HQKXG0XGD6wxxXyrR888/HyWj54h5IRLkLYvJhoQkeSRP0tHPn09DkES/VHFZe4ay6NDHJBcbQd6QrpNo+hhlseOszpBvc0l8ZMHG59Wll4VvNz20csE2F/6y1L8kWdy4YtdBHwP/2sXE5UPOc7WvXHCTMnyeuJ8LHRf/fOxC+AjJKnFy9Hn1r9Pw9NPn0wa6NPLFSeTRoyIQQiDWGWKMlyEl+f3nf/6nnd/CfSZNb9y40ezZs8cMGzbMOki7d++29F2j5YZbUV5//XXrDDFx+tprrzW33nqrHe6S+TT03hDXpk0bw/cvWHXFXCOZX/PSSy/Z1WUffvih4aN/vFGyUoEgc4t4S6IbleA7Q8zPwYFiyEwCq7noYdq0aZNZsWKFoceJ3il1hgSh/zuGnKGQjaTpEGqF2Aj5Q7pOollRkv+bp/dr/dwAACAASURBVJVmx1mcoVz5yIKNz6srF/abxrebHlrVWf+SZHHjil0HfQz8axcTlw85L7Vepdw0+4hr//KxCykzJKvEydHHz79Ow9NPX6gzlC9OyMN35mRKh8inR0UABILOkDg4OAXykx4Ylpx369Ytut+qVSvDkk4JrVu3jhwU7slydnpl3nnnHXPqqafaZfP333+/uf322+2wGauHJMAQzoqUy8oyVp4QmDfEfCGJY66NDJ998MEHBl6Ia9u2rU3PqrPLLrtMSNvjL37xC5tGJngjD84X+VgFt2TJEnu+efNmmz5JngqEYy78/DiRlIVDJ4HKyeo8CX4euV+dR98ZSrKRJB0igy9frjYS0nUSzRBuaXbM0Cnz05JCPnykYeOX58uVxrefPldsk/jLtf6lySLxxa6DPgb+tYuJ8OAeq0OvUn6++OdqF1JeSFaJk6OPn3+dhqefPp820KeRL05du3a1n80Q2fSoCAgC2NRJ/OUa2K6AfZv8wPyfv/71rxVuyxwdnB+6xP/+979H8Q888IB1Dth7xg3sB8X4uOSVOGgfOXLEHD9+XG5FR4ljbgSBNwh+bqBsnybxrFAQviU/95PkcenGnWfJz5udy2coTxz9Ut3Px0bidBiST3SS1UZ8XSfRTMIozo6hD820kC8fcdj45YXkIk0c36H0uWIL/Tj+RN4s9S+rLJKuWHXQx8C/pjzBRMr2jyKntAVZacTh5tMP0XPTxNERvkL4kz8Xu5DyhKbIKvfl6PPqX5MuCc8s6dPawBANys0VJ6ZluG2tyKhHRSBvZygf6OgNoleEbwgxb4dvBZ1zzjn2u0H50KvOPFQq5jbx4a/Q71e/+lXkXFUnn8UqOx9nKJ+ya5ON5CN/VeZRbKsSXaWtCCgCNRmBkjpDvHk89NBDduXZBRdcYOf08N0d9+vTNQVMlvXzYT6G+EI/5PN7u2qKbCE+S+UM1SYbCeFYnfcU2+pEX8tWBBSBckagpM5QOQOhvCUjUCpnKJkLjVUEFAFFQBFQBIqPQOQMcaI/xUBtQG1AbUBtQG1AbaAu2kBeE6iL75cpxXJGgIqhQRFQBBQBRUARqI0I8IxTZ6g2arbIMqkzVGRAlZwioAgoAopA2SCgzlDZqKK8GVFnqLz1o9wpAoqAIqAI5I+AOkP5Y1encqozVKfUrcIqAoqAIlCnEMjZGWK5OB/IKkZIo5UWXwwelEY2BMrBGcrXHvLNF0ImjVZafIim3lMEFAFFQBGoXgRinSG2znj66acNm7K6W0fwBenJkycHuV64cKHZsmVLMC50M4kW6dPiXZq///3vDZushn5s7FcdIVc8qoPHrGW6zlB1YZ2LPfx/9t4E2Kri2v93QBwQREXFKgUFnorlFKWcIxplUsLghBERRFAmgwiCiQQSiIgGh6hoGZwVFccIKcABBI0iUYmRiooRHHCMY/KKxFf18vpfn/Vj7X/fvr13733uufeec2+vqnP20N2r1/r26u61u3vvtvXKSle0jLJ4kWco3Jarks+L4lLJukTZIgIRgYhACAGvMzR27Fj5UjS70W+//fayuerLL78svNxN9zQDRou22WYb2XdM74WOabw0XShc43Fks1W+bu37nXTSSXbUBjkvBY8GEazETGxnqBxYsxHvddddV0iaIvZgM05LV0oZpfHS/ELhGq+Sj6XgUsn6RNkiAhGBiEAIgVrOEBv34VCwGzz7eLEnDKND69atE15ZjT27zLNXTF7K4gWPULidD9tj8IVdfvvss485/fTTk+vG2oumKB62PpV2bjtD5cB61KhRpkOHDoXULGIPNuOsdEXLKIsXeYbCbbkq+bwoLpWsS5QtIhARiAiEEKjlDK1YsUKcIabIfGQ39jg+o0ePNldddZVEHT9+vJk/f36S7I9//KMZOXKkYWSmX79+NcKIBC86xRtvvNGccsopZujQoWbVqlVJejsvvck+YGeddZbp27evmTVrlnczzU6dOpmzzz5bk9Q4ZqXHAfz9739v0AOZkR9Kux/Sz8UDPkuXLjW33nqr7FKPvmvXrq0hX9ZFKL///Oc/Zu7cuWbAgAHC/5ZbbjHcKwfZzpDNLwvrhx56yAwZMsT06NFDMFy/fr0knTlzpmxhssMOO5jhw4ebCRMmyP2Qfj57sGVZvXq1Oe+886TssMvPP/9cgu10lWqzqkcIgzRbJH2WbYf4av56rKvtppUFDybXXHON6dOnjznnnHPMG2+8IWXGEaI9eOSRR1QMw7Y35557rmFXdiikR6n4JBluPgnlk1XXSpUhDTNXtngdEYgIlB+BWs4Q+4TttNNOpm3btuaBBx6o1Zlqx8LoAJ0c02isIYE0jHMavRYtWpjevXsb9h878cQTxclasmRJogXxt9xyS9O+fXszYsQIWW8Bv7fffrsWP25MmjTJbL311rLR66BBg0zLli1N//79E356ktZBh9IjDzx3331306tXL3GM4Om7n1e/cePGqVjCp02bNma33XaTDoBpyHbt2plNmzYlcdJO8uQHhozqdevWTfhvt912xsY7jXee+0WdoSlTpogsp556qnRwe+yxh2ndurXZsGGDmT59uunSpYvYDs4La9Dy6GfblysznWarVq1k0182AO7evXuN8qMcKtlm0ScvBj4bzbLtPHxdPF2suc5ru1llMWzYMLGLgQMHyh6F2Cg2y0MIRLuDLkrSQG0Oz6OHr67CKwsfzUuPefLJqmulyJCFmcoVjxGBiED9IVDLGSKrZ599VjpsGik2I124cGEiARV9zJgx8lSH40JcJcLszn/jxo0aJFNWjATQSSoRv3PnzskTvDZ8EydOlCg2v08//VTWJM2YMUOTm2nTpklDSgdrk88ZypOe/GiMXX5p9/PoZ+MBH2TTdAsWLBD5ly1bZoufeq7piMB0oI3nBx98II4lIy1KTHl+9dVXelmnYxFn6OOPP5ayuuiii5I8mWbdaqutDOvRIN80WZZ+pLHtIWG8+WT58uWpWJKu0m1W9cmDgWujeWw7xFfz16OLdRHbTSuLTz75RB5mGLVToq7ndYZIE9IDOUvBR+XRY1Y+obpWigxpmKk88RgRiAjULwJeZ4gs//nPf5rZs2cbRi9orO6//36RhIrONT9GjmwizO78eRLn7bI5c+aYqVOnysgAnZKSG5/7OAtMgUF2+NNPPy15EgYPfj179pR7tkOmPNxpsjzpyc9uqEWIzXL47hfVz9YH3u+8847Ij1OUh7LyY0EyZWJPMeThmTdOEWeIN/qQ5YUXXqjB/vDDDzcnnHCC3PM5Q1n6kcjFz2bOiCYjervssouMPPGkrUS6SrdZlTUPBq4t5rHtEF/NX48u1u51lu2mlQVOP+VgO//6AJRnZAjZQnogZyn4qN56zMonVNdKkSENM5UnHiMCEYH6RSDVGdJsP/zwQ5k2O+aYY+QWFf24444zDG8z9fW///u/GrVGZ8XUD9M1TF0wJM7aIUYyQs5Q165dZb0LTO0GmE6ehpTpMZ4m9Td58uRkZEkF8Y0M5Ulv56e8XDn0fin6ufwZgUKnhx9+WNmmHkP54azCa82aNak86hJQxBlKkwUbUjtynaGQfsju4ufqg60yGoWd8cYb6980XaXbLHKWikHItvPwdbF0sXavQ7brK4snnnhCbPSVV15JsvM5Q5dddpk3PI8erpwwCuGTZLb5JJRPmn0rn1Jl8GGmPOMxIhARqF8EajlDvgW3Bx98sDnyyCNFEq3o8+bNk4btiiuuSCTUMG7o6MDixYuT8L322quWM2Sv+fnHP/4hTtbFF19cIy8u+FYQnf29996b8Es78TlDedLb8tu8fffz6mePlLl8Qh2KLUMov5UrV3rx4Y3AclARZ+jFF18UWXgLUYkOhlFGFlRDOEOsl1IK6Uc8Fz9N6x6ZjmFd1uDBgyVI01WyzSJoqRiEbDsPXxdDxUzvu9d5bdcuC5wg6jDloKSjLDoyxHeaWEempLITruehNsWuc/AJ4aN56TGUT6iuuVgVlcHGTGWKx4hARKB+EajlDLHYmTepeBOITu3yyy+XBuyXv/ylSGJX9PPPP1/WqTz11FO1wnTonhEchtR5w4KG0B0Z4h5vVTFnfuaZZ0oc+4leGzYWNTJqtPfeexsaUF79ZbidkSGXfM5QnvS2bjZP3/28+qn88HP55O1QSBvKj08g0JGAD2u8WDh9/PHHG57Gy0FFnCG+U8NaMBZNkz+d4BlnnCFlq28L6novnrLRLaSfDz9br8cff1zeLuQDoS+99JKsG8Hm3HSVarPIWSoGIdvOw9fG0sXMd51lu2llgZzUAT6pwNQ20+wsyqYNUGeIt8wY1XvyySfFaWKUT8Pz6OHWMWQP4ePqHsonVNdKkSENM2TjTVydXnZljdcRgYhAeRCo5QzRcR1yyCHSANEIbbvttuLI0KBAjO5oJ8PTPqNGPPEzXWaHcc26HXjwO+qoo8xBBx1UY00R8XltlsaROEy96Wv6bl5cIywjVMqTN8t468sl3lTitV2XQult+e20vvt59VOs4OfyYSEmujCMH6I8+fE6MN9YUnyOPfbYGgtOQ3lkhac5Q2lY8yr0YYcdlsiy5557ioOtebC4m3vI2rFjR7GfPPZi46m8ONK5sl5IdT/66KOT6VMb90q1WXTIU8a2Lrb+Wbadh6/Ni3M3H/c6y3azyoJRFd4epZxwdJjW5FydIewGh557OEo33HCDnOPg59HDlVP1ysJH4+gxTz5Zda0UGbIwO/TQQ82BBx6o4sVjRCAiUA8I0EZs4evovv76a/PRRx9JA2Tny1MRjYUS02q82QS5Ydz75ptvkjeaGDGw0xKfaRzukRfhNvn4Ec63Yphf/9e//mVHT85Z/GjnkwRsPklLn5Zf2n3YhfSz5fDxSdPBlVmvs/LTOF988YX58ssv9bIsR5+NwDiENVOff//7370yaLmr/RApSz8ffjZj5ee+Qeemq0SbtfWoCwZpth3C1s6fcxcz95o4WbabVhaaD28c4phKA2Q5QxrOG3Jad2z7ILy+8NG89ZiVj8bx1TUfVhqfY1oZpWFGHdOHUZtPPI8IRATKh0CqM1S+LCKnEAI0dqyF4qN5vt99992XdAwhXvUVnuYM1Vd+kW/zQCDNGWoe2kctIwIRgUpBIDpDFVASvAbO95z2228/7++AAw4w7IbemBSdocZEv+nmzdo/poDczzA0XY2jZhGBiEAlIhCdoUoslQqUKTpDFVgoUaSIQEQgIhARKAsCiTPESfxFDKINRBuINhBtINpAtIHmaAPeBdRlcbUikyaDABUjUkQgIhARiAhEBJoiAvRx0RlqiiVbZp2iM1RmQCO7iEBEICIQEagYBKIzVDFFUdmCRGeosssnShcRiAhEBCICpSMQnaHSsWtWKaMz1KyKOyobEYgIRASaFQLRGTJGXlt3P/jYrKwgh7KV4AzxeYFYTjkKqwxR+PZVGsVySEMm/X5zwqw56Zpe4jGk2hBIdYZee+01c/vttxs222S/p0qgdevWyWaNfJskjZCbjRa//fbbtCi17rOn1yWXXFLrPjeuvfZas2jRIm9Yc7ppO0PPPfecYAzO7o9NMeuLssqpvvJsjnzffvtt2QIjze5jORS3iizMmlobk6UryDWWvo2Vb3FriSkaAwGvMzR27FhpDNlzbPvtt5fNWF9++eXGkK9Gnj/60Y9ELnYk55P3Lr355psSzr5Gt9xyixuceu3bWJHIjEJss8025qyzzkpN21wCbGeIjTTB2Pdjk988xGa71113XZ6oSZy0ckoixJOyICCNgmeLDGUey0GRyH9Mw6wptjFpuoJWY+nbWPnmt5AYs7ERqOUMsYEmnRwbYrJvGE4Ho0OMyjQ2nXjiieKcIB87XrvEpo/aUd90001ucOp1VuVlFIq9hJo72c4QUyjsF8WPjWFPP/305DrvHkqjRo2SDXqL4JpVTkX4xLjZCERnKBufUkKzbLeptTFZuoJdY+nbWPmWYi8xTcMjUMsZWrFihThDTJH5CCdp6dKl5tZbbzWnnnqqGTp0qFm7dm2NqA899JAZMmSI6dGjhzhV69evl3BGay699NIkLnPLxLOH41988UXZyZ4NPl3CGWLkga0rfvjDH9YI/u6770yrVq3MhAkTRH7bGWKH6ZEjR0rafv36mfnz59dIa1deHJ/Ro0ebq666SuKMHz++RvyQ/mxASRp0Z0Rp+PDh5sILL8w9bReSlU1G586dawYMGCD4gyn36ptsZ8jOq1OnTobd5n2UZgczZ86UbUfYtRx8KDMopLtdTr78QukpO3ZHp3ywI+IrsScc5dW3b18za9asGiOPIb7KQ4+hMkrD5corrzS//vWvlY0cGUEbPHhwslFnlpyl6ocDO3v2bNOnTx8pj0cffVTqkO4kX0MgYwzlgDN74403mlNOOUXagFWrVkm0qVOnGsrXJnQ477zzZFNf+z7nq1evljDKg3r3+eefS5RQPSNSGo51bWfIe8mSJYY2pHfv3qIfHSkPhOgBTtRBm0I2YttuQ7cx9aFPlo2jK7MLt912m7ePKNqmgnOW3afZkF0+nJeSr80jVMZZmJRaN/PqZssZz0tDoJYzxFqbnXbaybRt21ZGX9yOFkNv06aNYaqKhoGptHbt2skO1IgwZcoUaUhxlGgw99hjD9O6dWuzYcMGaegZ1fnggw9E2sWLF0tcGhylCy64QHi7+RKOM8RUGXO/8Hnrrbc0mTTMLVq0MH/9618lTJ0hGnrukwedDTxIS2OnpA0VIx44MUwNsi4G0jA7bpr+DMWyv1iXLl0MnULXrl0lr3POOSeXM5RH1hEjRgjPbt26Cf7bbbddDV1UznIfizpDWXYwffp0wQicsSHWa+XR3S0LW8e86Vu2bGl2331306tXL3GM4DFp0iSz9dZbm4svvtgMGjTIEKd///7CPg9fWw7Os8ooCxdGNpmW/frrrxOW3bt3N+xNB2XJSTj4FNWPdMOGDRObGjhwoDnmmGPknDqS5QxtueWWpn379qIra0QoS9Ya4dBQ3/7+97+LzPyhA3XBJfbk4wHm5JNPNldffbXE0zzRJa2ewScLRxzKurQz5E2bhX44omC67777SruILscee6zw14eqPDaittsYbUx96JNl4+SHDaT1EYqF2gPXWWWdZfdZNqT89Vg0X03HMU8ZhzApWjeL6GbLGs9LQ6CWMwSbZ599VgyZBoVRmIULFybcMShGAzZu3Cj3FixYIA3DsmXLDKMiNOY06ko8TW211VbypMAIEjz1qUpHcejQN23aJNNyNECMFvhInSGeHslHRxSYzkNOGnNGiMhDnSH4qKycM7XDiASNqRI6jRkzxuC00Kijv5KvAqXpv2bNGslb07OYGFnAKC9lyYoTSSdk48O05ldffZWXfcnxijhDITtACN80WZbupHHLwlUmT3qcfBxzpU8//VRsacaMGXrLTJs2TcpN44X4JgmNEUc/rYxCuKxcuVLynTdvnrBENuoOnXseOcGnqH6ffPKJOII4MUoTJ04UOdQx0ft6JJ/OnTsnozjSiGyxhSHdK6+8ImlvvvlmiQ5/dGC0zaXly5dLXNoOl8gjrZ6FcKxrO6P6ITvEQxT1ePLkyXLNQw8PgOeee24idshG4NlYbUy59Qm1Q1llB2CEjxs3LsEuK37I7rNsKMlg80mRfN20XGeVcR5MitbNIrr55I33iiHgdYZg8c9//lOGzhn5oSG4//77hbNrUO+8846E0+HzZhFx3R2oDz/8cHPCCSdIeho4Ro2ggw46SJ7ASUPa119/XdI/9dRTEu7+qTPEfRyfXXbZRZybZ555RtJx9DlDPI0xFTdnzhwZseGpj4ZJCZ2QgZ+7FsnV17229XcbYZ1yZFoxL2XJynQDMj7yyCN52ZUtXhFnKI8d+JyhLN1RxMXeVS5PervTJ/3TTz8tmDI9hk3w69mzp9xTpzbE15Yjq4xCuODUd+jQQUZK4IlDj2PFFE0eOcGnqH44ItiU7ZCoc5PlDNmdGbJSr8EQYiTr6KOPlnOm0tDhww8/lGv7j1FoRumox4wW8iSs5Ja1Xc9COMKjLu2Mm/fDDz8sGL377rsqnuhnj2iHbASejdXGlFufLBsHIDc/u+x84VnxQ3afZUNJYW0+cfNxr1053fRZZZwHk6J1s4hurqzxujgCqc6QsqIRY9qM4XPINSCenqnkNBg4TJwzQmITaTU9ozmMvrCOiLjPP/+8dAB0Qqw1YNTmX//6l508ObedITU+nBfWz/CkSmfiOkOMODGlxHA8DhRrh8jDdYaOO+44wwgVefzv//5vkqerr3tt68+oE1jR+OMAspj7iCOOqLH+JGHsOQnJmoavh1XZbxVxhtLktO3AdYZCuqOQi72tZKnpcSyxQ6bHGNnQH6MAjEDm4WvLkaY7cdLCbFyuuOIKGakh7+OPP15+pA3JSRwfPqF0TzzxhOjPiI5SKc4Q02D6kMOUF5jySQ6cIn0QUv72kfaFkWTqJPWFBwjI1cWuZ3lwrEs74+b92GOPiT62M0TZqDOUx0bg2VhtTLn1ScNfy9XNzy47X9lmxQ/ZL/zSbEjl0aObj3vtyqnpOIbKuCgm8Cynbras8bw0BGo5Q761OgcffLA58sgjJYcsA2LxM40gb58pYUSMLrFQGsL5IQ5TUjgoeNt0jLyVRKeAY5NGtjOEw7LXXnvJ9BjrPVhHBLnOkD5Fsj5JiXSuM8STLtMTyEaHpOTq617bFYhGE0eII6NQGDv65aWQrDqNcu+999ZgiRNY31TEGcpjB5Q5Uw1KId2J52KvaTmWml6nMl1MlXcevhqXY1YZ5cFFHRFsEFtiESoUkpM4PnxC6XRaS6fm4KMPGlkjQ7qmivi87MCDBGuuIKaxmBpjOpf6ZPOWCJ4/pqRYY8IaHcjVxa5neXCsSzvj5h1yhvLYiPJsjDZG81bY66pPlo2Hys4X7spnl3XIflUnjq4N2WFF83XThsq4KCbwL6durrzxujgCtZwh5sd5s4M3NWh0Lr/8cmnQfvnLXwr3LMNlLp0RGhZN88RJQ3vGGWdIen3bhIVoDIvTSPJWBsSaJK753X333ala2M4QkVikTJptt93WfPnll5LOdYZ0mJUnfoZBWdVPGp8zBIPzzz9fOiGdqnP1da/tiksDTAfGU/KPf/xj85Of/ESG/3XtQapimwNCsvKZAxar7r333oIZi8B5QgXr+qYizlAeO9B1OTxRoXdId/Rzsbd1LjU99kh5gSlOAFNSTBnp+pA8fG05ssooDy7wOuyww8RGWXCpi6lDcqbhE0pHOLiiP9OCjLQyukkdyXKGCOdNUtY1nHnmmRJfR3WQRacaqZsM9/vo8ccfl7VEjCC99NJLst6J+gm5ZW3Xszw4olep7Yybd8h5yGMjNs+GbmPsvMG2rvpk2Xio7Hzhrnx2WYfsN8uGyMsmNx/32s7XTsd5qIyLYgLPuujGW9FZI66u/PE6jEAtZwgH5pBDDpHGTR0NGigKDmJURRssrlk4RjxGQaC//OUvSWPO/T333FMcKwnc/Kdvr7CeAOIVe4bJWRStTo0dX895k4xXeZUwXkaFeCNJiadUHBL96CIjSLz6jSz8jjrqKFmrZK95sHViJIuRMEazdPTJ1teOS562/nz9msafV7R5sqfRo2PhDbM8lEdWXu9kFE314c0We2FfnnxKiZPmDPHmHKN8LoXsgIXf2AZ6dOzYUbAuUk5ufnmwc8tOeaAbI5+KKTbF22ZQHr7KR49ZZRTCBR433HCDyML3m2zKkpN4pehHOp5qtSxY5KnrfOwXJ2w5yIfFw6xvAjNGhfRTFBrvwQcflDAehtII50sdFvgwpaav1ru62PUMfnlwLLWdcfPWqUT7S/x0RDotmMdGbJ4N3cbYeYNdOfTJsnE3P7fs3HD32o2fZfdZNuTanZuPe+3ma6fPU8ZFMFHepep26KGHmgMPPFDZxGMZEKAstuDPJZ5IP/rooxrrZ4iDB4xh2ORb44NTYr9ea8dnWocGwSae9kJTSsRRp0zTIo87tcfaHXfq6JtvvkneuoKPrYOrE/zgAblh7jVxVH+cH0Zu7Lx/9rOfSaeAw5eXsmRVHl988UWm46jxynX02Qi8KTMbSze/LDsgHTamWJM2S3cf9m5+dUnP919Yf6DlafPO4mvHs8+zyigLF3hQP1y7Vt5pcobwSUunfHlzR/O0y0TD9Ug+2LiWH/XJJUaVcHDSRpc0vvJw34j06eIrlywcS21n8uTta4uybMTl2ZBtjJs32LtYFtVHy89n46H83HD32icf99LsN82GVEY9uvm412n5anqOWWWs8fJiovE5FtWNdtftC21+8bw4AqnOUHFWMQWjQXQArJ2466675Nspu+66q7wdhPGyLoWPh/l+9913X6ZT0djopjlDjS1XzL8yETjttNMMtu9zlCpT4uqQKquNqQ4NopQRgcpEIDpDZSwXnqZ/9atfyUJwXi9mjRNrsFgzwWvDfAuJKTPfj/hFRo/KKHYuVtEZygVTjLR5LQTD+O7XtCM4dUcgq42pO/fIISLQfBGIzlDzLftCmkdnqBBcMXJEICIQEYgIVBECiTPESfxFDKINRBuINhBtINpAtIHmaAPeBdRV5NBFURsAASpGpIhARCAiEBGICDRFBOjjojPUFEu2zDpFZ6jMgEZ2EYGIQEQgIlAxCERnqGKKorIFic5QZZdPlC4iEBGICEQESkcgOkOlY9esUkZnqFkVd1Q2IhARiAg0KwRyO0OhDyI2K9SaobKV4Azx6YFK+25NpcnEh075gFteau71utLKL2+5xXgRgYhAeRHI5Qy9/fbb8jHBRYsWlTd3Dzf28WJTvFtvvdU888wzyd5Mnqj1dot9kl544YV64w9jPiPPNggusSfamjVr3NuNfm07Q88995yUEeXk/th8sL6Ir3tfcskl9cW+JL6VIhNfYj7iiCOknrZo0SLZ1iJLqYaswBMjpQAAIABJREFU11lyNGZYpZRfY2IQ844IRASMvE0fXEAtHlOOT+vXBVA+qT59+nTZa0z3O+LI3l5sGtuQxMcS2SepnMQmoNddd13CctCgQYZOi/1wlHAy0NmOp2GNfbSdoR133FHkRFb3xya/ecjFI08ad2PFPGnqO06lyMTu9pTFo48+Ko62u92CD4eGqNe+fCvpXrnKrxR7riQcoiwRgeaOgLSHdkfnA6QhGk02h6Qxv+CCC+Rrzewr9MYbbxi+zMzGmevWrfOJVi/36sMZGjVqlGxsqQKvXbtWNpQdM2aM3pIvVu++++619m1LIjTiiW0jTK3wJVx+bBrLhqJ6nXe/HBePPKqVq+PKk1feOJUi0+TJk02bNm3yii3xGqJeFxKoESKXq/xKsedGUDdmGRGICKQgIO2h3dERjw5t9uzZpk+fPmb48OHytImjopsusjvvyJEjDaMA/fr1M/Pnz0/YT5061cycOTO55oSnJnaWpxNdvXq1nJN29OjRMpzPOhCcgMMOO6xGOi5wGsib/b6U2EWeaabf/va3pkePHrI7PFNbNrH/F7vH9+3b18yaNUs2XNVw0i9dulSm4th5eujQoZKPhmc5Q1m6k96nH3iwBccOO+wgeE6YMEGyQj52/GaDTORHzzlz5qgYcszSIyQLelJm48ePl7Iifqnk2ojy6dSpk2G3eR8xojdkyBApI2RZv369REvDI6RPqOMKlSsd1iOPPJKIyhYp7L7ODugQ6ZcsWWJuuukm07t3b7GL999/Xxxx7Jf6MHfu3CQ9J8gEX5z5U045RdKsWrWqRpysMixSRml4Xn311bKDdcuWLcW+kMVHDV2vfTJwL00PwsCjPuu2K5NrUyEbLFK/7bxC7SJxs+wkJFcRO7LliucRgYjA/0PA6wwNGzZMOuaBAwfKPlt00uoM0aAyvUNnwb5bOA6E0YlAODiE2zvWd+/e3XTt2lVGfFq1aiUbl9KAc5/O+t133xUev/nNb7zlwp5exx9/fBJGAwafPfbYw4wYMcLstdde4lS89dZbEmfSpEkymoQDxXQUnUT//v1rpOcperfddhPHbOeddzbt2rVLRmTSnKGQ7nSuPv2Y/uvSpYvZfvvtJT9d9wL4W265pWFn+wEDBohDyG7lSll6hGSBBzihO45mr169EmdW+Rc5FnWGpkyZImWKs4mzQFm1bt3abNiwQaZDXTzy6jNu3LhUsdE3q1zbtm1rwFRJjN9y8kmPjO3btzeDBw8W7Pbdd1+ZqsVWjz32WNHJdv5JQxmSBltkDQrlzHocKKsMCc9bRll4sgcYdYSyxmm7/vrrVcUax4au1zUy33yRpQdRwKM+67YrE/mpTYVssGj9tvPKaheJl2UnIbkUt3LVdVvueB4RaC4I1HKGWMDMtBSVV2nixInSCejI0MaNGzVIpkcY8aCRg1555RWJe/PNN8s1/LbaaisZnVm+fLmELVu2LEnPydNPPy337ad2OwLOCZ2SEg1Y586dxbniHk4QDhlyMsqyzTbbmBkzZmh0M23aNAmnI4ZIz4iG6rFgwYIacqU5Q6TVNJwzNWTrnqYfcdOG0RlVofEHc3tUKI8eWbKonjgAqjf3SqUiztDHH38sZXDRRRcl2THNiR2MHTtW7vnwyKOPdlwJY+skVK55nCHsCpuFcPaxK6agIEYwcZoZTVJSW/z888/lljpYRWwxVEZ58Lz00ktFNpXLPTZGvXZlyKOH4onjAZW7brsykZ9tU1k2WEr91vyy2sVKq+sqczxGBJoTArWcIRwVOgDbYdEGXp0hprt4s4zOm+FfnqbttS+s89EFyAzZ8+T84Ycfyu7tjFLssssuMjqgDZ7m+cADD3ix54n8kEMOScLcBowAOrHTTjstcayYHkMmfj179hSdGH6H3PTvvPOOhOMUQVnOUJbu7E7v0w+evs6f+2CLk8DIiT0qpA5ilh5ZssAbPW2nlnulEnL6yDdNxhtm2JD7Rt7hhx9uTjjhBGHjwyOPPnbH5coTKtc8zpDN/+GHHxY9GLlUwq4ZFVVy8+Q+mFBuecowTxnlwTPkDGkda8h6rRjpMY8ePjzLWbdVFj26+WXZYCn1W/PhmNYu5rGTLLngnceObFnieUQgIlATgVrO0BNPPCEdAE8ySrYzRIfdrVs3Gc1gGo21Q4yO2M4QU2B0hu+99544RdoBwg+niBED0vBW0ooVKyQe8X/xi19olsmRRmDXXXeVaSS96TZg3KehYUqG0SV4MT3G07n+eLrXp3c3PSMnpKHzg9KcoTy6+/SDp6/zl8yMMR07dpT1TXrNMaRHHllcPW3+Rc+LOEP333+/4Ol+IuCYY46RaVfydvEohz6uvm654gxddtllieq2XXPTTf/YY4+JHrYzxHRtyBliSrhUW0yEs07y4BlyhhqjXlsqyGkePdwyIGE567Yrk51fHhsspX5rnmntYqXVdZU3HiMCzQmBWs6QDufOmzcvwYEF0DgLjAzp093ixYuTcNbs2M4Qw+GMdrD4mnQ2L03EsD1rdlibwZz43nvvLW8m8RE0m26//XbhcddddyW3acBYuK303XffmW233VY6WL5zQ5733nuvBtc62g0ggW6nmeYM5dFdM7P14x6dP1MsPuKNLHcRckiPPLK4evryznuviDP04osvShnccccdCXs6GtZmsaAacvEohz6uvm65sp6HNTVKmqeOeLrp8zpD9no0vvfDonjWq4XKEDncPFU2+5gHz5Az1Bj12taB8zx6gEd91m1XJht/tYestk3TF6nfmiatXQzZSR65bD00v3iMCEQE8iNQyxnCMaFi4ZwwrcTUFd/6UWdIh3QZcWF6ibcYCLOdIbLXqSmcFIaXoccff1zWDjFixNtTPKmTHsJhgg8fjrv77rtlGo7RHNbSHHrooYbvECkhH3F5C4x5fF7t5pqPGCI/T+bIjxPH20BMDei6D3i4DYfbaeIMMTT/4IMPJr8//elPybRHmu5Z+um6JZ6OwdAmnzMU0iNPObh62nkWPS/iDLG2BvyY+mNEgo74jDPOkDLSN61cPMqhj6uvW668DcZo5JNPPin2xugkdlNXZ8i2xTPPPFN4MuIZKkPKwJXZVy558Aw5Q41Vr2198ugBHjae5a7btjwu/iEbLLV+23n62sWQnYTkcvWw88OxtEfm7bB4HhGICPz/CNRyhgjCqdhzzz2lUcJh0XU/CxcuFKeEUQwaLH5HHXWUOeigg2osQoQHjgThdIJKOFesF9K0rL/QqSvi4HixUJo1RsRheuzCCy+stb0ADSb5Mr1EPN7eYQhaCaWOPPLIJB8cKt6mUmIkS50w7vHhQ/joAm7tuFVOjoxg4ZBl6Z6l39/+9rcEU+S2CcfhnHPOsW/JeZYeIVlg4OpZK4MCN9KcId4K88nO6+p8KkExxJ7sj2e6eJRDH1dft1yRCScZmXjr7IYbbpBz7NqHl04t4bwr0bEwBaZEniyo7tChg/BiVOiqq67SYFkTVsQWk4TOSQhPpv9Yr5ZFjVWvbZlCetR33bZl4dy2mZANllq/7Tx97SLh9VXXeZA88MADbRHieUQgIuBBgDqY+gVq3nL4z3/+I8l4c8qmb775xnz11Vdyiyc+GhKbeNqm09Gnbg0j3kcffZSk1fv2kb2VbCfJDuNcn6aVF09WPoIPc/zu13i///77WvK6cXz89F6W7iqTYqNpOGqYiyXroghLozQ9iJ8li0/PtDxC99OcoZDsTBvZn1mw8/HhURd9fPr6yhW7VrztssiTHlu37Y00fCBUdSHcR2ll6MvTl17vpeFJ/vDKQ41Vr23Z0vRo6Lrtwz/LBrWci9RvW++0dlHjpNkJ4Vly+fQgDfXTtlfNJx4jAhGBmghkOkM1oxa74s0uRnbSOodi3GrG1gaz5t14VZ8IpDlD9Zln5F15CNRnvUbbpl636xu/yrOYKFFEoDoQqBdniCcRhmf5GFx9EF/6veaaa+qDdeSZgkB0hlKAaUa367teA2VTrtsNgV8zMseoakSgrAjUizNUVgkjs4pAIDpDFVEMUYiIQEQgIhARqAcEEmeIk/iLGEQbiDYQbSDaQLSBaAPN0QZSF1DXg/MVWVYpAlSMSBGBiEBEICIQEWiKCNDHRWeoKZZsmXWKzlCZAY3sIgIRgYhARKBiEIjOUMUURWULEp2hyi6fKF1EICIQEYgIlI5AdIZKx65ZpYzOULMq7qhsRCAiEBFoVghEZ6hZFXfpylaCM8S+dfXx3arSUTGm0mTiA5d8uK8pUKVh25CYNpTuDZVPQ2IX84oIlIJA1ThDbIzIhoW33nqreeaZZ8zXX39dir4xTYkI2M7Qc889J2VBebg/Np2sL2Kj1UsuuaS+2JfEt1Jk4ovO7OvHV99btGiR+QX3khRthESVgm0jqG4aSveGyqcxMIx5RgSKIFDxzhCfv58+fbps2EpDz95PHNk81t7rqojSMW5xBGxniM1OKQPf76STTsrFnE10r7vuulxxNVIlfp24UmS67bbbpDweffRR2WDZtw2J4liJR589VAq25cbLp6ubR0Pp3lD5uPrF64hApSFQ8c4Qm8TS6V5wwQXms88+k32g3njjDXPAAQeIg7Ru3bpKw7RJymM7Q+x3xJ5e/PbZZx/DzuJ6nXcfpFGjRsnmpkXAqsSGu1Jkmjx5smw+WwTPSorrs4dKwbbcOPl0dfNoKN0bKh9Xv3gdEag0BGo5Q1OnTjUzZ86sISdPMuedd55s+kfAPffcY8466yzTt29fM2vWrBobRP7xj380I0eONIwQ9OvXz8yfP78GL3aLZ7PC8ePHSxziQ6tXr5Y8SDd69GgZ5md9CDtxs/u5S2vXrhUn6eKLL06C4M3O0r/97W9Njx49zPnnn29eeumlJJyTLNlJv3TpUpmKY2fyoUOHGvKJ9P921fbh0KlTJ3P22Wf7gmTkbsiQIVIWYLt+/XqJh33tt99+ZocddjDDhw83EyZMkPsh2wk13KHyoxN65JFHEllxrtlxnp3UIdIvWbLE3HTTTaZ3795S/u+//77B4cb++/TpY+bOnZuk5wSZ4IvTzlYS2MyqVatqxAnZnK8+1GCw+YKRUB+eV199texM3rJlS8ETWVyqpHrtypZmD2A7duxYw6hXWn3MwtbNh/JNwzqLj69tUt5pZUK4L780XZWfHkO6h+pKlsyaB8e62i88srAL1UlbFj0PYRrbeEUqHsuJQC1nCEeENQf2TuPdu3c3Xbt2lXwnTZokIzI4IYMGDTI0wP3795cwRgVIS0dy5ZVXmhNPPFEcFjoYJSofaXByevXqJY0TnVKrVq3MySefbGjYyY9G691335X0v/nNbzR5jeP+++9vjj/++OQevOGzxx57mBEjRpi99tpLptXeeustiZMlOxFI36ZNG7PbbrtJ57fzzjubdu3amU2bNiV5NNcTe2TIxiDNGZoyZYqUHZ0YzgJl0rp1a7NhwwaZ9uzSpYvZfvvtBWfWAeW1nXHjxtnZ1zgPlV/btm0NNqAkxr/FFmJr3CM9MrZv394MHjxY7HTfffeVKVls8thjjxWdbAefNFtuuaWkweZYg4Feb7/9tmSTx+bc+qDy2ccsPNkDkLoAH5y266+/3k4q55VUr13hmAZ37YE4YEt7klYfQ9i6+cDPh3UWn7S2Cd5ZZaLyu/ml6eqTNU33UF3JktmXT13sNws7xaBIm5oH09jGu6UYr8uBQC1n6JVXXpEG/+abbxb+LFzeaqutZATo008/Ndtss42ZMWNGkve0adMkPp0ctHHjxiSMqROe/jFwJRokOiWNz/3ly5cLj2XLlmk0OT799NNy336atyPgbNFZKcG7c+fOMp3GPZwgptgmTpxo8shOejp31WHBggVeuTS/5nQs4gx9/PHHYicXXXRRAhGjK9gRT/qQb6pAcSc8zXZCzlBW+eVxhrAfbB7Cocd+mIKCGKnEOWY0SUlt7vPPP5db6mAVsTm3PihvPebB89JLLxXZNI17rKR67crGtc8esupjnvrs5gM/F+sQn7S2KU+Z+PJL09Una5YtZ9WVNJndPLiui/2GsFP+WXrYMuXFNLbxNmrxvFwI1HKGYMx6nKOPPlryYMidJ4cPP/zQqHPC9NiYMWPk17NnT+kwGLqEWE+yaNEiM2fOHMPQPE/axFWi8vGUatO3334rI0W77LKLjBrwZAPhHNEZPfDAA3b05Jwn9UMOOSS5hrfbWVJxTjvttFyyu+nfeecdyR+nqLlTEWeIN8wotxdeeKEGbIcffrg54YQT5J6v88tjO2752hmEyi+PM2Tzf/jhh0UPRiiVqBeMfCq5eXKfxp86kqe+kN6tD8pbj3nwDDlD8KqUeq162UefPbjY2vUxD7Y2f859WIf4pLVNecrElx9y+HT1yWrboq07cbPqSprMbh5cuxhzL6/9hrDz8Xf1sGXKi6mNC+ljG2+jGM9LRcDrDDFVRWf23nvviVOkHRgjNNxneownX/3x5MyTMdNJ3bp1k6mqgQMHytohRoZcZ8g1ZoTH2WIkgfi8rbRixQrJn/x+8Ytf1NKPxmDXXXc1AwYMSMJ8FZsOgKmakOwwcdMzekX+dIrNnYo4Q/fff7/gtmbNmhqwHXPMMYYf5HYIdbEdzSRUfjhDl112mUaXjYkpX6ZkITf9Y489JnrYzhDTsiFniCnlUm0uEc46yYNnHmeoUuq1pVpy6toDAW552PUxT31OmG8+cflxOw8fX9uUp0x8+ZGnT9eQrLbueeqKT2Y3D659Mua13zzYufxtPVx5SsU0tvEukvG6FAS8zhDDlUxpsLiVzmLevHnCm2/IcH3vvfd681LPfvHixUk463byOEOagCkK1giwZoO58b333lveWOLjYDbdfvvtIstdd92V3KbisWhb6bvvvjPbbrutND4h2UlTpOJqHs3lWMQZevHFF6Vs7rjjjgQeGnDWYLEAGKJDYMpJqRy2Eyo/1vOwpkZJ86yrM6Rr5uDL9374/ANr6kqxOZXNPubBM48zVCn12tZNz1174H5WeebBVnnr0eXH/SJ87LYpT5n48iNPn64qox7dtLYToXab1c4qH1tmvWcfyadU+82DXZYethyc58U0tvEucvG6HAh4nSEY6/QXzgTDrhDOCU8NOCi8YcabNkxl6ZoKHTZlxIjhUN4kwHkKOUOPP/64rEliJIq3v3iCJy2EIwYPPih39913yxQc+W299dbm0EMPNXyHSImKR1ze6GHenFe+uV65cmVQdngUqbiaZ3M5FnGGWFvD0DWLpp944gnDepUzzjhDykLftNK1ZjwNYjel2o6Nf6j8eBuMUccnn3xS7IpRSOyjrs6QbXNnnnmm8GRkM1RffDZn66PnefDM4wzBr1LqteqmR9ceuJ9VnnmwVd56dPlxP8QnrW3KUya+/MjTp6vKqEc3re0MhepKmszK2z6ST6n2G8KOfLL0sOXgPC+mtrzlbuNxtHQmxJUvXjdtBFKdoQcffFAqCZ2YTSQ48sgjJQyjxCnhrTAIx4TXrLnP76ijjjIHHXRQjXU8jBSpo6N8WW/EeiFNx7oMXZBKHNYMsVCatUvEYXrswgsvrLXtABWPPDt27CjxeKuHqQGlLNmJ48r2wQcfCB+Gg5s7pTlDvAV0zjnn1IKH19X5JIKW6Z577lnjI5l/+9vfDPcIp7xKtR0741D5IROOPHnyhssNN9wg5wsXLhQ2bnocOeLipCvRUDIFpkQaFlR36NBB4jIqdNVVV2mwTMWl1RciuXkmCZ2TEJ5M//GGZogqqV7bsrr2QJiLjVsfQ/XZ5u/jp+FZfLLaplCZuPJrfj5dNUyPblpb91BdyZJZ+euRfOpiv1nYkUeWHiqDfQxhWt9tPA/YBx54oC1SPG8mCGDLW/DnEk/LdAT61OyGs/8R89K+L91+88035quvvpIkePv26M33339f41r5Euejjz5K0ul9+0ietpNkh3GuTyHKiycXH6XJ7pPNp5+PZ1O/57MRdGbtll2+Lg5MG9mfabDDtZx4c0ypFNvRtHnLj7dgVGY77zzpsWfbrkjzf//3f8IP+yXcR0Vszpde76XhiT7IEqJKrNcqs2sPecqDtGnYKl89+vhpWBYflUvbNDsN52llkpWf8rTtz+brS+u2RVl1Rfmnyax5kU9d7Ff5pJVBHj2Uh31Mw7S+23jaM7t+2zLF86aNQKozxBtYjMCkNe6VCItWlEqUrdplSnOGql2v5iZ/Ndbr5lZGUd90BGIbn45NDKkbAl5nCM+Y4UI+5lZNxBeAr7nmmmoSuWpkjc5Q1RRVqqDVWq9TFYoBzQ6B2MY3uyJvMIW9zlCD5R4zqhoEojNUNUUVBY0IRAQiAhGBgggkzhAn8RcxiDYQbSDaQLSBaAPRBpqjDXgXUBd0qmL0Jo4AFSNSRCAiEBGICEQEmiIC9HHRGWqKJVtmnaIzVGZAI7uIQEQgIhARqBgEojNUMUVR2YJEZ6iyyydKFxGICEQEIgKlIxCdodKxa1YpozPUrIo7KhsRiAhEBJoVAtEZaqTi5kOEfKgsD7Evm/29J/c6D4+6xonOUF0RrJ/0jWELpWpSbTaPntWEb6nlUg3pYjlUQylVt4zNyhl67bXXDBu8soGovcVCQxYhX1ZlnzW+7t2iRYvML2qrXGwweskll+ilca+TgHo8SXOGvvjiC7NgwQJ5E7Ees4+sUxBoDFtIESX1drXaPApVA76pwNcx4Nprr5W9IEtlU9f0dr7NuRxsHOJ5/SHQbJyhsWPHigPCzunsWcY+Zy+//HL9IZvC+bbbbhM5Hn30UcMeQu4n9n3J3K+uute+NOW+l+YMsUEojt0hhxxS7iwjvxwINIYt5BCrRpRKsHk2lr7uuutqyOVe+OJUA76uHnmufbra6RiJ3mabbcxZZ51l3859Xtf0bkZNtRxcPeN14yHQLJwhNkakw2aDWPbhYb8cRofWrVvX4MhPnjxZNgktkrHbELjXRXiVGtfnDLH/ETvT42CC75tvvlkq+5iuRAQawxaKiloJNj9q1CjZTDdLdl+casA3S6e0MJ+ubtz3338/91S+m5bruqa3eTbVcrB1jOeNi4DXGfrjH/9oRo4caU466STTr18/M3/+/ETKK6+8stY2HTxlDB48ONng7p577pEnir59+5pZs2bV2EASh4TNIsePHy/8yQvKypPwjz/+WNL06NFDeA8fPlx2rv/2228T2dLyXbFihXTWTJH5CJmWLl1qbr31VtmRfOjQoWbt2rU1oj700ENmyJAhhvyJv379egm/5ZZbDKMjSsxtE2/RokV6y7z44ouyM/T06dNlR+SWLVsa5L/xxhslTkh3tyFwr5OM6vHE5wwtWbJEcH3qqafMVlttZej0lKrRTlR2+xgqm5DthMLplB555JEky88++0xshd27oVD+IVtYvXq1Oe+886SujR49OpmWDclF3tVk81k4zZw50+y3335mhx12kHo3YcKEBG89SYsDvowqM7p16qmnGl/bkNbuKG/7CO6+9o84WXzSypF0aeVEmC+/NF1tOTmnjbbb/jw2Y/Momv4///mPmTt3rhkwYIBgTdvKPaiu5ZCFny1zPG++CNRyhti/iLUsvXv3NnRoJ554onR4dHzQRRddJMOnX3/9dYJa9+7dzQEHHCDXkyZNMltvvbW5+OKLzaBBgwwdf//+/ZO4GDX3dt99d9OrVy9pGEJ5MuRKY9alSxczdepU07VrV5HpnHPOMeoMZeVLnJ122sm0bdvWPPDAA0kFU6GQqU2bNma33XaTjoORjnbt2plNmzZJlClTpkh+NIZ0XoyGtG7d2mzYsEEcQ0ZFPvjgA4m7ePFiiQt+ShdccIHwnjFjhtl///1Ffzqo66+/XhzILLzhgXzjxo1TdrWuk4B6PPE5Q+eee67p3Lmz5HryySebvfbaK8G2Gu3EhS9kl8QP2U4oHJvEdpWkQm6xRa56ofnbtqF8OOJYtWrVylA2V199taGe0hFruqZi86Fy4iGEtoPpceqdvf5O8UqLQ/lRP9Pahqx2R3nbR/i57R/hWXyyyjGrbYKvL780XW05Na1tWyFbrmv6ESNGSNvZrVs3KaftttvOaL9Tl3LIws+VOV43XwRqOUNAsXHjxgSRf//73/JERaWDVq5cKQY7b948uf70009lVIBNXTlnnplOX2natGkSH8cBwqjpAPRa42XluWbNGuHBGhvo1VdflWsW7kJ58iUtDRqOCw7JwoULJS1/yNSpU6dEb/gSb9myZTIihU507kpMrzESwhMjI0jE5YkG4qmTayoyzhTTcu3bt5cnUsIZRcLRsilLd+Ihn9so2dc2r/o6d50h3oTjSRuHGbrzzjsTzLiuVjtx8ctTNmm2A68s2yI8yxkiPE/+abawfPnyGmVi65YlF6Ow1WbzIZzyTAv54mThlKfdsTHnHH5u+xfik1aOoXJKy4/7Pl19stq2lYWFm1bzzpueh0nWcTJirsTyhq+++kous/IuFT/NJx4jAiDgdYb+53/+R6Z55syZIyMxjIKMGTNGEKNz79ChgzxtcuOmm24SI2Z++Omnn5bGl+kx4vPr2bOn3FNHBqNmuN6lrDxdh0OnvZjagvLkS7x//vOfZvbs2ckal/vvv1/SI5Ndad955x2RGafoD3/4g5y/8MILElf/Dj/8cHPCCSfIJZ0ho0bQQQcdJCNhOESkff311yU9U0mQzxnK0p00rnzutTCu5z/XGbrvvvtEL51OZPRt2223NYyCQdVsJzaURcvGth34uGXlhoecoaL527JTJozA7rLLLobRAJ6QlbLkqkabD+GUp/P3xcnCKW+7o5hzhJ/b/oX4pJVjnnLy5YccPl1tOVVWu13MwsJNWzQ9Sy1oM+0pY5tnVt6l4mfzj+cRgVrOEKMZDFMyvD5w4EBZO8QIgDpDQHbFFVfIVNjnn39ujj/+ePlxH0PGoJkemzhxYvJjLQlxIdeouRfKk9Epprl4csAJ2XHZKqKDAAAgAElEQVTHHeX1dBZCQ3nylYib/z788EPhd8wxx8gdVyZGrdDj4YcfNjhMnDM6ZRNpNT2jQQzBs46IuM8//7w4jGDG/Dz46VtjrjMU0p08Xfnca1uu+jp3nSHWTqErna3+uGbqRXWtdjsppWxs2/GVnRuOM3TZZZclxSYVcvM0WSn5J4w2n2DrjGpig9QbHiQg14ZsuarN5vPglKfz98XJwqlou+PDnXt5+PjKMU85ufJL4ZfJGbJtRvnaRzdv99pOn6aL8stKWyp+yjseIwIgUMsZ0qcN1r4osRbEdoa0waazw0FhcSGk01f33nuvJq11dI2aCKE8H3vsMcmHI6NVGD9PgkqhfHURnsbnePDBB5sjjzxSbrky2ZWUxc908rx9pkTjy7oiFkpDOD/EYQ0TTiSy0bDus88+4jCxIFDJdYZCupPOlc+9Vt71ebSdIYalWRfGonkWb+rv8ssvFxxwIqFqsxMXv1LKxrYd+Lll5Ybz/RTWsShpnqzt0fOsuujyVz7u8ZNPPpFpYsoMctPZclWbzefBifroTk+7GPniZOEUandc/j7cuVeEj12OecrJlV9l8umqYXp007rXts1oGvvoxnev7fQ6re72HYwwQ1lpS8XPljWeRwRqOUM65MjIDkP6vEFAR287Q8B22GGHyX0WA+piahYysrh57733Ngx7MnXGuhv7LSPXqOEVyhNnA6cL3j/+8Y/NT37yExn2p2GAQvmyroU34+i0aUC00/7lL38p6V2Z7ErK4m0WCbNo+oknnjCvvPKKOeOMM0T3VatWJfkzFQFOffr0kXusSeKa39133y33+HOdoZDupHHlc68T5vV4YjtDfK8FvXSKTLPVdUSnnXaa3qoqO0mE3nxSStnYtgMbt6zccOyFEZsnn3zSsA6PERywxRkqJX9bh8cff1ze5uQDoy+99JKsVaE+h+SqNpvPg5OuXWQEgvg+8sXJKr9Qu+PLw+VHnBCftHLMU06+/MjTp6srr5vWvXZtuS7pGeXnwYC+g7aThdPMOtDmQll5l4offHlbWpc7uPLH6+aFQC1niG/HnH322UlHftRRR8k6GHvuGIhuuOEGiXP66afXQAyGjLioI8AIAm+NKTHKpA2y3gvlyZejWY/CB8AYjTr//PNlmos3zJSy8sWB4aOAKhO8kIFKBLkysZiPuIxAQbzmrM4f9/fcc09xrCRw89+wYcMkjb4uzyv2dGwsRP3yyy+TqEyJMK2kFNKdeK587rXyqs+j7QzReLA2yke8YYbOTG1C1WQnrj6llI1rO25ZueHYFh0AdsUUo+JFh1BK/rYOrNNTJx3+Rx99dDJdnUeuarH5PDixGJd6Cw4dO3a0YUrOfXFCOGW1Owlj68Tlp0FZfLLKMdQ2peXn01Vl0aOb1r12bVnT6dGN71676fk8AqPplBG/Y489NnmBIJS2VPwOPfRQ+dyJyhyPzRcBbGgL/lz65ptvkpX8PIHQ4LjEdJFvCop4jBIwz63rRzQtTwA+XoSn5Ynzw1ODDpkS92c/+5lUGJwOm9LyJQ4jWB999FGt/H0yuXKTnm0F2F/JR8gGHjaBmz2dRxi661onO26a7sRx5XOvbT71dW7bCDqpI+nmhz242FWbnbg6FSkb0tr6+8rKDte8mHrUeqGOpIYVzV/TcYQnNq9v5WhYXrmqyeazcLKxcPFVTHxx8uKU1e7Y/H387PA0PmnlqGnTyikrP+WZhoeb1r0mb58tq0xufPc6LT1b/NgPkMTLm7YoflltmeoRj80DgVRnqJLUZzSIJwW+XXTXXXfJN1N23XXX5I22SpK1qcpiO0OVqmO0k0otmShXRCAiEBGobASqwhniyeVXv/qVLEbm4458CJJ1QLxyGqlhEKgGZyjaScPYQswlIhARiAg0NQSqwhlqaqBXoz7V4AxVI65R5ohARCAiEBFofAQSZ4iT+IsYRBuINhBtINpAtIFoA83RBrwLqBvfT4sSVBICVIxIEYGIQEQgIhARaIoI0MdFZ6gplmyZdYrOUJkBjewiAhGBiEBEoGIQiM5QxRRFZQsSnaHKLp8oXUQgIhARiAiUjkB0hkrHrlmljM5QsyruqGxEICIQEWhWCJTVGXI/MJiFJB9L5KOElUhFZSuidyXqm0emanWG+EgmH2KrVCpiO0XtsqF1LipfEd3LpUtRGUvNN28+DW2feeUqVe+YLiJQrQhkOkN8CXTBggXylllIwbfffls+jLho0aJQVAnni9KXXHJJatw///nPsj+TG+Hll1+WfWvc+3/605/Mc889594u6Tokm820qN522mo6T3OGPv/8c0OZ/+53vzMvvPBC6hfJG1pXvsh7xBFHiE22aNEi2YaioeXIyq+o7RSxy6x86yusiHxFdS+XzEVk9OV57bXXir37wux7bj5uunLap8vblsM9d+Vyw+N1RKC5IpDpDLGpKF9+Zl+vEAmjzRtMhuIS7m68x8aubACqxEcVyZs9dGwiHZu2utti6McY7bilnruyZfEpqncWr0oOc50hth+55pprDI4G5bTVVlvJkT3L6joS49pCKbjcdtttIs+jjz5q2Nspa9uAUviXI01R23Htshw4lUMP5eHKp/d9x6K6+3iUcq+IjC5/RrLZd489EkNk5+NL57PPPOXpxvHxzpLNlisrni/MzdsXJ96LCFQrAtImuR0dyrBvDTu177zzztKpvPnmm5k6Fm3c3Eo5atQo06FDhyQPdpenk7311luTe+vWrZN73J8/f35y/+OPP5b7V199dXKvLieubFm8iuqdxauSw1wbufPOOwVzNurduHGj7FW2YsUKc9xxxyWbK5aqj2sLpfCZPHmybHxaStqGSlPUdly7LAdO5dTVlS+Ld1Hds3gVCSsio4/v+++/n8vZd/Nx0/nsM095+uK4vH1y6z1XLr2f5+jLO0+6GCciUA0ISJvkdnQIvmTJEunsnnrqKXnqp/LaxEads2fPNn369DHDhw83PIHjpPz+97+XaFQc3fWdG5999plhR3N2WYbsSjlz5kzDDvTs8g6vCRMmSOfatm1bQ2erxNNUy5YtzY477miGDh2qt819990neb/xxhvJvXvuuUee4Pr27WtmzZpVa3PUrHBbNkY5Ro8eba666irhHdKbnZdHjhxpTjrpJNOvX78aTtvUqVMNutrE09Z5551Xa0NXO04lnNs2gqPMcPu+++6bumGryvzQQw+ZIUOGmB49epif/vSnZv369RpkVq9eLbqDFRgz5eazhSSBc5LGG6f4wAMPFFvBnm688UYn5f+7zCorYiDv0qVLxSE/9dRTxebWrl3r5cXNEL+Q7dS1zriC3XLLLYbRXSXWi1AW9lQ2Dx3US6ZtoKx6EQqvlHrDZsFz5841AwYMMJQbOOiG0sg4duxYQ1viK9NQGY4fP75GncZGaPO4jx2THrKx4NpO57PPPHafFsfmTV4h/ceNGycyum0bN9PKPy1vYRT/IgJNAIFUZ4gGsnPnzqLiySefbPbaa6+kQeHmsGHDxAEZOHCg7BmGI2Q7QzgykyZNSiCSjCxnyW4spk+fbrp06WK233576Rx1LRHD0fCh84XOPvts0717dzNo0CCz5557Jrx1V3u9Qb5bb721bOxKXByo/v37a7DIlRWusrHAk04cuXQ9UpbedHZMG/Xu3Vv2TmMPNTDBsYTo8Am3p/jQp2vXrolslXpiO0M4NOg1bdq0THGnTJki8eh06OgZaWzdurXZsGGDOMetWrWSzXbpHMCBTiXNFtyMsnj/+te/Nvvvv7+UO47m9ddf7yYXJy6rrEiAHbRp08bstttuYpeMkrZr185s2rSpJH5ZtgPDctQZWzBwoJw++OADub148WK5xj6VLrjgAtGPDrSp1JsRI0aInt26dZNy22677ZI6SJlS7r4yDdVfMNO2QfHjmvZl9913N7169UoeBn3x1Anx2Wceu0+L4+YV0h85fG1bVvmn5a04xGNEoNoR8DpDPDEwSsO6HUinRJYtWybXn3zyiTgbdO5KEydOlAZIR4aKNOzw8A3BskM9jfkrr7xiWKNCg8OGrXpfp+4YpbjwwgtFlE8//VTm9WfMmKGiSacNHzrhUDiJaFzGjBljzjnnHHGEWHMC5dGbKSMlNg4FRzpuCD2Q4+abb5Zr+LHWhpGrSifbGWK0BD3uvffeVLGZumR9xUUXXZTEYZoTfXkyX758ufBQm0oipdiCHR7iTVxGRHBcsiirrEiHHXTq1CmZ9uNlAvT2yUz8LH55bKccdcbWl1Es5GWUBGLElWucAxw66lT79u1lNDZUL0Lh8K+EeoPjx5pCRgSVWHf41VdfyWWoTLPKUHVUp0avKTfaFpvIx41nX/vs09cG2jw598Wx88qjv69ty1O+vrxd+eJ1RKBaEfA6QzrtpFMC7A6/7bbbGp4iIToDt1MQRtbITzkadqbWaNh4klL+vLFEx0L+c+bMMe+8846cP/744yLb008/LddMj1Hp+fXs2VPu4dSEwmFC4wJ/fg888IDwzas3T1xMQyAb02KMhCCDEgu9jz76aLlk+gb9PvzwQw2u2KPtDCmGd9xxR6q8f/jDHwQ/ysumww8/3JxwwgkGm8K53WWXXWQ0iLJWCjW6Id7w8XU2yl+PobKyOxnSqK3hFPkoi19D1RlXLpw5RuYgFrczQopdg+Hrr78u50yFa5lWe71h2hn97Cl6G5NQmWaVIXzc9FzbD4Waly9eQzhDefT3tW2h8kevUL1U3eMxIlCNCHidIaaGqDB0VvrjmikD3sp54oknJJyRDiV1VuyRocsuu0yDE2dGw93GIq2i/eAHP5AplJtuuklGWWisIBp2nBzWAzACoWseaASRlekxRqv0x5on1qSEwuGNbCwE5gmaqS6dpgvpzdM2Q/NM/zB9yNohRoZsZ4gpIeR77733xCnCMagGsp0hZEcHu3xdHe6//36Js2bNmhpBxxxzjEyrchMnkJEjMGIdGAuwoTRbUEZ5eIecoTxl5dooT//o/fDDD6soyTHEL2Q7MOIBwsbUrVOuPCGc4MloENO8OrX5/PPPy4sK2CTrQMCeOh2qF6Fw8qqEepNmG1pQLoZ2mYbKUHW0nRqXX1o+bjyffeYpT18cm3ce/X1tW57y9eWt+sZjRKDaEajlDDFcynqawYMHGxao6u/yyy9POgKd7pk3b16ivz6RqLPD1BXrNZT0aV7D7QpMHCqab1rj5z//uczJ4/jgpCnh5OCssP4Bh0Xp1VdfFTnTpnBC4fBR2dCPzu+KK64Q9iG9VUfWZiix1sp2hpjiYaqIYXx42xhqmko82s4QziGLp1lDo9MPKjPfpsJh1bcB7dEjOhvSsIjXJkb6WMOBzUFptqBp8vD2dTaanmOeslI70HR2x6n39BjiF7Id+JSrzqhMHHF+sDOmfHHSKRvw3WeffcQpZZExFKoXoXB4KF6NWW9Wrlzprf9MCdoyyoUxMr2lDm6oDH3pVWflp0f3vnvts8+Q3cPbF8fmnVd/t4zylK8vb9U3HiMC1Y5ALWeIb/3QOOgUmSqo64hOO+00WXxKBdx7773lGy5MJe20006STp0d3jLjaf/JJ5+UDp8nUPhquF2ByYPFuITzZMOQrZJ2fIQxqqL0zDPPSHzu870bJRZBsiAZ2XDQeO2UKQp9Gy4UDh9bNhZnM5XFVAJps/TWoWYcNaZUeNME+WxnCP46bcfUI9NF1UC2M4S8jI6gG04Rnz+gXMGYDpe4fP+EBfgsmmZUBGfgjDPOkDSrVq0yTGuyVopRppdeeklGRcALSrMFxSnEm3i+zkbTc8xTVrYdkCbLGQrxC9kO/MtVZ2w9yZepSMoK/tDChQvlmnt333233AvVi1A4TGy8GqvefP/99+JUUv/Rk5cXjj/+eLFBV0au7TINlaEvva0z4UrufffaZ58hu4e3L47Nu4j+bhlltZtpefPGbLWMbmvZxGNEwIdALWcIw2YKyke8YcaUFAuDeQLhjS4aVIb3df0LDRDEK/Q0SIQzvXbDDTfIuYYzYqKdH/FZ5Kj8OnbsmGTPKASjBvB57bXXkvvIAF9GWf76178m9zlBqSOPPFLSkI6RLt70UAqF27IxmnHwwQfLiAayZOlNOG+8kSe/o446SrC0h9WR4cEHH5RwnINqITBzCUeXTyLgLKIv5cSie3CAsIHDDjsswYPyZaQRYv2WdtKkZR0V05hQmi1I4Oa/LN5EYbqJKd40ylNWth3Ah8WpyMqUgkt5+GXZDvzKVWdc2fQtNv3EAK/Y83BCXf7yyy+T6KF6EQq38WrMesPr7Yx8UVb8jj322GRxuy0jittlmqcM3fTutYLp3nevffaZx+59cVzeefV3yyhUvr68Dz30UPmMheodjxGBakUA+9+CPyWG0XkK9BGv37pf8mVaTb/hgYPiEuHaOdrhPMHofU3D9UcffSTOlt7jiDx2Wg1jhAA+acRoFutSXJk1flq4Kxv6ufln6f3NN98k00fI6OrJKAqNtI6SqTyVfLRtxJUTHOlUdSrCDWc9l/05AQ3X8nan2gjXMBd3TavHLN5ZtqHps8rKtQPSpNlSHn4aJ8t2iFOOOqN5caRc6Phswi51/Z19n/O0eqHx0sJdvBq73jBlazt7yO/KyD23TIvYhI+fLx83HvbNPZfy2L0bx+WtPPPo7yujtPKFr5t3Vn+hcsRjRKAaEKjlDFWD0NUuI1ONu+66a8VuVOvDN8sZ8sWP9yIC5UagGutNuTGI/CICEYH6QSA6Q/WDaypXRrkYWuZzAdVE0RmqptJqerJWa71peiURNYoINE0EojPUNMu17FpFZ6jskEaGEYGIQEQgIlAhCCTOECfxFzGINhBtINpAtIFoA9EGmqMN1FhAXSFOWhSjwhCgYkSKCEQEIgIRgYhAU0SAPi46Q02xZMusU3SGygxoZBcRiAhEBCICFYNAdIYqpigqW5DoDFV2+UTpIgIRgYhARKB0BKIzVDp2zSpldIaaVXFHZSMCEYGIQLNCoKzOUNpH3HyI8hVcPvxWidTQshXBrbHwqlZniI898hG5SqUiZd/QdlkUs4aWrwh2ti4NJWfefBraRvPKZWMWzyMCTR2BTGeIL5guWLBA3jILAfH222/LV5UXLVoUiirhbEp5ySWXpMb985//7P1C88svvyz7DbkJ//SnP5nnnnvOvV3SdUi2kpimJCqKWwqber+d5gyxhQZl/rvf/c688MILydfI612gQAZ8mfqII44Qm2zRokWy1UcgWYMGFy37hrTLUoBoSPmKYmfrU1c5r732WrF5m6fv3M3HTVdOG3V5++TRe65cej8eIwLNGYFMZ4jNBNk24pBDDgliJIwKbDFhby4IczZVZZNYJfa4Im/2w7GJdOyF5W7vcMABB9TYvd5OU/Tcla1o+iLxi+JWhHc547rOEFs8sEEujgblxB5xHNnXrq4jMa4tlKLHbbfdJvI8+uijsg+au+VCKTzLnaZo2bt2WQ6cyqmTK185ebu8imJnp6+LnIxms6fbWWedZbP0ntv5+NL5bDRPmbpxfLy9Am2+acuVFc8X5ubtixPvRQSqEQFpU9yODkXYg4Ydx3feeWfpVN58881M/Yo2Tm6FHDVqlOnQoUOSh+5Wz47oSuvWrRNZ6HTnz5+vt83HH38s9+1d7ZPAEk5c2UpgkTtJUdxyMy5zRNdG7rzzTsH89NNPl00w+ULwihUrzHHHHZdsilmqCK4tlMJn8uTJspFvKWkbKk3Rsnftshw4lVNXV75y8nZ5FcXOTl9XOd9///1cDr+bj5vOZ6N5ytQXx+Vt6+ueu3K54VnXvryz4sewiEC1ICBtitvRIfySJUuks3vqqafkqZ+KaxOd3+zZs02fPn3M8OHDDU/gOCm6+SiVxt7d+7PPPjPses/O3JBdIWfOnCm7n7OTNrwmTJggm7O2bdvW0Nkq8STVsmVLs+OOO5qhQ4fqbXPfffdJ3m+88UZy75577pGnt759+5pZs2bV2hQxK9yWjVGO0aNHm6uuuioX75/+9Kdm6dKlBifu1FNPFTnXrl2bpA3hlkSssBPbRnCUGWrfd999Uzf1VfHZpX7IkCGmR48eBmzWr1+vQWb16tXmvPPOMyeddJJgzJSbzxaSBM5JGm+c4gMPPFBsBXvS3dqd5IbdvUeOHCn59+vXr4aDTdxQWRblFyr7utYZV55bbrnFMLqrxFoRysKeyuahg3rJlA2UVS9C4ZVUb9iAdO7cuWbAgAFSD8GCexByjh071tCe+OpoyC7Gjx9fw1awE9o97mPLpNd8xo0bJ+f82el8NprH9tPi2LzJK6S/ylWkfUvLO1EwnkQEqhiBVGeIBrJz586i2sknn2z22muvpDHh5rBhw8QBGThwoDnmmGPk3HaGcGQmTZqUQCMZWc6S3XBOnz7ddOnSxWy//fbSOepaIoai4UPnC5199tmme/fuZtCgQWbPPfdMeJ9//vnSOesN8t16663NxRdfLHFxoPr376/BIldWuMrGAk06ceTS9Ugh3qRt06aN2W233UQXRtbatWuX7Boewi0RssJObGcIh4aynjZtWqaUU6ZMkXh0OHT0jDS2bt3abNiwweAct2rVymBbdAyUKx1Kmi24GWXxZt+3/fffX5whnK3rr7/eTS5OHFN8vXv3NkzJnnjiiSIrDwFKobLUeBxxdEL8QmVfjjpjywQOlNMHH3wgtxcvXizX6Kx0wQUXiK3SeYZsOxReSfVmxIgRomu3bt2kHm633XbJWkPkpKx8dTRPOaqeiiHXtDG777676dWrV/JA6IunTojPRvPYflocN6+Q/shRtH1Ly1txiMeIQDUj4HWGeFpglIZOAtIpkWXLlsn1J598Is4GIyZKEydOlMZHR4aKNOzw8A2/3nXXXcLzlVdeMaxRobH51a9+ZfS+Tt0xSnHhhReKKJ9++qnM6c+YMUNFk06bToFOOBROIhqWMWPGmHPOOUccoWeffTYXb03bqVOnZKqIBejkDXZ5cEuErrAT2xli5Aud7r333lQpmbpkbcVFF12UxGGak7VFPJUvX748wSWJsPnEZwt2nBBv4jIighOaRRs3bkyC//3vf4vN42QpYQdpZalx7GMWvzxlX446Y8vDiCTlxAgJxIgr1zgGmzZtkjrVvn17GY0N1YtQOPwrpd7g/LGukFFBJdYefvXVV3IZKtesclQ91anRa8qO9sUm8nHj2dc+Gw3ZPvx9cey88uhfavvmy9vWOZ5HBKoVAa8zpNNOOr3z7bffmm233dbwFAnRsWsHr4oLI2vkpxwNO6MHNGo8RSl/3liiYyH/OXPmmHfeeUfOH3/8cRHl6aeflmumx6jw/Hr27Cn3cGpC4TChYYE/vwceeEBVzJ3WbvBUPpyiPLglmVXYie0MKYZ33HFHqpR/+MMfBD/Ky6bDDz/cnHDCCQabwrndZZddZDSIslYKNbgh3vDxdTTKX488GTNlhB1NnTpVRq2wFyW7g+GeXZYaxz5m8ctT9uWoM7Y8nOPMMTIHsbidEVLsGgxff/11OWcqXMu0KdQbFvmioz1Nb+MSKtescoSPm55r+8FQ8/LFs9sGn42GbB/evjh2Xnn0L7V98+Wt+sZjRKCaEfA6Q0wNUVnorPTHNdM/vJXzxBNPSDgjNkrqrNgjQ5dddpkGJ86MhtuVl0hplewHP/iBTKHcdNNN8uROQwXRsOPksBaAEQhd80ADiKxMpTFapT/WPLEmJRQOb2RjITBP0Eyf6DRd3rR2g8fTIvI8/PDDuXAT5Srwz3aG3nvvPdHJLl9X5Pvvv1/irFmzpkYQU6r8oA8//FBGjhiFZB0YC7ChNFuQQGNMHt6+jkbTc2RkhCkUpuqY6mXtEHJkOUN2Wdq88vBryDpjy8ZoENO8OrX5/PPPy4sK6MkaEHSmTodsOxROnpVSb9LsQ3Fx2x67XEuxC5dfWj5uPJ+Nhmwf3r44Nu88+pfavvnyVn3jMSJQzQjUcoYYDmc9zeDBgw0LVPV3+eWXJ506ThAd/Lx58xLd9WlEnR2mrlivoaRP8xpuV17iUMl80xo///nPZT4exwcnTQknB2eF9Q84LEqvvvqqyJY2hRMKh4/Khn7oecUVVwj7ImlVHruhzYObpqu0o+0M4RyyeJr1UDr1oPLybSocVn0b0B49oqMhDYt4bWKkj/Ub2ByUZguaJg9vX0ej6TmqPbKORol1caU6QyF+ecq+XHVG9eGI84MNM+WL40fZgO8+++wjTikLjKGQbYfC4VEp9WblypXeNoCpdltOuTBGprf0gSVUjr70qrfy06N737322WjI9uHti2Pzzqt/Ke2bL2/VNx4jAtWMQC1niG/90DDoFJkqp+uITjvtNFksSuXbe++95RsuTCXttNNOkk6dHd4y42n/ySefFKeJJ1D4arhdecmDxbiE81TDkL2SdnyE2a/OP/PMMxKf+3zvRokFkF27dhXZcNB45ZQpCn0bLhQOH1s2FmczVcdUQtG08LKdIdKHcFM9Ku1oO0PIxkgX2OMU8eYc5QrGdLjE5dsnLMBn0TSjIjgDZ5xxhqRZtWqVYVqTt/wYZXrppZdkoTxv5UBptqCYhHgTz9fRaHqOOi2EU830F3mjT6nOUIhfnrIvV52x9SRfpiLRDf7QwoUL5Zp7d999t9wL2XYoHCaVUm++//57eaGC9gldWRR//PHHix26cnJt19FQOfrS23oTruTed699NhqyfXj74ti8i+hftH3z5c2bmEx9R4oIVDMCtZwhjJopKB/xhhlTUiw25emDN7poUFnrwOvLOA00PhCv0NMYEc702g033CDnGs5TuHZ+xGeBo/Lr2LFjkj2jEIwawOe1115L7iMDfFmQ+9e//jW5zwlKHXnkkZKGdIx08ZaHUijclo3RjIMPPlhGNJClSFryYzEjMjDNAIVwUxkr7YjeLuHo7rffflLu6Eg5sehepxWxgcMOOywpB8qXkUaI9VvaSZP26BVv7lUAAB8VSURBVKOPTr4SnWYLdv5ZvInHFB5TvGmEjLydSN78jjrqKLF7e4rTtgP4uGVp887DL1T25aoztlyc61ts+okBXrHn4YS6/OWXXybRQ7YdCrfxaux6w+vtjH5p+R577LHJSw22nChvl2uecnTTu9cKqHvfvfbZaB7b98VxeefVv2g5+fI+9NBD5VMWqnc8RgSqEQHaty3sjo5hdJ4CfcTrt+6XfJlW0+934KC4RLh2jnY4Ty96X9Nw/dFHH4mzpfc4Io+dVsMYIYBPGjGaxboUV2aNnxbuyoZ+bv5505KXL/8QbipjpRxtG3FlAgs6VZ2GcMNZz+V+MZw4Wt7uVJsd5uJehHeWbSifb775Jpnqw55sm3TtgDS+slReHLP4abxQ2ZejzmheHCkXOj2b0FXX39n3OU+zbY2XFu7iVQn1hmlb2+FDB1dO7rnlmlWObnr3WnFy77vX2Br3XNJ6kWX7bhyXt/LMo3+RcoKvm3dWn6FyxGNEoNIRqOUMVbrAUb7GQSDLGWociWKuEYGIQEQgIhARKA8C0RkqD45Nnkt0hpp8EUcFIwIRgYhAs0UgOkPNtuiLKR6doWJ4xdgRgYhARCAiUD0IJM4QJ/EXMYg2EG0g2kC0gWgD0Qaaow3UWEBdPX5clLQhEaBiRIoIRAQiAhGBiEBTRIA+LjpDTbFky6xTdIbKDGhkFxGICEQEIgIVg0B0hiqmKCpbkOgMVXb5ROkiAhGBiEBEoHQEojNUOnbNKmV0hppVcUdlIwIRgYhAs0Kg2TtDaR+ea1ZWkEPZ5uwMFbWRovFzwN/so/DVbD4UGSkiEBGICNQHAg3qDN1zzz3mrrvuqg89SuL59ttvy+f6Fy1aJOnfeust2cCTzRqXLl0qexalfVW5pAxzJGLTUvJnvy/2X/v6669zpKr/KK4zxH5eyMmP/Zz40nc5qNJtJKSja1Oh+E0x/NprrzVap8qlH5vYXnLJJeViV3V86gPTqgMhChwRqEcEGtQZ2n///Q372JSD2ISVTWXrQqK8tXnsSSedlOxlpHsasREpjlF9E5+4nz59uuyjRt7bbbedyMIGuLqfV33LkMXfdYZ+9KMf1cCKfenY9DFtK5cs3nZYpduILavv3LUpX5ymfI/RG/Y8O+uss0pW01e37Y1IS2ZcpQnLgWmVqh7Fjgg0GAIN6gyx55JvH6pStB01apTp0KFDKUmTNG7HdeKJJ8qGnezVg6w83f7Xf/2XdPrLly9P0tXHCZto4gRdcMEF5rPPPpP9pN544w1zwAEHiIO0bt26+sg2N0/XGQIrNleF2Ptp5MiRIv+8efNy8/RFrHQb8cls33Ntyg5rLufvv/++7G9Wqr6+ut2cnSFwrCumpZZFTBcRaC4IeJ0hdpNnV/Hf/va3pkePHvLE/9JLLyWYEP773//ejB8/3jCawg7JSoxiDBkyRNIRb/369Rpkrr76ajNnzpzkmhOmRXiK7Nu3r5k1a1aNjQtxSubOnWsGDBhgTj31VHPLLbfIprAzZ86U3dLZeXv48OFmwoQJCc8sfoxazJ492/Tp00fSPfroo9KBowtkd/DKkI6+devWNUa00JfOH9379etn5s+fr9HN1KlTDfLZxJPueeedJxtjrl69Ws5JO3r0aNmpnSc/dlhnh3eX1q5dKzJefPHFSVCofIiYhQPpGe1iKg5chw4dasgni7KcIdJ9++23Iie4QE3VRlyMQjZVbltx89frrHrX0PZCu2DXiSL2lla3cYbGjh1rbrvttlSbzbJ5xUmPOFyPPPKIXsoDyLnnnmv+8pe/yL0QZmltkzIMlceSJUvMTTfdZHr37i31D2eHBx7aCdon2j2bimL68ccfS/tM+037Sjt54YUXSj21+eq5r13SsCxcs+yb9Fl8QxgVbaNU3niMCJSCgNcZouFp1aqV2WOPPcyIESPMXnvtJdM2rKmBCG/ZsqV04L169RLHiPtTpkyRDpEOlsaG9DgSGzZskHQnnHCC6dmzp5zzN2nSJBn1oKMfNGiQ8Ozfv38STt6MlnTr1k0aCaaOaESYTurSpYvZfvvt5b6uJQjxGzZsmPAbOHCgOeaYY+Qc/lnOEMKgC9NALOKk82vRooU0YldeeaU4UPBALggHh3B7l/bu3bubrl27SoMLrieffLI4htwn73fffVdk+c1vfpPobp8wdXT88ccnt0LlE8KB9G3atDG77bab4Lfzzjubdu3a1drZPMnQGPk6uX3tOo40vuBwxRVXSLSmaiM2Bpxn2VR92IqbP9ehetfQ9kJ+48aNS0QtYm9pdRse1Ks0mw3ZfCLM5pO2bdtK+6P33RG9EGZpbRP88pQH7WL79u3N4MGDpd1jOp4pcdqEY489VuqS7VAWwZSHq/3220/aSB7OaHuom+ecc47XGWIk2tcuoUsWriH7zuKbB6OibZSWZTxGBEpBINUZ6ty5s3TeMMUJojJNnDhR8qBi0piok8NNOkPWClx00UWJHDzpbLXVVvJEx03bGWI6hPgzZsxI4k+bNk3yge8HH3wgDghPNEp/+9vfkmk2dyg9xI+FyVtvvbU4K8oPfdAr5AzhpBBPR0c2btyoLMy///1vwwgVlRt65ZVXJO7NN98s1+QLBox6MdUGn2XLliXpOWEBMvftJ1U7Ao4HjaUS+KeVTwgHeJC+U6dORvVYsGCBVy7Nj6PqrveQifVfjPytWLHC/PCHPxR8X331VYnSVG1E9eeYx6YUY+KXw1bs/DnPU+8a2l7Iz3WGitibW7fRM8tm89i8i1seZyitjmW1TUXKA/uBeKii/k+ePFmucWZ4OGGkSqkIpmvWrBF+jO5D1En4U899lNYu5cE1y77T+ObFqIjN+PSK9yICRRBIdYbsxgyGNAynnXaa8KZiMgJiE28VUeFeeOEF+7Y5/PDDxQnipu0MqQPA9NiYMWPkx6gRPKjETC1xnuYguA1miB8OCPxsR0SUz+EM/epXv5K0VGKIV6dZT8SUH09ePOWhgxLrfHQ9DWuBGFXibSumkpgO22WXXWR0iycnSGV74IEHlEWNI0+KhxxySHLPbRgJ0PIJ4UBcNz1vhoFNWmNJGp8zRBr9sX7LLqumaiNJIVjllmVT5bYVO3/O89Q7t7xJV5/24ubnXofsza3byJvFI4/Nu7jlcYbS2sCstqmU8nj44YelHjFCrET7wRSakqu/e21jqlPrOtXGwwr1NO1FkLR2KQ+uWfadxrcUjGz9FJN4jAiUE4HczhAdPNNfkFsRuXf//fdLheOpxCamo/hBtjNEx0kFZXqMERr98XT0+eefp/JT3m6DGeL3xBNPSH6M3CjldYaYVmMYGdq0aZNM23HNfdbIMDJkO0OsjUK39957T5wi9FbCKWL0jDQ77rijjKoQj/i/+MUvNFpypLHZddddZd2U3vThr+UTwgEebnpG4sifRjmNfM4QDhqNlO/1fzcP+DYFG7HxCdlUfdiKnX9eTH1lUZ/24ubnXofsza3b6JnFI4/Nu7jhDF122WXJbbctcPMjomKWZsfESQuz20GX92OPPSb1z3aGmBYv4gzZmDICyZQbD2E8jNLOHHHEETXWYyaKbz7xtUshXPPYt49vKRjZ+rmyx+uIQDkQSHWGWBis9N1335ltt91W1s5wz63M3HvxxRelQt9xxx2aTBwH1qOwoBqynSEdur333nuT+PbJypUrhZ8brt/9ocFkKFkpxE+nr+y3nfQJL2uabNWqVTLNxSJjSJ9qFi9erFnLmirbGWIEiakxpvhwMuw8NRFD5Kx/YM0Ac+9777232WeffWRdksbhePvttwsP+/tM4J9WPiEc4OmWX56GxucM6eiXLa+eu3lwvynYiOrHMWRT9WErdv55MW1oe3HL3r0O2Ztbt9Ezi0cem3dx47tFLFZW0rLStiALs6y2KY+Nu7qU2xmCH44QR0avcWp4qMpDdrsUwlUxy2oLNU+bbykYhWxG84nHiECpCKQ6Q3TiOADM+55++unSIdMIQG5l5h7z3Ay9s2iaJ2Y6ijPOOEPS4VBAtjOEA8DCPpwAnBLepmC6QefNv//+e0ODRfjChQtlgTJPS/CGdH0RTxkM54b4EY7c8GMajikpnp7QUxtA1sHwKj3XOHUMk7NQHDm++OILyVeHjhnJYlSEt07gYTtDRNQpP5xIhouhxx9/XNYOMRLE23k8nZIewmGCD09wd999t0zDgQXrnFibw3eIlNAjrXxCOMDDLb88DU05nKGmYCNaBhxDNlVftmLLkAfThrYX177c65C9uXU7ZLN5bN7GjHPe2GLE5Mknn5S6x0it3RZkYZbVNuUtD3sKrtzO0PPPPy/OEO3rj3/8Y/OTn/xEpuV1jZKLRVq7FMI1ZN9pfEvByLUZHgbtEXdXp3gdESiKQKozdNRRR5mOHTtKA8FbW0z9KPF2mXbieo8jr6XyejiNCr8999yzxgcDbWeI+GR+5JFHJvHp+Hk7TYnXNhktUX6sndEFeyymhj9hyJmHH86cpsER0fU8OFuQOm/wxFHiLbbLL7/c/OMf/5Bw/nBKzj777EQmcDrooINqLBgl3oMPPihx4KmEE8Z6IdWHkRWmBJVw0FgozVMdcZge43XY//7v/9YocqShziqfEK5u+bEglPx4gkwj1xnijbjjjjsuLbqMljVFG3EVzrKp+rQVW45QvWtoe3Hty70O2Zuvbod4hGzexotzMOPBCLvnraUbbrhBzrUtCGGW1TaFysPVRadbeUhSoq3UZQncc9O41zamr732mozk80o9b3fyMVTaM94w81FWu5SFa8i+s/gWxcjWDx14QDzwwAN96sR7EYGSEMDWt3A7OhoCnlww9o8++kiegG3uPBkRlkY4D/ar5RqP+Wv71Xm9T2fP3PK//vUvvVXjyKgM3/txSeVjjtymED/ekuA7IZCb1uaTdf7NN98kb7bxpOPiwegSDa2OOikvlTnr45PIbztJmlaPofLReGk4+MovDXvl5doIT4380siXhx23qdlIlk3Vp63kwbSh7cUte/camUP2pvVE62deHmk2b+Nkn1NuWnc1L8LzYpbWNsEjzcbz6EKbYtcvN417TX6KKc4Po9m6pICwn/3sZ9Ie8XkQHyneae1SFq5Z9h3iWypGTPvZ+Ph0ivciAkUQyHSGijDKisuXlHl9lJEf/Q5NVvymEMabd4zs0KiVm7ShLjffLH6uM5QVt5Sw5mgjilN92gp5NIa9qG7VeqxmzGhjeRDj+22sNWRUn7aI0dxIEYGIgB8BrzN0yimnmGuuucafooS7jI4wpMlHv9KePEpgW7FJeGJhGPfXv/51vchY7vLJI2R9O0PNzUYU8/q2FfJpDHtR/ar1WM2YMcLF50B4g4034FgLycOorl2s1jKJckcE6hMBrzNUnxlG3tWJQH07Q9WJSpQ6IhARiAhEBJoCAokzxEn8RQyiDUQbiDYQbSDaQLSB5mgDtRZQNwUvL+pQXgSoGJEiAhGBiEBEICLQFBGgj4vOUFMs2TLrFJ2hMgMa2UUEIgIRgYhAxSAQnaGKKYrKFiQ6Q5VdPlG6iEBEICIQESgdgegMlY5ds0oZnaFmVdxR2YhARCAi0KwQaFBniA9+lfO7O+Xm16xKvqCyleAMlVrepabzQRTiFQr38Yz36geBvPtxlZJ7Xcu5runzyMyHb/lYYiVTfeJQn7wrGdMoW2kIeJ0h9txivzA2aLXps88+k33C9Iut1157reyhZcfJOuerqJdccklWFG8Yn5dnw1L2C7M/WZ/Fz5XNvfZmFG+mImA7Q88995xsWMtGje6PzR3ri7LKOyvPrHRF7SKLFzKEwrPkjGHlQ+Dtt9+WDw8uWrTIy7RoubtM3HIuys9N7/KvyzVfdWaPQz682KJFi8yv2dclH1/aSsIhC2NXTvfap1u817QR8DpDP/rRj6Qi8eExm/iaKRWMDycywrPNNtsY9r/JS6GvuuKAXXfddTXYjR07VvLceeedDXuksW/Xyy+/LHHS+Lmyudc1MogXuRCwnSE2uMQOfL+TTjopFz9fWYcSppV3qelKsYuQDKHwkKwxvDwISMPm2Q4H7qWUuyuVXc6l8LPTu7y5LqV+KJ/bbrtN6uajjz4qm1LrNh0aXl/HSsMhDWNXTve6vvCJfCsbAa8zxBdLtaPjyV/Jdoa4x07zRYZh04xT+Y8aNcp06NBBLw0bNiIHG36yzw778TA6tG7dOomTxc+Vzb1OMoknuRCwnSGmH/jKLT820j399NOT67z7BbllnUeIrPLOSp+VrqhdZPFChlB4lpwxrHwIZDlD5FK03F3J3HIuys9N7/IvpX4oj8mTJ8vms3rdkMdKwiELY1dO97ohMYt5VQYCqc4Q+9gwzMg2Gjot5jpD48ePN/Pnz080+fjjjw33evToISNGw4cPl13X9TPwGCcjPTy5sCPz0KFDzdq1ayX9zJkzZVflHXbYwZBuwoQJZsWKFeIMMUXmI9vYccpGjx5trrrqKonqyuZe42AtXbrU3HrrrbVkgUFIF5889j12tR45cqRhpKRfv341cCIeG8XOnTvXDBgwQPK/5ZZbks1jbT6Vcm47Q7ZMnTp1MmeffbZ9Kzl/6KGHzJAhQ8QewHv9+vUS5itrAkKY2eWdZGKdrF692px33nmCObagm93a6UJ2kkcGOqobb7xRtrnAhletWpVIYeelN++55x6pD3379jWzZs0Sp17D3GMof3Bk6xLsGdsivlJWPiG+ykOPIftMK1u2fXC3oWGUY/DgwcnGmllylqofTvjs2bNNnz59pP1gVIQHKXejZNWvaHug6fTolrPLL9R+kL5IW0i+afatMnFkHzLa7JYtWwoO2KlSWpkRnoW7ptd4We1mQ+Bgy8N5Gi52GYXqvSs3eGTpGSpfV8Z4XfkIpDpDOCt33nlnDWfEdYZsY2Oocb/99jNdunQxU6dONV27dpW07EdmO0PMYe+2227SaTH11a5dO7Np0yYzffp0SctUGB0aa4tIt9NOO5m2bduaBx54oJazoPkzUoEDRlrWs0AapkXgu27Tpo1Xljy6KF/fkYYZPXv37i17AulI25IlS5LoI0aMEHy6desm+m633XbGDk8iVshJUWdoypQpoh92hPOwxx57mNatW5sNGzZ4yzoPZm4Z2tCwnq1Vq1ayGSUdQvfu3ZOOUNOF7CSvDEzVtm/f3lCGPDBgd6xRgTQvlW3SpEmyQTGbZg4aNEg6qf79+2twjWPe/Onodt99d9OrV69Ex6x88vCtIYgxohvOhM8+s8r2oosukunzr7/+OmFJWbBHFpQlJ+HgV1Q/0g0bNkzsbeDAgbInl45spzlDbjlxndYeiODOny/9uHHjJFae9oP0RdrCLPu2RcMR3X///QVD2tHrr79egrPKjAjI48Pd5q3xsnCycakPHFx5snBRWUL1XvXS8tPrND3z6OXKGa8rH4FMZ4inw0MOOUQafjzrLGdozZo10hg9++yzojULaWmQFixYkKCAcTKSsHHjRrlHGHGWLVsm176hYfjhPBGPSr5w4cIa/MaMGSMbwNIhad5E0IqgkX3XabLk0UX5ph1VR8KZTmLEiwYJ+uCDD2TtEyNgSkwJVvImtkWcIZ6aWE9Gx6jE1OZWW20lT8Pc85V1FmakcctQeXNcvnx5DVuyw0iX107yyNC5c+dk1Ekq0BZbmIkTJ0qWtoyffvqp4DBjxoxEnGnTpomcOIU+ypM/Dwd2+jz5hPjasmTZZ6hsV65cKfrNmzdPWCIb5U4nnUdO8Cuq3yeffCIOJ6OBSpQHbUYRZyitPVCe9tEuZ+7b13naD+Jn5efWjyz7tuXi/NJLL5WHTL0fKjOV38Vd09vHkNz1jYMtC+dZuCBL3npvyw3fLD3zlK8rZ7yufAQynSHEf/rpp6VRoRHPcoaY7qLxYeoH0ikuhhqVXIPjrTXSqMPkNgCa7p///P/aO3uVynYojl+wsNdKUHwBRZnCbyztptJGi3kIYUC7sRcE30CnEVHBxlZQBFt9A+2GAYv7AufyC/d/Zt11s5Oc4xw850wCx+zsJCvra2evrKxs/w4ucDxJtP/+/XuoAh5lfniObPJj5coWlxJa7Fixa1YjnGQ5PDwMnjK8IjyYJLYNwPn8/DzWtS/vdWIMEWcGfXd3d/+h5dOnT6319fVwLybrFM/o5GVogeNFxFsyNjYWPE+sGJU60ZNucOClxhYYyeKoZ4c6ZM9vY2Mj8MYa7sKTvGR8+9KnT8k4ObgWh5R+5mRLbB9xf2yzk46Pj4PhT0xGCZ7wr1P6WEyhb1pUMa6M1E6MIesZsPOB5Y2urZy5Z8sl84dtT38/nn8+UvotnJR7YygnM+Hv+S54Ns/hbet7wQeLC9cpvoALesGv394Pno5a/ngOZI0hUMQdzxYE2w8oljwYVvHxfrClxRYCLz1OHHG8k6BnJduee6xugXd2dhaa+AlA/ZS/vLyEMZaXl8Mt4K2urrbYYmIrSrFNVPqxcmWLSwktwimWs+3H9gI8w21P7BCeIRlDGHPQzQpjUFInxlATfchNsvOyzvEMPnkZet6hH3ij4DX6h0GufiV60i0ObAmzHaix9FLF2EXObI/hqdCPAFfFM4VO//7pdvzcOCVwLR5N8qNNU52V7d7eXvDUQOPa2lr40TeHJ21iMs71u7q6Cnx+fHxsk/FeY8jOB22g5sLjacsl84dtD1g/nn8+aNOk3watcOmNoRKZeXw8TJV9O4+3re8VH4SL8ia+gEvJcw8ci3esbOksoUu41XxwOFBkDD0/PwdXN27UJmPo4uIiGELkeEOYwFiN2uQVzioY7ZgAiCFSYpvOp9nZ2dbCwkK4LXi45MGLSVhJdaVli0sJLYIby7USu7m5aVdPTk62jSFtJZycnLTruWBV3a+pE2Po/v4+yIOTf0q8kPHsEVBN8rLO8Yw+XqaC7XO2TdhaJWjX9svpSSkONuaHb7pgjBMTZMfiWlvFXs6hYeRP6fgytgQiN04JXMEiT+lniWxliPA8sjjiwAQphydtYjLO9cMI4vnX1hxw5N3q1jNk54OAvPvj8bTlkvnDtge0H88/H3Z4r9+2jmtvDJXIzOPjYars23m8bX2v+SCclHu+CJfcc09/tRUsX7Z0ltAlODUfHA4UGUOQQ3wLE06TMXR7exsmPlbJnz9/bm1vb4ftChRUKaVgtFE8BSsZXOqcTOHEDKcgeKC/fv0axv/27VsAaeF9+fIljH99ff2/Om7YtrGyVfYSWsIgDX+0HYAnAPc3JxPgmzxDeMsIvJ2amgoxUAROs4JmhduvqRNjiABD4moImoYmXlabm5uBBzp55WWd4xl88TK0vLq8vAwntfgo58PDQ4g7ge++X0pPSnFAlpwiI15ha2sr0GW9UDJWCFzmeUDOvJzZKmIrB89QLJWOL/iCkRunBK5gkaf0s0S2wJifnw98IShXwdQ5POkXk3GuH/X0g89sP7IlgpcaOX2EMVQyf3g67fwDH/zzkdJv2tvkjaESmXl8LDx77dt5vG19L/hgceE6xReLS+q5B45tGytbOkvo4gSxQgI8zrXcnxyIGkPs9ysGQmgTg8ELfHR0tP1tIbwdeuHwlWjq+AgjK0KUjwmJE2ZKtj33CNRkwsKLRCKIeGJiItybnp4OL1ECuGnDD/iMx+RHsvDwPOA1wvvAdpmt821jZYtLCS0BgYY/jM9xc+G9uLjYmpmZadmXGEed+UaP2qysrLQDyxvAfujtJmOI04OcGPTp6emp/UKERuSKUavkZV3CMy9TwSLnJUi8kPi5tLTU3oqy/VJ6UorDzs5OiIthLLxC+pwDeNixKMM3PJnCa2RkJGw7W9x1XTq+njn1y41TAtfC4jqlnznZ0v/o6CjQzDeobMrxw/NPfXP98GZp7sCDzZFyvFL2wIVgkftxfNnOB7afrn17Wy6ZP2x7YPrx/POR0m/hpHx3dzfEz6lMnpOZx8f2tde+ncfb1veCDxYXrlN8sbiknnvg2LaxsqWzhK65ubnwiQOPby33LweYY/7ij02sJGRw2Pts4zCxKrGCVBnjB2PJbvXs7++HCZH/EUOy7QXDfx0VeK+vr+EEltqwsuSextJ9D49tNfZzSb4uV6aPcCmhRTik8re3t3Z8FTz1+NP3x48frZ8/f6bA9EWd1xEhxVZojC7Vs43E/0iKpZisUzzzMvQwBU8xbar3/VJ6Qp8cDnoO0EnkapMfS3WcxiS2QTqm+7E8N36K36lxUnBjeHAvpZ8p2dKXF1Bsq5u6Jjyb+Cf8mvqpnhNrGlNzgeps7sfxZdqmZOXb23LJ/GHbCy8/nvRZdKjs9Vv9ldMO+LHUJLMYPrH+sXYWb1vfKz54vJr4YnGhT+q59219mf6is4Qu5sXYO9TjXsv9w4GoMdQNeniDWP0SO8GpM4Ktx8fH26dKuoH5UX1StKDkxIDw4bjY7/T0NGkcfBRN7x23yRh6L9zav3Jg2DiQmj+GjdYUPcPKh2GlKyXLP6HutxlDrF4ODg7CaSE+sMbpLmJ+OPo4aClFC9uFfO+I7b/YD9rlCRs0ulP4VmMoxZ1aVznwiwOp+eNXq+G/GlY+DCtdw6+RaQp/mzGUHqbWDjoHqjE06BKs+FcOVA5UDlQONHGgbQxxUX+VB1UHqg5UHag6UHWg6sCfqAP/AARYpwautTzLAAAAAElFTkSuQmCC)"
   ]
  },
  {
   "cell_type": "markdown",
   "metadata": {
    "colab_type": "text",
    "id": "kAQHgmbtelgH"
   },
   "source": [
    "There are some null or missing values you'll need to mitgate in a later step. However, let's look at the counts of unique values or codes per column first."
   ]
  },
  {
   "cell_type": "markdown",
   "metadata": {
    "colab_type": "text",
    "id": "atpuAuVTfqB-"
   },
   "source": [
    "### Count of unique values or codes\n",
    "<font color='teal'> **Print the count of unique values for every column, regardless of data type.**</font>"
   ]
  },
  {
   "cell_type": "code",
   "execution_count": 10,
   "metadata": {
    "colab": {},
    "colab_type": "code",
    "id": "uPd3Kki096wp"
   },
   "outputs": [
    {
     "name": "stdout",
     "output_type": "stream",
     "text": [
      "Name                 330\n",
      "Region               330\n",
      "state                330\n",
      "summit_elev          330\n",
      "vertical_drop        330\n",
      "base_elev            330\n",
      "trams                330\n",
      "fastEight            164\n",
      "fastSixes            330\n",
      "fastQuads            330\n",
      "quad                 330\n",
      "triple               330\n",
      "double               330\n",
      "surface              330\n",
      "total_chairs         330\n",
      "Runs                 326\n",
      "TerrainParks         279\n",
      "LongestRun_mi        325\n",
      "SkiableTerrain_ac    327\n",
      "Snow Making_ac       284\n",
      "daysOpenLastYear     279\n",
      "yearsOpen            329\n",
      "averageSnowfall      316\n",
      "AdultWeekday         276\n",
      "AdultWeekend         279\n",
      "projectedDaysOpen    283\n",
      "NightSkiing_ac       187\n",
      "dtype: int64\n"
     ]
    }
   ],
   "source": [
    "print(initial_df.count())"
   ]
  },
  {
   "cell_type": "markdown",
   "metadata": {
    "colab_type": "text",
    "id": "IpgqbVlqFqJH"
   },
   "source": [
    "<font color='teal'> **Print the percent of unique values per column. Use the `df.nunique` and the size of the dataframe to calculate the percentages.**</font>"
   ]
  },
  {
   "cell_type": "code",
   "execution_count": 11,
   "metadata": {
    "colab": {},
    "colab_type": "code",
    "id": "Zs84OwNJEy2a"
   },
   "outputs": [
    {
     "name": "stdout",
     "output_type": "stream",
     "text": [
      "Name                 99.696970\n",
      "Region               11.515152\n",
      "state                10.606061\n",
      "summit_elev          80.606061\n",
      "vertical_drop        58.484848\n",
      "base_elev            73.939394\n",
      "trams                 1.515152\n",
      "fastEight             1.219512\n",
      "fastSixes             2.121212\n",
      "fastQuads             4.242424\n",
      "quad                  2.121212\n",
      "triple                2.727273\n",
      "double                3.030303\n",
      "surface               3.636364\n",
      "total_chairs          9.393939\n",
      "Runs                 33.742331\n",
      "TerrainParks          3.942652\n",
      "LongestRun_mi        12.923077\n",
      "SkiableTerrain_ac    59.021407\n",
      "Snow Making_ac       50.352113\n",
      "daysOpenLastYear     39.784946\n",
      "yearsOpen            21.884498\n",
      "averageSnowfall      33.860759\n",
      "AdultWeekday         30.072464\n",
      "AdultWeekend         29.032258\n",
      "projectedDaysOpen    31.802120\n",
      "NightSkiing_ac       41.711230\n",
      "dtype: float64\n"
     ]
    }
   ],
   "source": [
    "print((initial_df.nunique()/(initial_df.count())*100))"
   ]
  },
  {
   "cell_type": "markdown",
   "metadata": {
    "colab_type": "text",
    "id": "aFjEno7hHXRK"
   },
   "source": [
    "When working with categorical columns, it's really helpful to know what the unique codes are. <font color='teal'> **For example, if you look at the `Region` or `state` column, youcan print out the different states in the dataframe.**</font>"
   ]
  },
  {
   "cell_type": "code",
   "execution_count": 12,
   "metadata": {
    "colab": {},
    "colab_type": "code",
    "id": "BMorHSRuIdnI"
   },
   "outputs": [
    {
     "name": "stdout",
     "output_type": "stream",
     "text": [
      "0       Alaska\n",
      "1       Alaska\n",
      "2       Alaska\n",
      "3      Arizona\n",
      "4      Arizona\n",
      "        ...   \n",
      "325    Wyoming\n",
      "326    Wyoming\n",
      "327    Wyoming\n",
      "328    Wyoming\n",
      "329    Wyoming\n",
      "Name: state, Length: 330, dtype: object\n"
     ]
    }
   ],
   "source": [
    "print(initial_df.state)"
   ]
  },
  {
   "cell_type": "markdown",
   "metadata": {
    "colab_type": "text",
    "id": "bedbwBrU-3yd"
   },
   "source": [
    "### Range of values per column\n",
    "\n",
    "<font color='teal'>**Print the range of values using the aggregate function.**</font>"
   ]
  },
  {
   "cell_type": "code",
   "execution_count": 19,
   "metadata": {
    "colab": {},
    "colab_type": "code",
    "id": "LPJCPG1P-Vvb"
   },
   "outputs": [
    {
     "name": "stdout",
     "output_type": "stream",
     "text": [
      "summit_elev          4591.818182\n",
      "vertical_drop        1215.427273\n",
      "base_elev            3374.000000\n",
      "trams                   0.172727\n",
      "fastEight               0.006098\n",
      "fastSixes               0.184848\n",
      "fastQuads               1.018182\n",
      "quad                    0.933333\n",
      "triple                  1.500000\n",
      "double                  1.833333\n",
      "surface                 2.621212\n",
      "total_chairs            8.266667\n",
      "Runs                   48.214724\n",
      "TerrainParks            2.820789\n",
      "LongestRun_mi           1.433231\n",
      "SkiableTerrain_ac     739.801223\n",
      "Snow Making_ac        174.873239\n",
      "daysOpenLastYear      115.103943\n",
      "yearsOpen              63.656535\n",
      "averageSnowfall       185.316456\n",
      "AdultWeekday           57.916957\n",
      "AdultWeekend           64.166810\n",
      "projectedDaysOpen     120.053004\n",
      "NightSkiing_ac        100.395722\n",
      "dtype: float64\n"
     ]
    }
   ],
   "source": [
    "print(initial_df.agg('mean',axis=0))"
   ]
  },
  {
   "cell_type": "markdown",
   "metadata": {
    "colab_type": "text",
    "id": "_c8RH6RK16Ix"
   },
   "source": [
    "<font color='teal'> **Review the numeric dataset's summary statistics.**</font>"
   ]
  },
  {
   "cell_type": "code",
   "execution_count": 13,
   "metadata": {
    "colab": {},
    "colab_type": "code",
    "id": "2IKIsz8qjRK6"
   },
   "outputs": [
    {
     "name": "stdout",
     "output_type": "stream",
     "text": [
      "        summit_elev  vertical_drop     base_elev       trams   fastEight  \\\n",
      "count    330.000000     330.000000    330.000000  330.000000  164.000000   \n",
      "mean    4591.818182    1215.427273   3374.000000    0.172727    0.006098   \n",
      "std     3735.535934     947.864557   3117.121621    0.559946    0.078087   \n",
      "min      315.000000      60.000000     70.000000    0.000000    0.000000   \n",
      "25%     1403.750000     461.250000    869.000000    0.000000    0.000000   \n",
      "50%     3127.500000     964.500000   1561.500000    0.000000    0.000000   \n",
      "75%     7806.000000    1800.000000   6325.250000    0.000000    0.000000   \n",
      "max    13487.000000    4425.000000  10800.000000    4.000000    1.000000   \n",
      "\n",
      "        fastSixes   fastQuads        quad     triple      double  ...  \\\n",
      "count  330.000000  330.000000  330.000000  330.00000  330.000000  ...   \n",
      "mean     0.184848    1.018182    0.933333    1.50000    1.833333  ...   \n",
      "std      0.651685    2.198294    1.312245    1.61913    1.815028  ...   \n",
      "min      0.000000    0.000000    0.000000    0.00000    0.000000  ...   \n",
      "25%      0.000000    0.000000    0.000000    0.00000    1.000000  ...   \n",
      "50%      0.000000    0.000000    0.000000    1.00000    1.000000  ...   \n",
      "75%      0.000000    1.000000    1.000000    2.00000    3.000000  ...   \n",
      "max      6.000000   15.000000    8.000000    8.00000   14.000000  ...   \n",
      "\n",
      "       LongestRun_mi  SkiableTerrain_ac  Snow Making_ac  daysOpenLastYear  \\\n",
      "count     325.000000         327.000000      284.000000        279.000000   \n",
      "mean        1.433231         739.801223      174.873239        115.103943   \n",
      "std         1.156171        1816.167441      261.336125         35.063251   \n",
      "min         0.000000           8.000000        2.000000          3.000000   \n",
      "25%         0.500000          85.000000       50.000000         97.000000   \n",
      "50%         1.000000         200.000000      100.000000        114.000000   \n",
      "75%         2.000000         690.000000      200.500000        135.000000   \n",
      "max         6.000000       26819.000000     3379.000000        305.000000   \n",
      "\n",
      "         yearsOpen  averageSnowfall  AdultWeekday  AdultWeekend  \\\n",
      "count   329.000000       316.000000    276.000000    279.000000   \n",
      "mean     63.656535       185.316456     57.916957     64.166810   \n",
      "std     109.429928       136.356842     26.140126     24.554584   \n",
      "min       6.000000        18.000000     15.000000     17.000000   \n",
      "25%      50.000000        69.000000     40.000000     47.000000   \n",
      "50%      58.000000       150.000000     50.000000     60.000000   \n",
      "75%      69.000000       300.000000     71.000000     77.500000   \n",
      "max    2019.000000       669.000000    179.000000    179.000000   \n",
      "\n",
      "       projectedDaysOpen  NightSkiing_ac  \n",
      "count         283.000000      187.000000  \n",
      "mean          120.053004      100.395722  \n",
      "std            31.045963      105.169620  \n",
      "min            30.000000        2.000000  \n",
      "25%           100.000000       40.000000  \n",
      "50%           120.000000       72.000000  \n",
      "75%           139.500000      114.000000  \n",
      "max           305.000000      650.000000  \n",
      "\n",
      "[8 rows x 24 columns]\n"
     ]
    }
   ],
   "source": [
    "print(initial_df.describe())"
   ]
  },
  {
   "cell_type": "markdown",
   "metadata": {
    "colab_type": "text",
    "id": "lSQPIPX89mC0"
   },
   "source": [
    "## Data Cleaning"
   ]
  },
  {
   "cell_type": "markdown",
   "metadata": {
    "colab_type": "text",
    "id": "ufPXh3kYL9ni"
   },
   "source": [
    "### Handle the missing and NA values\n",
    "Run the code below to print out the percent of each feature that is missing. You can see from the result of the code that there are 13 columns out of 27 missing data. Most of these are missing less than 10% of the data. You may need to adapt the code if your dataframe is named something other than df.\n",
    "\n",
    "\n",
    "*   Consider the columns individually \n",
    "*   Identify the appropriate fill method for each column\n",
    "\n"
   ]
  },
  {
   "cell_type": "code",
   "execution_count": 14,
   "metadata": {
    "colab": {},
    "colab_type": "code",
    "id": "tP876MPtg5ak"
   },
   "outputs": [
    {
     "data": {
      "text/html": [
       "<div>\n",
       "<style scoped>\n",
       "    .dataframe tbody tr th:only-of-type {\n",
       "        vertical-align: middle;\n",
       "    }\n",
       "\n",
       "    .dataframe tbody tr th {\n",
       "        vertical-align: top;\n",
       "    }\n",
       "\n",
       "    .dataframe thead th {\n",
       "        text-align: right;\n",
       "    }\n",
       "</style>\n",
       "<table border=\"1\" class=\"dataframe\">\n",
       "  <thead>\n",
       "    <tr style=\"text-align: right;\">\n",
       "      <th></th>\n",
       "      <th>percent</th>\n",
       "    </tr>\n",
       "  </thead>\n",
       "  <tbody>\n",
       "    <tr>\n",
       "      <th>fastEight</th>\n",
       "      <td>50.303030</td>\n",
       "    </tr>\n",
       "    <tr>\n",
       "      <th>NightSkiing_ac</th>\n",
       "      <td>43.333333</td>\n",
       "    </tr>\n",
       "    <tr>\n",
       "      <th>AdultWeekday</th>\n",
       "      <td>16.363636</td>\n",
       "    </tr>\n",
       "    <tr>\n",
       "      <th>AdultWeekend</th>\n",
       "      <td>15.454545</td>\n",
       "    </tr>\n",
       "    <tr>\n",
       "      <th>daysOpenLastYear</th>\n",
       "      <td>15.454545</td>\n",
       "    </tr>\n",
       "    <tr>\n",
       "      <th>TerrainParks</th>\n",
       "      <td>15.454545</td>\n",
       "    </tr>\n",
       "    <tr>\n",
       "      <th>projectedDaysOpen</th>\n",
       "      <td>14.242424</td>\n",
       "    </tr>\n",
       "    <tr>\n",
       "      <th>Snow Making_ac</th>\n",
       "      <td>13.939394</td>\n",
       "    </tr>\n",
       "    <tr>\n",
       "      <th>averageSnowfall</th>\n",
       "      <td>4.242424</td>\n",
       "    </tr>\n",
       "    <tr>\n",
       "      <th>LongestRun_mi</th>\n",
       "      <td>1.515152</td>\n",
       "    </tr>\n",
       "    <tr>\n",
       "      <th>Runs</th>\n",
       "      <td>1.212121</td>\n",
       "    </tr>\n",
       "    <tr>\n",
       "      <th>SkiableTerrain_ac</th>\n",
       "      <td>0.909091</td>\n",
       "    </tr>\n",
       "    <tr>\n",
       "      <th>yearsOpen</th>\n",
       "      <td>0.303030</td>\n",
       "    </tr>\n",
       "  </tbody>\n",
       "</table>\n",
       "</div>"
      ],
      "text/plain": [
       "                     percent\n",
       "fastEight          50.303030\n",
       "NightSkiing_ac     43.333333\n",
       "AdultWeekday       16.363636\n",
       "AdultWeekend       15.454545\n",
       "daysOpenLastYear   15.454545\n",
       "TerrainParks       15.454545\n",
       "projectedDaysOpen  14.242424\n",
       "Snow Making_ac     13.939394\n",
       "averageSnowfall     4.242424\n",
       "LongestRun_mi       1.515152\n",
       "Runs                1.212121\n",
       "SkiableTerrain_ac   0.909091\n",
       "yearsOpen           0.303030"
      ]
     },
     "execution_count": 14,
     "metadata": {},
     "output_type": "execute_result"
    }
   ],
   "source": [
    "nas=pd.DataFrame(100*(initial_df.isnull().sum().sort_values(ascending=False)/len(initial_df)),columns = ['percent'])\n",
    "pos = nas['percent'] > 0\n",
    "nas[pos]"
   ]
  },
  {
   "cell_type": "markdown",
   "metadata": {
    "colab_type": "text",
    "id": "q1axmz9hN6Xc"
   },
   "source": [
    "Let's review each of these columns in the data.\n",
    "\n",
    "\n",
    "*   fastEight is the number of fast eight-person ski lifts at each of the resorts. In addition, you have the counts of all the other types of chairs at each resort and the total number of chairs as well. You can simply subtract the number of fastEight lifts from the total to determine if any of the missing values can be backfilled or if they should be equal to zero. Follow the next step below and see for yourself how to review and backfill these missing values. These columns contain all the resort lift counts by type.\n",
    "\n",
    "\n",
    "* trams\t\n",
    "* fastEight\t\n",
    "* fastSixes\t\n",
    "* fastQuads\t\n",
    "* quad\n",
    "* triple\t\n",
    "* double\t\n",
    "* surface\t\n",
    "* total_chairs <- the sum of these columns for each row.\n",
    "\n",
    "\n"
   ]
  },
  {
   "cell_type": "markdown",
   "metadata": {
    "colab_type": "text",
    "id": "_eMu5dgw16I6"
   },
   "source": [
    "<font color='teal'> **In order to determine an appropriate fill value for the fastEigth column, you need to calculate the difference between the sum of all the chairlift columns and the `total_chairs` column.**</font>"
   ]
  },
  {
   "cell_type": "code",
   "execution_count": 15,
   "metadata": {
    "colab": {},
    "colab_type": "code",
    "id": "nE6QG0TSN3-M"
   },
   "outputs": [
    {
     "name": "stdout",
     "output_type": "stream",
     "text": [
      "0      7.0\n",
      "1      4.0\n",
      "2      3.0\n",
      "3      8.0\n",
      "4      NaN\n",
      "      ... \n",
      "325    NaN\n",
      "326    3.0\n",
      "327    NaN\n",
      "328    5.0\n",
      "329    NaN\n",
      "Length: 330, dtype: float64\n"
     ]
    }
   ],
   "source": [
    "# did not understand\n",
    "print(initial_df.total_chairs-initial_df.fastEight)"
   ]
  },
  {
   "cell_type": "markdown",
   "metadata": {
    "colab_type": "text",
    "id": "xH-IfUjoQmcq"
   },
   "source": [
    "As you can see from running the above cell, there are no fastEight lift values missing because the difference between the sum of all the lift columns and the 'total_chairs' column is zero for every row in the dataframe. This confirms that you can therefore replace the missing values for the fastEight rows with zeros."
   ]
  },
  {
   "cell_type": "markdown",
   "metadata": {
    "colab_type": "text",
    "id": "4JX9cGoecv5W"
   },
   "source": [
    "<font color='teal'> **In the cell below, replace Nan's in 'fastEight' with zero.**</font>"
   ]
  },
  {
   "cell_type": "code",
   "execution_count": 85,
   "metadata": {
    "colab": {},
    "colab_type": "code",
    "id": "g0wPY6L0c9Uj"
   },
   "outputs": [
    {
     "data": {
      "text/plain": [
       "0"
      ]
     },
     "execution_count": 85,
     "metadata": {},
     "output_type": "execute_result"
    }
   ],
   "source": [
    "initial_df['fastEight'].fillna(0, inplace=True)\n",
    "initial_df['fastEight'].head(10)\n",
    "initial_df['fastEight'].isna().sum()"
   ]
  },
  {
   "cell_type": "markdown",
   "metadata": {
    "colab_type": "text",
    "id": "GLO93pCZRPjZ"
   },
   "source": [
    "Consider the next column with missing values, 'NightSkiing_ac'. This column represents the number of acres of night skiing availble at this resort. Not all resorts have night skiing because it requires stadium lights and is not that popular with skiers and snowboarders. Given that information, it is also safe to assume that if there are missing values in this column, it is due to there not being any night skiing acres available at that resort so you can fill missing values with zeros safely. "
   ]
  },
  {
   "cell_type": "code",
   "execution_count": 87,
   "metadata": {},
   "outputs": [
    {
     "data": {
      "text/plain": [
       "0"
      ]
     },
     "execution_count": 87,
     "metadata": {},
     "output_type": "execute_result"
    }
   ],
   "source": [
    "# fill NightSkiing_ac column with 0's\n",
    "initial_df['NightSkiing_ac'].fillna(0, inplace=True)\n",
    "initial_df['NightSkiing_ac'].isna().sum()"
   ]
  },
  {
   "cell_type": "markdown",
   "metadata": {
    "colab_type": "text",
    "id": "2wjRuQuYSDwe"
   },
   "source": [
    "Next, let's consider the ticket price columns 'AdultWeekday' & 'AdultWeekend'. You know that there has to be a price for these that happens to be missing so, in this case, you cannot fill the missing values with zeros. Instead, you have a few options about what value you can use to fill the missing rows. You can simply take the mean of the column in consideration or you could backfill or forwardfill from the resort in the row before or after your missing value. Backfill and forward fill would be more reasonable in a situation where the data are in a particular order where the rows near each other are similar to each other in the price column. You could also build an imputation model to use a model to predict the value based on the data values in adjacent columns as well as adjacent rows. "
   ]
  },
  {
   "cell_type": "markdown",
   "metadata": {
    "colab_type": "text",
    "id": "n4WYxGy116JG"
   },
   "source": [
    "<font color='teal'> **Run the cell below to replace Nan's in 'AdultWeekday' with the mean value.**</font>"
   ]
  },
  {
   "cell_type": "code",
   "execution_count": 88,
   "metadata": {
    "colab": {},
    "colab_type": "code",
    "id": "GRBc0y3fcFaP"
   },
   "outputs": [
    {
     "data": {
      "text/plain": [
       "0"
      ]
     },
     "execution_count": 88,
     "metadata": {},
     "output_type": "execute_result"
    }
   ],
   "source": [
    "initial_df['AdultWeekday'].fillna((initial_df['AdultWeekday'].mean()), inplace=True)\n",
    "initial_df['AdultWeekday'].isna().sum()"
   ]
  },
  {
   "cell_type": "markdown",
   "metadata": {
    "colab_type": "text",
    "id": "eyDy_DU6cGuu"
   },
   "source": [
    "<font color='teal'> **Use what you know about the remaining columns missing data and decide whether to fill with a zero or to fill with a mean.**</font>\n"
   ]
  },
  {
   "cell_type": "code",
   "execution_count": 89,
   "metadata": {
    "colab": {},
    "colab_type": "code",
    "id": "wWoDsltOdzpn"
   },
   "outputs": [
    {
     "data": {
      "text/plain": [
       "0"
      ]
     },
     "execution_count": 89,
     "metadata": {},
     "output_type": "execute_result"
    }
   ],
   "source": [
    "# NaN's in AdultWeekend' column can be filled with mean values over the column, similar to 'AdultWeekday'\n",
    "initial_df['AdultWeekend'].fillna((initial_df['AdultWeekend'].mean()), inplace=True)\n",
    "initial_df['AdultWeekend'].isna().sum()"
   ]
  },
  {
   "cell_type": "code",
   "execution_count": 98,
   "metadata": {},
   "outputs": [
    {
     "data": {
      "text/plain": [
       "0"
      ]
     },
     "execution_count": 98,
     "metadata": {},
     "output_type": "execute_result"
    },
    {
     "data": {
      "image/png": "[encoded data removed]",
      "text/plain": [
       "<Figure size 432x288 with 1 Axes>"
      ]
     },
     "metadata": {
      "needs_background": "light"
     },
     "output_type": "display_data"
    }
   ],
   "source": [
    "# fill NaN for 'daysopenlastyear' column---by forward fill\n",
    "initial_df.daysOpenLastYear.fillna(method='ffill',inplace=True)\n",
    "initial_df.daysOpenLastYear.plot()\n",
    "initial_df['daysOpenLastYear'].isna().sum()"
   ]
  },
  {
   "cell_type": "code",
   "execution_count": 99,
   "metadata": {},
   "outputs": [
    {
     "data": {
      "text/plain": [
       "0"
      ]
     },
     "execution_count": 99,
     "metadata": {},
     "output_type": "execute_result"
    }
   ],
   "source": [
    "## fill Nan for 'terrainparks'---forward filled--as plotting the data suggested missing between adjacent values\n",
    "initial_df['TerrainParks'].fillna(method='ffill',inplace=True)\n",
    "initial_df['TerrainParks'].isna().sum()"
   ]
  },
  {
   "cell_type": "code",
   "execution_count": 100,
   "metadata": {},
   "outputs": [
    {
     "data": {
      "text/plain": [
       "0"
      ]
     },
     "execution_count": 100,
     "metadata": {},
     "output_type": "execute_result"
    },
    {
     "data": {
      "image/png": "[encoded data removed]",
      "text/plain": [
       "<Figure size 432x288 with 1 Axes>"
      ]
     },
     "metadata": {
      "needs_background": "light"
     },
     "output_type": "display_data"
    }
   ],
   "source": [
    "# fill NaN for 'projectedDaysOpen'---by forwardfill\n",
    "initial_df.projectedDaysOpen.fillna(method='ffill',inplace=True)\n",
    "initial_df['projectedDaysOpen'].plot()\n",
    "initial_df['projectedDaysOpen'].isna().sum()"
   ]
  },
  {
   "cell_type": "code",
   "execution_count": 102,
   "metadata": {},
   "outputs": [
    {
     "data": {
      "text/plain": [
       "0"
      ]
     },
     "execution_count": 102,
     "metadata": {},
     "output_type": "execute_result"
    },
    {
     "data": {
      "image/png": "[encoded data removed]",
      "text/plain": [
       "<Figure size 432x288 with 1 Axes>"
      ]
     },
     "metadata": {
      "needs_background": "light"
     },
     "output_type": "display_data"
    }
   ],
   "source": [
    "# fill NaN for 'Snow Making_ac'---by forwardfill\n",
    "initial_df['Snow Making_ac'].fillna(method='ffill',inplace=True)\n",
    "initial_df['Snow Making_ac'].plot()\n",
    "initial_df['Snow Making_ac'].isna().sum()"
   ]
  },
  {
   "cell_type": "code",
   "execution_count": 104,
   "metadata": {},
   "outputs": [
    {
     "data": {
      "text/plain": [
       "0"
      ]
     },
     "execution_count": 104,
     "metadata": {},
     "output_type": "execute_result"
    }
   ],
   "source": [
    "# fill NaN for 'averageSnowfall'---by interpolation\n",
    "initial_df['averageSnowfall'].interpolate(method='nearest',inplace=True)\n",
    "initial_df['averageSnowfall'].isna().sum()"
   ]
  },
  {
   "cell_type": "code",
   "execution_count": 105,
   "metadata": {},
   "outputs": [
    {
     "data": {
      "text/plain": [
       "0"
      ]
     },
     "execution_count": 105,
     "metadata": {},
     "output_type": "execute_result"
    }
   ],
   "source": [
    "# fill NaN for 'LongestRun_mi'---by nearest interpolation\n",
    "initial_df['LongestRun_mi'].interpolate(method='nearest',inplace=True)\n",
    "initial_df['LongestRun_mi'].isna().sum()"
   ]
  },
  {
   "cell_type": "code",
   "execution_count": 107,
   "metadata": {},
   "outputs": [
    {
     "data": {
      "text/plain": [
       "0"
      ]
     },
     "execution_count": 107,
     "metadata": {},
     "output_type": "execute_result"
    }
   ],
   "source": [
    "# fill NaN for 'Runs'---by forwardfill\n",
    "initial_df.Runs.fillna(method='ffill',inplace=True)\n",
    "initial_df['Runs'].isna().sum()"
   ]
  },
  {
   "cell_type": "code",
   "execution_count": 109,
   "metadata": {},
   "outputs": [
    {
     "data": {
      "text/plain": [
       "0"
      ]
     },
     "execution_count": 109,
     "metadata": {},
     "output_type": "execute_result"
    }
   ],
   "source": [
    "# fill NaN for 'SkiableTerrain_ac'---by forwardfill\n",
    "initial_df.SkiableTerrain_ac.fillna(method='ffill',inplace=True)\n",
    "initial_df['SkiableTerrain_ac'].isna().sum()"
   ]
  },
  {
   "cell_type": "code",
   "execution_count": 110,
   "metadata": {
    "colab": {},
    "colab_type": "code",
    "id": "BS4DuD1memOa"
   },
   "outputs": [
    {
     "data": {
      "text/plain": [
       "0"
      ]
     },
     "execution_count": 110,
     "metadata": {},
     "output_type": "execute_result"
    }
   ],
   "source": [
    "# fill NaN for 'yearsOpen'---by filling with 0--very little(0.3%) data is NaN, it can be assumed they are operating in their first year\n",
    "initial_df['yearsOpen'].fillna(0, inplace=True)\n",
    "initial_df['yearsOpen'].isna().sum()"
   ]
  },
  {
   "cell_type": "markdown",
   "metadata": {
    "colab_type": "text",
    "id": "RXaBaMe916JQ"
   },
   "source": [
    "### Look for duplicate rows\n",
    "Run the code below to print out the duplicated rows.You can see there are no duplicate rows, so in this particular case there is nothing else to do related to duplicate rows. You will review duplicate or synonymous columns in Step 3 of the Guided Capstone."
   ]
  },
  {
   "cell_type": "code",
   "execution_count": 111,
   "metadata": {
    "colab": {},
    "colab_type": "code",
    "id": "c5HRbrLs16JR"
   },
   "outputs": [
    {
     "data": {
      "text/html": [
       "<div>\n",
       "<style scoped>\n",
       "    .dataframe tbody tr th:only-of-type {\n",
       "        vertical-align: middle;\n",
       "    }\n",
       "\n",
       "    .dataframe tbody tr th {\n",
       "        vertical-align: top;\n",
       "    }\n",
       "\n",
       "    .dataframe thead th {\n",
       "        text-align: right;\n",
       "    }\n",
       "</style>\n",
       "<table border=\"1\" class=\"dataframe\">\n",
       "  <thead>\n",
       "    <tr style=\"text-align: right;\">\n",
       "      <th></th>\n",
       "      <th>Name</th>\n",
       "      <th>Region</th>\n",
       "      <th>state</th>\n",
       "      <th>summit_elev</th>\n",
       "      <th>vertical_drop</th>\n",
       "      <th>base_elev</th>\n",
       "      <th>trams</th>\n",
       "      <th>fastEight</th>\n",
       "      <th>fastSixes</th>\n",
       "      <th>fastQuads</th>\n",
       "      <th>...</th>\n",
       "      <th>LongestRun_mi</th>\n",
       "      <th>SkiableTerrain_ac</th>\n",
       "      <th>Snow Making_ac</th>\n",
       "      <th>daysOpenLastYear</th>\n",
       "      <th>yearsOpen</th>\n",
       "      <th>averageSnowfall</th>\n",
       "      <th>AdultWeekday</th>\n",
       "      <th>AdultWeekend</th>\n",
       "      <th>projectedDaysOpen</th>\n",
       "      <th>NightSkiing_ac</th>\n",
       "    </tr>\n",
       "  </thead>\n",
       "  <tbody>\n",
       "  </tbody>\n",
       "</table>\n",
       "<p>0 rows × 27 columns</p>\n",
       "</div>"
      ],
      "text/plain": [
       "Empty DataFrame\n",
       "Columns: [Name, Region, state, summit_elev, vertical_drop, base_elev, trams, fastEight, fastSixes, fastQuads, quad, triple, double, surface, total_chairs, Runs, TerrainParks, LongestRun_mi, SkiableTerrain_ac, Snow Making_ac, daysOpenLastYear, yearsOpen, averageSnowfall, AdultWeekday, AdultWeekend, projectedDaysOpen, NightSkiing_ac]\n",
       "Index: []\n",
       "\n",
       "[0 rows x 27 columns]"
      ]
     },
     "execution_count": 111,
     "metadata": {},
     "output_type": "execute_result"
    }
   ],
   "source": [
    "duplicateRowsDF = initial_df[initial_df.duplicated()]\n",
    "duplicateRowsDF"
   ]
  },
  {
   "cell_type": "markdown",
   "metadata": {
    "colab_type": "text",
    "id": "dWqT9uvWiypo"
   },
   "source": [
    "## Export data to a new csv file \n",
    "In order to bring the changes you made here into the next notebook, you need to write out the updated data frame to a new csv file."
   ]
  },
  {
   "cell_type": "markdown",
   "metadata": {
    "colab_type": "text",
    "id": "UsuerKEu16JU"
   },
   "source": [
    "<font color='teal'> **Export the processed dataframe as a csv file to the data folder you created earlier. Name this new csv file `step2_output.csv`.**</font>"
   ]
  },
  {
   "cell_type": "code",
   "execution_count": 112,
   "metadata": {
    "colab": {},
    "colab_type": "code",
    "id": "M4lsWjImoc3C"
   },
   "outputs": [],
   "source": [
    "initial_df.to_csv('/resources/springboard/GuidedCapstone/data/step2_output.csv')"
   ]
  },
  {
   "cell_type": "markdown",
   "metadata": {
    "colab_type": "text",
    "id": "KGMPQOFolxvs"
   },
   "source": [
    "The data transformations created in this step of the DSM are all generally steps to be applied to any data science project. However, the decisions we made about how to handle the missing and NA data are specific to the problem at hand. In the next step of the DSM and the next Guided Capstone Notebook, you'll see how all these steps prepare the data for exploratory data analysis."
   ]
  },
  {
   "cell_type": "code",
   "execution_count": null,
   "metadata": {},
   "outputs": [],
   "source": []
  }
 ],
 "metadata": {
  "colab": {
   "collapsed_sections": [],
   "name": "GuidedCapstoneStep2.ipynb",
   "provenance": [],
   "toc_visible": true
  },
  "kernelspec": {
   "display_name": "Python",
   "language": "python",
   "name": "conda-env-python-py"
  },
  "language_info": {
   "codemirror_mode": {
    "name": "ipython",
    "version": 3
   },
   "file_extension": ".py",
   "mimetype": "text/x-python",
   "name": "python",
   "nbconvert_exporter": "python",
   "pygments_lexer": "ipython3",
   "version": "3.6.10"
  },
  "toc": {
   "base_numbering": "0",
   "nav_menu": {},
   "number_sections": true,
   "sideBar": true,
   "skip_h1_title": false,
   "title_cell": "Table of Contents",
   "title_sidebar": "Contents",
   "toc_cell": true,
   "toc_position": {
    "height": "calc(100% - 180px)",
    "left": "10px",
    "top": "150px",
    "width": "288px"
   },
   "toc_section_display": true,
   "toc_window_display": true
  }
 },
 "nbformat": 4,
 "nbformat_minor": 4
}
