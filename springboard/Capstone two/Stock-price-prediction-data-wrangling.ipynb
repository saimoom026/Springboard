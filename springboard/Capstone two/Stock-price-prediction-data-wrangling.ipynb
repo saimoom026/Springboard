{
 "cells": [
  {
   "cell_type": "markdown",
   "metadata": {},
   "source": [
    "  "
   ]
  },
  {
   "cell_type": "markdown",
   "metadata": {},
   "source": [
    "# Apple Stock Price Prediction \n",
    "## Step 2 Data Wrangling\n",
    "\n",
    "\n",
    "This step consists of multiple components including Data Collection, Data Organization, Data Definitions, and Data Cleaning."
   ]
  },
  {
   "cell_type": "markdown",
   "metadata": {},
   "source": [
    "2.   **Data Wrangling** \n",
    "  * Data Collection\n",
    "      - Data loading\n",
    "   * Data Organization\n",
    "      -  File structure\n",
    "  * Data Definition\n",
    "      - Column names\n",
    "      - Data types (numeric, categorical, timestamp, etc.)\n",
    "      - Description of the columns\n",
    "      - Count or percent per unique values or codes (including NA)\n",
    "      - The range of values or codes  \n",
    "  * Data Cleaning\n",
    "      - NA or missing data\n",
    "      - Duplicates\n",
    "  * Apple stock data\n",
    "      - Merge dataframe together\n",
    "      - Save as a new csv file "
   ]
  },
  {
   "cell_type": "markdown",
   "metadata": {},
   "source": [
    "## Data Collection"
   ]
  },
  {
   "cell_type": "code",
   "execution_count": 2,
   "metadata": {},
   "outputs": [],
   "source": [
    "#load python packages\n",
    "import os\n",
    "import pandas as pd\n",
    "import datetime\n",
    "import seaborn as sns\n",
    "import matplotlib.pyplot as plt\n",
    "import numpy as np\n",
    "%matplotlib inline"
   ]
  },
  {
   "cell_type": "markdown",
   "metadata": {},
   "source": [
    "### Load the data from the csv file\n",
    "Load `csv` files consist of `dividend`,`earnings`,`stockprice` and `summary` data down loaded from **Kaggle** data [https://www.kaggle.com/tsaustin/us-historical-stock-prices-with-earnings-data?select=stocks_latest]"
   ]
  },
  {
   "cell_type": "code",
   "execution_count": 3,
   "metadata": {},
   "outputs": [],
   "source": [
    "# load data\n",
    "dividend_df = pd.read_csv('data/dividends_latest.csv')\n",
    "earning_df = pd.read_csv('data/earnings_latest.csv')\n",
    "stockprice_df = pd.read_csv('data/stock_prices_latest.csv')\n",
    "summary_df=pd.read_csv('data/dataset_summary.csv')"
   ]
  },
  {
   "cell_type": "markdown",
   "metadata": {},
   "source": [
    "<font color='teal'> Load the data into a pandas dataframe and print the first five rows of the dataframe(s).</font>"
   ]
  },
  {
   "cell_type": "code",
   "execution_count": 4,
   "metadata": {},
   "outputs": [
    {
     "data": {
      "text/html": [
       "<div>\n",
       "<style scoped>\n",
       "    .dataframe tbody tr th:only-of-type {\n",
       "        vertical-align: middle;\n",
       "    }\n",
       "\n",
       "    .dataframe tbody tr th {\n",
       "        vertical-align: top;\n",
       "    }\n",
       "\n",
       "    .dataframe thead th {\n",
       "        text-align: right;\n",
       "    }\n",
       "</style>\n",
       "<table border=\"1\" class=\"dataframe\">\n",
       "  <thead>\n",
       "    <tr style=\"text-align: right;\">\n",
       "      <th></th>\n",
       "      <th>symbol</th>\n",
       "      <th>date</th>\n",
       "      <th>dividend</th>\n",
       "    </tr>\n",
       "  </thead>\n",
       "  <tbody>\n",
       "    <tr>\n",
       "      <th>0</th>\n",
       "      <td>MSFT</td>\n",
       "      <td>2016-11-15</td>\n",
       "      <td>0.39</td>\n",
       "    </tr>\n",
       "    <tr>\n",
       "      <th>1</th>\n",
       "      <td>MSFT</td>\n",
       "      <td>2011-05-17</td>\n",
       "      <td>0.16</td>\n",
       "    </tr>\n",
       "    <tr>\n",
       "      <th>2</th>\n",
       "      <td>MSFT</td>\n",
       "      <td>2008-05-13</td>\n",
       "      <td>0.11</td>\n",
       "    </tr>\n",
       "    <tr>\n",
       "      <th>3</th>\n",
       "      <td>MSFT</td>\n",
       "      <td>2011-02-15</td>\n",
       "      <td>0.16</td>\n",
       "    </tr>\n",
       "    <tr>\n",
       "      <th>4</th>\n",
       "      <td>MSFT</td>\n",
       "      <td>2012-02-14</td>\n",
       "      <td>0.20</td>\n",
       "    </tr>\n",
       "  </tbody>\n",
       "</table>\n",
       "</div>"
      ],
      "text/plain": [
       "  symbol        date  dividend\n",
       "0   MSFT  2016-11-15      0.39\n",
       "1   MSFT  2011-05-17      0.16\n",
       "2   MSFT  2008-05-13      0.11\n",
       "3   MSFT  2011-02-15      0.16\n",
       "4   MSFT  2012-02-14      0.20"
      ]
     },
     "execution_count": 4,
     "metadata": {},
     "output_type": "execute_result"
    }
   ],
   "source": [
    "dividend_df.head(5)"
   ]
  },
  {
   "cell_type": "code",
   "execution_count": 5,
   "metadata": {},
   "outputs": [
    {
     "data": {
      "text/html": [
       "<div>\n",
       "<style scoped>\n",
       "    .dataframe tbody tr th:only-of-type {\n",
       "        vertical-align: middle;\n",
       "    }\n",
       "\n",
       "    .dataframe tbody tr th {\n",
       "        vertical-align: top;\n",
       "    }\n",
       "\n",
       "    .dataframe thead th {\n",
       "        text-align: right;\n",
       "    }\n",
       "</style>\n",
       "<table border=\"1\" class=\"dataframe\">\n",
       "  <thead>\n",
       "    <tr style=\"text-align: right;\">\n",
       "      <th></th>\n",
       "      <th>symbol</th>\n",
       "      <th>date</th>\n",
       "      <th>qtr</th>\n",
       "      <th>eps_est</th>\n",
       "      <th>eps</th>\n",
       "      <th>release_time</th>\n",
       "    </tr>\n",
       "  </thead>\n",
       "  <tbody>\n",
       "    <tr>\n",
       "      <th>0</th>\n",
       "      <td>A</td>\n",
       "      <td>2009-05-14</td>\n",
       "      <td>04/2009</td>\n",
       "      <td>NaN</td>\n",
       "      <td>NaN</td>\n",
       "      <td>post</td>\n",
       "    </tr>\n",
       "    <tr>\n",
       "      <th>1</th>\n",
       "      <td>A</td>\n",
       "      <td>2009-08-17</td>\n",
       "      <td>07/2009</td>\n",
       "      <td>NaN</td>\n",
       "      <td>NaN</td>\n",
       "      <td>post</td>\n",
       "    </tr>\n",
       "    <tr>\n",
       "      <th>2</th>\n",
       "      <td>A</td>\n",
       "      <td>2009-11-13</td>\n",
       "      <td>10/2009</td>\n",
       "      <td>NaN</td>\n",
       "      <td>NaN</td>\n",
       "      <td>pre</td>\n",
       "    </tr>\n",
       "    <tr>\n",
       "      <th>3</th>\n",
       "      <td>A</td>\n",
       "      <td>2010-02-12</td>\n",
       "      <td>01/2010</td>\n",
       "      <td>NaN</td>\n",
       "      <td>NaN</td>\n",
       "      <td>pre</td>\n",
       "    </tr>\n",
       "    <tr>\n",
       "      <th>4</th>\n",
       "      <td>A</td>\n",
       "      <td>2010-05-17</td>\n",
       "      <td>04/2010</td>\n",
       "      <td>NaN</td>\n",
       "      <td>NaN</td>\n",
       "      <td>post</td>\n",
       "    </tr>\n",
       "  </tbody>\n",
       "</table>\n",
       "</div>"
      ],
      "text/plain": [
       "  symbol        date      qtr  eps_est  eps release_time\n",
       "0      A  2009-05-14  04/2009      NaN  NaN         post\n",
       "1      A  2009-08-17  07/2009      NaN  NaN         post\n",
       "2      A  2009-11-13  10/2009      NaN  NaN          pre\n",
       "3      A  2010-02-12  01/2010      NaN  NaN          pre\n",
       "4      A  2010-05-17  04/2010      NaN  NaN         post"
      ]
     },
     "execution_count": 5,
     "metadata": {},
     "output_type": "execute_result"
    }
   ],
   "source": [
    "earning_df.head(5)"
   ]
  },
  {
   "cell_type": "code",
   "execution_count": 6,
   "metadata": {},
   "outputs": [
    {
     "data": {
      "text/html": [
       "<div>\n",
       "<style scoped>\n",
       "    .dataframe tbody tr th:only-of-type {\n",
       "        vertical-align: middle;\n",
       "    }\n",
       "\n",
       "    .dataframe tbody tr th {\n",
       "        vertical-align: top;\n",
       "    }\n",
       "\n",
       "    .dataframe thead th {\n",
       "        text-align: right;\n",
       "    }\n",
       "</style>\n",
       "<table border=\"1\" class=\"dataframe\">\n",
       "  <thead>\n",
       "    <tr style=\"text-align: right;\">\n",
       "      <th></th>\n",
       "      <th>symbol</th>\n",
       "      <th>date</th>\n",
       "      <th>open</th>\n",
       "      <th>high</th>\n",
       "      <th>low</th>\n",
       "      <th>close</th>\n",
       "      <th>close_adjusted</th>\n",
       "      <th>volume</th>\n",
       "      <th>split_coefficient</th>\n",
       "    </tr>\n",
       "  </thead>\n",
       "  <tbody>\n",
       "    <tr>\n",
       "      <th>0</th>\n",
       "      <td>MSFT</td>\n",
       "      <td>2016-05-16</td>\n",
       "      <td>50.80</td>\n",
       "      <td>51.96</td>\n",
       "      <td>50.75</td>\n",
       "      <td>51.83</td>\n",
       "      <td>49.7013</td>\n",
       "      <td>20032017</td>\n",
       "      <td>1.0</td>\n",
       "    </tr>\n",
       "    <tr>\n",
       "      <th>1</th>\n",
       "      <td>MSFT</td>\n",
       "      <td>2002-01-16</td>\n",
       "      <td>68.85</td>\n",
       "      <td>69.84</td>\n",
       "      <td>67.85</td>\n",
       "      <td>67.87</td>\n",
       "      <td>22.5902</td>\n",
       "      <td>30977700</td>\n",
       "      <td>1.0</td>\n",
       "    </tr>\n",
       "    <tr>\n",
       "      <th>2</th>\n",
       "      <td>MSFT</td>\n",
       "      <td>2001-09-18</td>\n",
       "      <td>53.41</td>\n",
       "      <td>55.00</td>\n",
       "      <td>53.17</td>\n",
       "      <td>54.32</td>\n",
       "      <td>18.0802</td>\n",
       "      <td>41591300</td>\n",
       "      <td>1.0</td>\n",
       "    </tr>\n",
       "    <tr>\n",
       "      <th>3</th>\n",
       "      <td>MSFT</td>\n",
       "      <td>2007-10-26</td>\n",
       "      <td>36.01</td>\n",
       "      <td>36.03</td>\n",
       "      <td>34.56</td>\n",
       "      <td>35.03</td>\n",
       "      <td>27.2232</td>\n",
       "      <td>288121200</td>\n",
       "      <td>1.0</td>\n",
       "    </tr>\n",
       "    <tr>\n",
       "      <th>4</th>\n",
       "      <td>MSFT</td>\n",
       "      <td>2014-06-27</td>\n",
       "      <td>41.61</td>\n",
       "      <td>42.29</td>\n",
       "      <td>41.51</td>\n",
       "      <td>42.25</td>\n",
       "      <td>38.6773</td>\n",
       "      <td>74640000</td>\n",
       "      <td>1.0</td>\n",
       "    </tr>\n",
       "  </tbody>\n",
       "</table>\n",
       "</div>"
      ],
      "text/plain": [
       "  symbol        date   open   high    low  close  close_adjusted     volume  \\\n",
       "0   MSFT  2016-05-16  50.80  51.96  50.75  51.83         49.7013   20032017   \n",
       "1   MSFT  2002-01-16  68.85  69.84  67.85  67.87         22.5902   30977700   \n",
       "2   MSFT  2001-09-18  53.41  55.00  53.17  54.32         18.0802   41591300   \n",
       "3   MSFT  2007-10-26  36.01  36.03  34.56  35.03         27.2232  288121200   \n",
       "4   MSFT  2014-06-27  41.61  42.29  41.51  42.25         38.6773   74640000   \n",
       "\n",
       "   split_coefficient  \n",
       "0                1.0  \n",
       "1                1.0  \n",
       "2                1.0  \n",
       "3                1.0  \n",
       "4                1.0  "
      ]
     },
     "execution_count": 6,
     "metadata": {},
     "output_type": "execute_result"
    }
   ],
   "source": [
    "stockprice_df.head(5)"
   ]
  },
  {
   "cell_type": "code",
   "execution_count": 7,
   "metadata": {},
   "outputs": [
    {
     "data": {
      "text/html": [
       "<div>\n",
       "<style scoped>\n",
       "    .dataframe tbody tr th:only-of-type {\n",
       "        vertical-align: middle;\n",
       "    }\n",
       "\n",
       "    .dataframe tbody tr th {\n",
       "        vertical-align: top;\n",
       "    }\n",
       "\n",
       "    .dataframe thead th {\n",
       "        text-align: right;\n",
       "    }\n",
       "</style>\n",
       "<table border=\"1\" class=\"dataframe\">\n",
       "  <thead>\n",
       "    <tr style=\"text-align: right;\">\n",
       "      <th></th>\n",
       "      <th>symbol</th>\n",
       "      <th>total_prices</th>\n",
       "      <th>stock_from_date</th>\n",
       "      <th>stock_to_date</th>\n",
       "      <th>total_earnings</th>\n",
       "      <th>earnings_from_date</th>\n",
       "      <th>earnings_to_date</th>\n",
       "    </tr>\n",
       "  </thead>\n",
       "  <tbody>\n",
       "    <tr>\n",
       "      <th>0</th>\n",
       "      <td>A</td>\n",
       "      <td>5135</td>\n",
       "      <td>1999-11-18</td>\n",
       "      <td>2020-04-17</td>\n",
       "      <td>44</td>\n",
       "      <td>2009-05-14</td>\n",
       "      <td>2020-02-18</td>\n",
       "    </tr>\n",
       "    <tr>\n",
       "      <th>1</th>\n",
       "      <td>AA</td>\n",
       "      <td>870</td>\n",
       "      <td>2016-11-01</td>\n",
       "      <td>2020-04-17</td>\n",
       "      <td>14</td>\n",
       "      <td>2017-01-24</td>\n",
       "      <td>2020-04-22</td>\n",
       "    </tr>\n",
       "    <tr>\n",
       "      <th>2</th>\n",
       "      <td>AAAP</td>\n",
       "      <td>574</td>\n",
       "      <td>2015-11-11</td>\n",
       "      <td>2018-07-18</td>\n",
       "      <td>0</td>\n",
       "      <td>NaN</td>\n",
       "      <td>NaN</td>\n",
       "    </tr>\n",
       "    <tr>\n",
       "      <th>3</th>\n",
       "      <td>AABA</td>\n",
       "      <td>5486</td>\n",
       "      <td>1998-01-02</td>\n",
       "      <td>2020-03-10</td>\n",
       "      <td>14</td>\n",
       "      <td>2014-01-28</td>\n",
       "      <td>2017-04-18</td>\n",
       "    </tr>\n",
       "    <tr>\n",
       "      <th>4</th>\n",
       "      <td>AAC</td>\n",
       "      <td>1292</td>\n",
       "      <td>2014-10-02</td>\n",
       "      <td>2020-04-07</td>\n",
       "      <td>22</td>\n",
       "      <td>2014-11-05</td>\n",
       "      <td>2019-08-30</td>\n",
       "    </tr>\n",
       "  </tbody>\n",
       "</table>\n",
       "</div>"
      ],
      "text/plain": [
       "  symbol  total_prices stock_from_date stock_to_date  total_earnings  \\\n",
       "0      A          5135      1999-11-18    2020-04-17              44   \n",
       "1     AA           870      2016-11-01    2020-04-17              14   \n",
       "2   AAAP           574      2015-11-11    2018-07-18               0   \n",
       "3   AABA          5486      1998-01-02    2020-03-10              14   \n",
       "4    AAC          1292      2014-10-02    2020-04-07              22   \n",
       "\n",
       "  earnings_from_date earnings_to_date  \n",
       "0         2009-05-14       2020-02-18  \n",
       "1         2017-01-24       2020-04-22  \n",
       "2                NaN              NaN  \n",
       "3         2014-01-28       2017-04-18  \n",
       "4         2014-11-05       2019-08-30  "
      ]
     },
     "execution_count": 7,
     "metadata": {},
     "output_type": "execute_result"
    }
   ],
   "source": [
    "summary_df.head(5)"
   ]
  },
  {
   "cell_type": "markdown",
   "metadata": {},
   "source": [
    "## Data Organization"
   ]
  },
  {
   "cell_type": "markdown",
   "metadata": {},
   "source": [
    "### Create subfolders in your project directory"
   ]
  },
  {
   "cell_type": "markdown",
   "metadata": {},
   "source": [
    "<font color='teal'> **Create a subfolder called `data`.**</font>"
   ]
  },
  {
   "cell_type": "code",
   "execution_count": 8,
   "metadata": {},
   "outputs": [],
   "source": [
    "# os.makedirs('data/')....the folder has already been created"
   ]
  },
  {
   "cell_type": "markdown",
   "metadata": {},
   "source": [
    "<font color='teal'> **Create a folder for the data visualizations called `figures`.**</font>"
   ]
  },
  {
   "cell_type": "code",
   "execution_count": 9,
   "metadata": {},
   "outputs": [],
   "source": [
    "# os.makedirs('figures/')"
   ]
  },
  {
   "cell_type": "markdown",
   "metadata": {},
   "source": [
    "<font color='teal'> **Create a folder for the models you save, called `models`.**</font>"
   ]
  },
  {
   "cell_type": "code",
   "execution_count": 10,
   "metadata": {},
   "outputs": [],
   "source": [
    "# os.makedirs('models/')"
   ]
  },
  {
   "cell_type": "markdown",
   "metadata": {},
   "source": [
    "<font color='teal'> **Print the contents of your project folder to confirm.**</font>"
   ]
  },
  {
   "cell_type": "code",
   "execution_count": 11,
   "metadata": {},
   "outputs": [
    {
     "name": "stdout",
     "output_type": "stream",
     "text": [
      "['.ipynb_checkpoints', 'data', 'models', 'Stock-price-prediction-data-wrangling.ipynb', 'figures']\n"
     ]
    }
   ],
   "source": [
    "print(os.listdir())"
   ]
  },
  {
   "cell_type": "markdown",
   "metadata": {},
   "source": [
    "## Data Definition\n",
    "This step involves reviewing column `names`, `data types`, and `null values`."
   ]
  },
  {
   "cell_type": "markdown",
   "metadata": {},
   "source": [
    "### Column Names \n",
    "<font color='teal'> **Print the columns names of the `dividend` dataframe**</font>"
   ]
  },
  {
   "cell_type": "code",
   "execution_count": 12,
   "metadata": {},
   "outputs": [
    {
     "name": "stdout",
     "output_type": "stream",
     "text": [
      "Index(['symbol', 'date', 'dividend'], dtype='object')\n"
     ]
    }
   ],
   "source": [
    "print(dividend_df.columns)"
   ]
  },
  {
   "cell_type": "markdown",
   "metadata": {},
   "source": [
    "<font color='teal'> **Print the columns names of the `earning` dataframe**</font>"
   ]
  },
  {
   "cell_type": "code",
   "execution_count": 13,
   "metadata": {},
   "outputs": [
    {
     "name": "stdout",
     "output_type": "stream",
     "text": [
      "Index(['symbol', 'date', 'qtr', 'eps_est', 'eps', 'release_time'], dtype='object')\n"
     ]
    }
   ],
   "source": [
    "print(earning_df.columns)"
   ]
  },
  {
   "cell_type": "markdown",
   "metadata": {},
   "source": [
    "<font color='teal'> **Print the columns names of the `stockprice` dataframe**</font>"
   ]
  },
  {
   "cell_type": "code",
   "execution_count": 14,
   "metadata": {},
   "outputs": [
    {
     "name": "stdout",
     "output_type": "stream",
     "text": [
      "Index(['symbol', 'date', 'open', 'high', 'low', 'close', 'close_adjusted',\n",
      "       'volume', 'split_coefficient'],\n",
      "      dtype='object')\n"
     ]
    }
   ],
   "source": [
    "print(stockprice_df.columns)"
   ]
  },
  {
   "cell_type": "markdown",
   "metadata": {},
   "source": [
    "<font color='teal'> **Print the columns names of the `summary` dataframe**</font>"
   ]
  },
  {
   "cell_type": "code",
   "execution_count": 15,
   "metadata": {},
   "outputs": [
    {
     "name": "stdout",
     "output_type": "stream",
     "text": [
      "Index(['symbol', 'total_prices', 'stock_from_date', 'stock_to_date',\n",
      "       'total_earnings', 'earnings_from_date', 'earnings_to_date'],\n",
      "      dtype='object')\n"
     ]
    }
   ],
   "source": [
    "print(summary_df.columns)"
   ]
  },
  {
   "cell_type": "markdown",
   "metadata": {},
   "source": [
    "### Data Types \n",
    "Review which columns are integer, float, categorical, or dates."
   ]
  },
  {
   "cell_type": "markdown",
   "metadata": {},
   "source": [
    "<font color='teal'> **Use the `info()` function, to print the variable names, datatypes and count of non-null values.**</font>"
   ]
  },
  {
   "cell_type": "code",
   "execution_count": 16,
   "metadata": {},
   "outputs": [
    {
     "name": "stdout",
     "output_type": "stream",
     "text": [
      "<class 'pandas.core.frame.DataFrame'>\n",
      "RangeIndex: 239099 entries, 0 to 239098\n",
      "Data columns (total 3 columns):\n",
      " #   Column    Non-Null Count   Dtype  \n",
      "---  ------    --------------   -----  \n",
      " 0   symbol    239099 non-null  object \n",
      " 1   date      239099 non-null  object \n",
      " 2   dividend  239099 non-null  float64\n",
      "dtypes: float64(1), object(2)\n",
      "memory usage: 5.5+ MB\n",
      "None\n"
     ]
    }
   ],
   "source": [
    "# dividend\n",
    "print(dividend_df.info())"
   ]
  },
  {
   "cell_type": "code",
   "execution_count": 17,
   "metadata": {},
   "outputs": [
    {
     "name": "stdout",
     "output_type": "stream",
     "text": [
      "<class 'pandas.core.frame.DataFrame'>\n",
      "RangeIndex: 150189 entries, 0 to 150188\n",
      "Data columns (total 6 columns):\n",
      " #   Column        Non-Null Count   Dtype  \n",
      "---  ------        --------------   -----  \n",
      " 0   symbol        150189 non-null  object \n",
      " 1   date          150189 non-null  object \n",
      " 2   qtr           149185 non-null  object \n",
      " 3   eps_est       92951 non-null   float64\n",
      " 4   eps           117802 non-null  float64\n",
      " 5   release_time  103256 non-null  object \n",
      "dtypes: float64(2), object(4)\n",
      "memory usage: 6.9+ MB\n",
      "None\n"
     ]
    }
   ],
   "source": [
    "# earning\n",
    "print(earning_df.info())"
   ]
  },
  {
   "cell_type": "code",
   "execution_count": 18,
   "metadata": {},
   "outputs": [
    {
     "name": "stdout",
     "output_type": "stream",
     "text": [
      "<class 'pandas.core.frame.DataFrame'>\n",
      "RangeIndex: 22228563 entries, 0 to 22228562\n",
      "Data columns (total 9 columns):\n",
      " #   Column             Dtype  \n",
      "---  ------             -----  \n",
      " 0   symbol             object \n",
      " 1   date               object \n",
      " 2   open               float64\n",
      " 3   high               float64\n",
      " 4   low                float64\n",
      " 5   close              float64\n",
      " 6   close_adjusted     float64\n",
      " 7   volume             int64  \n",
      " 8   split_coefficient  float64\n",
      "dtypes: float64(6), int64(1), object(2)\n",
      "memory usage: 1.5+ GB\n",
      "None\n"
     ]
    }
   ],
   "source": [
    "# stockprice\n",
    "print(stockprice_df.info())"
   ]
  },
  {
   "cell_type": "code",
   "execution_count": 19,
   "metadata": {},
   "outputs": [
    {
     "name": "stdout",
     "output_type": "stream",
     "text": [
      "<class 'pandas.core.frame.DataFrame'>\n",
      "RangeIndex: 7091 entries, 0 to 7090\n",
      "Data columns (total 7 columns):\n",
      " #   Column              Non-Null Count  Dtype \n",
      "---  ------              --------------  ----- \n",
      " 0   symbol              7091 non-null   object\n",
      " 1   total_prices        7091 non-null   int64 \n",
      " 2   stock_from_date     7091 non-null   object\n",
      " 3   stock_to_date       7091 non-null   object\n",
      " 4   total_earnings      7091 non-null   int64 \n",
      " 5   earnings_from_date  4905 non-null   object\n",
      " 6   earnings_to_date    4905 non-null   object\n",
      "dtypes: int64(2), object(5)\n",
      "memory usage: 387.9+ KB\n",
      "None\n"
     ]
    }
   ],
   "source": [
    "# summary\n",
    "print(summary_df.info())"
   ]
  },
  {
   "cell_type": "markdown",
   "metadata": {},
   "source": [
    "Description of columns for **`dividend`** dataframe"
   ]
  },
  {
   "cell_type": "markdown",
   "metadata": {},
   "source": [
    "\n",
    "| Column | Description |\n",
    "| :- | :- |\n",
    "| symbol | symbol of a company under which it operates in stock market |\n",
    "| date | dividend issue date for a share |\n",
    "| dividend | proportion of dividend issued |"
   ]
  },
  {
   "cell_type": "markdown",
   "metadata": {},
   "source": [
    "Description of columns for **`earning`** dataframe"
   ]
  },
  {
   "cell_type": "markdown",
   "metadata": {},
   "source": [
    "| Column | Description |\n",
    "| :- | :- |\n",
    "| symbol | symbol of a company under which it operates in stock market |\n",
    "| date | earning issue date |\n",
    "| qtr | the month and quarter (Q1, Q2, Q3 and Q4) of the year the earning was declared  |\n",
    "| eps_est | estimated eps (earning per share)  |\n",
    "| eps | exact eps  |\n",
    "| release_time | earning issue date before or after the declaration date  |"
   ]
  },
  {
   "cell_type": "markdown",
   "metadata": {},
   "source": [
    "Description of columns for **`stockprice`** dataframe"
   ]
  },
  {
   "cell_type": "markdown",
   "metadata": {},
   "source": [
    "| Column | Description |\n",
    "| :- | :- |\n",
    "| symbol | symbol of a company under which it operates in stock market |\n",
    "| date |  trading day of the year |\n",
    "| open | opening price in a day  |\n",
    "| high | high price for a particular day  |\n",
    "| low | low price in a day  |\n",
    "| close | closing price for a day  |\n",
    "| close_adjusted | amended price that truly reflects stocks value after any corporate actions |\n",
    "| volume | total volume traded in a day |\n",
    "| split_coefficient | the ratio by which a firms outstanding share increases following a stock split. Higher is the 'stock split' reduced the price would be  |"
   ]
  },
  {
   "cell_type": "markdown",
   "metadata": {},
   "source": [
    "Description of columns for **`summary`** dataframe"
   ]
  },
  {
   "cell_type": "markdown",
   "metadata": {},
   "source": [
    "| Column | Description |\n",
    "| :- | :- |\n",
    "| symbol | symbol of a company under which it operates in stock market |\n",
    "| total_prices | price change of the company in the specified duration |\n",
    "| stock_from_date | counting start date |\n",
    "| stock_to_date | counting stop date |\n",
    "| total_earnings | total earning of the company in the specified time |\n",
    "| earnings_from_date | the date from when earning count started |\n",
    "| earnings_to_date | the date from when earning count stopped |"
   ]
  },
  {
   "cell_type": "markdown",
   "metadata": {},
   "source": [
    "### Count of unique values or codes"
   ]
  },
  {
   "cell_type": "code",
   "execution_count": 20,
   "metadata": {},
   "outputs": [
    {
     "name": "stdout",
     "output_type": "stream",
     "text": [
      "symbol      1.766632\n",
      "date        2.335853\n",
      "dividend    3.409885\n",
      "dtype: float64\n"
     ]
    }
   ],
   "source": [
    "print((dividend_df.nunique()/(dividend_df.count())*100))"
   ]
  },
  {
   "cell_type": "code",
   "execution_count": 21,
   "metadata": {},
   "outputs": [
    {
     "name": "stdout",
     "output_type": "stream",
     "text": [
      "symbol          3.440332\n",
      "date            1.932232\n",
      "qtr             0.087810\n",
      "eps_est         4.796075\n",
      "eps             1.794537\n",
      "release_time    0.001937\n",
      "dtype: float64\n"
     ]
    }
   ],
   "source": [
    "print((earning_df.nunique()/(earning_df.count())*100))"
   ]
  },
  {
   "cell_type": "code",
   "execution_count": 22,
   "metadata": {},
   "outputs": [],
   "source": [
    "# print((stockprice_df.nunique()/(stockprice_df.count())*100))"
   ]
  },
  {
   "cell_type": "code",
   "execution_count": 23,
   "metadata": {},
   "outputs": [
    {
     "name": "stdout",
     "output_type": "stream",
     "text": [
      "symbol                7091\n",
      "total_prices          7091\n",
      "stock_from_date       7091\n",
      "stock_to_date         7091\n",
      "total_earnings        7091\n",
      "earnings_from_date    4905\n",
      "earnings_to_date      4905\n",
      "dtype: int64\n"
     ]
    }
   ],
   "source": [
    "print(summary_df.count())"
   ]
  },
  {
   "cell_type": "markdown",
   "metadata": {},
   "source": [
    "<font color='teal'> **Review the numeric dataset's summary statistics.**</font>"
   ]
  },
  {
   "cell_type": "code",
   "execution_count": 24,
   "metadata": {},
   "outputs": [
    {
     "name": "stdout",
     "output_type": "stream",
     "text": [
      "            dividend\n",
      "count  239099.000000\n",
      "mean        0.248625\n",
      "std         2.300869\n",
      "min         0.000100\n",
      "25%         0.065000\n",
      "50%         0.120000\n",
      "75%         0.250000\n",
      "max       625.000000\n"
     ]
    }
   ],
   "source": [
    "# dividend\n",
    "print(dividend_df.describe())"
   ]
  },
  {
   "cell_type": "code",
   "execution_count": 25,
   "metadata": {},
   "outputs": [
    {
     "name": "stdout",
     "output_type": "stream",
     "text": [
      "            eps_est            eps\n",
      "count  92951.000000  117802.000000\n",
      "mean       0.219240       0.076487\n",
      "std       14.096168      14.527425\n",
      "min     -987.540000    -987.540000\n",
      "25%        0.010000      -0.010000\n",
      "50%        0.290000       0.240000\n",
      "75%        0.650000       0.600000\n",
      "max      987.540000     987.540000\n"
     ]
    }
   ],
   "source": [
    "# earning\n",
    "print(earning_df.describe())"
   ]
  },
  {
   "cell_type": "code",
   "execution_count": 26,
   "metadata": {},
   "outputs": [
    {
     "name": "stdout",
     "output_type": "stream",
     "text": [
      "               open          high           low         close  close_adjusted  \\\n",
      "count  2.222856e+07  2.222856e+07  2.222856e+07  2.222856e+07    2.222856e+07   \n",
      "mean   6.474576e+01  6.534652e+01  6.410351e+01  1.311173e+02    2.789299e+04   \n",
      "std    2.566883e+03  2.582539e+03  2.549334e+03  2.198358e+05    3.106711e+06   \n",
      "min   -2.000000e-02 -2.000000e-02 -2.000000e-02 -2.000000e-02   -1.990000e-02   \n",
      "25%    7.880000e+00  8.000000e+00  7.720000e+00  7.880000e+00    6.430000e+00   \n",
      "50%    1.730000e+01  1.754000e+01  1.704000e+01  1.730000e+01    1.388170e+01   \n",
      "75%    3.365000e+01  3.408890e+01  3.317500e+01  3.365000e+01    2.838640e+01   \n",
      "max    3.450000e+05  3.474000e+05  3.445500e+05  9.077000e+08    1.069826e+09   \n",
      "\n",
      "             volume  split_coefficient  \n",
      "count  2.222856e+07       2.222856e+07  \n",
      "mean   9.984234e+05       1.000068e+00  \n",
      "std    6.667185e+06       3.650061e-02  \n",
      "min    0.000000e+00       1.000000e-04  \n",
      "25%    1.910000e+04       1.000000e+00  \n",
      "50%    1.178670e+05       1.000000e+00  \n",
      "75%    5.490000e+05       1.000000e+00  \n",
      "max    3.948220e+09       1.499925e+02  \n"
     ]
    }
   ],
   "source": [
    "# stockprice\n",
    "print(stockprice_df.describe())"
   ]
  },
  {
   "cell_type": "code",
   "execution_count": 27,
   "metadata": {},
   "outputs": [
    {
     "name": "stdout",
     "output_type": "stream",
     "text": [
      "       total_prices  total_earnings\n",
      "count   7091.000000     7091.000000\n",
      "mean    3134.757157       21.043012\n",
      "std     2027.643667       18.173509\n",
      "min       12.000000        0.000000\n",
      "25%     1150.000000        0.000000\n",
      "50%     3136.000000       21.000000\n",
      "75%     5588.000000       42.000000\n",
      "max     5615.000000       47.000000\n"
     ]
    }
   ],
   "source": [
    "# summary\n",
    "print(summary_df.describe())"
   ]
  },
  {
   "cell_type": "markdown",
   "metadata": {},
   "source": [
    "## Data Cleaning"
   ]
  },
  {
   "cell_type": "markdown",
   "metadata": {},
   "source": [
    "### Handle the missing and NA values\n",
    "*   Consider the columns individually \n",
    "*   Identify the appropriate fill method for each column"
   ]
  },
  {
   "cell_type": "code",
   "execution_count": 28,
   "metadata": {
    "scrolled": true
   },
   "outputs": [
    {
     "data": {
      "text/html": [
       "<div>\n",
       "<style scoped>\n",
       "    .dataframe tbody tr th:only-of-type {\n",
       "        vertical-align: middle;\n",
       "    }\n",
       "\n",
       "    .dataframe tbody tr th {\n",
       "        vertical-align: top;\n",
       "    }\n",
       "\n",
       "    .dataframe thead th {\n",
       "        text-align: right;\n",
       "    }\n",
       "</style>\n",
       "<table border=\"1\" class=\"dataframe\">\n",
       "  <thead>\n",
       "    <tr style=\"text-align: right;\">\n",
       "      <th></th>\n",
       "      <th>percent</th>\n",
       "    </tr>\n",
       "  </thead>\n",
       "  <tbody>\n",
       "  </tbody>\n",
       "</table>\n",
       "</div>"
      ],
      "text/plain": [
       "Empty DataFrame\n",
       "Columns: [percent]\n",
       "Index: []"
      ]
     },
     "execution_count": 28,
     "metadata": {},
     "output_type": "execute_result"
    }
   ],
   "source": [
    "# dividend\n",
    "nas=pd.DataFrame(100*(dividend_df.isnull().sum().sort_values(ascending=False)/len(dividend_df)),columns = ['percent'])\n",
    "pos = nas['percent'] > 0\n",
    "nas[pos]"
   ]
  },
  {
   "cell_type": "code",
   "execution_count": 29,
   "metadata": {},
   "outputs": [
    {
     "data": {
      "text/html": [
       "<div>\n",
       "<style scoped>\n",
       "    .dataframe tbody tr th:only-of-type {\n",
       "        vertical-align: middle;\n",
       "    }\n",
       "\n",
       "    .dataframe tbody tr th {\n",
       "        vertical-align: top;\n",
       "    }\n",
       "\n",
       "    .dataframe thead th {\n",
       "        text-align: right;\n",
       "    }\n",
       "</style>\n",
       "<table border=\"1\" class=\"dataframe\">\n",
       "  <thead>\n",
       "    <tr style=\"text-align: right;\">\n",
       "      <th></th>\n",
       "      <th>percent</th>\n",
       "    </tr>\n",
       "  </thead>\n",
       "  <tbody>\n",
       "    <tr>\n",
       "      <th>eps_est</th>\n",
       "      <td>38.110647</td>\n",
       "    </tr>\n",
       "    <tr>\n",
       "      <th>release_time</th>\n",
       "      <td>31.249293</td>\n",
       "    </tr>\n",
       "    <tr>\n",
       "      <th>eps</th>\n",
       "      <td>21.564162</td>\n",
       "    </tr>\n",
       "    <tr>\n",
       "      <th>qtr</th>\n",
       "      <td>0.668491</td>\n",
       "    </tr>\n",
       "  </tbody>\n",
       "</table>\n",
       "</div>"
      ],
      "text/plain": [
       "                percent\n",
       "eps_est       38.110647\n",
       "release_time  31.249293\n",
       "eps           21.564162\n",
       "qtr            0.668491"
      ]
     },
     "execution_count": 29,
     "metadata": {},
     "output_type": "execute_result"
    }
   ],
   "source": [
    "# earning\n",
    "nas=pd.DataFrame(100*(earning_df.isnull().sum().sort_values(ascending=False)/len(earning_df)),columns = ['percent'])\n",
    "pos = nas['percent'] > 0\n",
    "nas[pos]"
   ]
  },
  {
   "cell_type": "code",
   "execution_count": 30,
   "metadata": {},
   "outputs": [
    {
     "data": {
      "text/html": [
       "<div>\n",
       "<style scoped>\n",
       "    .dataframe tbody tr th:only-of-type {\n",
       "        vertical-align: middle;\n",
       "    }\n",
       "\n",
       "    .dataframe tbody tr th {\n",
       "        vertical-align: top;\n",
       "    }\n",
       "\n",
       "    .dataframe thead th {\n",
       "        text-align: right;\n",
       "    }\n",
       "</style>\n",
       "<table border=\"1\" class=\"dataframe\">\n",
       "  <thead>\n",
       "    <tr style=\"text-align: right;\">\n",
       "      <th></th>\n",
       "      <th>percent</th>\n",
       "    </tr>\n",
       "  </thead>\n",
       "  <tbody>\n",
       "  </tbody>\n",
       "</table>\n",
       "</div>"
      ],
      "text/plain": [
       "Empty DataFrame\n",
       "Columns: [percent]\n",
       "Index: []"
      ]
     },
     "execution_count": 30,
     "metadata": {},
     "output_type": "execute_result"
    }
   ],
   "source": [
    "# stockprice\n",
    "nas=pd.DataFrame(100*(stockprice_df.isnull().sum().sort_values(ascending=False)/len(stockprice_df)),columns = ['percent'])\n",
    "pos = nas['percent'] > 0\n",
    "nas[pos]"
   ]
  },
  {
   "cell_type": "code",
   "execution_count": 31,
   "metadata": {},
   "outputs": [
    {
     "data": {
      "text/html": [
       "<div>\n",
       "<style scoped>\n",
       "    .dataframe tbody tr th:only-of-type {\n",
       "        vertical-align: middle;\n",
       "    }\n",
       "\n",
       "    .dataframe tbody tr th {\n",
       "        vertical-align: top;\n",
       "    }\n",
       "\n",
       "    .dataframe thead th {\n",
       "        text-align: right;\n",
       "    }\n",
       "</style>\n",
       "<table border=\"1\" class=\"dataframe\">\n",
       "  <thead>\n",
       "    <tr style=\"text-align: right;\">\n",
       "      <th></th>\n",
       "      <th>percent</th>\n",
       "    </tr>\n",
       "  </thead>\n",
       "  <tbody>\n",
       "    <tr>\n",
       "      <th>earnings_to_date</th>\n",
       "      <td>30.82781</td>\n",
       "    </tr>\n",
       "    <tr>\n",
       "      <th>earnings_from_date</th>\n",
       "      <td>30.82781</td>\n",
       "    </tr>\n",
       "  </tbody>\n",
       "</table>\n",
       "</div>"
      ],
      "text/plain": [
       "                     percent\n",
       "earnings_to_date    30.82781\n",
       "earnings_from_date  30.82781"
      ]
     },
     "execution_count": 31,
     "metadata": {},
     "output_type": "execute_result"
    }
   ],
   "source": [
    "# summary\n",
    "nas=pd.DataFrame(100*(summary_df.isnull().sum().sort_values(ascending=False)/len(summary_df)),columns = ['percent'])\n",
    "pos = nas['percent'] > 0\n",
    "nas[pos]"
   ]
  },
  {
   "cell_type": "markdown",
   "metadata": {},
   "source": [
    "### Findings from the missing value search\n",
    "- `dividend` and `stockprice` dataframes do not have any NaN values\n",
    "- `earning` and `summary` dataframes have NaN values which will be addressed next"
   ]
  },
  {
   "cell_type": "markdown",
   "metadata": {},
   "source": [
    "Lets look at the missing values of 'earning' dataframe. 'eps' is an important metric to look at first. Around 22% od the data is missing. Looking into the couple of companies eps data, it was found out that, during and aftermath of the economic recession in 2008 most eps data was missing between 2009 and 2012. It is understablethe downhill of the stock market and rows can be deleted. For demonstration 'apple's 'eps' data will be explored."
   ]
  },
  {
   "cell_type": "code",
   "execution_count": 32,
   "metadata": {},
   "outputs": [
    {
     "data": {
      "image/png": "[encoded data removed]",
      "text/plain": [
       "<Figure size 1080x360 with 1 Axes>"
      ]
     },
     "metadata": {
      "needs_background": "light"
     },
     "output_type": "display_data"
    }
   ],
   "source": [
    "# 'eps' data for 'Apple' (symbol=AAPL)\n",
    "\n",
    "null_eps=earning_df[earning_df.eps.isnull()]\n",
    "aapl_null_eps=null_eps[null_eps.symbol=='AAPL']\n",
    "fig, ax = plt.subplots(figsize=(15, 5))\n",
    "ax.plot(earning_df.loc[earning_df['symbol'] == 'AAPL'].date,earning_df.loc[earning_df['symbol'] == 'AAPL'].eps, label='eps')\n",
    "ax.axvspan(aapl_null_eps.date.iloc[1], aapl_null_eps.date.iloc[-1], alpha=0.5, color='red',label='Missing eps data')\n",
    "plt.legend()\n",
    "plt.show()"
   ]
  },
  {
   "cell_type": "code",
   "execution_count": 33,
   "metadata": {},
   "outputs": [
    {
     "data": {
      "text/html": [
       "<div>\n",
       "<style scoped>\n",
       "    .dataframe tbody tr th:only-of-type {\n",
       "        vertical-align: middle;\n",
       "    }\n",
       "\n",
       "    .dataframe tbody tr th {\n",
       "        vertical-align: top;\n",
       "    }\n",
       "\n",
       "    .dataframe thead th {\n",
       "        text-align: right;\n",
       "    }\n",
       "</style>\n",
       "<table border=\"1\" class=\"dataframe\">\n",
       "  <thead>\n",
       "    <tr style=\"text-align: right;\">\n",
       "      <th></th>\n",
       "      <th>symbol</th>\n",
       "      <th>date</th>\n",
       "      <th>qtr</th>\n",
       "      <th>eps_est</th>\n",
       "      <th>eps</th>\n",
       "      <th>release_time</th>\n",
       "    </tr>\n",
       "  </thead>\n",
       "  <tbody>\n",
       "    <tr>\n",
       "      <th>14</th>\n",
       "      <td>A</td>\n",
       "      <td>2012-11-19</td>\n",
       "      <td>10/2012</td>\n",
       "      <td>0.80</td>\n",
       "      <td>0.84</td>\n",
       "      <td>post</td>\n",
       "    </tr>\n",
       "    <tr>\n",
       "      <th>15</th>\n",
       "      <td>A</td>\n",
       "      <td>2013-02-14</td>\n",
       "      <td>01/2013</td>\n",
       "      <td>0.66</td>\n",
       "      <td>0.63</td>\n",
       "      <td>post</td>\n",
       "    </tr>\n",
       "    <tr>\n",
       "      <th>16</th>\n",
       "      <td>A</td>\n",
       "      <td>2013-05-14</td>\n",
       "      <td>04/2013</td>\n",
       "      <td>0.67</td>\n",
       "      <td>0.77</td>\n",
       "      <td>post</td>\n",
       "    </tr>\n",
       "    <tr>\n",
       "      <th>17</th>\n",
       "      <td>A</td>\n",
       "      <td>2013-08-14</td>\n",
       "      <td>07/2013</td>\n",
       "      <td>0.62</td>\n",
       "      <td>0.68</td>\n",
       "      <td>post</td>\n",
       "    </tr>\n",
       "    <tr>\n",
       "      <th>18</th>\n",
       "      <td>A</td>\n",
       "      <td>2013-11-14</td>\n",
       "      <td>10/2013</td>\n",
       "      <td>0.76</td>\n",
       "      <td>0.81</td>\n",
       "      <td>post</td>\n",
       "    </tr>\n",
       "  </tbody>\n",
       "</table>\n",
       "</div>"
      ],
      "text/plain": [
       "   symbol        date      qtr  eps_est   eps release_time\n",
       "14      A  2012-11-19  10/2012     0.80  0.84         post\n",
       "15      A  2013-02-14  01/2013     0.66  0.63         post\n",
       "16      A  2013-05-14  04/2013     0.67  0.77         post\n",
       "17      A  2013-08-14  07/2013     0.62  0.68         post\n",
       "18      A  2013-11-14  10/2013     0.76  0.81         post"
      ]
     },
     "execution_count": 33,
     "metadata": {},
     "output_type": "execute_result"
    }
   ],
   "source": [
    "# 'earning' data without NaN eps values\n",
    "earning_df=earning_df[earning_df.eps.notna()]\n",
    "earning_df.head()"
   ]
  },
  {
   "cell_type": "code",
   "execution_count": 34,
   "metadata": {},
   "outputs": [
    {
     "data": {
      "text/html": [
       "<div>\n",
       "<style scoped>\n",
       "    .dataframe tbody tr th:only-of-type {\n",
       "        vertical-align: middle;\n",
       "    }\n",
       "\n",
       "    .dataframe tbody tr th {\n",
       "        vertical-align: top;\n",
       "    }\n",
       "\n",
       "    .dataframe thead th {\n",
       "        text-align: right;\n",
       "    }\n",
       "</style>\n",
       "<table border=\"1\" class=\"dataframe\">\n",
       "  <thead>\n",
       "    <tr style=\"text-align: right;\">\n",
       "      <th></th>\n",
       "      <th>percent</th>\n",
       "    </tr>\n",
       "  </thead>\n",
       "  <tbody>\n",
       "    <tr>\n",
       "      <th>release_time</th>\n",
       "      <td>29.840750</td>\n",
       "    </tr>\n",
       "    <tr>\n",
       "      <th>eps_est</th>\n",
       "      <td>21.395222</td>\n",
       "    </tr>\n",
       "    <tr>\n",
       "      <th>qtr</th>\n",
       "      <td>0.852278</td>\n",
       "    </tr>\n",
       "  </tbody>\n",
       "</table>\n",
       "</div>"
      ],
      "text/plain": [
       "                percent\n",
       "release_time  29.840750\n",
       "eps_est       21.395222\n",
       "qtr            0.852278"
      ]
     },
     "execution_count": 34,
     "metadata": {},
     "output_type": "execute_result"
    }
   ],
   "source": [
    "# check for missing data in 'earning' again\n",
    "nas=pd.DataFrame(100*(earning_df.isnull().sum().sort_values(ascending=False)/len(earning_df)),columns = ['percent'])\n",
    "pos = nas['percent'] > 0\n",
    "nas[pos]"
   ]
  },
  {
   "cell_type": "code",
   "execution_count": 35,
   "metadata": {},
   "outputs": [],
   "source": [
    "# eps would be the closest estimate for eps_est\n",
    "# lets fill out the missing values of eps_Est by eps\n",
    "earning_df.eps_est=earning_df.eps_est.fillna(earning_df.eps).values"
   ]
  },
  {
   "cell_type": "code",
   "execution_count": 36,
   "metadata": {},
   "outputs": [
    {
     "data": {
      "text/html": [
       "<div>\n",
       "<style scoped>\n",
       "    .dataframe tbody tr th:only-of-type {\n",
       "        vertical-align: middle;\n",
       "    }\n",
       "\n",
       "    .dataframe tbody tr th {\n",
       "        vertical-align: top;\n",
       "    }\n",
       "\n",
       "    .dataframe thead th {\n",
       "        text-align: right;\n",
       "    }\n",
       "</style>\n",
       "<table border=\"1\" class=\"dataframe\">\n",
       "  <thead>\n",
       "    <tr style=\"text-align: right;\">\n",
       "      <th></th>\n",
       "      <th>percent</th>\n",
       "    </tr>\n",
       "  </thead>\n",
       "  <tbody>\n",
       "    <tr>\n",
       "      <th>release_time</th>\n",
       "      <td>29.840750</td>\n",
       "    </tr>\n",
       "    <tr>\n",
       "      <th>qtr</th>\n",
       "      <td>0.852278</td>\n",
       "    </tr>\n",
       "  </tbody>\n",
       "</table>\n",
       "</div>"
      ],
      "text/plain": [
       "                percent\n",
       "release_time  29.840750\n",
       "qtr            0.852278"
      ]
     },
     "execution_count": 36,
     "metadata": {},
     "output_type": "execute_result"
    }
   ],
   "source": [
    "# check for missing data in 'earning' again\n",
    "nas=pd.DataFrame(100*(earning_df.isnull().sum().sort_values(ascending=False)/len(earning_df)),columns = ['percent'])\n",
    "pos = nas['percent'] > 0\n",
    "nas[pos]"
   ]
  },
  {
   "cell_type": "code",
   "execution_count": 37,
   "metadata": {},
   "outputs": [],
   "source": [
    "# 'release_time' in 'earning' data will be filled up by forward fill method ('fill'). The reasoning behind are fellow:\n",
    "#----------------------------------------------------------------------------------------\n",
    "# 1. removing ~30% data will be very costly\n",
    "# 2. where release_time is NaN, qtr values are in (Q1, Q2, Q3 or Q4). So deciding about release_time is not possible\n",
    "# 3. release_time column has the variables ratio, post: pre has 53:47 % split. so filling up Nan values by random split could be an option\n",
    "# 4. exploring the release_time shows that post/pre data appeared in bunch mostly. so filling by forward fill method would be the best choice here\n",
    "\n",
    "earning_df.release_time=earning_df.release_time.fillna(method='ffill').values"
   ]
  },
  {
   "cell_type": "code",
   "execution_count": 38,
   "metadata": {
    "scrolled": true
   },
   "outputs": [
    {
     "data": {
      "text/html": [
       "<div>\n",
       "<style scoped>\n",
       "    .dataframe tbody tr th:only-of-type {\n",
       "        vertical-align: middle;\n",
       "    }\n",
       "\n",
       "    .dataframe tbody tr th {\n",
       "        vertical-align: top;\n",
       "    }\n",
       "\n",
       "    .dataframe thead th {\n",
       "        text-align: right;\n",
       "    }\n",
       "</style>\n",
       "<table border=\"1\" class=\"dataframe\">\n",
       "  <thead>\n",
       "    <tr style=\"text-align: right;\">\n",
       "      <th></th>\n",
       "      <th>percent</th>\n",
       "    </tr>\n",
       "  </thead>\n",
       "  <tbody>\n",
       "    <tr>\n",
       "      <th>qtr</th>\n",
       "      <td>0.852278</td>\n",
       "    </tr>\n",
       "  </tbody>\n",
       "</table>\n",
       "</div>"
      ],
      "text/plain": [
       "      percent\n",
       "qtr  0.852278"
      ]
     },
     "execution_count": 38,
     "metadata": {},
     "output_type": "execute_result"
    }
   ],
   "source": [
    "# check for missing data in 'earning' again\n",
    "nas=pd.DataFrame(100*(earning_df.isnull().sum().sort_values(ascending=False)/len(earning_df)),columns = ['percent'])\n",
    "pos = nas['percent'] > 0\n",
    "nas[pos]"
   ]
  },
  {
   "cell_type": "code",
   "execution_count": 39,
   "metadata": {},
   "outputs": [
    {
     "data": {
      "text/html": [
       "<div>\n",
       "<style scoped>\n",
       "    .dataframe tbody tr th:only-of-type {\n",
       "        vertical-align: middle;\n",
       "    }\n",
       "\n",
       "    .dataframe tbody tr th {\n",
       "        vertical-align: top;\n",
       "    }\n",
       "\n",
       "    .dataframe thead th {\n",
       "        text-align: right;\n",
       "    }\n",
       "</style>\n",
       "<table border=\"1\" class=\"dataframe\">\n",
       "  <thead>\n",
       "    <tr style=\"text-align: right;\">\n",
       "      <th></th>\n",
       "      <th>symbol</th>\n",
       "      <th>date</th>\n",
       "      <th>qtr</th>\n",
       "      <th>eps_est</th>\n",
       "      <th>eps</th>\n",
       "      <th>release_time</th>\n",
       "    </tr>\n",
       "  </thead>\n",
       "  <tbody>\n",
       "    <tr>\n",
       "      <th>14</th>\n",
       "      <td>A</td>\n",
       "      <td>2012-11-19</td>\n",
       "      <td>4.0</td>\n",
       "      <td>0.80</td>\n",
       "      <td>0.84</td>\n",
       "      <td>post</td>\n",
       "    </tr>\n",
       "    <tr>\n",
       "      <th>15</th>\n",
       "      <td>A</td>\n",
       "      <td>2013-02-14</td>\n",
       "      <td>1.0</td>\n",
       "      <td>0.66</td>\n",
       "      <td>0.63</td>\n",
       "      <td>post</td>\n",
       "    </tr>\n",
       "    <tr>\n",
       "      <th>16</th>\n",
       "      <td>A</td>\n",
       "      <td>2013-05-14</td>\n",
       "      <td>2.0</td>\n",
       "      <td>0.67</td>\n",
       "      <td>0.77</td>\n",
       "      <td>post</td>\n",
       "    </tr>\n",
       "    <tr>\n",
       "      <th>17</th>\n",
       "      <td>A</td>\n",
       "      <td>2013-08-14</td>\n",
       "      <td>3.0</td>\n",
       "      <td>0.62</td>\n",
       "      <td>0.68</td>\n",
       "      <td>post</td>\n",
       "    </tr>\n",
       "    <tr>\n",
       "      <th>18</th>\n",
       "      <td>A</td>\n",
       "      <td>2013-11-14</td>\n",
       "      <td>4.0</td>\n",
       "      <td>0.76</td>\n",
       "      <td>0.81</td>\n",
       "      <td>post</td>\n",
       "    </tr>\n",
       "  </tbody>\n",
       "</table>\n",
       "</div>"
      ],
      "text/plain": [
       "   symbol       date  qtr  eps_est   eps release_time\n",
       "14      A 2012-11-19  4.0     0.80  0.84         post\n",
       "15      A 2013-02-14  1.0     0.66  0.63         post\n",
       "16      A 2013-05-14  2.0     0.67  0.77         post\n",
       "17      A 2013-08-14  3.0     0.62  0.68         post\n",
       "18      A 2013-11-14  4.0     0.76  0.81         post"
      ]
     },
     "execution_count": 39,
     "metadata": {},
     "output_type": "execute_result"
    }
   ],
   "source": [
    "# qtr is the fiscal quarter, can be determined from the date\n",
    "# plan is to categorize into Q1-Q4 depending on the month the eps was declared\n",
    "earning_df.date=pd.to_datetime(earning_df.date).values\n",
    "earning_df.qtr=np.ceil(pd.DatetimeIndex(earning_df.date).month/3)\n",
    "# earning_df['qtr'] = 'Q' + earning_df['qtr'].astype(str)   # Q1, Q2, Q3, Q4 represented by 1, 2, 3 and 4\n",
    "earning_df.head(5)"
   ]
  },
  {
   "cell_type": "code",
   "execution_count": 40,
   "metadata": {},
   "outputs": [
    {
     "data": {
      "text/html": [
       "<div>\n",
       "<style scoped>\n",
       "    .dataframe tbody tr th:only-of-type {\n",
       "        vertical-align: middle;\n",
       "    }\n",
       "\n",
       "    .dataframe tbody tr th {\n",
       "        vertical-align: top;\n",
       "    }\n",
       "\n",
       "    .dataframe thead th {\n",
       "        text-align: right;\n",
       "    }\n",
       "</style>\n",
       "<table border=\"1\" class=\"dataframe\">\n",
       "  <thead>\n",
       "    <tr style=\"text-align: right;\">\n",
       "      <th></th>\n",
       "      <th>percent</th>\n",
       "    </tr>\n",
       "  </thead>\n",
       "  <tbody>\n",
       "  </tbody>\n",
       "</table>\n",
       "</div>"
      ],
      "text/plain": [
       "Empty DataFrame\n",
       "Columns: [percent]\n",
       "Index: []"
      ]
     },
     "execution_count": 40,
     "metadata": {},
     "output_type": "execute_result"
    }
   ],
   "source": [
    "# check for missing data in 'earning' again\n",
    "nas=pd.DataFrame(100*(earning_df.isnull().sum().sort_values(ascending=False)/len(earning_df)),columns = ['percent'])\n",
    "pos = nas['percent'] > 0\n",
    "nas[pos]"
   ]
  },
  {
   "cell_type": "code",
   "execution_count": 41,
   "metadata": {},
   "outputs": [],
   "source": [
    "# at this point, missing values in 'earning_df' have been addressed"
   ]
  },
  {
   "cell_type": "markdown",
   "metadata": {},
   "source": [
    "### remove missing values from 'summary_df' dataframe"
   ]
  },
  {
   "cell_type": "code",
   "execution_count": 42,
   "metadata": {},
   "outputs": [],
   "source": [
    "# when the 'total_Earnings' is 0, NaN is assigned in those 'earnings_from_date' and 'earning_to_date' columns\n",
    "# even though 'total_Earnings' is 0, 'total_prices' is not. so 'stock_from_date' will be assigned for 'earning_from_date' \n",
    "# and 'stock_to_date' will be assigned to 'earnings_to_date' column\n",
    "summary_df['earnings_from_date'].fillna(summary_df['stock_from_date'], inplace=True)\n",
    "summary_df['earnings_to_date'].fillna(summary_df['stock_to_date'], inplace=True)"
   ]
  },
  {
   "cell_type": "code",
   "execution_count": 43,
   "metadata": {},
   "outputs": [
    {
     "data": {
      "text/html": [
       "<div>\n",
       "<style scoped>\n",
       "    .dataframe tbody tr th:only-of-type {\n",
       "        vertical-align: middle;\n",
       "    }\n",
       "\n",
       "    .dataframe tbody tr th {\n",
       "        vertical-align: top;\n",
       "    }\n",
       "\n",
       "    .dataframe thead th {\n",
       "        text-align: right;\n",
       "    }\n",
       "</style>\n",
       "<table border=\"1\" class=\"dataframe\">\n",
       "  <thead>\n",
       "    <tr style=\"text-align: right;\">\n",
       "      <th></th>\n",
       "      <th>percent</th>\n",
       "    </tr>\n",
       "  </thead>\n",
       "  <tbody>\n",
       "  </tbody>\n",
       "</table>\n",
       "</div>"
      ],
      "text/plain": [
       "Empty DataFrame\n",
       "Columns: [percent]\n",
       "Index: []"
      ]
     },
     "execution_count": 43,
     "metadata": {},
     "output_type": "execute_result"
    }
   ],
   "source": [
    "# check for missing data in 'summary_df' again\n",
    "nas=pd.DataFrame(100*(summary_df.isnull().sum().sort_values(ascending=False)/len(summary_df)),columns = ['percent'])\n",
    "pos = nas['percent'] > 0\n",
    "nas[pos]"
   ]
  },
  {
   "cell_type": "markdown",
   "metadata": {},
   "source": [
    "This point resolves all missing value/NaA problem in the dataframes"
   ]
  },
  {
   "cell_type": "markdown",
   "metadata": {},
   "source": [
    "## Look for duplicate rows"
   ]
  },
  {
   "cell_type": "code",
   "execution_count": 44,
   "metadata": {},
   "outputs": [
    {
     "name": "stdout",
     "output_type": "stream",
     "text": [
      "duplicte rows in dividend_df is: 0\n",
      "duplicte rows in earning_df is: 0\n",
      "duplicte rows in stockprice_df is: 0\n",
      "duplicte rows in summary_df is: 0\n"
     ]
    }
   ],
   "source": [
    "# dividend_df\n",
    "duplicateRowsDF = dividend_df[dividend_df.duplicated()]\n",
    "print('duplicte rows in dividend_df is:',format(len(duplicateRowsDF)))\n",
    "\n",
    "# earning_df\n",
    "duplicateRowsDF = earning_df[earning_df.duplicated()]\n",
    "print('duplicte rows in earning_df is:',format(len(duplicateRowsDF)))\n",
    "\n",
    "# stockprice_df\n",
    "duplicateRowsDF = stockprice_df[stockprice_df.duplicated()]\n",
    "print('duplicte rows in stockprice_df is:',format(len(duplicateRowsDF)))\n",
    "\n",
    "# summary_df\n",
    "duplicateRowsDF = summary_df[summary_df.duplicated()]\n",
    "print('duplicte rows in summary_df is:',format(len(duplicateRowsDF)))"
   ]
  },
  {
   "cell_type": "markdown",
   "metadata": {},
   "source": [
    "No duplicate rows were found"
   ]
  },
  {
   "cell_type": "markdown",
   "metadata": {},
   "source": [
    "# Extract only Apple data from the dataframes"
   ]
  },
  {
   "cell_type": "code",
   "execution_count": 45,
   "metadata": {},
   "outputs": [
    {
     "name": "stderr",
     "output_type": "stream",
     "text": [
      "/home/jupyterlab/conda/envs/python/lib/python3.6/site-packages/ipykernel_launcher.py:3: SettingWithCopyWarning: \n",
      "A value is trying to be set on a copy of a slice from a DataFrame.\n",
      "Try using .loc[row_indexer,col_indexer] = value instead\n",
      "\n",
      "See the caveats in the documentation: https://pandas.pydata.org/pandas-docs/stable/user_guide/indexing.html#returning-a-view-versus-a-copy\n",
      "  This is separate from the ipykernel package so we can avoid doing imports until\n"
     ]
    },
    {
     "data": {
      "text/html": [
       "<div>\n",
       "<style scoped>\n",
       "    .dataframe tbody tr th:only-of-type {\n",
       "        vertical-align: middle;\n",
       "    }\n",
       "\n",
       "    .dataframe tbody tr th {\n",
       "        vertical-align: top;\n",
       "    }\n",
       "\n",
       "    .dataframe thead th {\n",
       "        text-align: right;\n",
       "    }\n",
       "</style>\n",
       "<table border=\"1\" class=\"dataframe\">\n",
       "  <thead>\n",
       "    <tr style=\"text-align: right;\">\n",
       "      <th></th>\n",
       "      <th>year</th>\n",
       "      <th>dividend</th>\n",
       "    </tr>\n",
       "  </thead>\n",
       "  <tbody>\n",
       "    <tr>\n",
       "      <th>0</th>\n",
       "      <td>2012</td>\n",
       "      <td>2.6500</td>\n",
       "    </tr>\n",
       "    <tr>\n",
       "      <th>1</th>\n",
       "      <td>2013</td>\n",
       "      <td>2.9500</td>\n",
       "    </tr>\n",
       "    <tr>\n",
       "      <th>2</th>\n",
       "      <td>2014</td>\n",
       "      <td>1.8200</td>\n",
       "    </tr>\n",
       "    <tr>\n",
       "      <th>3</th>\n",
       "      <td>2015</td>\n",
       "      <td>0.5075</td>\n",
       "    </tr>\n",
       "    <tr>\n",
       "      <th>4</th>\n",
       "      <td>2016</td>\n",
       "      <td>0.5575</td>\n",
       "    </tr>\n",
       "  </tbody>\n",
       "</table>\n",
       "</div>"
      ],
      "text/plain": [
       "   year  dividend\n",
       "0  2012    2.6500\n",
       "1  2013    2.9500\n",
       "2  2014    1.8200\n",
       "3  2015    0.5075\n",
       "4  2016    0.5575"
      ]
     },
     "execution_count": 45,
     "metadata": {},
     "output_type": "execute_result"
    }
   ],
   "source": [
    "# dividend_apple_df\n",
    "dividend_apple_df=dividend_df[dividend_df.symbol=='AAPL']   # extract AAPL data only\n",
    "dividend_apple_df['year'] = pd.DatetimeIndex(dividend_apple_df['date']).year  # add a column 'year' on apple's dataframe\n",
    "dividend_apple_df=dividend_apple_df.drop(columns=['symbol','date'])  # removing 'symbol',date' columns\n",
    "dividend_apple_df=dividend_apple_df.groupby(['year']).mean()  # take yearly dividend data for apple\n",
    "dividend_apple_df.reset_index(inplace=True)   # reset index\n",
    "dividend_apple_df.head(5)"
   ]
  },
  {
   "cell_type": "code",
   "execution_count": 46,
   "metadata": {},
   "outputs": [
    {
     "name": "stderr",
     "output_type": "stream",
     "text": [
      "/home/jupyterlab/conda/envs/python/lib/python3.6/site-packages/ipykernel_launcher.py:3: SettingWithCopyWarning: \n",
      "A value is trying to be set on a copy of a slice from a DataFrame.\n",
      "Try using .loc[row_indexer,col_indexer] = value instead\n",
      "\n",
      "See the caveats in the documentation: https://pandas.pydata.org/pandas-docs/stable/user_guide/indexing.html#returning-a-view-versus-a-copy\n",
      "  This is separate from the ipykernel package so we can avoid doing imports until\n"
     ]
    },
    {
     "data": {
      "text/html": [
       "<div>\n",
       "<style scoped>\n",
       "    .dataframe tbody tr th:only-of-type {\n",
       "        vertical-align: middle;\n",
       "    }\n",
       "\n",
       "    .dataframe tbody tr th {\n",
       "        vertical-align: top;\n",
       "    }\n",
       "\n",
       "    .dataframe thead th {\n",
       "        text-align: right;\n",
       "    }\n",
       "</style>\n",
       "<table border=\"1\" class=\"dataframe\">\n",
       "  <thead>\n",
       "    <tr style=\"text-align: right;\">\n",
       "      <th></th>\n",
       "      <th>year</th>\n",
       "      <th>release_time</th>\n",
       "      <th>qtr</th>\n",
       "      <th>eps_est</th>\n",
       "      <th>eps</th>\n",
       "    </tr>\n",
       "  </thead>\n",
       "  <tbody>\n",
       "    <tr>\n",
       "      <th>0</th>\n",
       "      <td>2009</td>\n",
       "      <td>post</td>\n",
       "      <td>4.0</td>\n",
       "      <td>0.45</td>\n",
       "      <td>0.45</td>\n",
       "    </tr>\n",
       "    <tr>\n",
       "      <th>1</th>\n",
       "      <td>2012</td>\n",
       "      <td>post</td>\n",
       "      <td>4.0</td>\n",
       "      <td>1.26</td>\n",
       "      <td>1.24</td>\n",
       "    </tr>\n",
       "    <tr>\n",
       "      <th>2</th>\n",
       "      <td>2013</td>\n",
       "      <td>post</td>\n",
       "      <td>1.0</td>\n",
       "      <td>1.92</td>\n",
       "      <td>1.97</td>\n",
       "    </tr>\n",
       "    <tr>\n",
       "      <th>3</th>\n",
       "      <td>2013</td>\n",
       "      <td>post</td>\n",
       "      <td>2.0</td>\n",
       "      <td>1.45</td>\n",
       "      <td>1.44</td>\n",
       "    </tr>\n",
       "    <tr>\n",
       "      <th>4</th>\n",
       "      <td>2013</td>\n",
       "      <td>post</td>\n",
       "      <td>3.0</td>\n",
       "      <td>1.04</td>\n",
       "      <td>1.07</td>\n",
       "    </tr>\n",
       "  </tbody>\n",
       "</table>\n",
       "</div>"
      ],
      "text/plain": [
       "   year release_time  qtr  eps_est   eps\n",
       "0  2009         post  4.0     0.45  0.45\n",
       "1  2012         post  4.0     1.26  1.24\n",
       "2  2013         post  1.0     1.92  1.97\n",
       "3  2013         post  2.0     1.45  1.44\n",
       "4  2013         post  3.0     1.04  1.07"
      ]
     },
     "execution_count": 46,
     "metadata": {},
     "output_type": "execute_result"
    }
   ],
   "source": [
    "# earning_apple_df\n",
    "earning_apple_df=earning_df[earning_df.symbol=='AAPL']   # extract AAPL data only\n",
    "earning_apple_df['year'] = pd.DatetimeIndex(earning_apple_df['date']).year  # add a column 'year' on apple's dataframe\n",
    "earning_apple_df=earning_apple_df.drop(['symbol','date'], axis=1)  # removing 'symbol','date' columns\n",
    "earning_apple_df=earning_apple_df.groupby(['year','release_time','qtr']).mean() # take yearly,monthly dividend data for apple\n",
    "earning_apple_df.reset_index(inplace=True)   # reset index\n",
    "earning_apple_df.head(5)"
   ]
  },
  {
   "cell_type": "code",
   "execution_count": 47,
   "metadata": {},
   "outputs": [
    {
     "name": "stderr",
     "output_type": "stream",
     "text": [
      "/home/jupyterlab/conda/envs/python/lib/python3.6/site-packages/ipykernel_launcher.py:3: SettingWithCopyWarning: \n",
      "A value is trying to be set on a copy of a slice from a DataFrame.\n",
      "Try using .loc[row_indexer,col_indexer] = value instead\n",
      "\n",
      "See the caveats in the documentation: https://pandas.pydata.org/pandas-docs/stable/user_guide/indexing.html#returning-a-view-versus-a-copy\n",
      "  This is separate from the ipykernel package so we can avoid doing imports until\n"
     ]
    },
    {
     "data": {
      "text/html": [
       "<div>\n",
       "<style scoped>\n",
       "    .dataframe tbody tr th:only-of-type {\n",
       "        vertical-align: middle;\n",
       "    }\n",
       "\n",
       "    .dataframe tbody tr th {\n",
       "        vertical-align: top;\n",
       "    }\n",
       "\n",
       "    .dataframe thead th {\n",
       "        text-align: right;\n",
       "    }\n",
       "</style>\n",
       "<table border=\"1\" class=\"dataframe\">\n",
       "  <thead>\n",
       "    <tr style=\"text-align: right;\">\n",
       "      <th></th>\n",
       "      <th>year</th>\n",
       "      <th>date</th>\n",
       "      <th>open</th>\n",
       "      <th>high</th>\n",
       "      <th>low</th>\n",
       "      <th>close</th>\n",
       "      <th>close_adjusted</th>\n",
       "      <th>volume</th>\n",
       "      <th>split_coefficient</th>\n",
       "    </tr>\n",
       "  </thead>\n",
       "  <tbody>\n",
       "    <tr>\n",
       "      <th>0</th>\n",
       "      <td>1998</td>\n",
       "      <td>1998-01-02</td>\n",
       "      <td>13.63</td>\n",
       "      <td>16.25</td>\n",
       "      <td>13.50</td>\n",
       "      <td>16.25</td>\n",
       "      <td>0.5103</td>\n",
       "      <td>6411700</td>\n",
       "      <td>1.0</td>\n",
       "    </tr>\n",
       "    <tr>\n",
       "      <th>1</th>\n",
       "      <td>1998</td>\n",
       "      <td>1998-01-05</td>\n",
       "      <td>16.50</td>\n",
       "      <td>16.56</td>\n",
       "      <td>15.19</td>\n",
       "      <td>15.88</td>\n",
       "      <td>0.4987</td>\n",
       "      <td>5820300</td>\n",
       "      <td>1.0</td>\n",
       "    </tr>\n",
       "    <tr>\n",
       "      <th>2</th>\n",
       "      <td>1998</td>\n",
       "      <td>1998-01-06</td>\n",
       "      <td>15.94</td>\n",
       "      <td>20.00</td>\n",
       "      <td>14.75</td>\n",
       "      <td>18.94</td>\n",
       "      <td>0.5948</td>\n",
       "      <td>16182800</td>\n",
       "      <td>1.0</td>\n",
       "    </tr>\n",
       "    <tr>\n",
       "      <th>3</th>\n",
       "      <td>1998</td>\n",
       "      <td>1998-01-07</td>\n",
       "      <td>18.81</td>\n",
       "      <td>19.00</td>\n",
       "      <td>17.31</td>\n",
       "      <td>17.50</td>\n",
       "      <td>0.5496</td>\n",
       "      <td>9300200</td>\n",
       "      <td>1.0</td>\n",
       "    </tr>\n",
       "    <tr>\n",
       "      <th>4</th>\n",
       "      <td>1998</td>\n",
       "      <td>1998-01-08</td>\n",
       "      <td>17.44</td>\n",
       "      <td>18.62</td>\n",
       "      <td>16.94</td>\n",
       "      <td>18.19</td>\n",
       "      <td>0.5713</td>\n",
       "      <td>6910900</td>\n",
       "      <td>1.0</td>\n",
       "    </tr>\n",
       "  </tbody>\n",
       "</table>\n",
       "</div>"
      ],
      "text/plain": [
       "   year        date   open   high    low  close  close_adjusted    volume  \\\n",
       "0  1998  1998-01-02  13.63  16.25  13.50  16.25          0.5103   6411700   \n",
       "1  1998  1998-01-05  16.50  16.56  15.19  15.88          0.4987   5820300   \n",
       "2  1998  1998-01-06  15.94  20.00  14.75  18.94          0.5948  16182800   \n",
       "3  1998  1998-01-07  18.81  19.00  17.31  17.50          0.5496   9300200   \n",
       "4  1998  1998-01-08  17.44  18.62  16.94  18.19          0.5713   6910900   \n",
       "\n",
       "   split_coefficient  \n",
       "0                1.0  \n",
       "1                1.0  \n",
       "2                1.0  \n",
       "3                1.0  \n",
       "4                1.0  "
      ]
     },
     "execution_count": 47,
     "metadata": {},
     "output_type": "execute_result"
    }
   ],
   "source": [
    "# stockprice_apple_df\n",
    "stockprice_apple_df=stockprice_df[stockprice_df.symbol=='AAPL']   # extract AAPL data only\n",
    "stockprice_apple_df['year'] = pd.DatetimeIndex(stockprice_apple_df['date']).year  # add a column 'year' on apple's dataframe\n",
    "stockprice_apple_df=stockprice_apple_df.groupby(['year','date']).mean() # take yearly,monthly dividend data for apple\n",
    "stockprice_apple_df.reset_index(inplace=True)   # reset index\n",
    "stockprice_apple_df.head()"
   ]
  },
  {
   "cell_type": "code",
   "execution_count": 48,
   "metadata": {},
   "outputs": [
    {
     "data": {
      "text/html": [
       "<div>\n",
       "<style scoped>\n",
       "    .dataframe tbody tr th:only-of-type {\n",
       "        vertical-align: middle;\n",
       "    }\n",
       "\n",
       "    .dataframe tbody tr th {\n",
       "        vertical-align: top;\n",
       "    }\n",
       "\n",
       "    .dataframe thead th {\n",
       "        text-align: right;\n",
       "    }\n",
       "</style>\n",
       "<table border=\"1\" class=\"dataframe\">\n",
       "  <thead>\n",
       "    <tr style=\"text-align: right;\">\n",
       "      <th></th>\n",
       "      <th>symbol</th>\n",
       "      <th>total_prices</th>\n",
       "      <th>stock_from_date</th>\n",
       "      <th>stock_to_date</th>\n",
       "      <th>total_earnings</th>\n",
       "      <th>earnings_from_date</th>\n",
       "      <th>earnings_to_date</th>\n",
       "    </tr>\n",
       "  </thead>\n",
       "  <tbody>\n",
       "    <tr>\n",
       "      <th>12</th>\n",
       "      <td>AAPL</td>\n",
       "      <td>5608</td>\n",
       "      <td>1998-01-02</td>\n",
       "      <td>2020-04-16</td>\n",
       "      <td>43</td>\n",
       "      <td>2009-07-21</td>\n",
       "      <td>2020-01-28</td>\n",
       "    </tr>\n",
       "  </tbody>\n",
       "</table>\n",
       "</div>"
      ],
      "text/plain": [
       "   symbol  total_prices stock_from_date stock_to_date  total_earnings  \\\n",
       "12   AAPL          5608      1998-01-02    2020-04-16              43   \n",
       "\n",
       "   earnings_from_date earnings_to_date  \n",
       "12         2009-07-21       2020-01-28  "
      ]
     },
     "execution_count": 48,
     "metadata": {},
     "output_type": "execute_result"
    }
   ],
   "source": [
    "# summary_apple_df\n",
    "summary_apple_df=summary_df[summary_df.symbol=='AAPL']   # extract AAPL data only\n",
    "summary_apple_df\n",
    "# yearly summary apple data can be derived from above three tables. so this dataframe will not be used"
   ]
  },
  {
   "cell_type": "markdown",
   "metadata": {},
   "source": [
    "### Merging `dividend`, `earning`, `stock` data for Apple stock"
   ]
  },
  {
   "cell_type": "code",
   "execution_count": 394,
   "metadata": {},
   "outputs": [
    {
     "data": {
      "text/html": [
       "<div>\n",
       "<style scoped>\n",
       "    .dataframe tbody tr th:only-of-type {\n",
       "        vertical-align: middle;\n",
       "    }\n",
       "\n",
       "    .dataframe tbody tr th {\n",
       "        vertical-align: top;\n",
       "    }\n",
       "\n",
       "    .dataframe thead th {\n",
       "        text-align: right;\n",
       "    }\n",
       "</style>\n",
       "<table border=\"1\" class=\"dataframe\">\n",
       "  <thead>\n",
       "    <tr style=\"text-align: right;\">\n",
       "      <th></th>\n",
       "      <th>year</th>\n",
       "      <th>date</th>\n",
       "      <th>open</th>\n",
       "      <th>high</th>\n",
       "      <th>low</th>\n",
       "      <th>close</th>\n",
       "      <th>close_adjusted</th>\n",
       "      <th>volume</th>\n",
       "      <th>split_coefficient</th>\n",
       "      <th>release_time</th>\n",
       "      <th>qtr</th>\n",
       "      <th>eps_est</th>\n",
       "      <th>eps</th>\n",
       "      <th>dividend</th>\n",
       "    </tr>\n",
       "  </thead>\n",
       "  <tbody>\n",
       "    <tr>\n",
       "      <th>0</th>\n",
       "      <td>1998</td>\n",
       "      <td>1998-01-02</td>\n",
       "      <td>13.63</td>\n",
       "      <td>16.25</td>\n",
       "      <td>13.50</td>\n",
       "      <td>16.25</td>\n",
       "      <td>0.5103</td>\n",
       "      <td>6411700</td>\n",
       "      <td>1.0</td>\n",
       "      <td>no record</td>\n",
       "      <td>no record</td>\n",
       "      <td>no record</td>\n",
       "      <td>no record</td>\n",
       "      <td>no record</td>\n",
       "    </tr>\n",
       "    <tr>\n",
       "      <th>1</th>\n",
       "      <td>1998</td>\n",
       "      <td>1998-01-05</td>\n",
       "      <td>16.50</td>\n",
       "      <td>16.56</td>\n",
       "      <td>15.19</td>\n",
       "      <td>15.88</td>\n",
       "      <td>0.4987</td>\n",
       "      <td>5820300</td>\n",
       "      <td>1.0</td>\n",
       "      <td>no record</td>\n",
       "      <td>no record</td>\n",
       "      <td>no record</td>\n",
       "      <td>no record</td>\n",
       "      <td>no record</td>\n",
       "    </tr>\n",
       "    <tr>\n",
       "      <th>2</th>\n",
       "      <td>1998</td>\n",
       "      <td>1998-01-06</td>\n",
       "      <td>15.94</td>\n",
       "      <td>20.00</td>\n",
       "      <td>14.75</td>\n",
       "      <td>18.94</td>\n",
       "      <td>0.5948</td>\n",
       "      <td>16182800</td>\n",
       "      <td>1.0</td>\n",
       "      <td>no record</td>\n",
       "      <td>no record</td>\n",
       "      <td>no record</td>\n",
       "      <td>no record</td>\n",
       "      <td>no record</td>\n",
       "    </tr>\n",
       "    <tr>\n",
       "      <th>3</th>\n",
       "      <td>1998</td>\n",
       "      <td>1998-01-07</td>\n",
       "      <td>18.81</td>\n",
       "      <td>19.00</td>\n",
       "      <td>17.31</td>\n",
       "      <td>17.50</td>\n",
       "      <td>0.5496</td>\n",
       "      <td>9300200</td>\n",
       "      <td>1.0</td>\n",
       "      <td>no record</td>\n",
       "      <td>no record</td>\n",
       "      <td>no record</td>\n",
       "      <td>no record</td>\n",
       "      <td>no record</td>\n",
       "    </tr>\n",
       "    <tr>\n",
       "      <th>4</th>\n",
       "      <td>1998</td>\n",
       "      <td>1998-01-08</td>\n",
       "      <td>17.44</td>\n",
       "      <td>18.62</td>\n",
       "      <td>16.94</td>\n",
       "      <td>18.19</td>\n",
       "      <td>0.5713</td>\n",
       "      <td>6910900</td>\n",
       "      <td>1.0</td>\n",
       "      <td>no record</td>\n",
       "      <td>no record</td>\n",
       "      <td>no record</td>\n",
       "      <td>no record</td>\n",
       "      <td>no record</td>\n",
       "    </tr>\n",
       "    <tr>\n",
       "      <th>...</th>\n",
       "      <td>...</td>\n",
       "      <td>...</td>\n",
       "      <td>...</td>\n",
       "      <td>...</td>\n",
       "      <td>...</td>\n",
       "      <td>...</td>\n",
       "      <td>...</td>\n",
       "      <td>...</td>\n",
       "      <td>...</td>\n",
       "      <td>...</td>\n",
       "      <td>...</td>\n",
       "      <td>...</td>\n",
       "      <td>...</td>\n",
       "      <td>...</td>\n",
       "    </tr>\n",
       "    <tr>\n",
       "      <th>95</th>\n",
       "      <td>1998</td>\n",
       "      <td>1998-05-20</td>\n",
       "      <td>29.62</td>\n",
       "      <td>29.87</td>\n",
       "      <td>28.75</td>\n",
       "      <td>29.56</td>\n",
       "      <td>0.9283</td>\n",
       "      <td>1698000</td>\n",
       "      <td>1.0</td>\n",
       "      <td>no record</td>\n",
       "      <td>no record</td>\n",
       "      <td>no record</td>\n",
       "      <td>no record</td>\n",
       "      <td>no record</td>\n",
       "    </tr>\n",
       "    <tr>\n",
       "      <th>96</th>\n",
       "      <td>1998</td>\n",
       "      <td>1998-05-21</td>\n",
       "      <td>29.56</td>\n",
       "      <td>29.69</td>\n",
       "      <td>28.62</td>\n",
       "      <td>28.87</td>\n",
       "      <td>0.9067</td>\n",
       "      <td>1169600</td>\n",
       "      <td>1.0</td>\n",
       "      <td>no record</td>\n",
       "      <td>no record</td>\n",
       "      <td>no record</td>\n",
       "      <td>no record</td>\n",
       "      <td>no record</td>\n",
       "    </tr>\n",
       "    <tr>\n",
       "      <th>97</th>\n",
       "      <td>1998</td>\n",
       "      <td>1998-05-22</td>\n",
       "      <td>28.75</td>\n",
       "      <td>28.75</td>\n",
       "      <td>27.31</td>\n",
       "      <td>27.87</td>\n",
       "      <td>0.8753</td>\n",
       "      <td>2380300</td>\n",
       "      <td>1.0</td>\n",
       "      <td>no record</td>\n",
       "      <td>no record</td>\n",
       "      <td>no record</td>\n",
       "      <td>no record</td>\n",
       "      <td>no record</td>\n",
       "    </tr>\n",
       "    <tr>\n",
       "      <th>98</th>\n",
       "      <td>1998</td>\n",
       "      <td>1998-05-26</td>\n",
       "      <td>28.06</td>\n",
       "      <td>28.25</td>\n",
       "      <td>26.62</td>\n",
       "      <td>26.69</td>\n",
       "      <td>0.8382</td>\n",
       "      <td>2783700</td>\n",
       "      <td>1.0</td>\n",
       "      <td>no record</td>\n",
       "      <td>no record</td>\n",
       "      <td>no record</td>\n",
       "      <td>no record</td>\n",
       "      <td>no record</td>\n",
       "    </tr>\n",
       "    <tr>\n",
       "      <th>99</th>\n",
       "      <td>1998</td>\n",
       "      <td>1998-05-27</td>\n",
       "      <td>25.69</td>\n",
       "      <td>26.81</td>\n",
       "      <td>25.62</td>\n",
       "      <td>26.75</td>\n",
       "      <td>0.8401</td>\n",
       "      <td>3305300</td>\n",
       "      <td>1.0</td>\n",
       "      <td>no record</td>\n",
       "      <td>no record</td>\n",
       "      <td>no record</td>\n",
       "      <td>no record</td>\n",
       "      <td>no record</td>\n",
       "    </tr>\n",
       "  </tbody>\n",
       "</table>\n",
       "<p>100 rows × 14 columns</p>\n",
       "</div>"
      ],
      "text/plain": [
       "    year        date   open   high    low  close  close_adjusted    volume  \\\n",
       "0   1998  1998-01-02  13.63  16.25  13.50  16.25          0.5103   6411700   \n",
       "1   1998  1998-01-05  16.50  16.56  15.19  15.88          0.4987   5820300   \n",
       "2   1998  1998-01-06  15.94  20.00  14.75  18.94          0.5948  16182800   \n",
       "3   1998  1998-01-07  18.81  19.00  17.31  17.50          0.5496   9300200   \n",
       "4   1998  1998-01-08  17.44  18.62  16.94  18.19          0.5713   6910900   \n",
       "..   ...         ...    ...    ...    ...    ...             ...       ...   \n",
       "95  1998  1998-05-20  29.62  29.87  28.75  29.56          0.9283   1698000   \n",
       "96  1998  1998-05-21  29.56  29.69  28.62  28.87          0.9067   1169600   \n",
       "97  1998  1998-05-22  28.75  28.75  27.31  27.87          0.8753   2380300   \n",
       "98  1998  1998-05-26  28.06  28.25  26.62  26.69          0.8382   2783700   \n",
       "99  1998  1998-05-27  25.69  26.81  25.62  26.75          0.8401   3305300   \n",
       "\n",
       "    split_coefficient release_time        qtr    eps_est        eps   dividend  \n",
       "0                 1.0    no record  no record  no record  no record  no record  \n",
       "1                 1.0    no record  no record  no record  no record  no record  \n",
       "2                 1.0    no record  no record  no record  no record  no record  \n",
       "3                 1.0    no record  no record  no record  no record  no record  \n",
       "4                 1.0    no record  no record  no record  no record  no record  \n",
       "..                ...          ...        ...        ...        ...        ...  \n",
       "95                1.0    no record  no record  no record  no record  no record  \n",
       "96                1.0    no record  no record  no record  no record  no record  \n",
       "97                1.0    no record  no record  no record  no record  no record  \n",
       "98                1.0    no record  no record  no record  no record  no record  \n",
       "99                1.0    no record  no record  no record  no record  no record  \n",
       "\n",
       "[100 rows x 14 columns]"
      ]
     },
     "execution_count": 394,
     "metadata": {},
     "output_type": "execute_result"
    }
   ],
   "source": [
    "df=pd.merge(stockprice_apple_df,earning_apple_df, how='left', on='year')\n",
    "df=pd.merge(df,dividend_apple_df,how='left',on='year')\n",
    "df.fillna('no record',inplace=True)\n",
    "df.head(100)"
   ]
  },
  {
   "cell_type": "markdown",
   "metadata": {},
   "source": [
    "## Save Apple dataframe as a new CSV file"
   ]
  },
  {
   "cell_type": "code",
   "execution_count": 396,
   "metadata": {},
   "outputs": [],
   "source": [
    "df.to_csv('data/apple_stockdata_wrangled.csv')\n"
   ]
  },
  {
   "cell_type": "code",
   "execution_count": null,
   "metadata": {},
   "outputs": [],
   "source": []
  },
  {
   "cell_type": "code",
   "execution_count": null,
   "metadata": {},
   "outputs": [],
   "source": []
  },
  {
   "cell_type": "code",
   "execution_count": null,
   "metadata": {},
   "outputs": [],
   "source": []
  },
  {
   "cell_type": "code",
   "execution_count": null,
   "metadata": {},
   "outputs": [],
   "source": []
  },
  {
   "cell_type": "code",
   "execution_count": null,
   "metadata": {},
   "outputs": [],
   "source": []
  },
  {
   "cell_type": "code",
   "execution_count": null,
   "metadata": {},
   "outputs": [],
   "source": []
  }
 ],
 "metadata": {
  "kernelspec": {
   "display_name": "Python",
   "language": "python",
   "name": "conda-env-python-py"
  },
  "language_info": {
   "codemirror_mode": {
    "name": "ipython",
    "version": 3
   },
   "file_extension": ".py",
   "mimetype": "text/x-python",
   "name": "python",
   "nbconvert_exporter": "python",
   "pygments_lexer": "ipython3",
   "version": "3.6.10"
  }
 },
 "nbformat": 4,
 "nbformat_minor": 4
}
